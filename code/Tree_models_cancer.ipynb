{
 "cells": [
  {
   "cell_type": "code",
   "execution_count": 14,
   "metadata": {},
   "outputs": [],
   "source": [
    "import pandas as pd\n",
    "import numpy as np\n",
    "from sklearn.tree import DecisionTreeClassifier\n",
    "from sklearn.tree import DecisionTreeRegressor\n",
    "from sklearn.ensemble import RandomForestClassifier\n",
    "from sklearn.ensemble import RandomForestRegressor\n",
    "from sklearn.model_selection import train_test_split\n",
    "from sklearn.preprocessing import StandardScaler\n",
    "import matplotlib.pyplot as plt\n",
    "from sklearn.tree import export_graphviz\n",
    "from subprocess import call\n",
    "#from sklearn.tree import plot_tree"
   ]
  },
  {
   "cell_type": "code",
   "execution_count": 8,
   "metadata": {},
   "outputs": [],
   "source": [
    "#cancer = pd.read_csv('../data/SPARCS_cancer_binary.csv')\n",
    "#cancer = cancer.drop(columns = ['Unnamed: 0', 'Unnamed: 0.1'])\n",
    "#cancer.to_csv('../data/SPARCS_cancer_binary.csv')"
   ]
  },
  {
   "cell_type": "code",
   "execution_count": 15,
   "metadata": {},
   "outputs": [
    {
     "data": {
      "text/html": [
       "<div>\n",
       "<style scoped>\n",
       "    .dataframe tbody tr th:only-of-type {\n",
       "        vertical-align: middle;\n",
       "    }\n",
       "\n",
       "    .dataframe tbody tr th {\n",
       "        vertical-align: top;\n",
       "    }\n",
       "\n",
       "    .dataframe thead th {\n",
       "        text-align: right;\n",
       "    }\n",
       "</style>\n",
       "<table border=\"1\" class=\"dataframe\">\n",
       "  <thead>\n",
       "    <tr style=\"text-align: right;\">\n",
       "      <th></th>\n",
       "      <th>Total.Charges</th>\n",
       "      <th>APR.Severity.of.Illness.Code</th>\n",
       "      <th>APR.Risk.of.Mortality</th>\n",
       "      <th>Age.Ordinal</th>\n",
       "      <th>Length.of.Stay</th>\n",
       "      <th>Hospital.County.Bronx</th>\n",
       "      <th>Hospital.County.Kings</th>\n",
       "      <th>Hospital.County.Manhattan</th>\n",
       "      <th>Hospital.County.Queens</th>\n",
       "      <th>Hospital.County.Richmond</th>\n",
       "      <th>...</th>\n",
       "      <th>Payment.Typology.3.Managed Care, Unspecified</th>\n",
       "      <th>Emergency.Department.Indicator.Y</th>\n",
       "      <th>Gender.F</th>\n",
       "      <th>Race.Black/African American</th>\n",
       "      <th>Race.Other Race</th>\n",
       "      <th>Race.White</th>\n",
       "      <th>Race.Unknown</th>\n",
       "      <th>Ethnicity.Not Span/Hispanic</th>\n",
       "      <th>Ethnicity.Spanish/Hispanic</th>\n",
       "      <th>Ethnicity.Unknown</th>\n",
       "    </tr>\n",
       "  </thead>\n",
       "  <tbody>\n",
       "    <tr>\n",
       "      <th>0</th>\n",
       "      <td>216494.21</td>\n",
       "      <td>3</td>\n",
       "      <td>2</td>\n",
       "      <td>3</td>\n",
       "      <td>58</td>\n",
       "      <td>1</td>\n",
       "      <td>0</td>\n",
       "      <td>0</td>\n",
       "      <td>0</td>\n",
       "      <td>0</td>\n",
       "      <td>...</td>\n",
       "      <td>NaN</td>\n",
       "      <td>0</td>\n",
       "      <td>1</td>\n",
       "      <td>1</td>\n",
       "      <td>0</td>\n",
       "      <td>0</td>\n",
       "      <td>0</td>\n",
       "      <td>1</td>\n",
       "      <td>0</td>\n",
       "      <td>0</td>\n",
       "    </tr>\n",
       "    <tr>\n",
       "      <th>1</th>\n",
       "      <td>194330.51</td>\n",
       "      <td>4</td>\n",
       "      <td>4</td>\n",
       "      <td>5</td>\n",
       "      <td>57</td>\n",
       "      <td>1</td>\n",
       "      <td>0</td>\n",
       "      <td>0</td>\n",
       "      <td>0</td>\n",
       "      <td>0</td>\n",
       "      <td>...</td>\n",
       "      <td>0.0</td>\n",
       "      <td>0</td>\n",
       "      <td>0</td>\n",
       "      <td>0</td>\n",
       "      <td>1</td>\n",
       "      <td>0</td>\n",
       "      <td>0</td>\n",
       "      <td>0</td>\n",
       "      <td>1</td>\n",
       "      <td>0</td>\n",
       "    </tr>\n",
       "    <tr>\n",
       "      <th>2</th>\n",
       "      <td>79396.48</td>\n",
       "      <td>3</td>\n",
       "      <td>3</td>\n",
       "      <td>4</td>\n",
       "      <td>21</td>\n",
       "      <td>1</td>\n",
       "      <td>0</td>\n",
       "      <td>0</td>\n",
       "      <td>0</td>\n",
       "      <td>0</td>\n",
       "      <td>...</td>\n",
       "      <td>NaN</td>\n",
       "      <td>1</td>\n",
       "      <td>0</td>\n",
       "      <td>0</td>\n",
       "      <td>0</td>\n",
       "      <td>1</td>\n",
       "      <td>0</td>\n",
       "      <td>1</td>\n",
       "      <td>0</td>\n",
       "      <td>0</td>\n",
       "    </tr>\n",
       "    <tr>\n",
       "      <th>3</th>\n",
       "      <td>86736.80</td>\n",
       "      <td>3</td>\n",
       "      <td>2</td>\n",
       "      <td>4</td>\n",
       "      <td>25</td>\n",
       "      <td>1</td>\n",
       "      <td>0</td>\n",
       "      <td>0</td>\n",
       "      <td>0</td>\n",
       "      <td>0</td>\n",
       "      <td>...</td>\n",
       "      <td>NaN</td>\n",
       "      <td>1</td>\n",
       "      <td>0</td>\n",
       "      <td>1</td>\n",
       "      <td>0</td>\n",
       "      <td>0</td>\n",
       "      <td>0</td>\n",
       "      <td>1</td>\n",
       "      <td>0</td>\n",
       "      <td>0</td>\n",
       "    </tr>\n",
       "    <tr>\n",
       "      <th>4</th>\n",
       "      <td>178592.87</td>\n",
       "      <td>3</td>\n",
       "      <td>1</td>\n",
       "      <td>1</td>\n",
       "      <td>49</td>\n",
       "      <td>1</td>\n",
       "      <td>0</td>\n",
       "      <td>0</td>\n",
       "      <td>0</td>\n",
       "      <td>0</td>\n",
       "      <td>...</td>\n",
       "      <td>NaN</td>\n",
       "      <td>1</td>\n",
       "      <td>1</td>\n",
       "      <td>0</td>\n",
       "      <td>1</td>\n",
       "      <td>0</td>\n",
       "      <td>0</td>\n",
       "      <td>0</td>\n",
       "      <td>1</td>\n",
       "      <td>0</td>\n",
       "    </tr>\n",
       "    <tr>\n",
       "      <th>5</th>\n",
       "      <td>57239.16</td>\n",
       "      <td>2</td>\n",
       "      <td>2</td>\n",
       "      <td>4</td>\n",
       "      <td>14</td>\n",
       "      <td>1</td>\n",
       "      <td>0</td>\n",
       "      <td>0</td>\n",
       "      <td>0</td>\n",
       "      <td>0</td>\n",
       "      <td>...</td>\n",
       "      <td>NaN</td>\n",
       "      <td>0</td>\n",
       "      <td>0</td>\n",
       "      <td>0</td>\n",
       "      <td>1</td>\n",
       "      <td>0</td>\n",
       "      <td>0</td>\n",
       "      <td>0</td>\n",
       "      <td>1</td>\n",
       "      <td>0</td>\n",
       "    </tr>\n",
       "    <tr>\n",
       "      <th>6</th>\n",
       "      <td>111640.10</td>\n",
       "      <td>4</td>\n",
       "      <td>3</td>\n",
       "      <td>4</td>\n",
       "      <td>37</td>\n",
       "      <td>1</td>\n",
       "      <td>0</td>\n",
       "      <td>0</td>\n",
       "      <td>0</td>\n",
       "      <td>0</td>\n",
       "      <td>...</td>\n",
       "      <td>NaN</td>\n",
       "      <td>1</td>\n",
       "      <td>0</td>\n",
       "      <td>1</td>\n",
       "      <td>0</td>\n",
       "      <td>0</td>\n",
       "      <td>0</td>\n",
       "      <td>1</td>\n",
       "      <td>0</td>\n",
       "      <td>0</td>\n",
       "    </tr>\n",
       "    <tr>\n",
       "      <th>7</th>\n",
       "      <td>31801.91</td>\n",
       "      <td>2</td>\n",
       "      <td>2</td>\n",
       "      <td>4</td>\n",
       "      <td>8</td>\n",
       "      <td>1</td>\n",
       "      <td>0</td>\n",
       "      <td>0</td>\n",
       "      <td>0</td>\n",
       "      <td>0</td>\n",
       "      <td>...</td>\n",
       "      <td>NaN</td>\n",
       "      <td>0</td>\n",
       "      <td>1</td>\n",
       "      <td>0</td>\n",
       "      <td>1</td>\n",
       "      <td>0</td>\n",
       "      <td>0</td>\n",
       "      <td>0</td>\n",
       "      <td>1</td>\n",
       "      <td>0</td>\n",
       "    </tr>\n",
       "    <tr>\n",
       "      <th>8</th>\n",
       "      <td>38714.48</td>\n",
       "      <td>3</td>\n",
       "      <td>3</td>\n",
       "      <td>5</td>\n",
       "      <td>11</td>\n",
       "      <td>1</td>\n",
       "      <td>0</td>\n",
       "      <td>0</td>\n",
       "      <td>0</td>\n",
       "      <td>0</td>\n",
       "      <td>...</td>\n",
       "      <td>NaN</td>\n",
       "      <td>0</td>\n",
       "      <td>0</td>\n",
       "      <td>0</td>\n",
       "      <td>1</td>\n",
       "      <td>0</td>\n",
       "      <td>0</td>\n",
       "      <td>0</td>\n",
       "      <td>1</td>\n",
       "      <td>0</td>\n",
       "    </tr>\n",
       "    <tr>\n",
       "      <th>9</th>\n",
       "      <td>33681.75</td>\n",
       "      <td>3</td>\n",
       "      <td>2</td>\n",
       "      <td>4</td>\n",
       "      <td>11</td>\n",
       "      <td>1</td>\n",
       "      <td>0</td>\n",
       "      <td>0</td>\n",
       "      <td>0</td>\n",
       "      <td>0</td>\n",
       "      <td>...</td>\n",
       "      <td>0.0</td>\n",
       "      <td>1</td>\n",
       "      <td>1</td>\n",
       "      <td>1</td>\n",
       "      <td>0</td>\n",
       "      <td>0</td>\n",
       "      <td>0</td>\n",
       "      <td>1</td>\n",
       "      <td>0</td>\n",
       "      <td>0</td>\n",
       "    </tr>\n",
       "  </tbody>\n",
       "</table>\n",
       "<p>10 rows × 413 columns</p>\n",
       "</div>"
      ],
      "text/plain": [
       "   Total.Charges  APR.Severity.of.Illness.Code  APR.Risk.of.Mortality  \\\n",
       "0      216494.21                             3                      2   \n",
       "1      194330.51                             4                      4   \n",
       "2       79396.48                             3                      3   \n",
       "3       86736.80                             3                      2   \n",
       "4      178592.87                             3                      1   \n",
       "5       57239.16                             2                      2   \n",
       "6      111640.10                             4                      3   \n",
       "7       31801.91                             2                      2   \n",
       "8       38714.48                             3                      3   \n",
       "9       33681.75                             3                      2   \n",
       "\n",
       "   Age.Ordinal  Length.of.Stay  Hospital.County.Bronx  Hospital.County.Kings  \\\n",
       "0            3              58                      1                      0   \n",
       "1            5              57                      1                      0   \n",
       "2            4              21                      1                      0   \n",
       "3            4              25                      1                      0   \n",
       "4            1              49                      1                      0   \n",
       "5            4              14                      1                      0   \n",
       "6            4              37                      1                      0   \n",
       "7            4               8                      1                      0   \n",
       "8            5              11                      1                      0   \n",
       "9            4              11                      1                      0   \n",
       "\n",
       "   Hospital.County.Manhattan  Hospital.County.Queens  \\\n",
       "0                          0                       0   \n",
       "1                          0                       0   \n",
       "2                          0                       0   \n",
       "3                          0                       0   \n",
       "4                          0                       0   \n",
       "5                          0                       0   \n",
       "6                          0                       0   \n",
       "7                          0                       0   \n",
       "8                          0                       0   \n",
       "9                          0                       0   \n",
       "\n",
       "   Hospital.County.Richmond        ...          \\\n",
       "0                         0        ...           \n",
       "1                         0        ...           \n",
       "2                         0        ...           \n",
       "3                         0        ...           \n",
       "4                         0        ...           \n",
       "5                         0        ...           \n",
       "6                         0        ...           \n",
       "7                         0        ...           \n",
       "8                         0        ...           \n",
       "9                         0        ...           \n",
       "\n",
       "   Payment.Typology.3.Managed Care, Unspecified  \\\n",
       "0                                           NaN   \n",
       "1                                           0.0   \n",
       "2                                           NaN   \n",
       "3                                           NaN   \n",
       "4                                           NaN   \n",
       "5                                           NaN   \n",
       "6                                           NaN   \n",
       "7                                           NaN   \n",
       "8                                           NaN   \n",
       "9                                           0.0   \n",
       "\n",
       "   Emergency.Department.Indicator.Y  Gender.F  Race.Black/African American  \\\n",
       "0                                 0         1                            1   \n",
       "1                                 0         0                            0   \n",
       "2                                 1         0                            0   \n",
       "3                                 1         0                            1   \n",
       "4                                 1         1                            0   \n",
       "5                                 0         0                            0   \n",
       "6                                 1         0                            1   \n",
       "7                                 0         1                            0   \n",
       "8                                 0         0                            0   \n",
       "9                                 1         1                            1   \n",
       "\n",
       "   Race.Other Race  Race.White  Race.Unknown  Ethnicity.Not Span/Hispanic  \\\n",
       "0                0           0             0                            1   \n",
       "1                1           0             0                            0   \n",
       "2                0           1             0                            1   \n",
       "3                0           0             0                            1   \n",
       "4                1           0             0                            0   \n",
       "5                1           0             0                            0   \n",
       "6                0           0             0                            1   \n",
       "7                1           0             0                            0   \n",
       "8                1           0             0                            0   \n",
       "9                0           0             0                            1   \n",
       "\n",
       "   Ethnicity.Spanish/Hispanic  Ethnicity.Unknown  \n",
       "0                           0                  0  \n",
       "1                           1                  0  \n",
       "2                           0                  0  \n",
       "3                           0                  0  \n",
       "4                           1                  0  \n",
       "5                           1                  0  \n",
       "6                           0                  0  \n",
       "7                           1                  0  \n",
       "8                           1                  0  \n",
       "9                           0                  0  \n",
       "\n",
       "[10 rows x 413 columns]"
      ]
     },
     "execution_count": 15,
     "metadata": {},
     "output_type": "execute_result"
    }
   ],
   "source": [
    "cancer = pd.read_csv('../data/SPARCS_cancer_binary.csv')\n",
    "cancer = cancer.drop(columns = ['Unnamed: 0'])\n",
    "cancer.head(10)"
   ]
  },
  {
   "cell_type": "code",
   "execution_count": 11,
   "metadata": {},
   "outputs": [
    {
     "data": {
      "text/plain": [
       "['Total.Charges',\n",
       " 'APR.Severity.of.Illness.Code',\n",
       " 'APR.Risk.of.Mortality',\n",
       " 'Age.Ordinal',\n",
       " 'Length.of.Stay',\n",
       " 'Hospital.County.Bronx',\n",
       " 'Hospital.County.Kings',\n",
       " 'Hospital.County.Manhattan',\n",
       " 'Hospital.County.Queens',\n",
       " 'Hospital.County.Richmond',\n",
       " 'Type.of.Admission.Elective',\n",
       " 'Type.of.Admission.Emergency',\n",
       " 'Type.of.Admission.Newborn',\n",
       " 'Type.of.Admission.Urgent',\n",
       " 'Type.of.Admission.Not Available',\n",
       " 'Type.of.Admission.Trauma',\n",
       " 'Patient.Disposition.Home w/ Home Health Services',\n",
       " 'Patient.Disposition.Skilled Nursing Home',\n",
       " 'Patient.Disposition.Home or Self Care',\n",
       " 'Patient.Disposition.Expired',\n",
       " 'Patient.Disposition.Left Against Medical Advice',\n",
       " 'Patient.Disposition.Short-term Hospital',\n",
       " 'Patient.Disposition.Hospice - Home',\n",
       " 'Patient.Disposition.Inpatient Rehabilitation Facility',\n",
       " 'Patient.Disposition.Medicare Cert Long Term Care Hospital',\n",
       " 'Patient.Disposition.Another Type Not Listed',\n",
       " 'Patient.Disposition.Hospice - Medical Facility',\n",
       " \"Patient.Disposition.Cancer Center or Children's Hospital\",\n",
       " 'Patient.Disposition.Facility w/ Custodial/Supportive Care',\n",
       " 'Patient.Disposition.Federal Health Care Facility',\n",
       " 'Patient.Disposition.Hosp Basd Medicare Approved Swing Bed',\n",
       " 'Patient.Disposition.Psychiatric Hospital or Unit of Hosp',\n",
       " 'Patient.Disposition.Medicaid Cert Nursing Facility',\n",
       " 'Patient.Disposition.Court/Law Enforcement',\n",
       " 'CCS.Diagnosis.Code.12',\n",
       " 'CCS.Diagnosis.Code.32',\n",
       " 'CCS.Diagnosis.Code.19',\n",
       " 'CCS.Diagnosis.Code.21',\n",
       " 'CCS.Diagnosis.Code.15',\n",
       " 'CCS.Diagnosis.Code.11',\n",
       " 'CCS.Diagnosis.Code.26',\n",
       " 'CCS.Diagnosis.Code.28',\n",
       " 'CCS.Diagnosis.Code.33',\n",
       " 'CCS.Diagnosis.Code.27',\n",
       " 'CCS.Diagnosis.Code.14',\n",
       " 'CCS.Diagnosis.Code.18',\n",
       " 'CCS.Diagnosis.Code.24',\n",
       " 'CCS.Diagnosis.Code.25',\n",
       " 'CCS.Diagnosis.Code.36',\n",
       " 'CCS.Diagnosis.Code.35',\n",
       " 'CCS.Diagnosis.Code.13',\n",
       " 'CCS.Diagnosis.Code.16',\n",
       " 'CCS.Diagnosis.Code.29',\n",
       " 'CCS.Diagnosis.Code.20',\n",
       " 'CCS.Diagnosis.Code.17',\n",
       " 'CCS.Diagnosis.Code.41',\n",
       " 'CCS.Diagnosis.Code.23',\n",
       " 'CCS.Diagnosis.Code.31',\n",
       " 'CCS.Diagnosis.Code.34',\n",
       " 'CCS.Diagnosis.Code.30',\n",
       " 'CCS.Procedure.Code.94',\n",
       " 'CCS.Procedure.Code.112',\n",
       " 'CCS.Procedure.Code.224',\n",
       " 'CCS.Procedure.Code.37',\n",
       " 'CCS.Procedure.Code.54',\n",
       " 'CCS.Procedure.Code.78',\n",
       " 'CCS.Procedure.Code.222',\n",
       " 'CCS.Procedure.Code.70',\n",
       " 'CCS.Procedure.Code.0',\n",
       " 'CCS.Procedure.Code.104',\n",
       " 'CCS.Procedure.Code.101',\n",
       " 'CCS.Procedure.Code.119',\n",
       " 'CCS.Procedure.Code.36',\n",
       " 'CCS.Procedure.Code.125',\n",
       " 'CCS.Procedure.Code.76',\n",
       " 'CCS.Procedure.Code.124',\n",
       " 'CCS.Procedure.Code.39',\n",
       " 'CCS.Procedure.Code.95',\n",
       " 'CCS.Procedure.Code.103',\n",
       " 'CCS.Procedure.Code.10',\n",
       " 'CCS.Procedure.Code.97',\n",
       " 'CCS.Procedure.Code.132',\n",
       " 'CCS.Procedure.Code.130',\n",
       " 'CCS.Procedure.Code.216',\n",
       " 'CCS.Procedure.Code.67',\n",
       " 'CCS.Procedure.Code.83',\n",
       " 'CCS.Procedure.Code.167',\n",
       " 'CCS.Procedure.Code.114',\n",
       " 'CCS.Procedure.Code.113',\n",
       " 'CCS.Procedure.Code.7',\n",
       " 'CCS.Procedure.Code.73',\n",
       " 'CCS.Procedure.Code.169',\n",
       " 'CCS.Procedure.Code.159',\n",
       " 'CCS.Procedure.Code.1',\n",
       " 'CCS.Procedure.Code.38',\n",
       " 'CCS.Procedure.Code.231',\n",
       " 'CCS.Procedure.Code.71',\n",
       " 'CCS.Procedure.Code.82',\n",
       " 'CCS.Procedure.Code.99',\n",
       " 'CCS.Procedure.Code.223',\n",
       " 'CCS.Procedure.Code.93',\n",
       " 'CCS.Procedure.Code.61',\n",
       " 'CCS.Procedure.Code.88',\n",
       " 'CCS.Procedure.Code.34',\n",
       " 'CCS.Procedure.Code.96',\n",
       " 'CCS.Procedure.Code.40',\n",
       " 'CCS.Procedure.Code.74',\n",
       " 'CCS.Procedure.Code.228',\n",
       " 'CCS.Procedure.Code.77',\n",
       " 'CCS.Procedure.Code.110',\n",
       " 'CCS.Procedure.Code.178',\n",
       " 'CCS.Procedure.Code.98',\n",
       " 'CCS.Procedure.Code.179',\n",
       " 'CCS.Procedure.Code.174',\n",
       " 'CCS.Procedure.Code.69',\n",
       " 'CCS.Procedure.Code.21',\n",
       " 'CCS.Procedure.Code.165',\n",
       " 'CCS.Procedure.Code.116',\n",
       " 'CCS.Procedure.Code.198',\n",
       " 'CCS.Procedure.Code.42',\n",
       " 'CCS.Procedure.Code.215',\n",
       " 'CCS.Procedure.Code.166',\n",
       " 'CCS.Procedure.Code.227',\n",
       " 'CCS.Procedure.Code.50',\n",
       " 'CCS.Procedure.Code.33',\n",
       " 'CCS.Procedure.Code.196',\n",
       " 'CCS.Procedure.Code.170',\n",
       " 'CCS.Procedure.Code.90',\n",
       " 'CCS.Procedure.Code.213',\n",
       " 'CCS.Procedure.Code.19',\n",
       " 'CCS.Procedure.Code.173',\n",
       " 'CCS.Procedure.Code.9',\n",
       " 'CCS.Procedure.Code.177',\n",
       " 'CCS.Procedure.Code.58',\n",
       " 'CCS.Procedure.Code.75',\n",
       " 'CCS.Procedure.Code.207',\n",
       " 'CCS.Procedure.Code.209',\n",
       " 'CCS.Procedure.Code.142',\n",
       " 'CCS.Procedure.Code.35',\n",
       " 'CCS.Procedure.Code.157',\n",
       " 'CCS.Procedure.Code.175',\n",
       " 'CCS.Procedure.Code.211',\n",
       " 'CCS.Procedure.Code.64',\n",
       " 'CCS.Procedure.Code.118',\n",
       " 'CCS.Procedure.Code.89',\n",
       " 'CCS.Procedure.Code.2',\n",
       " 'CCS.Procedure.Code.164',\n",
       " 'CCS.Procedure.Code.210',\n",
       " 'CCS.Procedure.Code.31',\n",
       " 'CCS.Procedure.Code.176',\n",
       " 'CCS.Procedure.Code.172',\n",
       " 'CCS.Procedure.Code.197',\n",
       " 'CCS.Procedure.Code.23',\n",
       " 'CCS.Procedure.Code.28',\n",
       " 'CCS.Procedure.Code.4',\n",
       " 'CCS.Procedure.Code.32',\n",
       " 'CCS.Procedure.Code.208',\n",
       " 'CCS.Procedure.Code.84',\n",
       " 'CCS.Procedure.Code.152',\n",
       " 'CCS.Procedure.Code.193',\n",
       " 'CCS.Procedure.Code.160',\n",
       " 'CCS.Procedure.Code.153',\n",
       " 'CCS.Procedure.Code.41',\n",
       " 'CCS.Procedure.Code.29',\n",
       " 'CCS.Procedure.Code.65',\n",
       " 'CCS.Procedure.Code.100',\n",
       " 'CCS.Procedure.Code.199',\n",
       " 'CCS.Procedure.Code.217',\n",
       " 'CCS.Procedure.Code.86',\n",
       " 'CCS.Procedure.Code.26',\n",
       " 'CCS.Procedure.Code.111',\n",
       " 'CCS.Procedure.Code.30',\n",
       " 'CCS.Procedure.Code.128',\n",
       " 'CCS.Procedure.Code.180',\n",
       " 'CCS.Procedure.Code.195',\n",
       " 'CCS.Procedure.Code.87',\n",
       " 'CCS.Procedure.Code.12',\n",
       " 'CCS.Procedure.Code.226',\n",
       " 'CCS.Procedure.Code.11',\n",
       " 'CCS.Procedure.Code.221',\n",
       " 'CCS.Procedure.Code.171',\n",
       " 'CCS.Procedure.Code.168',\n",
       " 'CCS.Procedure.Code.225',\n",
       " 'CCS.Procedure.Code.191',\n",
       " 'CCS.Procedure.Code.108',\n",
       " 'CCS.Procedure.Code.117',\n",
       " 'CCS.Procedure.Code.72',\n",
       " 'CCS.Procedure.Code.120',\n",
       " 'CCS.Procedure.Code.123',\n",
       " 'CCS.Procedure.Code.194',\n",
       " 'CCS.Procedure.Code.131',\n",
       " 'CCS.Procedure.Code.202',\n",
       " 'CCS.Procedure.Code.47',\n",
       " 'CCS.Procedure.Code.66',\n",
       " 'CCS.Procedure.Code.161',\n",
       " 'CCS.Procedure.Code.158',\n",
       " 'CCS.Procedure.Code.49',\n",
       " 'CCS.Procedure.Code.57',\n",
       " 'CCS.Procedure.Code.102',\n",
       " 'CCS.Procedure.Code.109',\n",
       " 'CCS.Procedure.Code.203',\n",
       " 'CCS.Procedure.Code.212',\n",
       " 'CCS.Procedure.Code.25',\n",
       " 'CCS.Procedure.Code.192',\n",
       " 'CCS.Procedure.Code.92',\n",
       " 'CCS.Procedure.Code.218',\n",
       " 'CCS.Procedure.Code.201',\n",
       " 'CCS.Procedure.Code.63',\n",
       " 'CCS.Procedure.Code.205',\n",
       " 'CCS.Procedure.Code.190',\n",
       " 'CCS.Procedure.Code.81',\n",
       " 'CCS.Procedure.Code.80',\n",
       " 'CCS.Procedure.Code.183',\n",
       " 'CCS.Procedure.Code.48',\n",
       " 'CCS.Procedure.Code.45',\n",
       " 'CCS.Procedure.Code.56',\n",
       " 'CCS.Procedure.Code.214',\n",
       " 'CCS.Procedure.Code.3',\n",
       " 'CCS.Procedure.Code.59',\n",
       " 'CCS.Procedure.Code.185',\n",
       " 'CCS.Procedure.Code.8',\n",
       " 'CCS.Procedure.Code.188',\n",
       " 'CCS.Procedure.Code.55',\n",
       " 'CCS.Procedure.Code.79',\n",
       " 'CCS.Procedure.Code.156',\n",
       " 'CCS.Procedure.Code.27',\n",
       " 'CCS.Procedure.Code.148',\n",
       " 'CCS.Procedure.Code.17',\n",
       " 'CCS.Procedure.Code.162',\n",
       " 'CCS.Procedure.Code.146',\n",
       " 'CCS.Procedure.Code.154',\n",
       " 'CCS.Procedure.Code.5',\n",
       " 'CCS.Procedure.Code.20',\n",
       " 'CCS.Procedure.Code.24',\n",
       " 'CCS.Procedure.Code.181',\n",
       " 'CCS.Procedure.Code.220',\n",
       " 'CCS.Procedure.Code.129',\n",
       " 'CCS.Procedure.Code.6',\n",
       " 'CCS.Procedure.Code.62',\n",
       " 'CCS.Procedure.Code.184',\n",
       " 'CCS.Procedure.Code.229',\n",
       " 'CCS.Procedure.Code.18',\n",
       " 'CCS.Procedure.Code.85',\n",
       " 'CCS.Procedure.Code.187',\n",
       " 'CCS.Procedure.Code.44',\n",
       " 'APR.DRG.Code.220',\n",
       " 'APR.DRG.Code.441',\n",
       " 'APR.DRG.Code.136',\n",
       " 'APR.DRG.Code.343',\n",
       " 'APR.DRG.Code.221',\n",
       " 'APR.DRG.Code.110',\n",
       " 'APR.DRG.Code.518',\n",
       " 'APR.DRG.Code.530',\n",
       " 'APR.DRG.Code.442',\n",
       " 'APR.DRG.Code.446',\n",
       " 'APR.DRG.Code.511',\n",
       " 'APR.DRG.Code.281',\n",
       " 'APR.DRG.Code.120',\n",
       " 'APR.DRG.Code.240',\n",
       " 'APR.DRG.Code.382',\n",
       " 'APR.DRG.Code.512',\n",
       " 'APR.DRG.Code.404',\n",
       " 'APR.DRG.Code.510',\n",
       " 'APR.DRG.Code.41',\n",
       " 'APR.DRG.Code.229',\n",
       " 'APR.DRG.Code.362',\n",
       " 'APR.DRG.Code.480',\n",
       " 'APR.DRG.Code.461',\n",
       " 'APR.DRG.Code.482',\n",
       " 'APR.DRG.Code.447',\n",
       " 'APR.DRG.Code.223',\n",
       " 'APR.DRG.Code.500',\n",
       " 'APR.DRG.Code.21',\n",
       " 'APR.DRG.Code.950',\n",
       " 'APR.DRG.Code.261',\n",
       " 'APR.DRG.Code.264',\n",
       " 'APR.DRG.Code.121',\n",
       " 'APR.DRG.Code.260',\n",
       " 'APR.DRG.Code.222',\n",
       " 'APR.DRG.Code.130',\n",
       " 'APR.DRG.Code.951',\n",
       " 'APR.DRG.Code.70',\n",
       " 'APR.DRG.Code.90',\n",
       " 'APR.DRG.Code.4',\n",
       " 'APR.DRG.Code.89',\n",
       " 'APR.DRG.Code.5',\n",
       " 'APR.DRG.Code.484',\n",
       " 'APR.DRG.Code.98',\n",
       " 'APR.DRG.Code.361',\n",
       " 'APR.DRG.Code.513',\n",
       " 'APR.DRG.Code.301',\n",
       " 'APR.DRG.Code.22',\n",
       " 'APR.DRG.Code.364',\n",
       " 'APR.DRG.Code.91',\n",
       " 'APR.DRG.Code.631',\n",
       " 'APR.DRG.Code.92',\n",
       " 'APR.DRG.Code.305',\n",
       " 'APR.DRG.Code.309',\n",
       " 'APR.DRG.Code.3',\n",
       " 'APR.DRG.Code.481',\n",
       " 'APR.DRG.Code.97',\n",
       " 'APR.DRG.Code.363',\n",
       " 'APR.DRG.Code.1',\n",
       " 'APR.DRG.Code.313',\n",
       " 'APR.DRG.Code.424',\n",
       " 'APR.DRG.Code.405',\n",
       " 'APR.DRG.Code.385',\n",
       " 'APR.DRG.Code.226',\n",
       " 'APR.DRG.Code.302',\n",
       " 'APR.DRG.Code.680',\n",
       " 'APR.DRG.Code.316',\n",
       " 'APR.DRG.Code.483',\n",
       " 'APR.DRG.Code.23',\n",
       " 'APR.DRG.Code.82',\n",
       " 'APR.DRG.Code.312',\n",
       " 'APR.DRG.Code.468',\n",
       " 'APR.DRG.Code.952',\n",
       " 'APR.DRG.Code.317',\n",
       " 'APR.DRG.Code.694',\n",
       " 'APR.DRG.Code.228',\n",
       " 'APR.DRG.Code.517',\n",
       " 'APR.DRG.Code.315',\n",
       " 'APR.DRG.Code.381',\n",
       " 'APR.DRG.Code.224',\n",
       " 'APR.DRG.Code.254',\n",
       " 'APR.DRG.Code.532',\n",
       " 'APR.DRG.Code.262',\n",
       " 'APR.DRG.Code.691',\n",
       " 'APR.DRG.Code.263',\n",
       " 'APR.DRG.Code.314',\n",
       " 'APR.DRG.Code.320',\n",
       " 'APR.DRG.Code.514',\n",
       " 'APR.DRG.Code.304',\n",
       " 'APR.DRG.Code.445',\n",
       " 'APR.DRG.Code.893',\n",
       " 'APR.DRG.Code.894',\n",
       " 'APR.DRG.Code.321',\n",
       " 'APR.DRG.Code.681',\n",
       " 'APR.DRG.Code.225',\n",
       " 'APR.DRG.Code.401',\n",
       " 'APR.DRG.Code.283',\n",
       " 'APR.DRG.Code.143',\n",
       " 'APR.DRG.Code.24',\n",
       " 'APR.DRG.Code.443',\n",
       " 'APR.DRG.Code.93',\n",
       " 'APR.DRG.Code.95',\n",
       " 'APR.DRG.Code.115',\n",
       " 'APR.DRG.Code.73',\n",
       " 'APR.DRG.Code.310',\n",
       " 'APR.DRG.Code.26',\n",
       " 'APR.DRG.Code.861',\n",
       " 'APR.DRG.Code.227',\n",
       " 'APR.DRG.Code.167',\n",
       " 'APR.DRG.Code.207',\n",
       " 'APR.DRG.Code.180',\n",
       " 'APR.DRG.Code.692',\n",
       " 'APR.DRG.Code.850',\n",
       " 'APR.DRG.Code.403',\n",
       " 'APR.MDC.Code.6',\n",
       " 'APR.MDC.Code.11',\n",
       " 'APR.MDC.Code.4',\n",
       " 'APR.MDC.Code.8',\n",
       " 'APR.MDC.Code.3',\n",
       " 'APR.MDC.Code.13',\n",
       " 'APR.MDC.Code.7',\n",
       " 'APR.MDC.Code.9',\n",
       " 'APR.MDC.Code.10',\n",
       " 'APR.MDC.Code.1',\n",
       " 'APR.MDC.Code.12',\n",
       " 'APR.MDC.Code.2',\n",
       " 'APR.MDC.Code.15',\n",
       " 'APR.MDC.Code.17',\n",
       " 'APR.MDC.Code.24',\n",
       " 'APR.MDC.Code.23',\n",
       " 'APR.MDC.Code.5',\n",
       " 'APR.Medical.Surgical.Description.Surgical',\n",
       " 'Payment.Typology.1.Medicaid',\n",
       " 'Payment.Typology.1.Medicare',\n",
       " 'Payment.Typology.1.Blue Cross/Blue Shield',\n",
       " 'Payment.Typology.1.Self-Pay',\n",
       " 'Payment.Typology.1.Private Health Insurance',\n",
       " 'Payment.Typology.1.Federal/State/Local/VA',\n",
       " 'Payment.Typology.1.Department of Corrections',\n",
       " 'Payment.Typology.1.Managed Care, Unspecified',\n",
       " 'Payment.Typology.1.Miscellaneous/Other',\n",
       " 'Payment.Typology.1.Unknown',\n",
       " 'Payment.Typology.2.Medicare',\n",
       " 'Payment.Typology.2.Medicaid',\n",
       " 'Payment.Typology.2.Self-Pay',\n",
       " 'Payment.Typology.2.Blue Cross/Blue Shield',\n",
       " 'Payment.Typology.2.Private Health Insurance',\n",
       " 'Payment.Typology.2.Managed Care, Unspecified',\n",
       " 'Payment.Typology.2.Unknown',\n",
       " 'Payment.Typology.2.Federal/State/Local/VA',\n",
       " 'Payment.Typology.2.Miscellaneous/Other',\n",
       " 'Payment.Typology.3.Medicaid',\n",
       " 'Payment.Typology.3.Private Health Insurance',\n",
       " 'Payment.Typology.3.Self-Pay',\n",
       " 'Payment.Typology.3.Blue Cross/Blue Shield',\n",
       " 'Payment.Typology.3.Medicare',\n",
       " 'Payment.Typology.3.Federal/State/Local/VA',\n",
       " 'Payment.Typology.3.Unknown',\n",
       " 'Payment.Typology.3.Miscellaneous/Other',\n",
       " 'Payment.Typology.3.Managed Care, Unspecified',\n",
       " 'Emergency.Department.Indicator.Y',\n",
       " 'Gender.F',\n",
       " 'Race.Black/African American',\n",
       " 'Race.Other Race',\n",
       " 'Race.White',\n",
       " 'Race.Unknown',\n",
       " 'Ethnicity.Not Span/Hispanic',\n",
       " 'Ethnicity.Spanish/Hispanic',\n",
       " 'Ethnicity.Unknown']"
      ]
     },
     "execution_count": 11,
     "metadata": {},
     "output_type": "execute_result"
    }
   ],
   "source": [
    "list(cancer.columns)"
   ]
  },
  {
   "cell_type": "code",
   "execution_count": 16,
   "metadata": {
    "scrolled": true
   },
   "outputs": [],
   "source": [
    "cancer = cancer.dropna(axis = 1)"
   ]
  },
  {
   "cell_type": "code",
   "execution_count": 13,
   "metadata": {
    "scrolled": true
   },
   "outputs": [
    {
     "data": {
      "text/plain": [
       "Total.Charges                                                float64\n",
       "APR.Severity.of.Illness.Code                                   int64\n",
       "APR.Risk.of.Mortality                                          int64\n",
       "Age.Ordinal                                                    int64\n",
       "Length.of.Stay                                                 int64\n",
       "Hospital.County.Bronx                                          int64\n",
       "Hospital.County.Kings                                          int64\n",
       "Hospital.County.Manhattan                                      int64\n",
       "Hospital.County.Queens                                         int64\n",
       "Hospital.County.Richmond                                       int64\n",
       "Type.of.Admission.Elective                                     int64\n",
       "Type.of.Admission.Emergency                                    int64\n",
       "Type.of.Admission.Newborn                                      int64\n",
       "Type.of.Admission.Urgent                                       int64\n",
       "Type.of.Admission.Not Available                                int64\n",
       "Type.of.Admission.Trauma                                       int64\n",
       "Patient.Disposition.Home w/ Home Health Services               int64\n",
       "Patient.Disposition.Skilled Nursing Home                       int64\n",
       "Patient.Disposition.Home or Self Care                          int64\n",
       "Patient.Disposition.Expired                                    int64\n",
       "Patient.Disposition.Left Against Medical Advice                int64\n",
       "Patient.Disposition.Short-term Hospital                        int64\n",
       "Patient.Disposition.Hospice - Home                             int64\n",
       "Patient.Disposition.Inpatient Rehabilitation Facility          int64\n",
       "Patient.Disposition.Medicare Cert Long Term Care Hospital      int64\n",
       "Patient.Disposition.Another Type Not Listed                    int64\n",
       "Patient.Disposition.Hospice - Medical Facility                 int64\n",
       "Patient.Disposition.Cancer Center or Children's Hospital       int64\n",
       "Patient.Disposition.Facility w/ Custodial/Supportive Care      int64\n",
       "Patient.Disposition.Federal Health Care Facility               int64\n",
       "                                                              ...   \n",
       "APR.MDC.Code.9                                                 int64\n",
       "APR.MDC.Code.10                                                int64\n",
       "APR.MDC.Code.1                                                 int64\n",
       "APR.MDC.Code.12                                                int64\n",
       "APR.MDC.Code.2                                                 int64\n",
       "APR.MDC.Code.15                                                int64\n",
       "APR.MDC.Code.17                                                int64\n",
       "APR.MDC.Code.24                                                int64\n",
       "APR.MDC.Code.23                                                int64\n",
       "APR.MDC.Code.5                                                 int64\n",
       "APR.Medical.Surgical.Description.Surgical                      int64\n",
       "Payment.Typology.1.Medicaid                                    int64\n",
       "Payment.Typology.1.Medicare                                    int64\n",
       "Payment.Typology.1.Blue Cross/Blue Shield                      int64\n",
       "Payment.Typology.1.Self-Pay                                    int64\n",
       "Payment.Typology.1.Private Health Insurance                    int64\n",
       "Payment.Typology.1.Federal/State/Local/VA                      int64\n",
       "Payment.Typology.1.Department of Corrections                   int64\n",
       "Payment.Typology.1.Managed Care, Unspecified                   int64\n",
       "Payment.Typology.1.Miscellaneous/Other                         int64\n",
       "Payment.Typology.1.Unknown                                     int64\n",
       "Emergency.Department.Indicator.Y                               int64\n",
       "Gender.F                                                       int64\n",
       "Race.Black/African American                                    int64\n",
       "Race.Other Race                                                int64\n",
       "Race.White                                                     int64\n",
       "Race.Unknown                                                   int64\n",
       "Ethnicity.Not Span/Hispanic                                    int64\n",
       "Ethnicity.Spanish/Hispanic                                     int64\n",
       "Ethnicity.Unknown                                              int64\n",
       "Length: 395, dtype: object"
      ]
     },
     "execution_count": 13,
     "metadata": {},
     "output_type": "execute_result"
    }
   ],
   "source": [
    "cancer.dtypes"
   ]
  },
  {
   "cell_type": "markdown",
   "metadata": {},
   "source": [
    "## Training Random Forest "
   ]
  },
  {
   "cell_type": "code",
   "execution_count": 17,
   "metadata": {},
   "outputs": [],
   "source": [
    "y = cancer[['Total.Charges']]\n",
    "X = cancer.drop(columns = ['Total.Charges'])\n",
    "\n",
    "X_train, X_test, y_train, y_test = train_test_split(X, y, test_size=0.25, random_state=0)"
   ]
  },
  {
   "cell_type": "markdown",
   "metadata": {},
   "source": [
    "## Train set w/ standardaization "
   ]
  },
  {
   "cell_type": "code",
   "execution_count": 54,
   "metadata": {},
   "outputs": [],
   "source": [
    "sc = StandardScaler()\n",
    "X_train1 = sc.fit_transform(X_train)\n",
    "X_test1 = sc.transform(X_test)"
   ]
  },
  {
   "cell_type": "code",
   "execution_count": 18,
   "metadata": {
    "scrolled": true
   },
   "outputs": [
    {
     "name": "stderr",
     "output_type": "stream",
     "text": [
      "/anaconda3/lib/python3.6/site-packages/ipykernel_launcher.py:2: DataConversionWarning: A column-vector y was passed when a 1d array was expected. Please change the shape of y to (n_samples,), for example using ravel().\n",
      "  \n"
     ]
    }
   ],
   "source": [
    "regressor = RandomForestRegressor(n_estimators=50, random_state=0)\n",
    "regressor.fit(X_train, y_train)\n",
    "y_pred = regressor.predict(X_test)"
   ]
  },
  {
   "cell_type": "code",
   "execution_count": 19,
   "metadata": {},
   "outputs": [
    {
     "data": {
      "text/plain": [
       "0.7685588394372607"
      ]
     },
     "execution_count": 19,
     "metadata": {},
     "output_type": "execute_result"
    }
   ],
   "source": [
    "regressor.score(X_test, y_test)"
   ]
  },
  {
   "cell_type": "code",
   "execution_count": 23,
   "metadata": {},
   "outputs": [],
   "source": [
    "est = regressor.estimators_[-1]"
   ]
  },
  {
   "cell_type": "code",
   "execution_count": 10,
   "metadata": {},
   "outputs": [],
   "source": [
    "export_graphviz(est, \n",
    "    out_file= 'test' + '.dot',\n",
    "    precision = 4,\n",
    "    rounded = True, proportion = False)"
   ]
  },
  {
   "cell_type": "code",
   "execution_count": 21,
   "metadata": {},
   "outputs": [
    {
     "ename": "KeyboardInterrupt",
     "evalue": "",
     "output_type": "error",
     "traceback": [
      "\u001b[0;31m---------------------------------------------------------------------------\u001b[0m",
      "\u001b[0;31mKeyboardInterrupt\u001b[0m                         Traceback (most recent call last)",
      "\u001b[0;32m<ipython-input-21-72140db99fe8>\u001b[0m in \u001b[0;36m<module>\u001b[0;34m()\u001b[0m\n\u001b[0;32m----> 1\u001b[0;31m \u001b[0mcall\u001b[0m\u001b[0;34m(\u001b[0m\u001b[0;34m[\u001b[0m\u001b[0;34m'dot'\u001b[0m\u001b[0;34m,\u001b[0m \u001b[0;34m'-Tpng'\u001b[0m\u001b[0;34m,\u001b[0m \u001b[0;34m'test.dot'\u001b[0m\u001b[0;34m,\u001b[0m \u001b[0;34m'-o'\u001b[0m\u001b[0;34m,\u001b[0m \u001b[0;34m'test.png'\u001b[0m\u001b[0;34m,\u001b[0m \u001b[0;34m'-Gdpi=600'\u001b[0m\u001b[0;34m]\u001b[0m\u001b[0;34m)\u001b[0m\u001b[0;34m\u001b[0m\u001b[0m\n\u001b[0m",
      "\u001b[0;32m/anaconda3/lib/python3.6/subprocess.py\u001b[0m in \u001b[0;36mcall\u001b[0;34m(timeout, *popenargs, **kwargs)\u001b[0m\n\u001b[1;32m    267\u001b[0m     \u001b[0;32mwith\u001b[0m \u001b[0mPopen\u001b[0m\u001b[0;34m(\u001b[0m\u001b[0;34m*\u001b[0m\u001b[0mpopenargs\u001b[0m\u001b[0;34m,\u001b[0m \u001b[0;34m**\u001b[0m\u001b[0mkwargs\u001b[0m\u001b[0;34m)\u001b[0m \u001b[0;32mas\u001b[0m \u001b[0mp\u001b[0m\u001b[0;34m:\u001b[0m\u001b[0;34m\u001b[0m\u001b[0m\n\u001b[1;32m    268\u001b[0m         \u001b[0;32mtry\u001b[0m\u001b[0;34m:\u001b[0m\u001b[0;34m\u001b[0m\u001b[0m\n\u001b[0;32m--> 269\u001b[0;31m             \u001b[0;32mreturn\u001b[0m \u001b[0mp\u001b[0m\u001b[0;34m.\u001b[0m\u001b[0mwait\u001b[0m\u001b[0;34m(\u001b[0m\u001b[0mtimeout\u001b[0m\u001b[0;34m=\u001b[0m\u001b[0mtimeout\u001b[0m\u001b[0;34m)\u001b[0m\u001b[0;34m\u001b[0m\u001b[0m\n\u001b[0m\u001b[1;32m    270\u001b[0m         \u001b[0;32mexcept\u001b[0m\u001b[0;34m:\u001b[0m\u001b[0;34m\u001b[0m\u001b[0m\n\u001b[1;32m    271\u001b[0m             \u001b[0mp\u001b[0m\u001b[0;34m.\u001b[0m\u001b[0mkill\u001b[0m\u001b[0;34m(\u001b[0m\u001b[0;34m)\u001b[0m\u001b[0;34m\u001b[0m\u001b[0m\n",
      "\u001b[0;32m/anaconda3/lib/python3.6/subprocess.py\u001b[0m in \u001b[0;36mwait\u001b[0;34m(self, timeout, endtime)\u001b[0m\n\u001b[1;32m   1455\u001b[0m                         \u001b[0;32mif\u001b[0m \u001b[0mself\u001b[0m\u001b[0;34m.\u001b[0m\u001b[0mreturncode\u001b[0m \u001b[0;32mis\u001b[0m \u001b[0;32mnot\u001b[0m \u001b[0;32mNone\u001b[0m\u001b[0;34m:\u001b[0m\u001b[0;34m\u001b[0m\u001b[0m\n\u001b[1;32m   1456\u001b[0m                             \u001b[0;32mbreak\u001b[0m  \u001b[0;31m# Another thread waited.\u001b[0m\u001b[0;34m\u001b[0m\u001b[0m\n\u001b[0;32m-> 1457\u001b[0;31m                         \u001b[0;34m(\u001b[0m\u001b[0mpid\u001b[0m\u001b[0;34m,\u001b[0m \u001b[0msts\u001b[0m\u001b[0;34m)\u001b[0m \u001b[0;34m=\u001b[0m \u001b[0mself\u001b[0m\u001b[0;34m.\u001b[0m\u001b[0m_try_wait\u001b[0m\u001b[0;34m(\u001b[0m\u001b[0;36m0\u001b[0m\u001b[0;34m)\u001b[0m\u001b[0;34m\u001b[0m\u001b[0m\n\u001b[0m\u001b[1;32m   1458\u001b[0m                         \u001b[0;31m# Check the pid and loop as waitpid has been known to\u001b[0m\u001b[0;34m\u001b[0m\u001b[0;34m\u001b[0m\u001b[0m\n\u001b[1;32m   1459\u001b[0m                         \u001b[0;31m# return 0 even without WNOHANG in odd situations.\u001b[0m\u001b[0;34m\u001b[0m\u001b[0;34m\u001b[0m\u001b[0m\n",
      "\u001b[0;32m/anaconda3/lib/python3.6/subprocess.py\u001b[0m in \u001b[0;36m_try_wait\u001b[0;34m(self, wait_flags)\u001b[0m\n\u001b[1;32m   1402\u001b[0m             \u001b[0;34m\"\"\"All callers to this function MUST hold self._waitpid_lock.\"\"\"\u001b[0m\u001b[0;34m\u001b[0m\u001b[0m\n\u001b[1;32m   1403\u001b[0m             \u001b[0;32mtry\u001b[0m\u001b[0;34m:\u001b[0m\u001b[0;34m\u001b[0m\u001b[0m\n\u001b[0;32m-> 1404\u001b[0;31m                 \u001b[0;34m(\u001b[0m\u001b[0mpid\u001b[0m\u001b[0;34m,\u001b[0m \u001b[0msts\u001b[0m\u001b[0;34m)\u001b[0m \u001b[0;34m=\u001b[0m \u001b[0mos\u001b[0m\u001b[0;34m.\u001b[0m\u001b[0mwaitpid\u001b[0m\u001b[0;34m(\u001b[0m\u001b[0mself\u001b[0m\u001b[0;34m.\u001b[0m\u001b[0mpid\u001b[0m\u001b[0;34m,\u001b[0m \u001b[0mwait_flags\u001b[0m\u001b[0;34m)\u001b[0m\u001b[0;34m\u001b[0m\u001b[0m\n\u001b[0m\u001b[1;32m   1405\u001b[0m             \u001b[0;32mexcept\u001b[0m \u001b[0mChildProcessError\u001b[0m\u001b[0;34m:\u001b[0m\u001b[0;34m\u001b[0m\u001b[0m\n\u001b[1;32m   1406\u001b[0m                 \u001b[0;31m# This happens if SIGCLD is set to be ignored or waiting\u001b[0m\u001b[0;34m\u001b[0m\u001b[0;34m\u001b[0m\u001b[0m\n",
      "\u001b[0;31mKeyboardInterrupt\u001b[0m: "
     ]
    }
   ],
   "source": [
    "call(['dot', '-Tpng', 'test.dot', '-o', 'test.png', '-Gdpi=600'])"
   ]
  },
  {
   "cell_type": "markdown",
   "metadata": {},
   "source": [
    "## Hyperparameters tuning"
   ]
  },
  {
   "cell_type": "code",
   "execution_count": 57,
   "metadata": {},
   "outputs": [],
   "source": [
    "def train_RF(n_estima, bt, max_feat = \"auto\", sample_size = 0.75):\n",
    "    print('\\n\\nn_estimators: ', n_estima)\n",
    "    print('bootstrap: ', bt)\n",
    "    print('max_features: ', max_feat)\n",
    "    X_train, X_test, y_train, y_test = train_test_split(X, y, test_size=sample_size, random_state=0)\n",
    "    \n",
    "    regressor = RandomForestRegressor(n_estimators=n_estima, bootstrap = bt, n_jobs = -1, max_features = max_feat)\n",
    "    regressor.fit(X_train, y_train)\n",
    "    y_pred = regressor.predict(X_test)\n",
    "    \n",
    "    scr = regressor.score(X_test, y_test)\n",
    "    \n",
    "    est_tree = regressor.estimators_[-1]\n",
    "    \n",
    "    filename = str(n_estima) + \"_\"+ str(bt) +\"_\" + max_feat\n",
    "    \n",
    "    visualize_DT(est_tree, filename)\n",
    "    \n",
    "    return [regressor, y_pred, scr]"
   ]
  },
  {
   "cell_type": "code",
   "execution_count": 56,
   "metadata": {},
   "outputs": [],
   "source": [
    "def visualize_DT(dt_estima, filename):\n",
    "    \n",
    "# Export as dot file\n",
    "    export_graphviz(dt_estima, \n",
    "    out_file= '../data/random_forest_estimators/dot/' + filename + '.dot',\n",
    "    rounded = True, proportion = False, \n",
    "    precision = 4, filled = True)   "
   ]
  },
  {
   "cell_type": "code",
   "execution_count": 54,
   "metadata": {},
   "outputs": [],
   "source": [
    "tree_nums = [10, 50, 100, 150, 200, 250, 500, 1000]\n",
    "boots = [True, False]\n",
    "max_feats = ['auto', 'log2']"
   ]
  },
  {
   "cell_type": "code",
   "execution_count": 84,
   "metadata": {
    "scrolled": true
   },
   "outputs": [],
   "source": [
    "def train_RF_quartet():\n",
    "    # training \n",
    "\n",
    "    boot_auto_reg = []\n",
    "    boot_log2_reg = []\n",
    "    full_auto_reg = []\n",
    "    full_log2_reg = []\n",
    "    boot_auto_src = []\n",
    "    boot_log2_src = []\n",
    "    full_auto_src = []\n",
    "    full_log2_src = []\n",
    "\n",
    "    for n in tree_nums:\n",
    "        for b in boots:\n",
    "            for m in max_feats:\n",
    "                [regressor, y_pred, scr] = train_RF(n_estima = n, bt = b, max_feat = m)\n",
    "                print(\"R^2 score: \", scr)\n",
    "                if b:\n",
    "                    if m == 'auto':\n",
    "                        boot_auto_reg.append(regressor)\n",
    "                        boot_auto_src.append(scr)\n",
    "                    else:\n",
    "                        boot_log2_reg.append(regressor)\n",
    "                        boot_log2_src.append(scr)\n",
    "                else:\n",
    "                    if m == 'auto':\n",
    "                        full_auto_reg.append(regressor)\n",
    "                        full_auto_src.append(scr)\n",
    "                    else:\n",
    "                        full_log2_reg.append(regressor)\n",
    "                        full_log2_src.append(scr)\n",
    "    return [boot_auto_reg, \n",
    "            boot_log2_reg, \n",
    "            full_auto_reg,\n",
    "            full_log2_reg,\n",
    "            boot_auto_src,\n",
    "            boot_log2_src,\n",
    "            full_auto_src,\n",
    "            full_log2_src,\n",
    "            ]"
   ]
  },
  {
   "cell_type": "code",
   "execution_count": 86,
   "metadata": {
    "scrolled": true
   },
   "outputs": [
    {
     "name": "stdout",
     "output_type": "stream",
     "text": [
      "\n",
      "\n",
      "Round  0\n",
      "\n",
      "\n",
      "n_estimators:  10\n",
      "bootstrap:  True\n",
      "max_features:  auto\n"
     ]
    },
    {
     "name": "stderr",
     "output_type": "stream",
     "text": [
      "/anaconda3/lib/python3.6/site-packages/ipykernel_launcher.py:8: DataConversionWarning: A column-vector y was passed when a 1d array was expected. Please change the shape of y to (n_samples,), for example using ravel().\n",
      "  \n"
     ]
    },
    {
     "name": "stdout",
     "output_type": "stream",
     "text": [
      "R^2 score:  0.7234587459723114\n",
      "\n",
      "\n",
      "n_estimators:  10\n",
      "bootstrap:  True\n",
      "max_features:  log2\n"
     ]
    },
    {
     "name": "stderr",
     "output_type": "stream",
     "text": [
      "/anaconda3/lib/python3.6/site-packages/ipykernel_launcher.py:8: DataConversionWarning: A column-vector y was passed when a 1d array was expected. Please change the shape of y to (n_samples,), for example using ravel().\n",
      "  \n"
     ]
    },
    {
     "name": "stdout",
     "output_type": "stream",
     "text": [
      "R^2 score:  0.5096185560074706\n",
      "\n",
      "\n",
      "n_estimators:  10\n",
      "bootstrap:  False\n",
      "max_features:  auto\n"
     ]
    },
    {
     "name": "stderr",
     "output_type": "stream",
     "text": [
      "/anaconda3/lib/python3.6/site-packages/ipykernel_launcher.py:8: DataConversionWarning: A column-vector y was passed when a 1d array was expected. Please change the shape of y to (n_samples,), for example using ravel().\n",
      "  \n"
     ]
    },
    {
     "name": "stdout",
     "output_type": "stream",
     "text": [
      "R^2 score:  0.6338209025088293\n",
      "\n",
      "\n",
      "n_estimators:  10\n",
      "bootstrap:  False\n",
      "max_features:  log2\n"
     ]
    },
    {
     "name": "stderr",
     "output_type": "stream",
     "text": [
      "/anaconda3/lib/python3.6/site-packages/ipykernel_launcher.py:8: DataConversionWarning: A column-vector y was passed when a 1d array was expected. Please change the shape of y to (n_samples,), for example using ravel().\n",
      "  \n"
     ]
    },
    {
     "name": "stdout",
     "output_type": "stream",
     "text": [
      "R^2 score:  0.5041577576819578\n",
      "\n",
      "\n",
      "n_estimators:  50\n",
      "bootstrap:  True\n",
      "max_features:  auto\n"
     ]
    },
    {
     "name": "stderr",
     "output_type": "stream",
     "text": [
      "/anaconda3/lib/python3.6/site-packages/ipykernel_launcher.py:8: DataConversionWarning: A column-vector y was passed when a 1d array was expected. Please change the shape of y to (n_samples,), for example using ravel().\n",
      "  \n"
     ]
    },
    {
     "name": "stdout",
     "output_type": "stream",
     "text": [
      "R^2 score:  0.7489975293608062\n",
      "\n",
      "\n",
      "n_estimators:  50\n",
      "bootstrap:  True\n",
      "max_features:  log2\n"
     ]
    },
    {
     "name": "stderr",
     "output_type": "stream",
     "text": [
      "/anaconda3/lib/python3.6/site-packages/ipykernel_launcher.py:8: DataConversionWarning: A column-vector y was passed when a 1d array was expected. Please change the shape of y to (n_samples,), for example using ravel().\n",
      "  \n"
     ]
    },
    {
     "name": "stdout",
     "output_type": "stream",
     "text": [
      "R^2 score:  0.5459367472318768\n",
      "\n",
      "\n",
      "n_estimators:  50\n",
      "bootstrap:  False\n",
      "max_features:  auto\n"
     ]
    },
    {
     "name": "stderr",
     "output_type": "stream",
     "text": [
      "/anaconda3/lib/python3.6/site-packages/ipykernel_launcher.py:8: DataConversionWarning: A column-vector y was passed when a 1d array was expected. Please change the shape of y to (n_samples,), for example using ravel().\n",
      "  \n"
     ]
    },
    {
     "name": "stdout",
     "output_type": "stream",
     "text": [
      "R^2 score:  0.6383925717674277\n",
      "\n",
      "\n",
      "n_estimators:  50\n",
      "bootstrap:  False\n",
      "max_features:  log2\n"
     ]
    },
    {
     "name": "stderr",
     "output_type": "stream",
     "text": [
      "/anaconda3/lib/python3.6/site-packages/ipykernel_launcher.py:8: DataConversionWarning: A column-vector y was passed when a 1d array was expected. Please change the shape of y to (n_samples,), for example using ravel().\n",
      "  \n"
     ]
    },
    {
     "name": "stdout",
     "output_type": "stream",
     "text": [
      "R^2 score:  0.5490641905819125\n",
      "\n",
      "\n",
      "n_estimators:  100\n",
      "bootstrap:  True\n",
      "max_features:  auto\n"
     ]
    },
    {
     "name": "stderr",
     "output_type": "stream",
     "text": [
      "/anaconda3/lib/python3.6/site-packages/ipykernel_launcher.py:8: DataConversionWarning: A column-vector y was passed when a 1d array was expected. Please change the shape of y to (n_samples,), for example using ravel().\n",
      "  \n"
     ]
    },
    {
     "name": "stdout",
     "output_type": "stream",
     "text": [
      "R^2 score:  0.752441647497295\n",
      "\n",
      "\n",
      "n_estimators:  100\n",
      "bootstrap:  True\n",
      "max_features:  log2\n"
     ]
    },
    {
     "name": "stderr",
     "output_type": "stream",
     "text": [
      "/anaconda3/lib/python3.6/site-packages/ipykernel_launcher.py:8: DataConversionWarning: A column-vector y was passed when a 1d array was expected. Please change the shape of y to (n_samples,), for example using ravel().\n",
      "  \n"
     ]
    },
    {
     "name": "stdout",
     "output_type": "stream",
     "text": [
      "R^2 score:  0.5582626829884406\n",
      "\n",
      "\n",
      "n_estimators:  100\n",
      "bootstrap:  False\n",
      "max_features:  auto\n"
     ]
    },
    {
     "name": "stderr",
     "output_type": "stream",
     "text": [
      "/anaconda3/lib/python3.6/site-packages/ipykernel_launcher.py:8: DataConversionWarning: A column-vector y was passed when a 1d array was expected. Please change the shape of y to (n_samples,), for example using ravel().\n",
      "  \n"
     ]
    },
    {
     "name": "stdout",
     "output_type": "stream",
     "text": [
      "R^2 score:  0.6393779407685543\n",
      "\n",
      "\n",
      "n_estimators:  100\n",
      "bootstrap:  False\n",
      "max_features:  log2\n"
     ]
    },
    {
     "name": "stderr",
     "output_type": "stream",
     "text": [
      "/anaconda3/lib/python3.6/site-packages/ipykernel_launcher.py:8: DataConversionWarning: A column-vector y was passed when a 1d array was expected. Please change the shape of y to (n_samples,), for example using ravel().\n",
      "  \n"
     ]
    },
    {
     "name": "stdout",
     "output_type": "stream",
     "text": [
      "R^2 score:  0.5686866384319946\n",
      "\n",
      "\n",
      "n_estimators:  150\n",
      "bootstrap:  True\n",
      "max_features:  auto\n"
     ]
    },
    {
     "name": "stderr",
     "output_type": "stream",
     "text": [
      "/anaconda3/lib/python3.6/site-packages/ipykernel_launcher.py:8: DataConversionWarning: A column-vector y was passed when a 1d array was expected. Please change the shape of y to (n_samples,), for example using ravel().\n",
      "  \n"
     ]
    },
    {
     "name": "stdout",
     "output_type": "stream",
     "text": [
      "R^2 score:  0.7524662741063903\n",
      "\n",
      "\n",
      "n_estimators:  150\n",
      "bootstrap:  True\n",
      "max_features:  log2\n"
     ]
    },
    {
     "name": "stderr",
     "output_type": "stream",
     "text": [
      "/anaconda3/lib/python3.6/site-packages/ipykernel_launcher.py:8: DataConversionWarning: A column-vector y was passed when a 1d array was expected. Please change the shape of y to (n_samples,), for example using ravel().\n",
      "  \n"
     ]
    },
    {
     "name": "stdout",
     "output_type": "stream",
     "text": [
      "R^2 score:  0.5562337763754072\n",
      "\n",
      "\n",
      "n_estimators:  150\n",
      "bootstrap:  False\n",
      "max_features:  auto\n"
     ]
    },
    {
     "name": "stderr",
     "output_type": "stream",
     "text": [
      "/anaconda3/lib/python3.6/site-packages/ipykernel_launcher.py:8: DataConversionWarning: A column-vector y was passed when a 1d array was expected. Please change the shape of y to (n_samples,), for example using ravel().\n",
      "  \n"
     ]
    },
    {
     "name": "stdout",
     "output_type": "stream",
     "text": [
      "R^2 score:  0.6407782909607715\n",
      "\n",
      "\n",
      "n_estimators:  150\n",
      "bootstrap:  False\n",
      "max_features:  log2\n"
     ]
    },
    {
     "name": "stderr",
     "output_type": "stream",
     "text": [
      "/anaconda3/lib/python3.6/site-packages/ipykernel_launcher.py:8: DataConversionWarning: A column-vector y was passed when a 1d array was expected. Please change the shape of y to (n_samples,), for example using ravel().\n",
      "  \n"
     ]
    },
    {
     "name": "stdout",
     "output_type": "stream",
     "text": [
      "R^2 score:  0.5668755410360344\n",
      "\n",
      "\n",
      "n_estimators:  200\n",
      "bootstrap:  True\n",
      "max_features:  auto\n"
     ]
    },
    {
     "name": "stderr",
     "output_type": "stream",
     "text": [
      "/anaconda3/lib/python3.6/site-packages/ipykernel_launcher.py:8: DataConversionWarning: A column-vector y was passed when a 1d array was expected. Please change the shape of y to (n_samples,), for example using ravel().\n",
      "  \n"
     ]
    },
    {
     "name": "stdout",
     "output_type": "stream",
     "text": [
      "R^2 score:  0.7513641694986184\n",
      "\n",
      "\n",
      "n_estimators:  200\n",
      "bootstrap:  True\n",
      "max_features:  log2\n"
     ]
    },
    {
     "name": "stderr",
     "output_type": "stream",
     "text": [
      "/anaconda3/lib/python3.6/site-packages/ipykernel_launcher.py:8: DataConversionWarning: A column-vector y was passed when a 1d array was expected. Please change the shape of y to (n_samples,), for example using ravel().\n",
      "  \n"
     ]
    },
    {
     "name": "stdout",
     "output_type": "stream",
     "text": [
      "R^2 score:  0.548218363948398\n",
      "\n",
      "\n",
      "n_estimators:  200\n",
      "bootstrap:  False\n",
      "max_features:  auto\n"
     ]
    },
    {
     "name": "stderr",
     "output_type": "stream",
     "text": [
      "/anaconda3/lib/python3.6/site-packages/ipykernel_launcher.py:8: DataConversionWarning: A column-vector y was passed when a 1d array was expected. Please change the shape of y to (n_samples,), for example using ravel().\n",
      "  \n"
     ]
    },
    {
     "name": "stdout",
     "output_type": "stream",
     "text": [
      "R^2 score:  0.6390532615083402\n",
      "\n",
      "\n",
      "n_estimators:  200\n",
      "bootstrap:  False\n",
      "max_features:  log2\n"
     ]
    },
    {
     "name": "stderr",
     "output_type": "stream",
     "text": [
      "/anaconda3/lib/python3.6/site-packages/ipykernel_launcher.py:8: DataConversionWarning: A column-vector y was passed when a 1d array was expected. Please change the shape of y to (n_samples,), for example using ravel().\n",
      "  \n"
     ]
    },
    {
     "name": "stdout",
     "output_type": "stream",
     "text": [
      "R^2 score:  0.5694326249438135\n",
      "\n",
      "\n",
      "n_estimators:  250\n",
      "bootstrap:  True\n",
      "max_features:  auto\n"
     ]
    },
    {
     "name": "stderr",
     "output_type": "stream",
     "text": [
      "/anaconda3/lib/python3.6/site-packages/ipykernel_launcher.py:8: DataConversionWarning: A column-vector y was passed when a 1d array was expected. Please change the shape of y to (n_samples,), for example using ravel().\n",
      "  \n"
     ]
    },
    {
     "name": "stdout",
     "output_type": "stream",
     "text": [
      "R^2 score:  0.7500685780133036\n",
      "\n",
      "\n",
      "n_estimators:  250\n",
      "bootstrap:  True\n",
      "max_features:  log2\n"
     ]
    },
    {
     "name": "stderr",
     "output_type": "stream",
     "text": [
      "/anaconda3/lib/python3.6/site-packages/ipykernel_launcher.py:8: DataConversionWarning: A column-vector y was passed when a 1d array was expected. Please change the shape of y to (n_samples,), for example using ravel().\n",
      "  \n"
     ]
    },
    {
     "name": "stdout",
     "output_type": "stream",
     "text": [
      "R^2 score:  0.5550232622495987\n",
      "\n",
      "\n",
      "n_estimators:  250\n",
      "bootstrap:  False\n",
      "max_features:  auto\n"
     ]
    },
    {
     "name": "stderr",
     "output_type": "stream",
     "text": [
      "/anaconda3/lib/python3.6/site-packages/ipykernel_launcher.py:8: DataConversionWarning: A column-vector y was passed when a 1d array was expected. Please change the shape of y to (n_samples,), for example using ravel().\n",
      "  \n"
     ]
    },
    {
     "name": "stdout",
     "output_type": "stream",
     "text": [
      "R^2 score:  0.6391818214590649\n",
      "\n",
      "\n",
      "n_estimators:  250\n",
      "bootstrap:  False\n",
      "max_features:  log2\n"
     ]
    },
    {
     "name": "stderr",
     "output_type": "stream",
     "text": [
      "/anaconda3/lib/python3.6/site-packages/ipykernel_launcher.py:8: DataConversionWarning: A column-vector y was passed when a 1d array was expected. Please change the shape of y to (n_samples,), for example using ravel().\n",
      "  \n"
     ]
    },
    {
     "name": "stdout",
     "output_type": "stream",
     "text": [
      "R^2 score:  0.5641715678460855\n",
      "\n",
      "\n",
      "n_estimators:  500\n",
      "bootstrap:  True\n",
      "max_features:  auto\n"
     ]
    },
    {
     "name": "stderr",
     "output_type": "stream",
     "text": [
      "/anaconda3/lib/python3.6/site-packages/ipykernel_launcher.py:8: DataConversionWarning: A column-vector y was passed when a 1d array was expected. Please change the shape of y to (n_samples,), for example using ravel().\n",
      "  \n"
     ]
    },
    {
     "name": "stdout",
     "output_type": "stream",
     "text": [
      "R^2 score:  0.7524877321810686\n",
      "\n",
      "\n",
      "n_estimators:  500\n",
      "bootstrap:  True\n",
      "max_features:  log2\n"
     ]
    },
    {
     "name": "stderr",
     "output_type": "stream",
     "text": [
      "/anaconda3/lib/python3.6/site-packages/ipykernel_launcher.py:8: DataConversionWarning: A column-vector y was passed when a 1d array was expected. Please change the shape of y to (n_samples,), for example using ravel().\n",
      "  \n"
     ]
    },
    {
     "name": "stdout",
     "output_type": "stream",
     "text": [
      "R^2 score:  0.5562720971662445\n",
      "\n",
      "\n",
      "n_estimators:  500\n",
      "bootstrap:  False\n",
      "max_features:  auto\n"
     ]
    },
    {
     "name": "stderr",
     "output_type": "stream",
     "text": [
      "/anaconda3/lib/python3.6/site-packages/ipykernel_launcher.py:8: DataConversionWarning: A column-vector y was passed when a 1d array was expected. Please change the shape of y to (n_samples,), for example using ravel().\n",
      "  \n"
     ]
    },
    {
     "name": "stdout",
     "output_type": "stream",
     "text": [
      "R^2 score:  0.6405953463974056\n",
      "\n",
      "\n",
      "n_estimators:  500\n",
      "bootstrap:  False\n",
      "max_features:  log2\n"
     ]
    },
    {
     "name": "stderr",
     "output_type": "stream",
     "text": [
      "/anaconda3/lib/python3.6/site-packages/ipykernel_launcher.py:8: DataConversionWarning: A column-vector y was passed when a 1d array was expected. Please change the shape of y to (n_samples,), for example using ravel().\n",
      "  \n"
     ]
    },
    {
     "name": "stdout",
     "output_type": "stream",
     "text": [
      "R^2 score:  0.5731891906312618\n",
      "\n",
      "\n",
      "Round  1\n",
      "\n",
      "\n",
      "n_estimators:  10\n",
      "bootstrap:  True\n",
      "max_features:  auto\n"
     ]
    },
    {
     "name": "stderr",
     "output_type": "stream",
     "text": [
      "/anaconda3/lib/python3.6/site-packages/ipykernel_launcher.py:8: DataConversionWarning: A column-vector y was passed when a 1d array was expected. Please change the shape of y to (n_samples,), for example using ravel().\n",
      "  \n"
     ]
    },
    {
     "name": "stdout",
     "output_type": "stream",
     "text": [
      "R^2 score:  0.7244394887593681\n",
      "\n",
      "\n",
      "n_estimators:  10\n",
      "bootstrap:  True\n",
      "max_features:  log2\n"
     ]
    },
    {
     "name": "stderr",
     "output_type": "stream",
     "text": [
      "/anaconda3/lib/python3.6/site-packages/ipykernel_launcher.py:8: DataConversionWarning: A column-vector y was passed when a 1d array was expected. Please change the shape of y to (n_samples,), for example using ravel().\n",
      "  \n"
     ]
    },
    {
     "name": "stdout",
     "output_type": "stream",
     "text": [
      "R^2 score:  0.458011444956097\n",
      "\n",
      "\n",
      "n_estimators:  10\n",
      "bootstrap:  False\n",
      "max_features:  auto\n"
     ]
    },
    {
     "name": "stderr",
     "output_type": "stream",
     "text": [
      "/anaconda3/lib/python3.6/site-packages/ipykernel_launcher.py:8: DataConversionWarning: A column-vector y was passed when a 1d array was expected. Please change the shape of y to (n_samples,), for example using ravel().\n",
      "  \n"
     ]
    },
    {
     "name": "stdout",
     "output_type": "stream",
     "text": [
      "R^2 score:  0.6408720459670421\n",
      "\n",
      "\n",
      "n_estimators:  10\n",
      "bootstrap:  False\n",
      "max_features:  log2\n"
     ]
    },
    {
     "name": "stderr",
     "output_type": "stream",
     "text": [
      "/anaconda3/lib/python3.6/site-packages/ipykernel_launcher.py:8: DataConversionWarning: A column-vector y was passed when a 1d array was expected. Please change the shape of y to (n_samples,), for example using ravel().\n",
      "  \n"
     ]
    },
    {
     "name": "stdout",
     "output_type": "stream",
     "text": [
      "R^2 score:  0.5282995709110889\n",
      "\n",
      "\n",
      "n_estimators:  50\n",
      "bootstrap:  True\n",
      "max_features:  auto\n"
     ]
    },
    {
     "name": "stderr",
     "output_type": "stream",
     "text": [
      "/anaconda3/lib/python3.6/site-packages/ipykernel_launcher.py:8: DataConversionWarning: A column-vector y was passed when a 1d array was expected. Please change the shape of y to (n_samples,), for example using ravel().\n",
      "  \n"
     ]
    },
    {
     "name": "stdout",
     "output_type": "stream",
     "text": [
      "R^2 score:  0.7443171385460083\n",
      "\n",
      "\n",
      "n_estimators:  50\n",
      "bootstrap:  True\n",
      "max_features:  log2\n"
     ]
    },
    {
     "name": "stderr",
     "output_type": "stream",
     "text": [
      "/anaconda3/lib/python3.6/site-packages/ipykernel_launcher.py:8: DataConversionWarning: A column-vector y was passed when a 1d array was expected. Please change the shape of y to (n_samples,), for example using ravel().\n",
      "  \n"
     ]
    },
    {
     "name": "stdout",
     "output_type": "stream",
     "text": [
      "R^2 score:  0.5515350686118419\n",
      "\n",
      "\n",
      "n_estimators:  50\n",
      "bootstrap:  False\n",
      "max_features:  auto\n"
     ]
    },
    {
     "name": "stderr",
     "output_type": "stream",
     "text": [
      "/anaconda3/lib/python3.6/site-packages/ipykernel_launcher.py:8: DataConversionWarning: A column-vector y was passed when a 1d array was expected. Please change the shape of y to (n_samples,), for example using ravel().\n",
      "  \n"
     ]
    },
    {
     "name": "stdout",
     "output_type": "stream",
     "text": [
      "R^2 score:  0.638319211864538\n",
      "\n",
      "\n",
      "n_estimators:  50\n",
      "bootstrap:  False\n",
      "max_features:  log2\n"
     ]
    },
    {
     "name": "stderr",
     "output_type": "stream",
     "text": [
      "/anaconda3/lib/python3.6/site-packages/ipykernel_launcher.py:8: DataConversionWarning: A column-vector y was passed when a 1d array was expected. Please change the shape of y to (n_samples,), for example using ravel().\n",
      "  \n"
     ]
    },
    {
     "name": "stdout",
     "output_type": "stream",
     "text": [
      "R^2 score:  0.5534400575181664\n",
      "\n",
      "\n",
      "n_estimators:  100\n",
      "bootstrap:  True\n",
      "max_features:  auto\n"
     ]
    },
    {
     "name": "stderr",
     "output_type": "stream",
     "text": [
      "/anaconda3/lib/python3.6/site-packages/ipykernel_launcher.py:8: DataConversionWarning: A column-vector y was passed when a 1d array was expected. Please change the shape of y to (n_samples,), for example using ravel().\n",
      "  \n"
     ]
    },
    {
     "name": "stdout",
     "output_type": "stream",
     "text": [
      "R^2 score:  0.7454324773495858\n",
      "\n",
      "\n",
      "n_estimators:  100\n",
      "bootstrap:  True\n",
      "max_features:  log2\n"
     ]
    },
    {
     "name": "stderr",
     "output_type": "stream",
     "text": [
      "/anaconda3/lib/python3.6/site-packages/ipykernel_launcher.py:8: DataConversionWarning: A column-vector y was passed when a 1d array was expected. Please change the shape of y to (n_samples,), for example using ravel().\n",
      "  \n"
     ]
    },
    {
     "name": "stdout",
     "output_type": "stream",
     "text": [
      "R^2 score:  0.5504185751786873\n",
      "\n",
      "\n",
      "n_estimators:  100\n",
      "bootstrap:  False\n",
      "max_features:  auto\n"
     ]
    },
    {
     "name": "stderr",
     "output_type": "stream",
     "text": [
      "/anaconda3/lib/python3.6/site-packages/ipykernel_launcher.py:8: DataConversionWarning: A column-vector y was passed when a 1d array was expected. Please change the shape of y to (n_samples,), for example using ravel().\n",
      "  \n"
     ]
    },
    {
     "name": "stdout",
     "output_type": "stream",
     "text": [
      "R^2 score:  0.6378281776862225\n",
      "\n",
      "\n",
      "n_estimators:  100\n",
      "bootstrap:  False\n",
      "max_features:  log2\n"
     ]
    },
    {
     "name": "stderr",
     "output_type": "stream",
     "text": [
      "/anaconda3/lib/python3.6/site-packages/ipykernel_launcher.py:8: DataConversionWarning: A column-vector y was passed when a 1d array was expected. Please change the shape of y to (n_samples,), for example using ravel().\n",
      "  \n"
     ]
    },
    {
     "name": "stdout",
     "output_type": "stream",
     "text": [
      "R^2 score:  0.5660246745021885\n",
      "\n",
      "\n",
      "n_estimators:  150\n",
      "bootstrap:  True\n",
      "max_features:  auto\n"
     ]
    },
    {
     "name": "stderr",
     "output_type": "stream",
     "text": [
      "/anaconda3/lib/python3.6/site-packages/ipykernel_launcher.py:8: DataConversionWarning: A column-vector y was passed when a 1d array was expected. Please change the shape of y to (n_samples,), for example using ravel().\n",
      "  \n"
     ]
    },
    {
     "name": "stdout",
     "output_type": "stream",
     "text": [
      "R^2 score:  0.7462595421323873\n",
      "\n",
      "\n",
      "n_estimators:  150\n",
      "bootstrap:  True\n",
      "max_features:  log2\n"
     ]
    },
    {
     "name": "stderr",
     "output_type": "stream",
     "text": [
      "/anaconda3/lib/python3.6/site-packages/ipykernel_launcher.py:8: DataConversionWarning: A column-vector y was passed when a 1d array was expected. Please change the shape of y to (n_samples,), for example using ravel().\n",
      "  \n"
     ]
    },
    {
     "name": "stdout",
     "output_type": "stream",
     "text": [
      "R^2 score:  0.5544920821406409\n",
      "\n",
      "\n",
      "n_estimators:  150\n",
      "bootstrap:  False\n",
      "max_features:  auto\n"
     ]
    },
    {
     "name": "stderr",
     "output_type": "stream",
     "text": [
      "/anaconda3/lib/python3.6/site-packages/ipykernel_launcher.py:8: DataConversionWarning: A column-vector y was passed when a 1d array was expected. Please change the shape of y to (n_samples,), for example using ravel().\n",
      "  \n"
     ]
    },
    {
     "name": "stdout",
     "output_type": "stream",
     "text": [
      "R^2 score:  0.6393771772509911\n",
      "\n",
      "\n",
      "n_estimators:  150\n",
      "bootstrap:  False\n",
      "max_features:  log2\n"
     ]
    },
    {
     "name": "stderr",
     "output_type": "stream",
     "text": [
      "/anaconda3/lib/python3.6/site-packages/ipykernel_launcher.py:8: DataConversionWarning: A column-vector y was passed when a 1d array was expected. Please change the shape of y to (n_samples,), for example using ravel().\n",
      "  \n"
     ]
    },
    {
     "name": "stdout",
     "output_type": "stream",
     "text": [
      "R^2 score:  0.5723989976760023\n",
      "\n",
      "\n",
      "n_estimators:  200\n",
      "bootstrap:  True\n",
      "max_features:  auto\n"
     ]
    },
    {
     "name": "stderr",
     "output_type": "stream",
     "text": [
      "/anaconda3/lib/python3.6/site-packages/ipykernel_launcher.py:8: DataConversionWarning: A column-vector y was passed when a 1d array was expected. Please change the shape of y to (n_samples,), for example using ravel().\n",
      "  \n"
     ]
    },
    {
     "name": "stdout",
     "output_type": "stream",
     "text": [
      "R^2 score:  0.7475418802524028\n",
      "\n",
      "\n",
      "n_estimators:  200\n",
      "bootstrap:  True\n",
      "max_features:  log2\n"
     ]
    },
    {
     "name": "stderr",
     "output_type": "stream",
     "text": [
      "/anaconda3/lib/python3.6/site-packages/ipykernel_launcher.py:8: DataConversionWarning: A column-vector y was passed when a 1d array was expected. Please change the shape of y to (n_samples,), for example using ravel().\n",
      "  \n"
     ]
    },
    {
     "name": "stdout",
     "output_type": "stream",
     "text": [
      "R^2 score:  0.5620783429407983\n",
      "\n",
      "\n",
      "n_estimators:  200\n",
      "bootstrap:  False\n",
      "max_features:  auto\n"
     ]
    },
    {
     "name": "stderr",
     "output_type": "stream",
     "text": [
      "/anaconda3/lib/python3.6/site-packages/ipykernel_launcher.py:8: DataConversionWarning: A column-vector y was passed when a 1d array was expected. Please change the shape of y to (n_samples,), for example using ravel().\n",
      "  \n"
     ]
    },
    {
     "name": "stdout",
     "output_type": "stream",
     "text": [
      "R^2 score:  0.6398871700540363\n",
      "\n",
      "\n",
      "n_estimators:  200\n",
      "bootstrap:  False\n",
      "max_features:  log2\n"
     ]
    },
    {
     "name": "stderr",
     "output_type": "stream",
     "text": [
      "/anaconda3/lib/python3.6/site-packages/ipykernel_launcher.py:8: DataConversionWarning: A column-vector y was passed when a 1d array was expected. Please change the shape of y to (n_samples,), for example using ravel().\n",
      "  \n"
     ]
    },
    {
     "name": "stdout",
     "output_type": "stream",
     "text": [
      "R^2 score:  0.5651784657060768\n",
      "\n",
      "\n",
      "n_estimators:  250\n",
      "bootstrap:  True\n",
      "max_features:  auto\n"
     ]
    },
    {
     "name": "stderr",
     "output_type": "stream",
     "text": [
      "/anaconda3/lib/python3.6/site-packages/ipykernel_launcher.py:8: DataConversionWarning: A column-vector y was passed when a 1d array was expected. Please change the shape of y to (n_samples,), for example using ravel().\n",
      "  \n"
     ]
    },
    {
     "name": "stdout",
     "output_type": "stream",
     "text": [
      "R^2 score:  0.7497250213013322\n",
      "\n",
      "\n",
      "n_estimators:  250\n",
      "bootstrap:  True\n",
      "max_features:  log2\n"
     ]
    },
    {
     "name": "stderr",
     "output_type": "stream",
     "text": [
      "/anaconda3/lib/python3.6/site-packages/ipykernel_launcher.py:8: DataConversionWarning: A column-vector y was passed when a 1d array was expected. Please change the shape of y to (n_samples,), for example using ravel().\n",
      "  \n"
     ]
    },
    {
     "name": "stdout",
     "output_type": "stream",
     "text": [
      "R^2 score:  0.5548600301291491\n",
      "\n",
      "\n",
      "n_estimators:  250\n",
      "bootstrap:  False\n",
      "max_features:  auto\n"
     ]
    },
    {
     "name": "stderr",
     "output_type": "stream",
     "text": [
      "/anaconda3/lib/python3.6/site-packages/ipykernel_launcher.py:8: DataConversionWarning: A column-vector y was passed when a 1d array was expected. Please change the shape of y to (n_samples,), for example using ravel().\n",
      "  \n"
     ]
    },
    {
     "name": "stdout",
     "output_type": "stream",
     "text": [
      "R^2 score:  0.638787938696024\n",
      "\n",
      "\n",
      "n_estimators:  250\n",
      "bootstrap:  False\n",
      "max_features:  log2\n"
     ]
    },
    {
     "name": "stderr",
     "output_type": "stream",
     "text": [
      "/anaconda3/lib/python3.6/site-packages/ipykernel_launcher.py:8: DataConversionWarning: A column-vector y was passed when a 1d array was expected. Please change the shape of y to (n_samples,), for example using ravel().\n",
      "  \n"
     ]
    },
    {
     "name": "stdout",
     "output_type": "stream",
     "text": [
      "R^2 score:  0.5664833912126135\n",
      "\n",
      "\n",
      "n_estimators:  500\n",
      "bootstrap:  True\n",
      "max_features:  auto\n"
     ]
    },
    {
     "name": "stderr",
     "output_type": "stream",
     "text": [
      "/anaconda3/lib/python3.6/site-packages/ipykernel_launcher.py:8: DataConversionWarning: A column-vector y was passed when a 1d array was expected. Please change the shape of y to (n_samples,), for example using ravel().\n",
      "  \n"
     ]
    },
    {
     "name": "stdout",
     "output_type": "stream",
     "text": [
      "R^2 score:  0.7509573634827984\n",
      "\n",
      "\n",
      "n_estimators:  500\n",
      "bootstrap:  True\n",
      "max_features:  log2\n"
     ]
    },
    {
     "name": "stderr",
     "output_type": "stream",
     "text": [
      "/anaconda3/lib/python3.6/site-packages/ipykernel_launcher.py:8: DataConversionWarning: A column-vector y was passed when a 1d array was expected. Please change the shape of y to (n_samples,), for example using ravel().\n",
      "  \n"
     ]
    },
    {
     "name": "stdout",
     "output_type": "stream",
     "text": [
      "R^2 score:  0.5549397841788446\n",
      "\n",
      "\n",
      "n_estimators:  500\n",
      "bootstrap:  False\n",
      "max_features:  auto\n"
     ]
    },
    {
     "name": "stderr",
     "output_type": "stream",
     "text": [
      "/anaconda3/lib/python3.6/site-packages/ipykernel_launcher.py:8: DataConversionWarning: A column-vector y was passed when a 1d array was expected. Please change the shape of y to (n_samples,), for example using ravel().\n",
      "  \n"
     ]
    },
    {
     "name": "stdout",
     "output_type": "stream",
     "text": [
      "R^2 score:  0.6402783356782995\n",
      "\n",
      "\n",
      "n_estimators:  500\n",
      "bootstrap:  False\n",
      "max_features:  log2\n"
     ]
    },
    {
     "name": "stderr",
     "output_type": "stream",
     "text": [
      "/anaconda3/lib/python3.6/site-packages/ipykernel_launcher.py:8: DataConversionWarning: A column-vector y was passed when a 1d array was expected. Please change the shape of y to (n_samples,), for example using ravel().\n",
      "  \n"
     ]
    },
    {
     "name": "stdout",
     "output_type": "stream",
     "text": [
      "R^2 score:  0.5693285078807224\n",
      "\n",
      "\n",
      "Round  2\n",
      "\n",
      "\n",
      "n_estimators:  10\n",
      "bootstrap:  True\n",
      "max_features:  auto\n"
     ]
    },
    {
     "name": "stderr",
     "output_type": "stream",
     "text": [
      "/anaconda3/lib/python3.6/site-packages/ipykernel_launcher.py:8: DataConversionWarning: A column-vector y was passed when a 1d array was expected. Please change the shape of y to (n_samples,), for example using ravel().\n",
      "  \n"
     ]
    },
    {
     "name": "stdout",
     "output_type": "stream",
     "text": [
      "R^2 score:  0.7397861464455411\n",
      "\n",
      "\n",
      "n_estimators:  10\n",
      "bootstrap:  True\n",
      "max_features:  log2\n"
     ]
    },
    {
     "name": "stderr",
     "output_type": "stream",
     "text": [
      "/anaconda3/lib/python3.6/site-packages/ipykernel_launcher.py:8: DataConversionWarning: A column-vector y was passed when a 1d array was expected. Please change the shape of y to (n_samples,), for example using ravel().\n",
      "  \n"
     ]
    },
    {
     "name": "stdout",
     "output_type": "stream",
     "text": [
      "R^2 score:  0.4975132063567123\n",
      "\n",
      "\n",
      "n_estimators:  10\n",
      "bootstrap:  False\n",
      "max_features:  auto\n"
     ]
    },
    {
     "name": "stderr",
     "output_type": "stream",
     "text": [
      "/anaconda3/lib/python3.6/site-packages/ipykernel_launcher.py:8: DataConversionWarning: A column-vector y was passed when a 1d array was expected. Please change the shape of y to (n_samples,), for example using ravel().\n",
      "  \n"
     ]
    },
    {
     "name": "stdout",
     "output_type": "stream",
     "text": [
      "R^2 score:  0.6377661147084543\n",
      "\n",
      "\n",
      "n_estimators:  10\n",
      "bootstrap:  False\n",
      "max_features:  log2\n"
     ]
    },
    {
     "name": "stderr",
     "output_type": "stream",
     "text": [
      "/anaconda3/lib/python3.6/site-packages/ipykernel_launcher.py:8: DataConversionWarning: A column-vector y was passed when a 1d array was expected. Please change the shape of y to (n_samples,), for example using ravel().\n",
      "  \n"
     ]
    },
    {
     "name": "stdout",
     "output_type": "stream",
     "text": [
      "R^2 score:  0.5367081170494925\n",
      "\n",
      "\n",
      "n_estimators:  50\n",
      "bootstrap:  True\n",
      "max_features:  auto\n"
     ]
    },
    {
     "name": "stderr",
     "output_type": "stream",
     "text": [
      "/anaconda3/lib/python3.6/site-packages/ipykernel_launcher.py:8: DataConversionWarning: A column-vector y was passed when a 1d array was expected. Please change the shape of y to (n_samples,), for example using ravel().\n",
      "  \n"
     ]
    },
    {
     "name": "stdout",
     "output_type": "stream",
     "text": [
      "R^2 score:  0.7427596126961027\n",
      "\n",
      "\n",
      "n_estimators:  50\n",
      "bootstrap:  True\n",
      "max_features:  log2\n"
     ]
    },
    {
     "name": "stderr",
     "output_type": "stream",
     "text": [
      "/anaconda3/lib/python3.6/site-packages/ipykernel_launcher.py:8: DataConversionWarning: A column-vector y was passed when a 1d array was expected. Please change the shape of y to (n_samples,), for example using ravel().\n",
      "  \n"
     ]
    },
    {
     "name": "stdout",
     "output_type": "stream",
     "text": [
      "R^2 score:  0.5655027107818515\n",
      "\n",
      "\n",
      "n_estimators:  50\n",
      "bootstrap:  False\n",
      "max_features:  auto\n"
     ]
    },
    {
     "name": "stderr",
     "output_type": "stream",
     "text": [
      "/anaconda3/lib/python3.6/site-packages/ipykernel_launcher.py:8: DataConversionWarning: A column-vector y was passed when a 1d array was expected. Please change the shape of y to (n_samples,), for example using ravel().\n",
      "  \n"
     ]
    },
    {
     "name": "stdout",
     "output_type": "stream",
     "text": [
      "R^2 score:  0.6366672306097734\n",
      "\n",
      "\n",
      "n_estimators:  50\n",
      "bootstrap:  False\n",
      "max_features:  log2\n"
     ]
    },
    {
     "name": "stderr",
     "output_type": "stream",
     "text": [
      "/anaconda3/lib/python3.6/site-packages/ipykernel_launcher.py:8: DataConversionWarning: A column-vector y was passed when a 1d array was expected. Please change the shape of y to (n_samples,), for example using ravel().\n",
      "  \n"
     ]
    },
    {
     "name": "stdout",
     "output_type": "stream",
     "text": [
      "R^2 score:  0.5616009732042189\n",
      "\n",
      "\n",
      "n_estimators:  100\n",
      "bootstrap:  True\n",
      "max_features:  auto\n"
     ]
    },
    {
     "name": "stderr",
     "output_type": "stream",
     "text": [
      "/anaconda3/lib/python3.6/site-packages/ipykernel_launcher.py:8: DataConversionWarning: A column-vector y was passed when a 1d array was expected. Please change the shape of y to (n_samples,), for example using ravel().\n",
      "  \n"
     ]
    },
    {
     "name": "stdout",
     "output_type": "stream",
     "text": [
      "R^2 score:  0.7489115328606577\n",
      "\n",
      "\n",
      "n_estimators:  100\n",
      "bootstrap:  True\n",
      "max_features:  log2\n"
     ]
    },
    {
     "name": "stderr",
     "output_type": "stream",
     "text": [
      "/anaconda3/lib/python3.6/site-packages/ipykernel_launcher.py:8: DataConversionWarning: A column-vector y was passed when a 1d array was expected. Please change the shape of y to (n_samples,), for example using ravel().\n",
      "  \n"
     ]
    },
    {
     "name": "stdout",
     "output_type": "stream",
     "text": [
      "R^2 score:  0.5684787072200437\n",
      "\n",
      "\n",
      "n_estimators:  100\n",
      "bootstrap:  False\n",
      "max_features:  auto\n"
     ]
    },
    {
     "name": "stderr",
     "output_type": "stream",
     "text": [
      "/anaconda3/lib/python3.6/site-packages/ipykernel_launcher.py:8: DataConversionWarning: A column-vector y was passed when a 1d array was expected. Please change the shape of y to (n_samples,), for example using ravel().\n",
      "  \n"
     ]
    },
    {
     "name": "stdout",
     "output_type": "stream",
     "text": [
      "R^2 score:  0.6392063297452251\n",
      "\n",
      "\n",
      "n_estimators:  100\n",
      "bootstrap:  False\n",
      "max_features:  log2\n"
     ]
    },
    {
     "name": "stderr",
     "output_type": "stream",
     "text": [
      "/anaconda3/lib/python3.6/site-packages/ipykernel_launcher.py:8: DataConversionWarning: A column-vector y was passed when a 1d array was expected. Please change the shape of y to (n_samples,), for example using ravel().\n",
      "  \n"
     ]
    },
    {
     "name": "stdout",
     "output_type": "stream",
     "text": [
      "R^2 score:  0.548059605055513\n",
      "\n",
      "\n",
      "n_estimators:  150\n",
      "bootstrap:  True\n",
      "max_features:  auto\n"
     ]
    },
    {
     "name": "stderr",
     "output_type": "stream",
     "text": [
      "/anaconda3/lib/python3.6/site-packages/ipykernel_launcher.py:8: DataConversionWarning: A column-vector y was passed when a 1d array was expected. Please change the shape of y to (n_samples,), for example using ravel().\n",
      "  \n"
     ]
    },
    {
     "name": "stdout",
     "output_type": "stream",
     "text": [
      "R^2 score:  0.7508776001110324\n",
      "\n",
      "\n",
      "n_estimators:  150\n",
      "bootstrap:  True\n",
      "max_features:  log2\n"
     ]
    },
    {
     "name": "stderr",
     "output_type": "stream",
     "text": [
      "/anaconda3/lib/python3.6/site-packages/ipykernel_launcher.py:8: DataConversionWarning: A column-vector y was passed when a 1d array was expected. Please change the shape of y to (n_samples,), for example using ravel().\n",
      "  \n"
     ]
    },
    {
     "name": "stdout",
     "output_type": "stream",
     "text": [
      "R^2 score:  0.5447868794365414\n",
      "\n",
      "\n",
      "n_estimators:  150\n",
      "bootstrap:  False\n",
      "max_features:  auto\n"
     ]
    },
    {
     "name": "stderr",
     "output_type": "stream",
     "text": [
      "/anaconda3/lib/python3.6/site-packages/ipykernel_launcher.py:8: DataConversionWarning: A column-vector y was passed when a 1d array was expected. Please change the shape of y to (n_samples,), for example using ravel().\n",
      "  \n"
     ]
    },
    {
     "name": "stdout",
     "output_type": "stream",
     "text": [
      "R^2 score:  0.6403309992442886\n",
      "\n",
      "\n",
      "n_estimators:  150\n",
      "bootstrap:  False\n",
      "max_features:  log2\n"
     ]
    },
    {
     "name": "stderr",
     "output_type": "stream",
     "text": [
      "/anaconda3/lib/python3.6/site-packages/ipykernel_launcher.py:8: DataConversionWarning: A column-vector y was passed when a 1d array was expected. Please change the shape of y to (n_samples,), for example using ravel().\n",
      "  \n"
     ]
    },
    {
     "name": "stdout",
     "output_type": "stream",
     "text": [
      "R^2 score:  0.5675245747801014\n",
      "\n",
      "\n",
      "n_estimators:  200\n",
      "bootstrap:  True\n",
      "max_features:  auto\n"
     ]
    },
    {
     "name": "stderr",
     "output_type": "stream",
     "text": [
      "/anaconda3/lib/python3.6/site-packages/ipykernel_launcher.py:8: DataConversionWarning: A column-vector y was passed when a 1d array was expected. Please change the shape of y to (n_samples,), for example using ravel().\n",
      "  \n"
     ]
    },
    {
     "name": "stdout",
     "output_type": "stream",
     "text": [
      "R^2 score:  0.7504651059306308\n",
      "\n",
      "\n",
      "n_estimators:  200\n",
      "bootstrap:  True\n",
      "max_features:  log2\n"
     ]
    },
    {
     "name": "stderr",
     "output_type": "stream",
     "text": [
      "/anaconda3/lib/python3.6/site-packages/ipykernel_launcher.py:8: DataConversionWarning: A column-vector y was passed when a 1d array was expected. Please change the shape of y to (n_samples,), for example using ravel().\n",
      "  \n"
     ]
    },
    {
     "name": "stdout",
     "output_type": "stream",
     "text": [
      "R^2 score:  0.552689120793664\n",
      "\n",
      "\n",
      "n_estimators:  200\n",
      "bootstrap:  False\n",
      "max_features:  auto\n"
     ]
    },
    {
     "name": "stderr",
     "output_type": "stream",
     "text": [
      "/anaconda3/lib/python3.6/site-packages/ipykernel_launcher.py:8: DataConversionWarning: A column-vector y was passed when a 1d array was expected. Please change the shape of y to (n_samples,), for example using ravel().\n",
      "  \n"
     ]
    },
    {
     "name": "stdout",
     "output_type": "stream",
     "text": [
      "R^2 score:  0.6391377909759981\n",
      "\n",
      "\n",
      "n_estimators:  200\n",
      "bootstrap:  False\n",
      "max_features:  log2\n"
     ]
    },
    {
     "name": "stderr",
     "output_type": "stream",
     "text": [
      "/anaconda3/lib/python3.6/site-packages/ipykernel_launcher.py:8: DataConversionWarning: A column-vector y was passed when a 1d array was expected. Please change the shape of y to (n_samples,), for example using ravel().\n",
      "  \n"
     ]
    },
    {
     "name": "stdout",
     "output_type": "stream",
     "text": [
      "R^2 score:  0.5662120638050789\n",
      "\n",
      "\n",
      "n_estimators:  250\n",
      "bootstrap:  True\n",
      "max_features:  auto\n"
     ]
    },
    {
     "name": "stderr",
     "output_type": "stream",
     "text": [
      "/anaconda3/lib/python3.6/site-packages/ipykernel_launcher.py:8: DataConversionWarning: A column-vector y was passed when a 1d array was expected. Please change the shape of y to (n_samples,), for example using ravel().\n",
      "  \n"
     ]
    },
    {
     "name": "stdout",
     "output_type": "stream",
     "text": [
      "R^2 score:  0.7496773238775428\n",
      "\n",
      "\n",
      "n_estimators:  250\n",
      "bootstrap:  True\n",
      "max_features:  log2\n"
     ]
    },
    {
     "name": "stderr",
     "output_type": "stream",
     "text": [
      "/anaconda3/lib/python3.6/site-packages/ipykernel_launcher.py:8: DataConversionWarning: A column-vector y was passed when a 1d array was expected. Please change the shape of y to (n_samples,), for example using ravel().\n",
      "  \n"
     ]
    },
    {
     "name": "stdout",
     "output_type": "stream",
     "text": [
      "R^2 score:  0.5559852819880571\n",
      "\n",
      "\n",
      "n_estimators:  250\n",
      "bootstrap:  False\n",
      "max_features:  auto\n"
     ]
    },
    {
     "name": "stderr",
     "output_type": "stream",
     "text": [
      "/anaconda3/lib/python3.6/site-packages/ipykernel_launcher.py:8: DataConversionWarning: A column-vector y was passed when a 1d array was expected. Please change the shape of y to (n_samples,), for example using ravel().\n",
      "  \n"
     ]
    },
    {
     "name": "stdout",
     "output_type": "stream",
     "text": [
      "R^2 score:  0.638363785850929\n",
      "\n",
      "\n",
      "n_estimators:  250\n",
      "bootstrap:  False\n",
      "max_features:  log2\n"
     ]
    },
    {
     "name": "stderr",
     "output_type": "stream",
     "text": [
      "/anaconda3/lib/python3.6/site-packages/ipykernel_launcher.py:8: DataConversionWarning: A column-vector y was passed when a 1d array was expected. Please change the shape of y to (n_samples,), for example using ravel().\n",
      "  \n"
     ]
    },
    {
     "name": "stdout",
     "output_type": "stream",
     "text": [
      "R^2 score:  0.5668981147916907\n",
      "\n",
      "\n",
      "n_estimators:  500\n",
      "bootstrap:  True\n",
      "max_features:  auto\n"
     ]
    },
    {
     "name": "stderr",
     "output_type": "stream",
     "text": [
      "/anaconda3/lib/python3.6/site-packages/ipykernel_launcher.py:8: DataConversionWarning: A column-vector y was passed when a 1d array was expected. Please change the shape of y to (n_samples,), for example using ravel().\n",
      "  \n"
     ]
    },
    {
     "name": "stdout",
     "output_type": "stream",
     "text": [
      "R^2 score:  0.750701850134384\n",
      "\n",
      "\n",
      "n_estimators:  500\n",
      "bootstrap:  True\n",
      "max_features:  log2\n"
     ]
    },
    {
     "name": "stderr",
     "output_type": "stream",
     "text": [
      "/anaconda3/lib/python3.6/site-packages/ipykernel_launcher.py:8: DataConversionWarning: A column-vector y was passed when a 1d array was expected. Please change the shape of y to (n_samples,), for example using ravel().\n",
      "  \n"
     ]
    },
    {
     "name": "stdout",
     "output_type": "stream",
     "text": [
      "R^2 score:  0.5596524395188396\n",
      "\n",
      "\n",
      "n_estimators:  500\n",
      "bootstrap:  False\n",
      "max_features:  auto\n"
     ]
    },
    {
     "name": "stderr",
     "output_type": "stream",
     "text": [
      "/anaconda3/lib/python3.6/site-packages/ipykernel_launcher.py:8: DataConversionWarning: A column-vector y was passed when a 1d array was expected. Please change the shape of y to (n_samples,), for example using ravel().\n",
      "  \n"
     ]
    },
    {
     "name": "stdout",
     "output_type": "stream",
     "text": [
      "R^2 score:  0.6393435844848762\n",
      "\n",
      "\n",
      "n_estimators:  500\n",
      "bootstrap:  False\n",
      "max_features:  log2\n"
     ]
    },
    {
     "name": "stderr",
     "output_type": "stream",
     "text": [
      "/anaconda3/lib/python3.6/site-packages/ipykernel_launcher.py:8: DataConversionWarning: A column-vector y was passed when a 1d array was expected. Please change the shape of y to (n_samples,), for example using ravel().\n",
      "  \n"
     ]
    },
    {
     "name": "stdout",
     "output_type": "stream",
     "text": [
      "R^2 score:  0.5687461868705408\n",
      "\n",
      "\n",
      "Round  3\n",
      "\n",
      "\n",
      "n_estimators:  10\n",
      "bootstrap:  True\n",
      "max_features:  auto\n"
     ]
    },
    {
     "name": "stderr",
     "output_type": "stream",
     "text": [
      "/anaconda3/lib/python3.6/site-packages/ipykernel_launcher.py:8: DataConversionWarning: A column-vector y was passed when a 1d array was expected. Please change the shape of y to (n_samples,), for example using ravel().\n",
      "  \n"
     ]
    },
    {
     "name": "stdout",
     "output_type": "stream",
     "text": [
      "R^2 score:  0.7363693184567439\n",
      "\n",
      "\n",
      "n_estimators:  10\n",
      "bootstrap:  True\n",
      "max_features:  log2\n"
     ]
    },
    {
     "name": "stderr",
     "output_type": "stream",
     "text": [
      "/anaconda3/lib/python3.6/site-packages/ipykernel_launcher.py:8: DataConversionWarning: A column-vector y was passed when a 1d array was expected. Please change the shape of y to (n_samples,), for example using ravel().\n",
      "  \n"
     ]
    },
    {
     "name": "stdout",
     "output_type": "stream",
     "text": [
      "R^2 score:  0.48877708071958115\n",
      "\n",
      "\n",
      "n_estimators:  10\n",
      "bootstrap:  False\n",
      "max_features:  auto\n"
     ]
    },
    {
     "name": "stderr",
     "output_type": "stream",
     "text": [
      "/anaconda3/lib/python3.6/site-packages/ipykernel_launcher.py:8: DataConversionWarning: A column-vector y was passed when a 1d array was expected. Please change the shape of y to (n_samples,), for example using ravel().\n",
      "  \n"
     ]
    },
    {
     "name": "stdout",
     "output_type": "stream",
     "text": [
      "R^2 score:  0.6296797163559207\n",
      "\n",
      "\n",
      "n_estimators:  10\n",
      "bootstrap:  False\n",
      "max_features:  log2\n"
     ]
    },
    {
     "name": "stderr",
     "output_type": "stream",
     "text": [
      "/anaconda3/lib/python3.6/site-packages/ipykernel_launcher.py:8: DataConversionWarning: A column-vector y was passed when a 1d array was expected. Please change the shape of y to (n_samples,), for example using ravel().\n",
      "  \n"
     ]
    },
    {
     "name": "stdout",
     "output_type": "stream",
     "text": [
      "R^2 score:  0.510813013414755\n",
      "\n",
      "\n",
      "n_estimators:  50\n",
      "bootstrap:  True\n",
      "max_features:  auto\n"
     ]
    },
    {
     "name": "stderr",
     "output_type": "stream",
     "text": [
      "/anaconda3/lib/python3.6/site-packages/ipykernel_launcher.py:8: DataConversionWarning: A column-vector y was passed when a 1d array was expected. Please change the shape of y to (n_samples,), for example using ravel().\n",
      "  \n"
     ]
    },
    {
     "name": "stdout",
     "output_type": "stream",
     "text": [
      "R^2 score:  0.7447670933998574\n",
      "\n",
      "\n",
      "n_estimators:  50\n",
      "bootstrap:  True\n",
      "max_features:  log2\n"
     ]
    },
    {
     "name": "stderr",
     "output_type": "stream",
     "text": [
      "/anaconda3/lib/python3.6/site-packages/ipykernel_launcher.py:8: DataConversionWarning: A column-vector y was passed when a 1d array was expected. Please change the shape of y to (n_samples,), for example using ravel().\n",
      "  \n"
     ]
    },
    {
     "name": "stdout",
     "output_type": "stream",
     "text": [
      "R^2 score:  0.5464416675761814\n",
      "\n",
      "\n",
      "n_estimators:  50\n",
      "bootstrap:  False\n",
      "max_features:  auto\n"
     ]
    },
    {
     "name": "stderr",
     "output_type": "stream",
     "text": [
      "/anaconda3/lib/python3.6/site-packages/ipykernel_launcher.py:8: DataConversionWarning: A column-vector y was passed when a 1d array was expected. Please change the shape of y to (n_samples,), for example using ravel().\n",
      "  \n"
     ]
    },
    {
     "name": "stdout",
     "output_type": "stream",
     "text": [
      "R^2 score:  0.6382926086722739\n",
      "\n",
      "\n",
      "n_estimators:  50\n",
      "bootstrap:  False\n",
      "max_features:  log2\n"
     ]
    },
    {
     "name": "stderr",
     "output_type": "stream",
     "text": [
      "/anaconda3/lib/python3.6/site-packages/ipykernel_launcher.py:8: DataConversionWarning: A column-vector y was passed when a 1d array was expected. Please change the shape of y to (n_samples,), for example using ravel().\n",
      "  \n"
     ]
    },
    {
     "name": "stdout",
     "output_type": "stream",
     "text": [
      "R^2 score:  0.5480808723640447\n",
      "\n",
      "\n",
      "n_estimators:  100\n",
      "bootstrap:  True\n",
      "max_features:  auto\n"
     ]
    },
    {
     "name": "stderr",
     "output_type": "stream",
     "text": [
      "/anaconda3/lib/python3.6/site-packages/ipykernel_launcher.py:8: DataConversionWarning: A column-vector y was passed when a 1d array was expected. Please change the shape of y to (n_samples,), for example using ravel().\n",
      "  \n"
     ]
    },
    {
     "name": "stdout",
     "output_type": "stream",
     "text": [
      "R^2 score:  0.7482582105067817\n",
      "\n",
      "\n",
      "n_estimators:  100\n",
      "bootstrap:  True\n",
      "max_features:  log2\n"
     ]
    },
    {
     "name": "stderr",
     "output_type": "stream",
     "text": [
      "/anaconda3/lib/python3.6/site-packages/ipykernel_launcher.py:8: DataConversionWarning: A column-vector y was passed when a 1d array was expected. Please change the shape of y to (n_samples,), for example using ravel().\n",
      "  \n"
     ]
    },
    {
     "name": "stdout",
     "output_type": "stream",
     "text": [
      "R^2 score:  0.5533437885884872\n",
      "\n",
      "\n",
      "n_estimators:  100\n",
      "bootstrap:  False\n",
      "max_features:  auto\n"
     ]
    },
    {
     "name": "stderr",
     "output_type": "stream",
     "text": [
      "/anaconda3/lib/python3.6/site-packages/ipykernel_launcher.py:8: DataConversionWarning: A column-vector y was passed when a 1d array was expected. Please change the shape of y to (n_samples,), for example using ravel().\n",
      "  \n"
     ]
    },
    {
     "name": "stdout",
     "output_type": "stream",
     "text": [
      "R^2 score:  0.6400193260154525\n",
      "\n",
      "\n",
      "n_estimators:  100\n",
      "bootstrap:  False\n",
      "max_features:  log2\n"
     ]
    },
    {
     "name": "stderr",
     "output_type": "stream",
     "text": [
      "/anaconda3/lib/python3.6/site-packages/ipykernel_launcher.py:8: DataConversionWarning: A column-vector y was passed when a 1d array was expected. Please change the shape of y to (n_samples,), for example using ravel().\n",
      "  \n"
     ]
    },
    {
     "name": "stdout",
     "output_type": "stream",
     "text": [
      "R^2 score:  0.5681820606308441\n",
      "\n",
      "\n",
      "n_estimators:  150\n",
      "bootstrap:  True\n",
      "max_features:  auto\n"
     ]
    },
    {
     "name": "stderr",
     "output_type": "stream",
     "text": [
      "/anaconda3/lib/python3.6/site-packages/ipykernel_launcher.py:8: DataConversionWarning: A column-vector y was passed when a 1d array was expected. Please change the shape of y to (n_samples,), for example using ravel().\n",
      "  \n"
     ]
    },
    {
     "name": "stdout",
     "output_type": "stream",
     "text": [
      "R^2 score:  0.7488084623026088\n",
      "\n",
      "\n",
      "n_estimators:  150\n",
      "bootstrap:  True\n",
      "max_features:  log2\n"
     ]
    },
    {
     "name": "stderr",
     "output_type": "stream",
     "text": [
      "/anaconda3/lib/python3.6/site-packages/ipykernel_launcher.py:8: DataConversionWarning: A column-vector y was passed when a 1d array was expected. Please change the shape of y to (n_samples,), for example using ravel().\n",
      "  \n"
     ]
    },
    {
     "name": "stdout",
     "output_type": "stream",
     "text": [
      "R^2 score:  0.5525471755837561\n",
      "\n",
      "\n",
      "n_estimators:  150\n",
      "bootstrap:  False\n",
      "max_features:  auto\n"
     ]
    },
    {
     "name": "stderr",
     "output_type": "stream",
     "text": [
      "/anaconda3/lib/python3.6/site-packages/ipykernel_launcher.py:8: DataConversionWarning: A column-vector y was passed when a 1d array was expected. Please change the shape of y to (n_samples,), for example using ravel().\n",
      "  \n"
     ]
    },
    {
     "name": "stdout",
     "output_type": "stream",
     "text": [
      "R^2 score:  0.6413005367816602\n",
      "\n",
      "\n",
      "n_estimators:  150\n",
      "bootstrap:  False\n",
      "max_features:  log2\n"
     ]
    },
    {
     "name": "stderr",
     "output_type": "stream",
     "text": [
      "/anaconda3/lib/python3.6/site-packages/ipykernel_launcher.py:8: DataConversionWarning: A column-vector y was passed when a 1d array was expected. Please change the shape of y to (n_samples,), for example using ravel().\n",
      "  \n"
     ]
    },
    {
     "name": "stdout",
     "output_type": "stream",
     "text": [
      "R^2 score:  0.5653870259097782\n",
      "\n",
      "\n",
      "n_estimators:  200\n",
      "bootstrap:  True\n",
      "max_features:  auto\n"
     ]
    },
    {
     "name": "stderr",
     "output_type": "stream",
     "text": [
      "/anaconda3/lib/python3.6/site-packages/ipykernel_launcher.py:8: DataConversionWarning: A column-vector y was passed when a 1d array was expected. Please change the shape of y to (n_samples,), for example using ravel().\n",
      "  \n"
     ]
    },
    {
     "name": "stdout",
     "output_type": "stream",
     "text": [
      "R^2 score:  0.7505521547298568\n",
      "\n",
      "\n",
      "n_estimators:  200\n",
      "bootstrap:  True\n",
      "max_features:  log2\n"
     ]
    },
    {
     "name": "stderr",
     "output_type": "stream",
     "text": [
      "/anaconda3/lib/python3.6/site-packages/ipykernel_launcher.py:8: DataConversionWarning: A column-vector y was passed when a 1d array was expected. Please change the shape of y to (n_samples,), for example using ravel().\n",
      "  \n"
     ]
    },
    {
     "name": "stdout",
     "output_type": "stream",
     "text": [
      "R^2 score:  0.5546731305094671\n",
      "\n",
      "\n",
      "n_estimators:  200\n",
      "bootstrap:  False\n",
      "max_features:  auto\n"
     ]
    },
    {
     "name": "stderr",
     "output_type": "stream",
     "text": [
      "/anaconda3/lib/python3.6/site-packages/ipykernel_launcher.py:8: DataConversionWarning: A column-vector y was passed when a 1d array was expected. Please change the shape of y to (n_samples,), for example using ravel().\n",
      "  \n"
     ]
    },
    {
     "name": "stdout",
     "output_type": "stream",
     "text": [
      "R^2 score:  0.6379218653976642\n",
      "\n",
      "\n",
      "n_estimators:  200\n",
      "bootstrap:  False\n",
      "max_features:  log2\n"
     ]
    },
    {
     "name": "stderr",
     "output_type": "stream",
     "text": [
      "/anaconda3/lib/python3.6/site-packages/ipykernel_launcher.py:8: DataConversionWarning: A column-vector y was passed when a 1d array was expected. Please change the shape of y to (n_samples,), for example using ravel().\n",
      "  \n"
     ]
    },
    {
     "name": "stdout",
     "output_type": "stream",
     "text": [
      "R^2 score:  0.5629863407123594\n",
      "\n",
      "\n",
      "n_estimators:  250\n",
      "bootstrap:  True\n",
      "max_features:  auto\n"
     ]
    },
    {
     "name": "stderr",
     "output_type": "stream",
     "text": [
      "/anaconda3/lib/python3.6/site-packages/ipykernel_launcher.py:8: DataConversionWarning: A column-vector y was passed when a 1d array was expected. Please change the shape of y to (n_samples,), for example using ravel().\n",
      "  \n"
     ]
    },
    {
     "name": "stdout",
     "output_type": "stream",
     "text": [
      "R^2 score:  0.7495432998404181\n",
      "\n",
      "\n",
      "n_estimators:  250\n",
      "bootstrap:  True\n",
      "max_features:  log2\n"
     ]
    },
    {
     "name": "stderr",
     "output_type": "stream",
     "text": [
      "/anaconda3/lib/python3.6/site-packages/ipykernel_launcher.py:8: DataConversionWarning: A column-vector y was passed when a 1d array was expected. Please change the shape of y to (n_samples,), for example using ravel().\n",
      "  \n"
     ]
    },
    {
     "name": "stdout",
     "output_type": "stream",
     "text": [
      "R^2 score:  0.5512671553659996\n",
      "\n",
      "\n",
      "n_estimators:  250\n",
      "bootstrap:  False\n",
      "max_features:  auto\n"
     ]
    },
    {
     "name": "stderr",
     "output_type": "stream",
     "text": [
      "/anaconda3/lib/python3.6/site-packages/ipykernel_launcher.py:8: DataConversionWarning: A column-vector y was passed when a 1d array was expected. Please change the shape of y to (n_samples,), for example using ravel().\n",
      "  \n"
     ]
    },
    {
     "name": "stdout",
     "output_type": "stream",
     "text": [
      "R^2 score:  0.640478742181565\n",
      "\n",
      "\n",
      "n_estimators:  250\n",
      "bootstrap:  False\n",
      "max_features:  log2\n"
     ]
    },
    {
     "name": "stderr",
     "output_type": "stream",
     "text": [
      "/anaconda3/lib/python3.6/site-packages/ipykernel_launcher.py:8: DataConversionWarning: A column-vector y was passed when a 1d array was expected. Please change the shape of y to (n_samples,), for example using ravel().\n",
      "  \n"
     ]
    },
    {
     "name": "stdout",
     "output_type": "stream",
     "text": [
      "R^2 score:  0.5618309221662762\n",
      "\n",
      "\n",
      "n_estimators:  500\n",
      "bootstrap:  True\n",
      "max_features:  auto\n"
     ]
    },
    {
     "name": "stderr",
     "output_type": "stream",
     "text": [
      "/anaconda3/lib/python3.6/site-packages/ipykernel_launcher.py:8: DataConversionWarning: A column-vector y was passed when a 1d array was expected. Please change the shape of y to (n_samples,), for example using ravel().\n",
      "  \n"
     ]
    },
    {
     "name": "stdout",
     "output_type": "stream",
     "text": [
      "R^2 score:  0.7511153829720346\n",
      "\n",
      "\n",
      "n_estimators:  500\n",
      "bootstrap:  True\n",
      "max_features:  log2\n"
     ]
    },
    {
     "name": "stderr",
     "output_type": "stream",
     "text": [
      "/anaconda3/lib/python3.6/site-packages/ipykernel_launcher.py:8: DataConversionWarning: A column-vector y was passed when a 1d array was expected. Please change the shape of y to (n_samples,), for example using ravel().\n",
      "  \n"
     ]
    },
    {
     "name": "stdout",
     "output_type": "stream",
     "text": [
      "R^2 score:  0.5590622892515134\n",
      "\n",
      "\n",
      "n_estimators:  500\n",
      "bootstrap:  False\n",
      "max_features:  auto\n"
     ]
    },
    {
     "name": "stderr",
     "output_type": "stream",
     "text": [
      "/anaconda3/lib/python3.6/site-packages/ipykernel_launcher.py:8: DataConversionWarning: A column-vector y was passed when a 1d array was expected. Please change the shape of y to (n_samples,), for example using ravel().\n",
      "  \n"
     ]
    },
    {
     "name": "stdout",
     "output_type": "stream",
     "text": [
      "R^2 score:  0.6390866339193535\n",
      "\n",
      "\n",
      "n_estimators:  500\n",
      "bootstrap:  False\n",
      "max_features:  log2\n"
     ]
    },
    {
     "name": "stderr",
     "output_type": "stream",
     "text": [
      "/anaconda3/lib/python3.6/site-packages/ipykernel_launcher.py:8: DataConversionWarning: A column-vector y was passed when a 1d array was expected. Please change the shape of y to (n_samples,), for example using ravel().\n",
      "  \n"
     ]
    },
    {
     "name": "stdout",
     "output_type": "stream",
     "text": [
      "R^2 score:  0.5736180439133327\n",
      "\n",
      "\n",
      "Round  4\n",
      "\n",
      "\n",
      "n_estimators:  10\n",
      "bootstrap:  True\n",
      "max_features:  auto\n"
     ]
    },
    {
     "name": "stderr",
     "output_type": "stream",
     "text": [
      "/anaconda3/lib/python3.6/site-packages/ipykernel_launcher.py:8: DataConversionWarning: A column-vector y was passed when a 1d array was expected. Please change the shape of y to (n_samples,), for example using ravel().\n",
      "  \n"
     ]
    },
    {
     "name": "stdout",
     "output_type": "stream",
     "text": [
      "R^2 score:  0.7381067857266459\n",
      "\n",
      "\n",
      "n_estimators:  10\n",
      "bootstrap:  True\n",
      "max_features:  log2\n"
     ]
    },
    {
     "name": "stderr",
     "output_type": "stream",
     "text": [
      "/anaconda3/lib/python3.6/site-packages/ipykernel_launcher.py:8: DataConversionWarning: A column-vector y was passed when a 1d array was expected. Please change the shape of y to (n_samples,), for example using ravel().\n",
      "  \n"
     ]
    },
    {
     "name": "stdout",
     "output_type": "stream",
     "text": [
      "R^2 score:  0.5225305919809966\n",
      "\n",
      "\n",
      "n_estimators:  10\n",
      "bootstrap:  False\n",
      "max_features:  auto\n"
     ]
    },
    {
     "name": "stderr",
     "output_type": "stream",
     "text": [
      "/anaconda3/lib/python3.6/site-packages/ipykernel_launcher.py:8: DataConversionWarning: A column-vector y was passed when a 1d array was expected. Please change the shape of y to (n_samples,), for example using ravel().\n",
      "  \n"
     ]
    },
    {
     "name": "stdout",
     "output_type": "stream",
     "text": [
      "R^2 score:  0.6406387375393239\n",
      "\n",
      "\n",
      "n_estimators:  10\n",
      "bootstrap:  False\n",
      "max_features:  log2\n"
     ]
    },
    {
     "name": "stderr",
     "output_type": "stream",
     "text": [
      "/anaconda3/lib/python3.6/site-packages/ipykernel_launcher.py:8: DataConversionWarning: A column-vector y was passed when a 1d array was expected. Please change the shape of y to (n_samples,), for example using ravel().\n",
      "  \n"
     ]
    },
    {
     "name": "stdout",
     "output_type": "stream",
     "text": [
      "R^2 score:  0.5409508174169491\n",
      "\n",
      "\n",
      "n_estimators:  50\n",
      "bootstrap:  True\n",
      "max_features:  auto\n"
     ]
    },
    {
     "name": "stderr",
     "output_type": "stream",
     "text": [
      "/anaconda3/lib/python3.6/site-packages/ipykernel_launcher.py:8: DataConversionWarning: A column-vector y was passed when a 1d array was expected. Please change the shape of y to (n_samples,), for example using ravel().\n",
      "  \n"
     ]
    },
    {
     "name": "stdout",
     "output_type": "stream",
     "text": [
      "R^2 score:  0.7517982014224158\n",
      "\n",
      "\n",
      "n_estimators:  50\n",
      "bootstrap:  True\n",
      "max_features:  log2\n"
     ]
    },
    {
     "name": "stderr",
     "output_type": "stream",
     "text": [
      "/anaconda3/lib/python3.6/site-packages/ipykernel_launcher.py:8: DataConversionWarning: A column-vector y was passed when a 1d array was expected. Please change the shape of y to (n_samples,), for example using ravel().\n",
      "  \n"
     ]
    },
    {
     "name": "stdout",
     "output_type": "stream",
     "text": [
      "R^2 score:  0.5722493458694428\n",
      "\n",
      "\n",
      "n_estimators:  50\n",
      "bootstrap:  False\n",
      "max_features:  auto\n"
     ]
    },
    {
     "name": "stderr",
     "output_type": "stream",
     "text": [
      "/anaconda3/lib/python3.6/site-packages/ipykernel_launcher.py:8: DataConversionWarning: A column-vector y was passed when a 1d array was expected. Please change the shape of y to (n_samples,), for example using ravel().\n",
      "  \n"
     ]
    },
    {
     "name": "stdout",
     "output_type": "stream",
     "text": [
      "R^2 score:  0.6375443884640212\n",
      "\n",
      "\n",
      "n_estimators:  50\n",
      "bootstrap:  False\n",
      "max_features:  log2\n"
     ]
    },
    {
     "name": "stderr",
     "output_type": "stream",
     "text": [
      "/anaconda3/lib/python3.6/site-packages/ipykernel_launcher.py:8: DataConversionWarning: A column-vector y was passed when a 1d array was expected. Please change the shape of y to (n_samples,), for example using ravel().\n",
      "  \n"
     ]
    },
    {
     "name": "stdout",
     "output_type": "stream",
     "text": [
      "R^2 score:  0.5319943190755384\n",
      "\n",
      "\n",
      "n_estimators:  100\n",
      "bootstrap:  True\n",
      "max_features:  auto\n"
     ]
    },
    {
     "name": "stderr",
     "output_type": "stream",
     "text": [
      "/anaconda3/lib/python3.6/site-packages/ipykernel_launcher.py:8: DataConversionWarning: A column-vector y was passed when a 1d array was expected. Please change the shape of y to (n_samples,), for example using ravel().\n",
      "  \n"
     ]
    },
    {
     "name": "stdout",
     "output_type": "stream",
     "text": [
      "R^2 score:  0.7522914397591463\n",
      "\n",
      "\n",
      "n_estimators:  100\n",
      "bootstrap:  True\n",
      "max_features:  log2\n"
     ]
    },
    {
     "name": "stderr",
     "output_type": "stream",
     "text": [
      "/anaconda3/lib/python3.6/site-packages/ipykernel_launcher.py:8: DataConversionWarning: A column-vector y was passed when a 1d array was expected. Please change the shape of y to (n_samples,), for example using ravel().\n",
      "  \n"
     ]
    },
    {
     "name": "stdout",
     "output_type": "stream",
     "text": [
      "R^2 score:  0.5633839385784088\n",
      "\n",
      "\n",
      "n_estimators:  100\n",
      "bootstrap:  False\n",
      "max_features:  auto\n"
     ]
    },
    {
     "name": "stderr",
     "output_type": "stream",
     "text": [
      "/anaconda3/lib/python3.6/site-packages/ipykernel_launcher.py:8: DataConversionWarning: A column-vector y was passed when a 1d array was expected. Please change the shape of y to (n_samples,), for example using ravel().\n",
      "  \n"
     ]
    },
    {
     "name": "stdout",
     "output_type": "stream",
     "text": [
      "R^2 score:  0.6391000482544488\n",
      "\n",
      "\n",
      "n_estimators:  100\n",
      "bootstrap:  False\n",
      "max_features:  log2\n"
     ]
    },
    {
     "name": "stderr",
     "output_type": "stream",
     "text": [
      "/anaconda3/lib/python3.6/site-packages/ipykernel_launcher.py:8: DataConversionWarning: A column-vector y was passed when a 1d array was expected. Please change the shape of y to (n_samples,), for example using ravel().\n",
      "  \n"
     ]
    },
    {
     "name": "stdout",
     "output_type": "stream",
     "text": [
      "R^2 score:  0.5678706448949125\n",
      "\n",
      "\n",
      "n_estimators:  150\n",
      "bootstrap:  True\n",
      "max_features:  auto\n"
     ]
    },
    {
     "name": "stderr",
     "output_type": "stream",
     "text": [
      "/anaconda3/lib/python3.6/site-packages/ipykernel_launcher.py:8: DataConversionWarning: A column-vector y was passed when a 1d array was expected. Please change the shape of y to (n_samples,), for example using ravel().\n",
      "  \n"
     ]
    },
    {
     "name": "stdout",
     "output_type": "stream",
     "text": [
      "R^2 score:  0.7497398368921548\n",
      "\n",
      "\n",
      "n_estimators:  150\n",
      "bootstrap:  True\n",
      "max_features:  log2\n"
     ]
    },
    {
     "name": "stderr",
     "output_type": "stream",
     "text": [
      "/anaconda3/lib/python3.6/site-packages/ipykernel_launcher.py:8: DataConversionWarning: A column-vector y was passed when a 1d array was expected. Please change the shape of y to (n_samples,), for example using ravel().\n",
      "  \n"
     ]
    },
    {
     "name": "stdout",
     "output_type": "stream",
     "text": [
      "R^2 score:  0.5624777121740867\n",
      "\n",
      "\n",
      "n_estimators:  150\n",
      "bootstrap:  False\n",
      "max_features:  auto\n"
     ]
    },
    {
     "name": "stderr",
     "output_type": "stream",
     "text": [
      "/anaconda3/lib/python3.6/site-packages/ipykernel_launcher.py:8: DataConversionWarning: A column-vector y was passed when a 1d array was expected. Please change the shape of y to (n_samples,), for example using ravel().\n",
      "  \n"
     ]
    },
    {
     "name": "stdout",
     "output_type": "stream",
     "text": [
      "R^2 score:  0.638921377156535\n",
      "\n",
      "\n",
      "n_estimators:  150\n",
      "bootstrap:  False\n",
      "max_features:  log2\n"
     ]
    },
    {
     "name": "stderr",
     "output_type": "stream",
     "text": [
      "/anaconda3/lib/python3.6/site-packages/ipykernel_launcher.py:8: DataConversionWarning: A column-vector y was passed when a 1d array was expected. Please change the shape of y to (n_samples,), for example using ravel().\n",
      "  \n"
     ]
    },
    {
     "name": "stdout",
     "output_type": "stream",
     "text": [
      "R^2 score:  0.5693465022383226\n",
      "\n",
      "\n",
      "n_estimators:  200\n",
      "bootstrap:  True\n",
      "max_features:  auto\n"
     ]
    },
    {
     "name": "stderr",
     "output_type": "stream",
     "text": [
      "/anaconda3/lib/python3.6/site-packages/ipykernel_launcher.py:8: DataConversionWarning: A column-vector y was passed when a 1d array was expected. Please change the shape of y to (n_samples,), for example using ravel().\n",
      "  \n"
     ]
    },
    {
     "name": "stdout",
     "output_type": "stream",
     "text": [
      "R^2 score:  0.7494185138719749\n",
      "\n",
      "\n",
      "n_estimators:  200\n",
      "bootstrap:  True\n",
      "max_features:  log2\n"
     ]
    },
    {
     "name": "stderr",
     "output_type": "stream",
     "text": [
      "/anaconda3/lib/python3.6/site-packages/ipykernel_launcher.py:8: DataConversionWarning: A column-vector y was passed when a 1d array was expected. Please change the shape of y to (n_samples,), for example using ravel().\n",
      "  \n"
     ]
    },
    {
     "name": "stdout",
     "output_type": "stream",
     "text": [
      "R^2 score:  0.5519769034893386\n",
      "\n",
      "\n",
      "n_estimators:  200\n",
      "bootstrap:  False\n",
      "max_features:  auto\n"
     ]
    },
    {
     "name": "stderr",
     "output_type": "stream",
     "text": [
      "/anaconda3/lib/python3.6/site-packages/ipykernel_launcher.py:8: DataConversionWarning: A column-vector y was passed when a 1d array was expected. Please change the shape of y to (n_samples,), for example using ravel().\n",
      "  \n"
     ]
    },
    {
     "name": "stdout",
     "output_type": "stream",
     "text": [
      "R^2 score:  0.6395842729732782\n",
      "\n",
      "\n",
      "n_estimators:  200\n",
      "bootstrap:  False\n",
      "max_features:  log2\n"
     ]
    },
    {
     "name": "stderr",
     "output_type": "stream",
     "text": [
      "/anaconda3/lib/python3.6/site-packages/ipykernel_launcher.py:8: DataConversionWarning: A column-vector y was passed when a 1d array was expected. Please change the shape of y to (n_samples,), for example using ravel().\n",
      "  \n"
     ]
    },
    {
     "name": "stdout",
     "output_type": "stream",
     "text": [
      "R^2 score:  0.5675863376685113\n",
      "\n",
      "\n",
      "n_estimators:  250\n",
      "bootstrap:  True\n",
      "max_features:  auto\n"
     ]
    },
    {
     "name": "stderr",
     "output_type": "stream",
     "text": [
      "/anaconda3/lib/python3.6/site-packages/ipykernel_launcher.py:8: DataConversionWarning: A column-vector y was passed when a 1d array was expected. Please change the shape of y to (n_samples,), for example using ravel().\n",
      "  \n"
     ]
    },
    {
     "name": "stdout",
     "output_type": "stream",
     "text": [
      "R^2 score:  0.7488869333485071\n",
      "\n",
      "\n",
      "n_estimators:  250\n",
      "bootstrap:  True\n",
      "max_features:  log2\n"
     ]
    },
    {
     "name": "stderr",
     "output_type": "stream",
     "text": [
      "/anaconda3/lib/python3.6/site-packages/ipykernel_launcher.py:8: DataConversionWarning: A column-vector y was passed when a 1d array was expected. Please change the shape of y to (n_samples,), for example using ravel().\n",
      "  \n"
     ]
    },
    {
     "name": "stdout",
     "output_type": "stream",
     "text": [
      "R^2 score:  0.5522307932723254\n",
      "\n",
      "\n",
      "n_estimators:  250\n",
      "bootstrap:  False\n",
      "max_features:  auto\n"
     ]
    },
    {
     "name": "stderr",
     "output_type": "stream",
     "text": [
      "/anaconda3/lib/python3.6/site-packages/ipykernel_launcher.py:8: DataConversionWarning: A column-vector y was passed when a 1d array was expected. Please change the shape of y to (n_samples,), for example using ravel().\n",
      "  \n"
     ]
    },
    {
     "name": "stdout",
     "output_type": "stream",
     "text": [
      "R^2 score:  0.6390303958527896\n",
      "\n",
      "\n",
      "n_estimators:  250\n",
      "bootstrap:  False\n",
      "max_features:  log2\n"
     ]
    },
    {
     "name": "stderr",
     "output_type": "stream",
     "text": [
      "/anaconda3/lib/python3.6/site-packages/ipykernel_launcher.py:8: DataConversionWarning: A column-vector y was passed when a 1d array was expected. Please change the shape of y to (n_samples,), for example using ravel().\n",
      "  \n"
     ]
    },
    {
     "name": "stdout",
     "output_type": "stream",
     "text": [
      "R^2 score:  0.5585504851764411\n",
      "\n",
      "\n",
      "n_estimators:  500\n",
      "bootstrap:  True\n",
      "max_features:  auto\n"
     ]
    },
    {
     "name": "stderr",
     "output_type": "stream",
     "text": [
      "/anaconda3/lib/python3.6/site-packages/ipykernel_launcher.py:8: DataConversionWarning: A column-vector y was passed when a 1d array was expected. Please change the shape of y to (n_samples,), for example using ravel().\n",
      "  \n"
     ]
    },
    {
     "name": "stdout",
     "output_type": "stream",
     "text": [
      "R^2 score:  0.7523512371915899\n",
      "\n",
      "\n",
      "n_estimators:  500\n",
      "bootstrap:  True\n",
      "max_features:  log2\n"
     ]
    },
    {
     "name": "stderr",
     "output_type": "stream",
     "text": [
      "/anaconda3/lib/python3.6/site-packages/ipykernel_launcher.py:8: DataConversionWarning: A column-vector y was passed when a 1d array was expected. Please change the shape of y to (n_samples,), for example using ravel().\n",
      "  \n"
     ]
    },
    {
     "name": "stdout",
     "output_type": "stream",
     "text": [
      "R^2 score:  0.5530566013088302\n",
      "\n",
      "\n",
      "n_estimators:  500\n",
      "bootstrap:  False\n",
      "max_features:  auto\n"
     ]
    },
    {
     "name": "stderr",
     "output_type": "stream",
     "text": [
      "/anaconda3/lib/python3.6/site-packages/ipykernel_launcher.py:8: DataConversionWarning: A column-vector y was passed when a 1d array was expected. Please change the shape of y to (n_samples,), for example using ravel().\n",
      "  \n"
     ]
    },
    {
     "name": "stdout",
     "output_type": "stream",
     "text": [
      "R^2 score:  0.6390306044797787\n",
      "\n",
      "\n",
      "n_estimators:  500\n",
      "bootstrap:  False\n",
      "max_features:  log2\n"
     ]
    },
    {
     "name": "stderr",
     "output_type": "stream",
     "text": [
      "/anaconda3/lib/python3.6/site-packages/ipykernel_launcher.py:8: DataConversionWarning: A column-vector y was passed when a 1d array was expected. Please change the shape of y to (n_samples,), for example using ravel().\n",
      "  \n"
     ]
    },
    {
     "name": "stdout",
     "output_type": "stream",
     "text": [
      "R^2 score:  0.5775607942423023\n",
      "\n",
      "\n",
      "Round  5\n",
      "\n",
      "\n",
      "n_estimators:  10\n",
      "bootstrap:  True\n",
      "max_features:  auto\n"
     ]
    },
    {
     "name": "stderr",
     "output_type": "stream",
     "text": [
      "/anaconda3/lib/python3.6/site-packages/ipykernel_launcher.py:8: DataConversionWarning: A column-vector y was passed when a 1d array was expected. Please change the shape of y to (n_samples,), for example using ravel().\n",
      "  \n"
     ]
    },
    {
     "name": "stdout",
     "output_type": "stream",
     "text": [
      "R^2 score:  0.7405504692311486\n",
      "\n",
      "\n",
      "n_estimators:  10\n",
      "bootstrap:  True\n",
      "max_features:  log2\n"
     ]
    },
    {
     "name": "stderr",
     "output_type": "stream",
     "text": [
      "/anaconda3/lib/python3.6/site-packages/ipykernel_launcher.py:8: DataConversionWarning: A column-vector y was passed when a 1d array was expected. Please change the shape of y to (n_samples,), for example using ravel().\n",
      "  \n"
     ]
    },
    {
     "name": "stdout",
     "output_type": "stream",
     "text": [
      "R^2 score:  0.4983865553714182\n",
      "\n",
      "\n",
      "n_estimators:  10\n",
      "bootstrap:  False\n",
      "max_features:  auto\n"
     ]
    },
    {
     "name": "stderr",
     "output_type": "stream",
     "text": [
      "/anaconda3/lib/python3.6/site-packages/ipykernel_launcher.py:8: DataConversionWarning: A column-vector y was passed when a 1d array was expected. Please change the shape of y to (n_samples,), for example using ravel().\n",
      "  \n"
     ]
    },
    {
     "name": "stdout",
     "output_type": "stream",
     "text": [
      "R^2 score:  0.6367559094128106\n",
      "\n",
      "\n",
      "n_estimators:  10\n",
      "bootstrap:  False\n",
      "max_features:  log2\n"
     ]
    },
    {
     "name": "stderr",
     "output_type": "stream",
     "text": [
      "/anaconda3/lib/python3.6/site-packages/ipykernel_launcher.py:8: DataConversionWarning: A column-vector y was passed when a 1d array was expected. Please change the shape of y to (n_samples,), for example using ravel().\n",
      "  \n"
     ]
    },
    {
     "name": "stdout",
     "output_type": "stream",
     "text": [
      "R^2 score:  0.5596528931750622\n",
      "\n",
      "\n",
      "n_estimators:  50\n",
      "bootstrap:  True\n",
      "max_features:  auto\n"
     ]
    },
    {
     "name": "stderr",
     "output_type": "stream",
     "text": [
      "/anaconda3/lib/python3.6/site-packages/ipykernel_launcher.py:8: DataConversionWarning: A column-vector y was passed when a 1d array was expected. Please change the shape of y to (n_samples,), for example using ravel().\n",
      "  \n"
     ]
    },
    {
     "name": "stdout",
     "output_type": "stream",
     "text": [
      "R^2 score:  0.7487004821402039\n",
      "\n",
      "\n",
      "n_estimators:  50\n",
      "bootstrap:  True\n",
      "max_features:  log2\n"
     ]
    },
    {
     "name": "stderr",
     "output_type": "stream",
     "text": [
      "/anaconda3/lib/python3.6/site-packages/ipykernel_launcher.py:8: DataConversionWarning: A column-vector y was passed when a 1d array was expected. Please change the shape of y to (n_samples,), for example using ravel().\n",
      "  \n"
     ]
    },
    {
     "name": "stdout",
     "output_type": "stream",
     "text": [
      "R^2 score:  0.5706496698063425\n",
      "\n",
      "\n",
      "n_estimators:  50\n",
      "bootstrap:  False\n",
      "max_features:  auto\n"
     ]
    },
    {
     "name": "stderr",
     "output_type": "stream",
     "text": [
      "/anaconda3/lib/python3.6/site-packages/ipykernel_launcher.py:8: DataConversionWarning: A column-vector y was passed when a 1d array was expected. Please change the shape of y to (n_samples,), for example using ravel().\n",
      "  \n"
     ]
    },
    {
     "name": "stdout",
     "output_type": "stream",
     "text": [
      "R^2 score:  0.6414748069499171\n",
      "\n",
      "\n",
      "n_estimators:  50\n",
      "bootstrap:  False\n",
      "max_features:  log2\n"
     ]
    },
    {
     "name": "stderr",
     "output_type": "stream",
     "text": [
      "/anaconda3/lib/python3.6/site-packages/ipykernel_launcher.py:8: DataConversionWarning: A column-vector y was passed when a 1d array was expected. Please change the shape of y to (n_samples,), for example using ravel().\n",
      "  \n"
     ]
    },
    {
     "name": "stdout",
     "output_type": "stream",
     "text": [
      "R^2 score:  0.5600477928399352\n",
      "\n",
      "\n",
      "n_estimators:  100\n",
      "bootstrap:  True\n",
      "max_features:  auto\n"
     ]
    },
    {
     "name": "stderr",
     "output_type": "stream",
     "text": [
      "/anaconda3/lib/python3.6/site-packages/ipykernel_launcher.py:8: DataConversionWarning: A column-vector y was passed when a 1d array was expected. Please change the shape of y to (n_samples,), for example using ravel().\n",
      "  \n"
     ]
    },
    {
     "name": "stdout",
     "output_type": "stream",
     "text": [
      "R^2 score:  0.7461934592259725\n",
      "\n",
      "\n",
      "n_estimators:  100\n",
      "bootstrap:  True\n",
      "max_features:  log2\n"
     ]
    },
    {
     "name": "stderr",
     "output_type": "stream",
     "text": [
      "/anaconda3/lib/python3.6/site-packages/ipykernel_launcher.py:8: DataConversionWarning: A column-vector y was passed when a 1d array was expected. Please change the shape of y to (n_samples,), for example using ravel().\n",
      "  \n"
     ]
    },
    {
     "name": "stdout",
     "output_type": "stream",
     "text": [
      "R^2 score:  0.5453512603218629\n",
      "\n",
      "\n",
      "n_estimators:  100\n",
      "bootstrap:  False\n",
      "max_features:  auto\n"
     ]
    },
    {
     "name": "stderr",
     "output_type": "stream",
     "text": [
      "/anaconda3/lib/python3.6/site-packages/ipykernel_launcher.py:8: DataConversionWarning: A column-vector y was passed when a 1d array was expected. Please change the shape of y to (n_samples,), for example using ravel().\n",
      "  \n"
     ]
    },
    {
     "name": "stdout",
     "output_type": "stream",
     "text": [
      "R^2 score:  0.6400059245041747\n",
      "\n",
      "\n",
      "n_estimators:  100\n",
      "bootstrap:  False\n",
      "max_features:  log2\n"
     ]
    },
    {
     "name": "stderr",
     "output_type": "stream",
     "text": [
      "/anaconda3/lib/python3.6/site-packages/ipykernel_launcher.py:8: DataConversionWarning: A column-vector y was passed when a 1d array was expected. Please change the shape of y to (n_samples,), for example using ravel().\n",
      "  \n"
     ]
    },
    {
     "name": "stdout",
     "output_type": "stream",
     "text": [
      "R^2 score:  0.5623915401632035\n",
      "\n",
      "\n",
      "n_estimators:  150\n",
      "bootstrap:  True\n",
      "max_features:  auto\n"
     ]
    },
    {
     "name": "stderr",
     "output_type": "stream",
     "text": [
      "/anaconda3/lib/python3.6/site-packages/ipykernel_launcher.py:8: DataConversionWarning: A column-vector y was passed when a 1d array was expected. Please change the shape of y to (n_samples,), for example using ravel().\n",
      "  \n"
     ]
    },
    {
     "name": "stdout",
     "output_type": "stream",
     "text": [
      "R^2 score:  0.7523965170023298\n",
      "\n",
      "\n",
      "n_estimators:  150\n",
      "bootstrap:  True\n",
      "max_features:  log2\n"
     ]
    },
    {
     "name": "stderr",
     "output_type": "stream",
     "text": [
      "/anaconda3/lib/python3.6/site-packages/ipykernel_launcher.py:8: DataConversionWarning: A column-vector y was passed when a 1d array was expected. Please change the shape of y to (n_samples,), for example using ravel().\n",
      "  \n"
     ]
    },
    {
     "name": "stdout",
     "output_type": "stream",
     "text": [
      "R^2 score:  0.5611106754245985\n",
      "\n",
      "\n",
      "n_estimators:  150\n",
      "bootstrap:  False\n",
      "max_features:  auto\n"
     ]
    },
    {
     "name": "stderr",
     "output_type": "stream",
     "text": [
      "/anaconda3/lib/python3.6/site-packages/ipykernel_launcher.py:8: DataConversionWarning: A column-vector y was passed when a 1d array was expected. Please change the shape of y to (n_samples,), for example using ravel().\n",
      "  \n"
     ]
    },
    {
     "name": "stdout",
     "output_type": "stream",
     "text": [
      "R^2 score:  0.6393855306328742\n",
      "\n",
      "\n",
      "n_estimators:  150\n",
      "bootstrap:  False\n",
      "max_features:  log2\n"
     ]
    },
    {
     "name": "stderr",
     "output_type": "stream",
     "text": [
      "/anaconda3/lib/python3.6/site-packages/ipykernel_launcher.py:8: DataConversionWarning: A column-vector y was passed when a 1d array was expected. Please change the shape of y to (n_samples,), for example using ravel().\n",
      "  \n"
     ]
    },
    {
     "name": "stdout",
     "output_type": "stream",
     "text": [
      "R^2 score:  0.5658232659270017\n",
      "\n",
      "\n",
      "n_estimators:  200\n",
      "bootstrap:  True\n",
      "max_features:  auto\n"
     ]
    },
    {
     "name": "stderr",
     "output_type": "stream",
     "text": [
      "/anaconda3/lib/python3.6/site-packages/ipykernel_launcher.py:8: DataConversionWarning: A column-vector y was passed when a 1d array was expected. Please change the shape of y to (n_samples,), for example using ravel().\n",
      "  \n"
     ]
    },
    {
     "name": "stdout",
     "output_type": "stream",
     "text": [
      "R^2 score:  0.7494295175813258\n",
      "\n",
      "\n",
      "n_estimators:  200\n",
      "bootstrap:  True\n",
      "max_features:  log2\n"
     ]
    },
    {
     "name": "stderr",
     "output_type": "stream",
     "text": [
      "/anaconda3/lib/python3.6/site-packages/ipykernel_launcher.py:8: DataConversionWarning: A column-vector y was passed when a 1d array was expected. Please change the shape of y to (n_samples,), for example using ravel().\n",
      "  \n"
     ]
    },
    {
     "name": "stdout",
     "output_type": "stream",
     "text": [
      "R^2 score:  0.5500114998594234\n",
      "\n",
      "\n",
      "n_estimators:  200\n",
      "bootstrap:  False\n",
      "max_features:  auto\n"
     ]
    },
    {
     "name": "stderr",
     "output_type": "stream",
     "text": [
      "/anaconda3/lib/python3.6/site-packages/ipykernel_launcher.py:8: DataConversionWarning: A column-vector y was passed when a 1d array was expected. Please change the shape of y to (n_samples,), for example using ravel().\n",
      "  \n"
     ]
    },
    {
     "name": "stdout",
     "output_type": "stream",
     "text": [
      "R^2 score:  0.6404979916339146\n",
      "\n",
      "\n",
      "n_estimators:  200\n",
      "bootstrap:  False\n",
      "max_features:  log2\n"
     ]
    },
    {
     "name": "stderr",
     "output_type": "stream",
     "text": [
      "/anaconda3/lib/python3.6/site-packages/ipykernel_launcher.py:8: DataConversionWarning: A column-vector y was passed when a 1d array was expected. Please change the shape of y to (n_samples,), for example using ravel().\n",
      "  \n"
     ]
    },
    {
     "name": "stdout",
     "output_type": "stream",
     "text": [
      "R^2 score:  0.5623998763320575\n",
      "\n",
      "\n",
      "n_estimators:  250\n",
      "bootstrap:  True\n",
      "max_features:  auto\n"
     ]
    },
    {
     "name": "stderr",
     "output_type": "stream",
     "text": [
      "/anaconda3/lib/python3.6/site-packages/ipykernel_launcher.py:8: DataConversionWarning: A column-vector y was passed when a 1d array was expected. Please change the shape of y to (n_samples,), for example using ravel().\n",
      "  \n"
     ]
    },
    {
     "name": "stdout",
     "output_type": "stream",
     "text": [
      "R^2 score:  0.7527718960634504\n",
      "\n",
      "\n",
      "n_estimators:  250\n",
      "bootstrap:  True\n",
      "max_features:  log2\n"
     ]
    },
    {
     "name": "stderr",
     "output_type": "stream",
     "text": [
      "/anaconda3/lib/python3.6/site-packages/ipykernel_launcher.py:8: DataConversionWarning: A column-vector y was passed when a 1d array was expected. Please change the shape of y to (n_samples,), for example using ravel().\n",
      "  \n"
     ]
    },
    {
     "name": "stdout",
     "output_type": "stream",
     "text": [
      "R^2 score:  0.5575550785159957\n",
      "\n",
      "\n",
      "n_estimators:  250\n",
      "bootstrap:  False\n",
      "max_features:  auto\n"
     ]
    },
    {
     "name": "stderr",
     "output_type": "stream",
     "text": [
      "/anaconda3/lib/python3.6/site-packages/ipykernel_launcher.py:8: DataConversionWarning: A column-vector y was passed when a 1d array was expected. Please change the shape of y to (n_samples,), for example using ravel().\n",
      "  \n"
     ]
    },
    {
     "name": "stdout",
     "output_type": "stream",
     "text": [
      "R^2 score:  0.6400306247705108\n",
      "\n",
      "\n",
      "n_estimators:  250\n",
      "bootstrap:  False\n",
      "max_features:  log2\n"
     ]
    },
    {
     "name": "stderr",
     "output_type": "stream",
     "text": [
      "/anaconda3/lib/python3.6/site-packages/ipykernel_launcher.py:8: DataConversionWarning: A column-vector y was passed when a 1d array was expected. Please change the shape of y to (n_samples,), for example using ravel().\n",
      "  \n"
     ]
    },
    {
     "name": "stdout",
     "output_type": "stream",
     "text": [
      "R^2 score:  0.5712271860201117\n",
      "\n",
      "\n",
      "n_estimators:  500\n",
      "bootstrap:  True\n",
      "max_features:  auto\n"
     ]
    },
    {
     "name": "stderr",
     "output_type": "stream",
     "text": [
      "/anaconda3/lib/python3.6/site-packages/ipykernel_launcher.py:8: DataConversionWarning: A column-vector y was passed when a 1d array was expected. Please change the shape of y to (n_samples,), for example using ravel().\n",
      "  \n"
     ]
    },
    {
     "name": "stdout",
     "output_type": "stream",
     "text": [
      "R^2 score:  0.7521610635993401\n",
      "\n",
      "\n",
      "n_estimators:  500\n",
      "bootstrap:  True\n",
      "max_features:  log2\n"
     ]
    },
    {
     "name": "stderr",
     "output_type": "stream",
     "text": [
      "/anaconda3/lib/python3.6/site-packages/ipykernel_launcher.py:8: DataConversionWarning: A column-vector y was passed when a 1d array was expected. Please change the shape of y to (n_samples,), for example using ravel().\n",
      "  \n"
     ]
    },
    {
     "name": "stdout",
     "output_type": "stream",
     "text": [
      "R^2 score:  0.555668794695526\n",
      "\n",
      "\n",
      "n_estimators:  500\n",
      "bootstrap:  False\n",
      "max_features:  auto\n"
     ]
    },
    {
     "name": "stderr",
     "output_type": "stream",
     "text": [
      "/anaconda3/lib/python3.6/site-packages/ipykernel_launcher.py:8: DataConversionWarning: A column-vector y was passed when a 1d array was expected. Please change the shape of y to (n_samples,), for example using ravel().\n",
      "  \n"
     ]
    },
    {
     "name": "stdout",
     "output_type": "stream",
     "text": [
      "R^2 score:  0.6398015799475605\n",
      "\n",
      "\n",
      "n_estimators:  500\n",
      "bootstrap:  False\n",
      "max_features:  log2\n"
     ]
    },
    {
     "name": "stderr",
     "output_type": "stream",
     "text": [
      "/anaconda3/lib/python3.6/site-packages/ipykernel_launcher.py:8: DataConversionWarning: A column-vector y was passed when a 1d array was expected. Please change the shape of y to (n_samples,), for example using ravel().\n",
      "  \n"
     ]
    },
    {
     "name": "stdout",
     "output_type": "stream",
     "text": [
      "R^2 score:  0.5699910588802802\n",
      "\n",
      "\n",
      "Round  6\n",
      "\n",
      "\n",
      "n_estimators:  10\n",
      "bootstrap:  True\n",
      "max_features:  auto\n"
     ]
    },
    {
     "name": "stderr",
     "output_type": "stream",
     "text": [
      "/anaconda3/lib/python3.6/site-packages/ipykernel_launcher.py:8: DataConversionWarning: A column-vector y was passed when a 1d array was expected. Please change the shape of y to (n_samples,), for example using ravel().\n",
      "  \n"
     ]
    },
    {
     "name": "stdout",
     "output_type": "stream",
     "text": [
      "R^2 score:  0.7383426938436467\n",
      "\n",
      "\n",
      "n_estimators:  10\n",
      "bootstrap:  True\n",
      "max_features:  log2\n"
     ]
    },
    {
     "name": "stderr",
     "output_type": "stream",
     "text": [
      "/anaconda3/lib/python3.6/site-packages/ipykernel_launcher.py:8: DataConversionWarning: A column-vector y was passed when a 1d array was expected. Please change the shape of y to (n_samples,), for example using ravel().\n",
      "  \n"
     ]
    },
    {
     "name": "stdout",
     "output_type": "stream",
     "text": [
      "R^2 score:  0.5583290416092291\n",
      "\n",
      "\n",
      "n_estimators:  10\n",
      "bootstrap:  False\n",
      "max_features:  auto\n"
     ]
    },
    {
     "name": "stderr",
     "output_type": "stream",
     "text": [
      "/anaconda3/lib/python3.6/site-packages/ipykernel_launcher.py:8: DataConversionWarning: A column-vector y was passed when a 1d array was expected. Please change the shape of y to (n_samples,), for example using ravel().\n",
      "  \n"
     ]
    },
    {
     "name": "stdout",
     "output_type": "stream",
     "text": [
      "R^2 score:  0.6323864728231711\n",
      "\n",
      "\n",
      "n_estimators:  10\n",
      "bootstrap:  False\n",
      "max_features:  log2\n"
     ]
    },
    {
     "name": "stderr",
     "output_type": "stream",
     "text": [
      "/anaconda3/lib/python3.6/site-packages/ipykernel_launcher.py:8: DataConversionWarning: A column-vector y was passed when a 1d array was expected. Please change the shape of y to (n_samples,), for example using ravel().\n",
      "  \n"
     ]
    },
    {
     "name": "stdout",
     "output_type": "stream",
     "text": [
      "R^2 score:  0.5575019503781173\n",
      "\n",
      "\n",
      "n_estimators:  50\n",
      "bootstrap:  True\n",
      "max_features:  auto\n"
     ]
    },
    {
     "name": "stderr",
     "output_type": "stream",
     "text": [
      "/anaconda3/lib/python3.6/site-packages/ipykernel_launcher.py:8: DataConversionWarning: A column-vector y was passed when a 1d array was expected. Please change the shape of y to (n_samples,), for example using ravel().\n",
      "  \n"
     ]
    },
    {
     "name": "stdout",
     "output_type": "stream",
     "text": [
      "R^2 score:  0.751284446517639\n",
      "\n",
      "\n",
      "n_estimators:  50\n",
      "bootstrap:  True\n",
      "max_features:  log2\n"
     ]
    },
    {
     "name": "stderr",
     "output_type": "stream",
     "text": [
      "/anaconda3/lib/python3.6/site-packages/ipykernel_launcher.py:8: DataConversionWarning: A column-vector y was passed when a 1d array was expected. Please change the shape of y to (n_samples,), for example using ravel().\n",
      "  \n"
     ]
    },
    {
     "name": "stdout",
     "output_type": "stream",
     "text": [
      "R^2 score:  0.5421053490215736\n",
      "\n",
      "\n",
      "n_estimators:  50\n",
      "bootstrap:  False\n",
      "max_features:  auto\n"
     ]
    },
    {
     "name": "stderr",
     "output_type": "stream",
     "text": [
      "/anaconda3/lib/python3.6/site-packages/ipykernel_launcher.py:8: DataConversionWarning: A column-vector y was passed when a 1d array was expected. Please change the shape of y to (n_samples,), for example using ravel().\n",
      "  \n"
     ]
    },
    {
     "name": "stdout",
     "output_type": "stream",
     "text": [
      "R^2 score:  0.6398615896067117\n",
      "\n",
      "\n",
      "n_estimators:  50\n",
      "bootstrap:  False\n",
      "max_features:  log2\n"
     ]
    },
    {
     "name": "stderr",
     "output_type": "stream",
     "text": [
      "/anaconda3/lib/python3.6/site-packages/ipykernel_launcher.py:8: DataConversionWarning: A column-vector y was passed when a 1d array was expected. Please change the shape of y to (n_samples,), for example using ravel().\n",
      "  \n"
     ]
    },
    {
     "name": "stdout",
     "output_type": "stream",
     "text": [
      "R^2 score:  0.5655061772028411\n",
      "\n",
      "\n",
      "n_estimators:  100\n",
      "bootstrap:  True\n",
      "max_features:  auto\n"
     ]
    },
    {
     "name": "stderr",
     "output_type": "stream",
     "text": [
      "/anaconda3/lib/python3.6/site-packages/ipykernel_launcher.py:8: DataConversionWarning: A column-vector y was passed when a 1d array was expected. Please change the shape of y to (n_samples,), for example using ravel().\n",
      "  \n"
     ]
    },
    {
     "name": "stdout",
     "output_type": "stream",
     "text": [
      "R^2 score:  0.7473921051450478\n",
      "\n",
      "\n",
      "n_estimators:  100\n",
      "bootstrap:  True\n",
      "max_features:  log2\n"
     ]
    },
    {
     "name": "stderr",
     "output_type": "stream",
     "text": [
      "/anaconda3/lib/python3.6/site-packages/ipykernel_launcher.py:8: DataConversionWarning: A column-vector y was passed when a 1d array was expected. Please change the shape of y to (n_samples,), for example using ravel().\n",
      "  \n"
     ]
    },
    {
     "name": "stdout",
     "output_type": "stream",
     "text": [
      "R^2 score:  0.5542115700077344\n",
      "\n",
      "\n",
      "n_estimators:  100\n",
      "bootstrap:  False\n",
      "max_features:  auto\n"
     ]
    },
    {
     "name": "stderr",
     "output_type": "stream",
     "text": [
      "/anaconda3/lib/python3.6/site-packages/ipykernel_launcher.py:8: DataConversionWarning: A column-vector y was passed when a 1d array was expected. Please change the shape of y to (n_samples,), for example using ravel().\n",
      "  \n"
     ]
    },
    {
     "name": "stdout",
     "output_type": "stream",
     "text": [
      "R^2 score:  0.6385311499707755\n",
      "\n",
      "\n",
      "n_estimators:  100\n",
      "bootstrap:  False\n",
      "max_features:  log2\n"
     ]
    },
    {
     "name": "stderr",
     "output_type": "stream",
     "text": [
      "/anaconda3/lib/python3.6/site-packages/ipykernel_launcher.py:8: DataConversionWarning: A column-vector y was passed when a 1d array was expected. Please change the shape of y to (n_samples,), for example using ravel().\n",
      "  \n"
     ]
    },
    {
     "name": "stdout",
     "output_type": "stream",
     "text": [
      "R^2 score:  0.5635919863944368\n",
      "\n",
      "\n",
      "n_estimators:  150\n",
      "bootstrap:  True\n",
      "max_features:  auto\n"
     ]
    },
    {
     "name": "stderr",
     "output_type": "stream",
     "text": [
      "/anaconda3/lib/python3.6/site-packages/ipykernel_launcher.py:8: DataConversionWarning: A column-vector y was passed when a 1d array was expected. Please change the shape of y to (n_samples,), for example using ravel().\n",
      "  \n"
     ]
    },
    {
     "name": "stdout",
     "output_type": "stream",
     "text": [
      "R^2 score:  0.7502189075747736\n",
      "\n",
      "\n",
      "n_estimators:  150\n",
      "bootstrap:  True\n",
      "max_features:  log2\n"
     ]
    },
    {
     "name": "stderr",
     "output_type": "stream",
     "text": [
      "/anaconda3/lib/python3.6/site-packages/ipykernel_launcher.py:8: DataConversionWarning: A column-vector y was passed when a 1d array was expected. Please change the shape of y to (n_samples,), for example using ravel().\n",
      "  \n"
     ]
    },
    {
     "name": "stdout",
     "output_type": "stream",
     "text": [
      "R^2 score:  0.5607296082318556\n",
      "\n",
      "\n",
      "n_estimators:  150\n",
      "bootstrap:  False\n",
      "max_features:  auto\n"
     ]
    },
    {
     "name": "stderr",
     "output_type": "stream",
     "text": [
      "/anaconda3/lib/python3.6/site-packages/ipykernel_launcher.py:8: DataConversionWarning: A column-vector y was passed when a 1d array was expected. Please change the shape of y to (n_samples,), for example using ravel().\n",
      "  \n"
     ]
    },
    {
     "name": "stdout",
     "output_type": "stream",
     "text": [
      "R^2 score:  0.6390846077754148\n",
      "\n",
      "\n",
      "n_estimators:  150\n",
      "bootstrap:  False\n",
      "max_features:  log2\n"
     ]
    },
    {
     "name": "stderr",
     "output_type": "stream",
     "text": [
      "/anaconda3/lib/python3.6/site-packages/ipykernel_launcher.py:8: DataConversionWarning: A column-vector y was passed when a 1d array was expected. Please change the shape of y to (n_samples,), for example using ravel().\n",
      "  \n"
     ]
    },
    {
     "name": "stdout",
     "output_type": "stream",
     "text": [
      "R^2 score:  0.5750699178522829\n",
      "\n",
      "\n",
      "n_estimators:  200\n",
      "bootstrap:  True\n",
      "max_features:  auto\n"
     ]
    },
    {
     "name": "stderr",
     "output_type": "stream",
     "text": [
      "/anaconda3/lib/python3.6/site-packages/ipykernel_launcher.py:8: DataConversionWarning: A column-vector y was passed when a 1d array was expected. Please change the shape of y to (n_samples,), for example using ravel().\n",
      "  \n"
     ]
    },
    {
     "name": "stdout",
     "output_type": "stream",
     "text": [
      "R^2 score:  0.7533153501925346\n",
      "\n",
      "\n",
      "n_estimators:  200\n",
      "bootstrap:  True\n",
      "max_features:  log2\n"
     ]
    },
    {
     "name": "stderr",
     "output_type": "stream",
     "text": [
      "/anaconda3/lib/python3.6/site-packages/ipykernel_launcher.py:8: DataConversionWarning: A column-vector y was passed when a 1d array was expected. Please change the shape of y to (n_samples,), for example using ravel().\n",
      "  \n"
     ]
    },
    {
     "name": "stdout",
     "output_type": "stream",
     "text": [
      "R^2 score:  0.5504979125978444\n",
      "\n",
      "\n",
      "n_estimators:  200\n",
      "bootstrap:  False\n",
      "max_features:  auto\n"
     ]
    },
    {
     "name": "stderr",
     "output_type": "stream",
     "text": [
      "/anaconda3/lib/python3.6/site-packages/ipykernel_launcher.py:8: DataConversionWarning: A column-vector y was passed when a 1d array was expected. Please change the shape of y to (n_samples,), for example using ravel().\n",
      "  \n"
     ]
    },
    {
     "name": "stdout",
     "output_type": "stream",
     "text": [
      "R^2 score:  0.6389373049526494\n",
      "\n",
      "\n",
      "n_estimators:  200\n",
      "bootstrap:  False\n",
      "max_features:  log2\n"
     ]
    },
    {
     "name": "stderr",
     "output_type": "stream",
     "text": [
      "/anaconda3/lib/python3.6/site-packages/ipykernel_launcher.py:8: DataConversionWarning: A column-vector y was passed when a 1d array was expected. Please change the shape of y to (n_samples,), for example using ravel().\n",
      "  \n"
     ]
    },
    {
     "name": "stdout",
     "output_type": "stream",
     "text": [
      "R^2 score:  0.5739750623703832\n",
      "\n",
      "\n",
      "n_estimators:  250\n",
      "bootstrap:  True\n",
      "max_features:  auto\n"
     ]
    },
    {
     "name": "stderr",
     "output_type": "stream",
     "text": [
      "/anaconda3/lib/python3.6/site-packages/ipykernel_launcher.py:8: DataConversionWarning: A column-vector y was passed when a 1d array was expected. Please change the shape of y to (n_samples,), for example using ravel().\n",
      "  \n"
     ]
    },
    {
     "name": "stdout",
     "output_type": "stream",
     "text": [
      "R^2 score:  0.7509317689763351\n",
      "\n",
      "\n",
      "n_estimators:  250\n",
      "bootstrap:  True\n",
      "max_features:  log2\n"
     ]
    },
    {
     "name": "stderr",
     "output_type": "stream",
     "text": [
      "/anaconda3/lib/python3.6/site-packages/ipykernel_launcher.py:8: DataConversionWarning: A column-vector y was passed when a 1d array was expected. Please change the shape of y to (n_samples,), for example using ravel().\n",
      "  \n"
     ]
    },
    {
     "name": "stdout",
     "output_type": "stream",
     "text": [
      "R^2 score:  0.5556202502610844\n",
      "\n",
      "\n",
      "n_estimators:  250\n",
      "bootstrap:  False\n",
      "max_features:  auto\n"
     ]
    },
    {
     "name": "stderr",
     "output_type": "stream",
     "text": [
      "/anaconda3/lib/python3.6/site-packages/ipykernel_launcher.py:8: DataConversionWarning: A column-vector y was passed when a 1d array was expected. Please change the shape of y to (n_samples,), for example using ravel().\n",
      "  \n"
     ]
    },
    {
     "name": "stdout",
     "output_type": "stream",
     "text": [
      "R^2 score:  0.640205854672123\n",
      "\n",
      "\n",
      "n_estimators:  250\n",
      "bootstrap:  False\n",
      "max_features:  log2\n"
     ]
    },
    {
     "name": "stderr",
     "output_type": "stream",
     "text": [
      "/anaconda3/lib/python3.6/site-packages/ipykernel_launcher.py:8: DataConversionWarning: A column-vector y was passed when a 1d array was expected. Please change the shape of y to (n_samples,), for example using ravel().\n",
      "  \n"
     ]
    },
    {
     "name": "stdout",
     "output_type": "stream",
     "text": [
      "R^2 score:  0.5651601559237627\n",
      "\n",
      "\n",
      "n_estimators:  500\n",
      "bootstrap:  True\n",
      "max_features:  auto\n"
     ]
    },
    {
     "name": "stderr",
     "output_type": "stream",
     "text": [
      "/anaconda3/lib/python3.6/site-packages/ipykernel_launcher.py:8: DataConversionWarning: A column-vector y was passed when a 1d array was expected. Please change the shape of y to (n_samples,), for example using ravel().\n",
      "  \n"
     ]
    },
    {
     "name": "stdout",
     "output_type": "stream",
     "text": [
      "R^2 score:  0.7493603443224691\n",
      "\n",
      "\n",
      "n_estimators:  500\n",
      "bootstrap:  True\n",
      "max_features:  log2\n"
     ]
    },
    {
     "name": "stderr",
     "output_type": "stream",
     "text": [
      "/anaconda3/lib/python3.6/site-packages/ipykernel_launcher.py:8: DataConversionWarning: A column-vector y was passed when a 1d array was expected. Please change the shape of y to (n_samples,), for example using ravel().\n",
      "  \n"
     ]
    },
    {
     "name": "stdout",
     "output_type": "stream",
     "text": [
      "R^2 score:  0.5577763572817155\n",
      "\n",
      "\n",
      "n_estimators:  500\n",
      "bootstrap:  False\n",
      "max_features:  auto\n"
     ]
    },
    {
     "name": "stderr",
     "output_type": "stream",
     "text": [
      "/anaconda3/lib/python3.6/site-packages/ipykernel_launcher.py:8: DataConversionWarning: A column-vector y was passed when a 1d array was expected. Please change the shape of y to (n_samples,), for example using ravel().\n",
      "  \n"
     ]
    },
    {
     "name": "stdout",
     "output_type": "stream",
     "text": [
      "R^2 score:  0.6406163487602146\n",
      "\n",
      "\n",
      "n_estimators:  500\n",
      "bootstrap:  False\n",
      "max_features:  log2\n"
     ]
    },
    {
     "name": "stderr",
     "output_type": "stream",
     "text": [
      "/anaconda3/lib/python3.6/site-packages/ipykernel_launcher.py:8: DataConversionWarning: A column-vector y was passed when a 1d array was expected. Please change the shape of y to (n_samples,), for example using ravel().\n",
      "  \n"
     ]
    },
    {
     "name": "stdout",
     "output_type": "stream",
     "text": [
      "R^2 score:  0.5703043673049473\n",
      "\n",
      "\n",
      "Round  7\n",
      "\n",
      "\n",
      "n_estimators:  10\n",
      "bootstrap:  True\n",
      "max_features:  auto\n"
     ]
    },
    {
     "name": "stderr",
     "output_type": "stream",
     "text": [
      "/anaconda3/lib/python3.6/site-packages/ipykernel_launcher.py:8: DataConversionWarning: A column-vector y was passed when a 1d array was expected. Please change the shape of y to (n_samples,), for example using ravel().\n",
      "  \n"
     ]
    },
    {
     "name": "stdout",
     "output_type": "stream",
     "text": [
      "R^2 score:  0.736300687872785\n",
      "\n",
      "\n",
      "n_estimators:  10\n",
      "bootstrap:  True\n",
      "max_features:  log2\n"
     ]
    },
    {
     "name": "stderr",
     "output_type": "stream",
     "text": [
      "/anaconda3/lib/python3.6/site-packages/ipykernel_launcher.py:8: DataConversionWarning: A column-vector y was passed when a 1d array was expected. Please change the shape of y to (n_samples,), for example using ravel().\n",
      "  \n"
     ]
    },
    {
     "name": "stdout",
     "output_type": "stream",
     "text": [
      "R^2 score:  0.4972550848709046\n",
      "\n",
      "\n",
      "n_estimators:  10\n",
      "bootstrap:  False\n",
      "max_features:  auto\n"
     ]
    },
    {
     "name": "stderr",
     "output_type": "stream",
     "text": [
      "/anaconda3/lib/python3.6/site-packages/ipykernel_launcher.py:8: DataConversionWarning: A column-vector y was passed when a 1d array was expected. Please change the shape of y to (n_samples,), for example using ravel().\n",
      "  \n"
     ]
    },
    {
     "name": "stdout",
     "output_type": "stream",
     "text": [
      "R^2 score:  0.633505073451406\n",
      "\n",
      "\n",
      "n_estimators:  10\n",
      "bootstrap:  False\n",
      "max_features:  log2\n"
     ]
    },
    {
     "name": "stderr",
     "output_type": "stream",
     "text": [
      "/anaconda3/lib/python3.6/site-packages/ipykernel_launcher.py:8: DataConversionWarning: A column-vector y was passed when a 1d array was expected. Please change the shape of y to (n_samples,), for example using ravel().\n",
      "  \n"
     ]
    },
    {
     "name": "stdout",
     "output_type": "stream",
     "text": [
      "R^2 score:  0.5042027198546142\n",
      "\n",
      "\n",
      "n_estimators:  50\n",
      "bootstrap:  True\n",
      "max_features:  auto\n"
     ]
    },
    {
     "name": "stderr",
     "output_type": "stream",
     "text": [
      "/anaconda3/lib/python3.6/site-packages/ipykernel_launcher.py:8: DataConversionWarning: A column-vector y was passed when a 1d array was expected. Please change the shape of y to (n_samples,), for example using ravel().\n",
      "  \n"
     ]
    },
    {
     "name": "stdout",
     "output_type": "stream",
     "text": [
      "R^2 score:  0.754067149332947\n",
      "\n",
      "\n",
      "n_estimators:  50\n",
      "bootstrap:  True\n",
      "max_features:  log2\n"
     ]
    },
    {
     "name": "stderr",
     "output_type": "stream",
     "text": [
      "/anaconda3/lib/python3.6/site-packages/ipykernel_launcher.py:8: DataConversionWarning: A column-vector y was passed when a 1d array was expected. Please change the shape of y to (n_samples,), for example using ravel().\n",
      "  \n"
     ]
    },
    {
     "name": "stdout",
     "output_type": "stream",
     "text": [
      "R^2 score:  0.5374612550056945\n",
      "\n",
      "\n",
      "n_estimators:  50\n",
      "bootstrap:  False\n",
      "max_features:  auto\n"
     ]
    },
    {
     "name": "stderr",
     "output_type": "stream",
     "text": [
      "/anaconda3/lib/python3.6/site-packages/ipykernel_launcher.py:8: DataConversionWarning: A column-vector y was passed when a 1d array was expected. Please change the shape of y to (n_samples,), for example using ravel().\n",
      "  \n"
     ]
    },
    {
     "name": "stdout",
     "output_type": "stream",
     "text": [
      "R^2 score:  0.6371519153146203\n",
      "\n",
      "\n",
      "n_estimators:  50\n",
      "bootstrap:  False\n",
      "max_features:  log2\n"
     ]
    },
    {
     "name": "stderr",
     "output_type": "stream",
     "text": [
      "/anaconda3/lib/python3.6/site-packages/ipykernel_launcher.py:8: DataConversionWarning: A column-vector y was passed when a 1d array was expected. Please change the shape of y to (n_samples,), for example using ravel().\n",
      "  \n"
     ]
    },
    {
     "name": "stdout",
     "output_type": "stream",
     "text": [
      "R^2 score:  0.5512175995611223\n",
      "\n",
      "\n",
      "n_estimators:  100\n",
      "bootstrap:  True\n",
      "max_features:  auto\n"
     ]
    },
    {
     "name": "stderr",
     "output_type": "stream",
     "text": [
      "/anaconda3/lib/python3.6/site-packages/ipykernel_launcher.py:8: DataConversionWarning: A column-vector y was passed when a 1d array was expected. Please change the shape of y to (n_samples,), for example using ravel().\n",
      "  \n"
     ]
    },
    {
     "name": "stdout",
     "output_type": "stream",
     "text": [
      "R^2 score:  0.7522999274655695\n",
      "\n",
      "\n",
      "n_estimators:  100\n",
      "bootstrap:  True\n",
      "max_features:  log2\n"
     ]
    },
    {
     "name": "stderr",
     "output_type": "stream",
     "text": [
      "/anaconda3/lib/python3.6/site-packages/ipykernel_launcher.py:8: DataConversionWarning: A column-vector y was passed when a 1d array was expected. Please change the shape of y to (n_samples,), for example using ravel().\n",
      "  \n"
     ]
    },
    {
     "name": "stdout",
     "output_type": "stream",
     "text": [
      "R^2 score:  0.5586026650679967\n",
      "\n",
      "\n",
      "n_estimators:  100\n",
      "bootstrap:  False\n",
      "max_features:  auto\n"
     ]
    },
    {
     "name": "stderr",
     "output_type": "stream",
     "text": [
      "/anaconda3/lib/python3.6/site-packages/ipykernel_launcher.py:8: DataConversionWarning: A column-vector y was passed when a 1d array was expected. Please change the shape of y to (n_samples,), for example using ravel().\n",
      "  \n"
     ]
    },
    {
     "name": "stdout",
     "output_type": "stream",
     "text": [
      "R^2 score:  0.63831225203781\n",
      "\n",
      "\n",
      "n_estimators:  100\n",
      "bootstrap:  False\n",
      "max_features:  log2\n"
     ]
    },
    {
     "name": "stderr",
     "output_type": "stream",
     "text": [
      "/anaconda3/lib/python3.6/site-packages/ipykernel_launcher.py:8: DataConversionWarning: A column-vector y was passed when a 1d array was expected. Please change the shape of y to (n_samples,), for example using ravel().\n",
      "  \n"
     ]
    },
    {
     "name": "stdout",
     "output_type": "stream",
     "text": [
      "R^2 score:  0.5718523823194348\n",
      "\n",
      "\n",
      "n_estimators:  150\n",
      "bootstrap:  True\n",
      "max_features:  auto\n"
     ]
    },
    {
     "name": "stderr",
     "output_type": "stream",
     "text": [
      "/anaconda3/lib/python3.6/site-packages/ipykernel_launcher.py:8: DataConversionWarning: A column-vector y was passed when a 1d array was expected. Please change the shape of y to (n_samples,), for example using ravel().\n",
      "  \n"
     ]
    },
    {
     "name": "stdout",
     "output_type": "stream",
     "text": [
      "R^2 score:  0.7507278429106375\n",
      "\n",
      "\n",
      "n_estimators:  150\n",
      "bootstrap:  True\n",
      "max_features:  log2\n"
     ]
    },
    {
     "name": "stderr",
     "output_type": "stream",
     "text": [
      "/anaconda3/lib/python3.6/site-packages/ipykernel_launcher.py:8: DataConversionWarning: A column-vector y was passed when a 1d array was expected. Please change the shape of y to (n_samples,), for example using ravel().\n",
      "  \n"
     ]
    },
    {
     "name": "stdout",
     "output_type": "stream",
     "text": [
      "R^2 score:  0.5510181312458875\n",
      "\n",
      "\n",
      "n_estimators:  150\n",
      "bootstrap:  False\n",
      "max_features:  auto\n"
     ]
    },
    {
     "name": "stderr",
     "output_type": "stream",
     "text": [
      "/anaconda3/lib/python3.6/site-packages/ipykernel_launcher.py:8: DataConversionWarning: A column-vector y was passed when a 1d array was expected. Please change the shape of y to (n_samples,), for example using ravel().\n",
      "  \n"
     ]
    },
    {
     "name": "stdout",
     "output_type": "stream",
     "text": [
      "R^2 score:  0.6370512192023159\n",
      "\n",
      "\n",
      "n_estimators:  150\n",
      "bootstrap:  False\n",
      "max_features:  log2\n"
     ]
    },
    {
     "name": "stderr",
     "output_type": "stream",
     "text": [
      "/anaconda3/lib/python3.6/site-packages/ipykernel_launcher.py:8: DataConversionWarning: A column-vector y was passed when a 1d array was expected. Please change the shape of y to (n_samples,), for example using ravel().\n",
      "  \n"
     ]
    },
    {
     "name": "stdout",
     "output_type": "stream",
     "text": [
      "R^2 score:  0.5584883447782076\n",
      "\n",
      "\n",
      "n_estimators:  200\n",
      "bootstrap:  True\n",
      "max_features:  auto\n"
     ]
    },
    {
     "name": "stderr",
     "output_type": "stream",
     "text": [
      "/anaconda3/lib/python3.6/site-packages/ipykernel_launcher.py:8: DataConversionWarning: A column-vector y was passed when a 1d array was expected. Please change the shape of y to (n_samples,), for example using ravel().\n",
      "  \n"
     ]
    },
    {
     "name": "stdout",
     "output_type": "stream",
     "text": [
      "R^2 score:  0.7494578366802992\n",
      "\n",
      "\n",
      "n_estimators:  200\n",
      "bootstrap:  True\n",
      "max_features:  log2\n"
     ]
    },
    {
     "name": "stderr",
     "output_type": "stream",
     "text": [
      "/anaconda3/lib/python3.6/site-packages/ipykernel_launcher.py:8: DataConversionWarning: A column-vector y was passed when a 1d array was expected. Please change the shape of y to (n_samples,), for example using ravel().\n",
      "  \n"
     ]
    },
    {
     "name": "stdout",
     "output_type": "stream",
     "text": [
      "R^2 score:  0.5461622757077398\n",
      "\n",
      "\n",
      "n_estimators:  200\n",
      "bootstrap:  False\n",
      "max_features:  auto\n"
     ]
    },
    {
     "name": "stderr",
     "output_type": "stream",
     "text": [
      "/anaconda3/lib/python3.6/site-packages/ipykernel_launcher.py:8: DataConversionWarning: A column-vector y was passed when a 1d array was expected. Please change the shape of y to (n_samples,), for example using ravel().\n",
      "  \n"
     ]
    },
    {
     "name": "stdout",
     "output_type": "stream",
     "text": [
      "R^2 score:  0.6407342471058171\n",
      "\n",
      "\n",
      "n_estimators:  200\n",
      "bootstrap:  False\n",
      "max_features:  log2\n"
     ]
    },
    {
     "name": "stderr",
     "output_type": "stream",
     "text": [
      "/anaconda3/lib/python3.6/site-packages/ipykernel_launcher.py:8: DataConversionWarning: A column-vector y was passed when a 1d array was expected. Please change the shape of y to (n_samples,), for example using ravel().\n",
      "  \n"
     ]
    },
    {
     "name": "stdout",
     "output_type": "stream",
     "text": [
      "R^2 score:  0.5645845229293855\n",
      "\n",
      "\n",
      "n_estimators:  250\n",
      "bootstrap:  True\n",
      "max_features:  auto\n"
     ]
    },
    {
     "name": "stderr",
     "output_type": "stream",
     "text": [
      "/anaconda3/lib/python3.6/site-packages/ipykernel_launcher.py:8: DataConversionWarning: A column-vector y was passed when a 1d array was expected. Please change the shape of y to (n_samples,), for example using ravel().\n",
      "  \n"
     ]
    },
    {
     "name": "stdout",
     "output_type": "stream",
     "text": [
      "R^2 score:  0.750347022179481\n",
      "\n",
      "\n",
      "n_estimators:  250\n",
      "bootstrap:  True\n",
      "max_features:  log2\n"
     ]
    },
    {
     "name": "stderr",
     "output_type": "stream",
     "text": [
      "/anaconda3/lib/python3.6/site-packages/ipykernel_launcher.py:8: DataConversionWarning: A column-vector y was passed when a 1d array was expected. Please change the shape of y to (n_samples,), for example using ravel().\n",
      "  \n"
     ]
    },
    {
     "name": "stdout",
     "output_type": "stream",
     "text": [
      "R^2 score:  0.5488854452686324\n",
      "\n",
      "\n",
      "n_estimators:  250\n",
      "bootstrap:  False\n",
      "max_features:  auto\n"
     ]
    },
    {
     "name": "stderr",
     "output_type": "stream",
     "text": [
      "/anaconda3/lib/python3.6/site-packages/ipykernel_launcher.py:8: DataConversionWarning: A column-vector y was passed when a 1d array was expected. Please change the shape of y to (n_samples,), for example using ravel().\n",
      "  \n"
     ]
    },
    {
     "name": "stdout",
     "output_type": "stream",
     "text": [
      "R^2 score:  0.6397535326995255\n",
      "\n",
      "\n",
      "n_estimators:  250\n",
      "bootstrap:  False\n",
      "max_features:  log2\n"
     ]
    },
    {
     "name": "stderr",
     "output_type": "stream",
     "text": [
      "/anaconda3/lib/python3.6/site-packages/ipykernel_launcher.py:8: DataConversionWarning: A column-vector y was passed when a 1d array was expected. Please change the shape of y to (n_samples,), for example using ravel().\n",
      "  \n"
     ]
    },
    {
     "name": "stdout",
     "output_type": "stream",
     "text": [
      "R^2 score:  0.5655617434889363\n",
      "\n",
      "\n",
      "n_estimators:  500\n",
      "bootstrap:  True\n",
      "max_features:  auto\n"
     ]
    },
    {
     "name": "stderr",
     "output_type": "stream",
     "text": [
      "/anaconda3/lib/python3.6/site-packages/ipykernel_launcher.py:8: DataConversionWarning: A column-vector y was passed when a 1d array was expected. Please change the shape of y to (n_samples,), for example using ravel().\n",
      "  \n"
     ]
    },
    {
     "name": "stdout",
     "output_type": "stream",
     "text": [
      "R^2 score:  0.7507573651158739\n",
      "\n",
      "\n",
      "n_estimators:  500\n",
      "bootstrap:  True\n",
      "max_features:  log2\n"
     ]
    },
    {
     "name": "stderr",
     "output_type": "stream",
     "text": [
      "/anaconda3/lib/python3.6/site-packages/ipykernel_launcher.py:8: DataConversionWarning: A column-vector y was passed when a 1d array was expected. Please change the shape of y to (n_samples,), for example using ravel().\n",
      "  \n"
     ]
    },
    {
     "name": "stdout",
     "output_type": "stream",
     "text": [
      "R^2 score:  0.5591578519994668\n",
      "\n",
      "\n",
      "n_estimators:  500\n",
      "bootstrap:  False\n",
      "max_features:  auto\n"
     ]
    },
    {
     "name": "stderr",
     "output_type": "stream",
     "text": [
      "/anaconda3/lib/python3.6/site-packages/ipykernel_launcher.py:8: DataConversionWarning: A column-vector y was passed when a 1d array was expected. Please change the shape of y to (n_samples,), for example using ravel().\n",
      "  \n"
     ]
    },
    {
     "name": "stdout",
     "output_type": "stream",
     "text": [
      "R^2 score:  0.6402860870353244\n",
      "\n",
      "\n",
      "n_estimators:  500\n",
      "bootstrap:  False\n",
      "max_features:  log2\n"
     ]
    },
    {
     "name": "stderr",
     "output_type": "stream",
     "text": [
      "/anaconda3/lib/python3.6/site-packages/ipykernel_launcher.py:8: DataConversionWarning: A column-vector y was passed when a 1d array was expected. Please change the shape of y to (n_samples,), for example using ravel().\n",
      "  \n"
     ]
    },
    {
     "name": "stdout",
     "output_type": "stream",
     "text": [
      "R^2 score:  0.5708534918427257\n",
      "\n",
      "\n",
      "Round  8\n",
      "\n",
      "\n",
      "n_estimators:  10\n",
      "bootstrap:  True\n",
      "max_features:  auto\n"
     ]
    },
    {
     "name": "stderr",
     "output_type": "stream",
     "text": [
      "/anaconda3/lib/python3.6/site-packages/ipykernel_launcher.py:8: DataConversionWarning: A column-vector y was passed when a 1d array was expected. Please change the shape of y to (n_samples,), for example using ravel().\n",
      "  \n"
     ]
    },
    {
     "name": "stdout",
     "output_type": "stream",
     "text": [
      "R^2 score:  0.726229213305071\n",
      "\n",
      "\n",
      "n_estimators:  10\n",
      "bootstrap:  True\n",
      "max_features:  log2\n"
     ]
    },
    {
     "name": "stderr",
     "output_type": "stream",
     "text": [
      "/anaconda3/lib/python3.6/site-packages/ipykernel_launcher.py:8: DataConversionWarning: A column-vector y was passed when a 1d array was expected. Please change the shape of y to (n_samples,), for example using ravel().\n",
      "  \n"
     ]
    },
    {
     "name": "stdout",
     "output_type": "stream",
     "text": [
      "R^2 score:  0.4922050990037451\n",
      "\n",
      "\n",
      "n_estimators:  10\n",
      "bootstrap:  False\n",
      "max_features:  auto\n"
     ]
    },
    {
     "name": "stderr",
     "output_type": "stream",
     "text": [
      "/anaconda3/lib/python3.6/site-packages/ipykernel_launcher.py:8: DataConversionWarning: A column-vector y was passed when a 1d array was expected. Please change the shape of y to (n_samples,), for example using ravel().\n",
      "  \n"
     ]
    },
    {
     "name": "stdout",
     "output_type": "stream",
     "text": [
      "R^2 score:  0.634652708632375\n",
      "\n",
      "\n",
      "n_estimators:  10\n",
      "bootstrap:  False\n",
      "max_features:  log2\n"
     ]
    },
    {
     "name": "stderr",
     "output_type": "stream",
     "text": [
      "/anaconda3/lib/python3.6/site-packages/ipykernel_launcher.py:8: DataConversionWarning: A column-vector y was passed when a 1d array was expected. Please change the shape of y to (n_samples,), for example using ravel().\n",
      "  \n"
     ]
    },
    {
     "name": "stdout",
     "output_type": "stream",
     "text": [
      "R^2 score:  0.5219183185953864\n",
      "\n",
      "\n",
      "n_estimators:  50\n",
      "bootstrap:  True\n",
      "max_features:  auto\n"
     ]
    },
    {
     "name": "stderr",
     "output_type": "stream",
     "text": [
      "/anaconda3/lib/python3.6/site-packages/ipykernel_launcher.py:8: DataConversionWarning: A column-vector y was passed when a 1d array was expected. Please change the shape of y to (n_samples,), for example using ravel().\n",
      "  \n"
     ]
    },
    {
     "name": "stdout",
     "output_type": "stream",
     "text": [
      "R^2 score:  0.7497160072751368\n",
      "\n",
      "\n",
      "n_estimators:  50\n",
      "bootstrap:  True\n",
      "max_features:  log2\n"
     ]
    },
    {
     "name": "stderr",
     "output_type": "stream",
     "text": [
      "/anaconda3/lib/python3.6/site-packages/ipykernel_launcher.py:8: DataConversionWarning: A column-vector y was passed when a 1d array was expected. Please change the shape of y to (n_samples,), for example using ravel().\n",
      "  \n"
     ]
    },
    {
     "name": "stdout",
     "output_type": "stream",
     "text": [
      "R^2 score:  0.5302129292468325\n",
      "\n",
      "\n",
      "n_estimators:  50\n",
      "bootstrap:  False\n",
      "max_features:  auto\n"
     ]
    },
    {
     "name": "stderr",
     "output_type": "stream",
     "text": [
      "/anaconda3/lib/python3.6/site-packages/ipykernel_launcher.py:8: DataConversionWarning: A column-vector y was passed when a 1d array was expected. Please change the shape of y to (n_samples,), for example using ravel().\n",
      "  \n"
     ]
    },
    {
     "name": "stdout",
     "output_type": "stream",
     "text": [
      "R^2 score:  0.6410293353439684\n",
      "\n",
      "\n",
      "n_estimators:  50\n",
      "bootstrap:  False\n",
      "max_features:  log2\n"
     ]
    },
    {
     "name": "stderr",
     "output_type": "stream",
     "text": [
      "/anaconda3/lib/python3.6/site-packages/ipykernel_launcher.py:8: DataConversionWarning: A column-vector y was passed when a 1d array was expected. Please change the shape of y to (n_samples,), for example using ravel().\n",
      "  \n"
     ]
    },
    {
     "name": "stdout",
     "output_type": "stream",
     "text": [
      "R^2 score:  0.5572721221352448\n",
      "\n",
      "\n",
      "n_estimators:  100\n",
      "bootstrap:  True\n",
      "max_features:  auto\n"
     ]
    },
    {
     "name": "stderr",
     "output_type": "stream",
     "text": [
      "/anaconda3/lib/python3.6/site-packages/ipykernel_launcher.py:8: DataConversionWarning: A column-vector y was passed when a 1d array was expected. Please change the shape of y to (n_samples,), for example using ravel().\n",
      "  \n"
     ]
    },
    {
     "name": "stdout",
     "output_type": "stream",
     "text": [
      "R^2 score:  0.7493660915418213\n",
      "\n",
      "\n",
      "n_estimators:  100\n",
      "bootstrap:  True\n",
      "max_features:  log2\n"
     ]
    },
    {
     "name": "stderr",
     "output_type": "stream",
     "text": [
      "/anaconda3/lib/python3.6/site-packages/ipykernel_launcher.py:8: DataConversionWarning: A column-vector y was passed when a 1d array was expected. Please change the shape of y to (n_samples,), for example using ravel().\n",
      "  \n"
     ]
    },
    {
     "name": "stdout",
     "output_type": "stream",
     "text": [
      "R^2 score:  0.5522687595897322\n",
      "\n",
      "\n",
      "n_estimators:  100\n",
      "bootstrap:  False\n",
      "max_features:  auto\n"
     ]
    },
    {
     "name": "stderr",
     "output_type": "stream",
     "text": [
      "/anaconda3/lib/python3.6/site-packages/ipykernel_launcher.py:8: DataConversionWarning: A column-vector y was passed when a 1d array was expected. Please change the shape of y to (n_samples,), for example using ravel().\n",
      "  \n"
     ]
    },
    {
     "name": "stdout",
     "output_type": "stream",
     "text": [
      "R^2 score:  0.6403554324259633\n",
      "\n",
      "\n",
      "n_estimators:  100\n",
      "bootstrap:  False\n",
      "max_features:  log2\n"
     ]
    },
    {
     "name": "stderr",
     "output_type": "stream",
     "text": [
      "/anaconda3/lib/python3.6/site-packages/ipykernel_launcher.py:8: DataConversionWarning: A column-vector y was passed when a 1d array was expected. Please change the shape of y to (n_samples,), for example using ravel().\n",
      "  \n"
     ]
    },
    {
     "name": "stdout",
     "output_type": "stream",
     "text": [
      "R^2 score:  0.5585585891957671\n",
      "\n",
      "\n",
      "n_estimators:  150\n",
      "bootstrap:  True\n",
      "max_features:  auto\n"
     ]
    },
    {
     "name": "stderr",
     "output_type": "stream",
     "text": [
      "/anaconda3/lib/python3.6/site-packages/ipykernel_launcher.py:8: DataConversionWarning: A column-vector y was passed when a 1d array was expected. Please change the shape of y to (n_samples,), for example using ravel().\n",
      "  \n"
     ]
    },
    {
     "name": "stdout",
     "output_type": "stream",
     "text": [
      "R^2 score:  0.7472264700401046\n",
      "\n",
      "\n",
      "n_estimators:  150\n",
      "bootstrap:  True\n",
      "max_features:  log2\n"
     ]
    },
    {
     "name": "stderr",
     "output_type": "stream",
     "text": [
      "/anaconda3/lib/python3.6/site-packages/ipykernel_launcher.py:8: DataConversionWarning: A column-vector y was passed when a 1d array was expected. Please change the shape of y to (n_samples,), for example using ravel().\n",
      "  \n"
     ]
    },
    {
     "name": "stdout",
     "output_type": "stream",
     "text": [
      "R^2 score:  0.5591500247664891\n",
      "\n",
      "\n",
      "n_estimators:  150\n",
      "bootstrap:  False\n",
      "max_features:  auto\n"
     ]
    },
    {
     "name": "stderr",
     "output_type": "stream",
     "text": [
      "/anaconda3/lib/python3.6/site-packages/ipykernel_launcher.py:8: DataConversionWarning: A column-vector y was passed when a 1d array was expected. Please change the shape of y to (n_samples,), for example using ravel().\n",
      "  \n"
     ]
    },
    {
     "name": "stdout",
     "output_type": "stream",
     "text": [
      "R^2 score:  0.6396050878918571\n",
      "\n",
      "\n",
      "n_estimators:  150\n",
      "bootstrap:  False\n",
      "max_features:  log2\n"
     ]
    },
    {
     "name": "stderr",
     "output_type": "stream",
     "text": [
      "/anaconda3/lib/python3.6/site-packages/ipykernel_launcher.py:8: DataConversionWarning: A column-vector y was passed when a 1d array was expected. Please change the shape of y to (n_samples,), for example using ravel().\n",
      "  \n"
     ]
    },
    {
     "name": "stdout",
     "output_type": "stream",
     "text": [
      "R^2 score:  0.5683365904881071\n",
      "\n",
      "\n",
      "n_estimators:  200\n",
      "bootstrap:  True\n",
      "max_features:  auto\n"
     ]
    },
    {
     "name": "stderr",
     "output_type": "stream",
     "text": [
      "/anaconda3/lib/python3.6/site-packages/ipykernel_launcher.py:8: DataConversionWarning: A column-vector y was passed when a 1d array was expected. Please change the shape of y to (n_samples,), for example using ravel().\n",
      "  \n"
     ]
    },
    {
     "name": "stdout",
     "output_type": "stream",
     "text": [
      "R^2 score:  0.7527735022259581\n",
      "\n",
      "\n",
      "n_estimators:  200\n",
      "bootstrap:  True\n",
      "max_features:  log2\n"
     ]
    },
    {
     "name": "stderr",
     "output_type": "stream",
     "text": [
      "/anaconda3/lib/python3.6/site-packages/ipykernel_launcher.py:8: DataConversionWarning: A column-vector y was passed when a 1d array was expected. Please change the shape of y to (n_samples,), for example using ravel().\n",
      "  \n"
     ]
    },
    {
     "name": "stdout",
     "output_type": "stream",
     "text": [
      "R^2 score:  0.5596604608147278\n",
      "\n",
      "\n",
      "n_estimators:  200\n",
      "bootstrap:  False\n",
      "max_features:  auto\n"
     ]
    },
    {
     "name": "stderr",
     "output_type": "stream",
     "text": [
      "/anaconda3/lib/python3.6/site-packages/ipykernel_launcher.py:8: DataConversionWarning: A column-vector y was passed when a 1d array was expected. Please change the shape of y to (n_samples,), for example using ravel().\n",
      "  \n"
     ]
    },
    {
     "name": "stdout",
     "output_type": "stream",
     "text": [
      "R^2 score:  0.6389142438422735\n",
      "\n",
      "\n",
      "n_estimators:  200\n",
      "bootstrap:  False\n",
      "max_features:  log2\n"
     ]
    },
    {
     "name": "stderr",
     "output_type": "stream",
     "text": [
      "/anaconda3/lib/python3.6/site-packages/ipykernel_launcher.py:8: DataConversionWarning: A column-vector y was passed when a 1d array was expected. Please change the shape of y to (n_samples,), for example using ravel().\n",
      "  \n"
     ]
    },
    {
     "name": "stdout",
     "output_type": "stream",
     "text": [
      "R^2 score:  0.5736844590043186\n",
      "\n",
      "\n",
      "n_estimators:  250\n",
      "bootstrap:  True\n",
      "max_features:  auto\n"
     ]
    },
    {
     "name": "stderr",
     "output_type": "stream",
     "text": [
      "/anaconda3/lib/python3.6/site-packages/ipykernel_launcher.py:8: DataConversionWarning: A column-vector y was passed when a 1d array was expected. Please change the shape of y to (n_samples,), for example using ravel().\n",
      "  \n"
     ]
    },
    {
     "name": "stdout",
     "output_type": "stream",
     "text": [
      "R^2 score:  0.7509034677099239\n",
      "\n",
      "\n",
      "n_estimators:  250\n",
      "bootstrap:  True\n",
      "max_features:  log2\n"
     ]
    },
    {
     "name": "stderr",
     "output_type": "stream",
     "text": [
      "/anaconda3/lib/python3.6/site-packages/ipykernel_launcher.py:8: DataConversionWarning: A column-vector y was passed when a 1d array was expected. Please change the shape of y to (n_samples,), for example using ravel().\n",
      "  \n"
     ]
    },
    {
     "name": "stdout",
     "output_type": "stream",
     "text": [
      "R^2 score:  0.5493026457705226\n",
      "\n",
      "\n",
      "n_estimators:  250\n",
      "bootstrap:  False\n",
      "max_features:  auto\n"
     ]
    },
    {
     "name": "stderr",
     "output_type": "stream",
     "text": [
      "/anaconda3/lib/python3.6/site-packages/ipykernel_launcher.py:8: DataConversionWarning: A column-vector y was passed when a 1d array was expected. Please change the shape of y to (n_samples,), for example using ravel().\n",
      "  \n"
     ]
    },
    {
     "name": "stdout",
     "output_type": "stream",
     "text": [
      "R^2 score:  0.6393226852871906\n",
      "\n",
      "\n",
      "n_estimators:  250\n",
      "bootstrap:  False\n",
      "max_features:  log2\n"
     ]
    },
    {
     "name": "stderr",
     "output_type": "stream",
     "text": [
      "/anaconda3/lib/python3.6/site-packages/ipykernel_launcher.py:8: DataConversionWarning: A column-vector y was passed when a 1d array was expected. Please change the shape of y to (n_samples,), for example using ravel().\n",
      "  \n"
     ]
    },
    {
     "name": "stdout",
     "output_type": "stream",
     "text": [
      "R^2 score:  0.5671879886160187\n",
      "\n",
      "\n",
      "n_estimators:  500\n",
      "bootstrap:  True\n",
      "max_features:  auto\n"
     ]
    },
    {
     "name": "stderr",
     "output_type": "stream",
     "text": [
      "/anaconda3/lib/python3.6/site-packages/ipykernel_launcher.py:8: DataConversionWarning: A column-vector y was passed when a 1d array was expected. Please change the shape of y to (n_samples,), for example using ravel().\n",
      "  \n"
     ]
    },
    {
     "name": "stdout",
     "output_type": "stream",
     "text": [
      "R^2 score:  0.7514008147203205\n",
      "\n",
      "\n",
      "n_estimators:  500\n",
      "bootstrap:  True\n",
      "max_features:  log2\n"
     ]
    },
    {
     "name": "stderr",
     "output_type": "stream",
     "text": [
      "/anaconda3/lib/python3.6/site-packages/ipykernel_launcher.py:8: DataConversionWarning: A column-vector y was passed when a 1d array was expected. Please change the shape of y to (n_samples,), for example using ravel().\n",
      "  \n"
     ]
    },
    {
     "name": "stdout",
     "output_type": "stream",
     "text": [
      "R^2 score:  0.5619083572399939\n",
      "\n",
      "\n",
      "n_estimators:  500\n",
      "bootstrap:  False\n",
      "max_features:  auto\n"
     ]
    },
    {
     "name": "stderr",
     "output_type": "stream",
     "text": [
      "/anaconda3/lib/python3.6/site-packages/ipykernel_launcher.py:8: DataConversionWarning: A column-vector y was passed when a 1d array was expected. Please change the shape of y to (n_samples,), for example using ravel().\n",
      "  \n"
     ]
    },
    {
     "name": "stdout",
     "output_type": "stream",
     "text": [
      "R^2 score:  0.6397398822340357\n",
      "\n",
      "\n",
      "n_estimators:  500\n",
      "bootstrap:  False\n",
      "max_features:  log2\n"
     ]
    },
    {
     "name": "stderr",
     "output_type": "stream",
     "text": [
      "/anaconda3/lib/python3.6/site-packages/ipykernel_launcher.py:8: DataConversionWarning: A column-vector y was passed when a 1d array was expected. Please change the shape of y to (n_samples,), for example using ravel().\n",
      "  \n"
     ]
    },
    {
     "name": "stdout",
     "output_type": "stream",
     "text": [
      "R^2 score:  0.5712768314324684\n",
      "\n",
      "\n",
      "Round  9\n",
      "\n",
      "\n",
      "n_estimators:  10\n",
      "bootstrap:  True\n",
      "max_features:  auto\n"
     ]
    },
    {
     "name": "stderr",
     "output_type": "stream",
     "text": [
      "/anaconda3/lib/python3.6/site-packages/ipykernel_launcher.py:8: DataConversionWarning: A column-vector y was passed when a 1d array was expected. Please change the shape of y to (n_samples,), for example using ravel().\n",
      "  \n"
     ]
    },
    {
     "name": "stdout",
     "output_type": "stream",
     "text": [
      "R^2 score:  0.7276944609066467\n",
      "\n",
      "\n",
      "n_estimators:  10\n",
      "bootstrap:  True\n",
      "max_features:  log2\n"
     ]
    },
    {
     "name": "stderr",
     "output_type": "stream",
     "text": [
      "/anaconda3/lib/python3.6/site-packages/ipykernel_launcher.py:8: DataConversionWarning: A column-vector y was passed when a 1d array was expected. Please change the shape of y to (n_samples,), for example using ravel().\n",
      "  \n"
     ]
    },
    {
     "name": "stdout",
     "output_type": "stream",
     "text": [
      "R^2 score:  0.5387669616563714\n",
      "\n",
      "\n",
      "n_estimators:  10\n",
      "bootstrap:  False\n",
      "max_features:  auto\n"
     ]
    },
    {
     "name": "stderr",
     "output_type": "stream",
     "text": [
      "/anaconda3/lib/python3.6/site-packages/ipykernel_launcher.py:8: DataConversionWarning: A column-vector y was passed when a 1d array was expected. Please change the shape of y to (n_samples,), for example using ravel().\n",
      "  \n"
     ]
    },
    {
     "name": "stdout",
     "output_type": "stream",
     "text": [
      "R^2 score:  0.6359402560698679\n",
      "\n",
      "\n",
      "n_estimators:  10\n",
      "bootstrap:  False\n",
      "max_features:  log2\n"
     ]
    },
    {
     "name": "stderr",
     "output_type": "stream",
     "text": [
      "/anaconda3/lib/python3.6/site-packages/ipykernel_launcher.py:8: DataConversionWarning: A column-vector y was passed when a 1d array was expected. Please change the shape of y to (n_samples,), for example using ravel().\n",
      "  \n"
     ]
    },
    {
     "name": "stdout",
     "output_type": "stream",
     "text": [
      "R^2 score:  0.5051273644919481\n",
      "\n",
      "\n",
      "n_estimators:  50\n",
      "bootstrap:  True\n",
      "max_features:  auto\n"
     ]
    },
    {
     "name": "stderr",
     "output_type": "stream",
     "text": [
      "/anaconda3/lib/python3.6/site-packages/ipykernel_launcher.py:8: DataConversionWarning: A column-vector y was passed when a 1d array was expected. Please change the shape of y to (n_samples,), for example using ravel().\n",
      "  \n"
     ]
    },
    {
     "name": "stdout",
     "output_type": "stream",
     "text": [
      "R^2 score:  0.7484737623640941\n",
      "\n",
      "\n",
      "n_estimators:  50\n",
      "bootstrap:  True\n",
      "max_features:  log2\n"
     ]
    },
    {
     "name": "stderr",
     "output_type": "stream",
     "text": [
      "/anaconda3/lib/python3.6/site-packages/ipykernel_launcher.py:8: DataConversionWarning: A column-vector y was passed when a 1d array was expected. Please change the shape of y to (n_samples,), for example using ravel().\n",
      "  \n"
     ]
    },
    {
     "name": "stdout",
     "output_type": "stream",
     "text": [
      "R^2 score:  0.5563263445759653\n",
      "\n",
      "\n",
      "n_estimators:  50\n",
      "bootstrap:  False\n",
      "max_features:  auto\n"
     ]
    },
    {
     "name": "stderr",
     "output_type": "stream",
     "text": [
      "/anaconda3/lib/python3.6/site-packages/ipykernel_launcher.py:8: DataConversionWarning: A column-vector y was passed when a 1d array was expected. Please change the shape of y to (n_samples,), for example using ravel().\n",
      "  \n"
     ]
    },
    {
     "name": "stdout",
     "output_type": "stream",
     "text": [
      "R^2 score:  0.640114936425985\n",
      "\n",
      "\n",
      "n_estimators:  50\n",
      "bootstrap:  False\n",
      "max_features:  log2\n"
     ]
    },
    {
     "name": "stderr",
     "output_type": "stream",
     "text": [
      "/anaconda3/lib/python3.6/site-packages/ipykernel_launcher.py:8: DataConversionWarning: A column-vector y was passed when a 1d array was expected. Please change the shape of y to (n_samples,), for example using ravel().\n",
      "  \n"
     ]
    },
    {
     "name": "stdout",
     "output_type": "stream",
     "text": [
      "R^2 score:  0.5662703328455867\n",
      "\n",
      "\n",
      "n_estimators:  100\n",
      "bootstrap:  True\n",
      "max_features:  auto\n"
     ]
    },
    {
     "name": "stderr",
     "output_type": "stream",
     "text": [
      "/anaconda3/lib/python3.6/site-packages/ipykernel_launcher.py:8: DataConversionWarning: A column-vector y was passed when a 1d array was expected. Please change the shape of y to (n_samples,), for example using ravel().\n",
      "  \n"
     ]
    },
    {
     "name": "stdout",
     "output_type": "stream",
     "text": [
      "R^2 score:  0.7528120507958908\n",
      "\n",
      "\n",
      "n_estimators:  100\n",
      "bootstrap:  True\n",
      "max_features:  log2\n"
     ]
    },
    {
     "name": "stderr",
     "output_type": "stream",
     "text": [
      "/anaconda3/lib/python3.6/site-packages/ipykernel_launcher.py:8: DataConversionWarning: A column-vector y was passed when a 1d array was expected. Please change the shape of y to (n_samples,), for example using ravel().\n",
      "  \n"
     ]
    },
    {
     "name": "stdout",
     "output_type": "stream",
     "text": [
      "R^2 score:  0.539884153271823\n",
      "\n",
      "\n",
      "n_estimators:  100\n",
      "bootstrap:  False\n",
      "max_features:  auto\n"
     ]
    },
    {
     "name": "stderr",
     "output_type": "stream",
     "text": [
      "/anaconda3/lib/python3.6/site-packages/ipykernel_launcher.py:8: DataConversionWarning: A column-vector y was passed when a 1d array was expected. Please change the shape of y to (n_samples,), for example using ravel().\n",
      "  \n"
     ]
    },
    {
     "name": "stdout",
     "output_type": "stream",
     "text": [
      "R^2 score:  0.6394653535180159\n",
      "\n",
      "\n",
      "n_estimators:  100\n",
      "bootstrap:  False\n",
      "max_features:  log2\n"
     ]
    },
    {
     "name": "stderr",
     "output_type": "stream",
     "text": [
      "/anaconda3/lib/python3.6/site-packages/ipykernel_launcher.py:8: DataConversionWarning: A column-vector y was passed when a 1d array was expected. Please change the shape of y to (n_samples,), for example using ravel().\n",
      "  \n"
     ]
    },
    {
     "name": "stdout",
     "output_type": "stream",
     "text": [
      "R^2 score:  0.5594992782065986\n",
      "\n",
      "\n",
      "n_estimators:  150\n",
      "bootstrap:  True\n",
      "max_features:  auto\n"
     ]
    },
    {
     "name": "stderr",
     "output_type": "stream",
     "text": [
      "/anaconda3/lib/python3.6/site-packages/ipykernel_launcher.py:8: DataConversionWarning: A column-vector y was passed when a 1d array was expected. Please change the shape of y to (n_samples,), for example using ravel().\n",
      "  \n"
     ]
    },
    {
     "name": "stdout",
     "output_type": "stream",
     "text": [
      "R^2 score:  0.755895011241672\n",
      "\n",
      "\n",
      "n_estimators:  150\n",
      "bootstrap:  True\n",
      "max_features:  log2\n"
     ]
    },
    {
     "name": "stderr",
     "output_type": "stream",
     "text": [
      "/anaconda3/lib/python3.6/site-packages/ipykernel_launcher.py:8: DataConversionWarning: A column-vector y was passed when a 1d array was expected. Please change the shape of y to (n_samples,), for example using ravel().\n",
      "  \n"
     ]
    },
    {
     "name": "stdout",
     "output_type": "stream",
     "text": [
      "R^2 score:  0.5528249199689961\n",
      "\n",
      "\n",
      "n_estimators:  150\n",
      "bootstrap:  False\n",
      "max_features:  auto\n"
     ]
    },
    {
     "name": "stderr",
     "output_type": "stream",
     "text": [
      "/anaconda3/lib/python3.6/site-packages/ipykernel_launcher.py:8: DataConversionWarning: A column-vector y was passed when a 1d array was expected. Please change the shape of y to (n_samples,), for example using ravel().\n",
      "  \n"
     ]
    },
    {
     "name": "stdout",
     "output_type": "stream",
     "text": [
      "R^2 score:  0.6398409941177712\n",
      "\n",
      "\n",
      "n_estimators:  150\n",
      "bootstrap:  False\n",
      "max_features:  log2\n"
     ]
    },
    {
     "name": "stderr",
     "output_type": "stream",
     "text": [
      "/anaconda3/lib/python3.6/site-packages/ipykernel_launcher.py:8: DataConversionWarning: A column-vector y was passed when a 1d array was expected. Please change the shape of y to (n_samples,), for example using ravel().\n",
      "  \n"
     ]
    },
    {
     "name": "stdout",
     "output_type": "stream",
     "text": [
      "R^2 score:  0.5580668539600312\n",
      "\n",
      "\n",
      "n_estimators:  200\n",
      "bootstrap:  True\n",
      "max_features:  auto\n"
     ]
    },
    {
     "name": "stderr",
     "output_type": "stream",
     "text": [
      "/anaconda3/lib/python3.6/site-packages/ipykernel_launcher.py:8: DataConversionWarning: A column-vector y was passed when a 1d array was expected. Please change the shape of y to (n_samples,), for example using ravel().\n",
      "  \n"
     ]
    },
    {
     "name": "stdout",
     "output_type": "stream",
     "text": [
      "R^2 score:  0.7477949282167744\n",
      "\n",
      "\n",
      "n_estimators:  200\n",
      "bootstrap:  True\n",
      "max_features:  log2\n"
     ]
    },
    {
     "name": "stderr",
     "output_type": "stream",
     "text": [
      "/anaconda3/lib/python3.6/site-packages/ipykernel_launcher.py:8: DataConversionWarning: A column-vector y was passed when a 1d array was expected. Please change the shape of y to (n_samples,), for example using ravel().\n",
      "  \n"
     ]
    },
    {
     "name": "stdout",
     "output_type": "stream",
     "text": [
      "R^2 score:  0.5475235635815472\n",
      "\n",
      "\n",
      "n_estimators:  200\n",
      "bootstrap:  False\n",
      "max_features:  auto\n"
     ]
    },
    {
     "name": "stderr",
     "output_type": "stream",
     "text": [
      "/anaconda3/lib/python3.6/site-packages/ipykernel_launcher.py:8: DataConversionWarning: A column-vector y was passed when a 1d array was expected. Please change the shape of y to (n_samples,), for example using ravel().\n",
      "  \n"
     ]
    },
    {
     "name": "stdout",
     "output_type": "stream",
     "text": [
      "R^2 score:  0.639418868394299\n",
      "\n",
      "\n",
      "n_estimators:  200\n",
      "bootstrap:  False\n",
      "max_features:  log2\n"
     ]
    },
    {
     "name": "stderr",
     "output_type": "stream",
     "text": [
      "/anaconda3/lib/python3.6/site-packages/ipykernel_launcher.py:8: DataConversionWarning: A column-vector y was passed when a 1d array was expected. Please change the shape of y to (n_samples,), for example using ravel().\n",
      "  \n"
     ]
    },
    {
     "name": "stdout",
     "output_type": "stream",
     "text": [
      "R^2 score:  0.5701855271817032\n",
      "\n",
      "\n",
      "n_estimators:  250\n",
      "bootstrap:  True\n",
      "max_features:  auto\n"
     ]
    },
    {
     "name": "stderr",
     "output_type": "stream",
     "text": [
      "/anaconda3/lib/python3.6/site-packages/ipykernel_launcher.py:8: DataConversionWarning: A column-vector y was passed when a 1d array was expected. Please change the shape of y to (n_samples,), for example using ravel().\n",
      "  \n"
     ]
    },
    {
     "name": "stdout",
     "output_type": "stream",
     "text": [
      "R^2 score:  0.7480898025885951\n",
      "\n",
      "\n",
      "n_estimators:  250\n",
      "bootstrap:  True\n",
      "max_features:  log2\n"
     ]
    },
    {
     "name": "stderr",
     "output_type": "stream",
     "text": [
      "/anaconda3/lib/python3.6/site-packages/ipykernel_launcher.py:8: DataConversionWarning: A column-vector y was passed when a 1d array was expected. Please change the shape of y to (n_samples,), for example using ravel().\n",
      "  \n"
     ]
    },
    {
     "name": "stdout",
     "output_type": "stream",
     "text": [
      "R^2 score:  0.5474155957685725\n",
      "\n",
      "\n",
      "n_estimators:  250\n",
      "bootstrap:  False\n",
      "max_features:  auto\n"
     ]
    },
    {
     "name": "stderr",
     "output_type": "stream",
     "text": [
      "/anaconda3/lib/python3.6/site-packages/ipykernel_launcher.py:8: DataConversionWarning: A column-vector y was passed when a 1d array was expected. Please change the shape of y to (n_samples,), for example using ravel().\n",
      "  \n"
     ]
    },
    {
     "name": "stdout",
     "output_type": "stream",
     "text": [
      "R^2 score:  0.6400470414552695\n",
      "\n",
      "\n",
      "n_estimators:  250\n",
      "bootstrap:  False\n",
      "max_features:  log2\n"
     ]
    },
    {
     "name": "stderr",
     "output_type": "stream",
     "text": [
      "/anaconda3/lib/python3.6/site-packages/ipykernel_launcher.py:8: DataConversionWarning: A column-vector y was passed when a 1d array was expected. Please change the shape of y to (n_samples,), for example using ravel().\n",
      "  \n"
     ]
    },
    {
     "name": "stdout",
     "output_type": "stream",
     "text": [
      "R^2 score:  0.5703969533780617\n",
      "\n",
      "\n",
      "n_estimators:  500\n",
      "bootstrap:  True\n",
      "max_features:  auto\n"
     ]
    },
    {
     "name": "stderr",
     "output_type": "stream",
     "text": [
      "/anaconda3/lib/python3.6/site-packages/ipykernel_launcher.py:8: DataConversionWarning: A column-vector y was passed when a 1d array was expected. Please change the shape of y to (n_samples,), for example using ravel().\n",
      "  \n"
     ]
    },
    {
     "name": "stdout",
     "output_type": "stream",
     "text": [
      "R^2 score:  0.7490116945937896\n",
      "\n",
      "\n",
      "n_estimators:  500\n",
      "bootstrap:  True\n",
      "max_features:  log2\n"
     ]
    },
    {
     "name": "stderr",
     "output_type": "stream",
     "text": [
      "/anaconda3/lib/python3.6/site-packages/ipykernel_launcher.py:8: DataConversionWarning: A column-vector y was passed when a 1d array was expected. Please change the shape of y to (n_samples,), for example using ravel().\n",
      "  \n"
     ]
    },
    {
     "name": "stdout",
     "output_type": "stream",
     "text": [
      "R^2 score:  0.5542253447421395\n",
      "\n",
      "\n",
      "n_estimators:  500\n",
      "bootstrap:  False\n",
      "max_features:  auto\n"
     ]
    },
    {
     "name": "stderr",
     "output_type": "stream",
     "text": [
      "/anaconda3/lib/python3.6/site-packages/ipykernel_launcher.py:8: DataConversionWarning: A column-vector y was passed when a 1d array was expected. Please change the shape of y to (n_samples,), for example using ravel().\n",
      "  \n"
     ]
    },
    {
     "name": "stdout",
     "output_type": "stream",
     "text": [
      "R^2 score:  0.6393570103082091\n",
      "\n",
      "\n",
      "n_estimators:  500\n",
      "bootstrap:  False\n",
      "max_features:  log2\n"
     ]
    },
    {
     "name": "stderr",
     "output_type": "stream",
     "text": [
      "/anaconda3/lib/python3.6/site-packages/ipykernel_launcher.py:8: DataConversionWarning: A column-vector y was passed when a 1d array was expected. Please change the shape of y to (n_samples,), for example using ravel().\n",
      "  \n"
     ]
    },
    {
     "name": "stdout",
     "output_type": "stream",
     "text": [
      "R^2 score:  0.5725634012946992\n"
     ]
    }
   ],
   "source": [
    "train_RF_out_reg = []\n",
    "train_RF_out_scr = []\n",
    "\n",
    "for i in range(10):\n",
    "    print('\\n\\nRound ', i)\n",
    "    [boot_auto_reg, \n",
    "            boot_log2_reg, \n",
    "            full_auto_reg,\n",
    "            full_log2_reg,\n",
    "            boot_auto_src,\n",
    "            boot_log2_src,\n",
    "            full_auto_src,\n",
    "            full_log2_src,\n",
    "            ] = train_RF_quartet()\n",
    "    train_RF_out_reg.append([boot_auto_reg, boot_log2_reg, full_auto_reg, full_log2_reg])\n",
    "    train_RF_out_scr.append([boot_auto_src, boot_log2_src, full_auto_src, full_log2_src,])"
   ]
  },
  {
   "cell_type": "code",
   "execution_count": 88,
   "metadata": {},
   "outputs": [
    {
     "data": {
      "text/plain": [
       "[[[0.7234587459723114,\n",
       "   0.7489975293608062,\n",
       "   0.752441647497295,\n",
       "   0.7524662741063903,\n",
       "   0.7513641694986184,\n",
       "   0.7500685780133036,\n",
       "   0.7524877321810686],\n",
       "  [0.5096185560074706,\n",
       "   0.5459367472318768,\n",
       "   0.5582626829884406,\n",
       "   0.5562337763754072,\n",
       "   0.548218363948398,\n",
       "   0.5550232622495987,\n",
       "   0.5562720971662445],\n",
       "  [0.6338209025088293,\n",
       "   0.6383925717674277,\n",
       "   0.6393779407685543,\n",
       "   0.6407782909607715,\n",
       "   0.6390532615083402,\n",
       "   0.6391818214590649,\n",
       "   0.6405953463974056],\n",
       "  [0.5041577576819578,\n",
       "   0.5490641905819125,\n",
       "   0.5686866384319946,\n",
       "   0.5668755410360344,\n",
       "   0.5694326249438135,\n",
       "   0.5641715678460855,\n",
       "   0.5731891906312618]],\n",
       " [[0.7244394887593681,\n",
       "   0.7443171385460083,\n",
       "   0.7454324773495858,\n",
       "   0.7462595421323873,\n",
       "   0.7475418802524028,\n",
       "   0.7497250213013322,\n",
       "   0.7509573634827984],\n",
       "  [0.458011444956097,\n",
       "   0.5515350686118419,\n",
       "   0.5504185751786873,\n",
       "   0.5544920821406409,\n",
       "   0.5620783429407983,\n",
       "   0.5548600301291491,\n",
       "   0.5549397841788446],\n",
       "  [0.6408720459670421,\n",
       "   0.638319211864538,\n",
       "   0.6378281776862225,\n",
       "   0.6393771772509911,\n",
       "   0.6398871700540363,\n",
       "   0.638787938696024,\n",
       "   0.6402783356782995],\n",
       "  [0.5282995709110889,\n",
       "   0.5534400575181664,\n",
       "   0.5660246745021885,\n",
       "   0.5723989976760023,\n",
       "   0.5651784657060768,\n",
       "   0.5664833912126135,\n",
       "   0.5693285078807224]],\n",
       " [[0.7397861464455411,\n",
       "   0.7427596126961027,\n",
       "   0.7489115328606577,\n",
       "   0.7508776001110324,\n",
       "   0.7504651059306308,\n",
       "   0.7496773238775428,\n",
       "   0.750701850134384],\n",
       "  [0.4975132063567123,\n",
       "   0.5655027107818515,\n",
       "   0.5684787072200437,\n",
       "   0.5447868794365414,\n",
       "   0.552689120793664,\n",
       "   0.5559852819880571,\n",
       "   0.5596524395188396],\n",
       "  [0.6377661147084543,\n",
       "   0.6366672306097734,\n",
       "   0.6392063297452251,\n",
       "   0.6403309992442886,\n",
       "   0.6391377909759981,\n",
       "   0.638363785850929,\n",
       "   0.6393435844848762],\n",
       "  [0.5367081170494925,\n",
       "   0.5616009732042189,\n",
       "   0.548059605055513,\n",
       "   0.5675245747801014,\n",
       "   0.5662120638050789,\n",
       "   0.5668981147916907,\n",
       "   0.5687461868705408]],\n",
       " [[0.7363693184567439,\n",
       "   0.7447670933998574,\n",
       "   0.7482582105067817,\n",
       "   0.7488084623026088,\n",
       "   0.7505521547298568,\n",
       "   0.7495432998404181,\n",
       "   0.7511153829720346],\n",
       "  [0.48877708071958115,\n",
       "   0.5464416675761814,\n",
       "   0.5533437885884872,\n",
       "   0.5525471755837561,\n",
       "   0.5546731305094671,\n",
       "   0.5512671553659996,\n",
       "   0.5590622892515134],\n",
       "  [0.6296797163559207,\n",
       "   0.6382926086722739,\n",
       "   0.6400193260154525,\n",
       "   0.6413005367816602,\n",
       "   0.6379218653976642,\n",
       "   0.640478742181565,\n",
       "   0.6390866339193535],\n",
       "  [0.510813013414755,\n",
       "   0.5480808723640447,\n",
       "   0.5681820606308441,\n",
       "   0.5653870259097782,\n",
       "   0.5629863407123594,\n",
       "   0.5618309221662762,\n",
       "   0.5736180439133327]],\n",
       " [[0.7381067857266459,\n",
       "   0.7517982014224158,\n",
       "   0.7522914397591463,\n",
       "   0.7497398368921548,\n",
       "   0.7494185138719749,\n",
       "   0.7488869333485071,\n",
       "   0.7523512371915899],\n",
       "  [0.5225305919809966,\n",
       "   0.5722493458694428,\n",
       "   0.5633839385784088,\n",
       "   0.5624777121740867,\n",
       "   0.5519769034893386,\n",
       "   0.5522307932723254,\n",
       "   0.5530566013088302],\n",
       "  [0.6406387375393239,\n",
       "   0.6375443884640212,\n",
       "   0.6391000482544488,\n",
       "   0.638921377156535,\n",
       "   0.6395842729732782,\n",
       "   0.6390303958527896,\n",
       "   0.6390306044797787],\n",
       "  [0.5409508174169491,\n",
       "   0.5319943190755384,\n",
       "   0.5678706448949125,\n",
       "   0.5693465022383226,\n",
       "   0.5675863376685113,\n",
       "   0.5585504851764411,\n",
       "   0.5775607942423023]],\n",
       " [[0.7405504692311486,\n",
       "   0.7487004821402039,\n",
       "   0.7461934592259725,\n",
       "   0.7523965170023298,\n",
       "   0.7494295175813258,\n",
       "   0.7527718960634504,\n",
       "   0.7521610635993401],\n",
       "  [0.4983865553714182,\n",
       "   0.5706496698063425,\n",
       "   0.5453512603218629,\n",
       "   0.5611106754245985,\n",
       "   0.5500114998594234,\n",
       "   0.5575550785159957,\n",
       "   0.555668794695526],\n",
       "  [0.6367559094128106,\n",
       "   0.6414748069499171,\n",
       "   0.6400059245041747,\n",
       "   0.6393855306328742,\n",
       "   0.6404979916339146,\n",
       "   0.6400306247705108,\n",
       "   0.6398015799475605],\n",
       "  [0.5596528931750622,\n",
       "   0.5600477928399352,\n",
       "   0.5623915401632035,\n",
       "   0.5658232659270017,\n",
       "   0.5623998763320575,\n",
       "   0.5712271860201117,\n",
       "   0.5699910588802802]],\n",
       " [[0.7383426938436467,\n",
       "   0.751284446517639,\n",
       "   0.7473921051450478,\n",
       "   0.7502189075747736,\n",
       "   0.7533153501925346,\n",
       "   0.7509317689763351,\n",
       "   0.7493603443224691],\n",
       "  [0.5583290416092291,\n",
       "   0.5421053490215736,\n",
       "   0.5542115700077344,\n",
       "   0.5607296082318556,\n",
       "   0.5504979125978444,\n",
       "   0.5556202502610844,\n",
       "   0.5577763572817155],\n",
       "  [0.6323864728231711,\n",
       "   0.6398615896067117,\n",
       "   0.6385311499707755,\n",
       "   0.6390846077754148,\n",
       "   0.6389373049526494,\n",
       "   0.640205854672123,\n",
       "   0.6406163487602146],\n",
       "  [0.5575019503781173,\n",
       "   0.5655061772028411,\n",
       "   0.5635919863944368,\n",
       "   0.5750699178522829,\n",
       "   0.5739750623703832,\n",
       "   0.5651601559237627,\n",
       "   0.5703043673049473]],\n",
       " [[0.736300687872785,\n",
       "   0.754067149332947,\n",
       "   0.7522999274655695,\n",
       "   0.7507278429106375,\n",
       "   0.7494578366802992,\n",
       "   0.750347022179481,\n",
       "   0.7507573651158739],\n",
       "  [0.4972550848709046,\n",
       "   0.5374612550056945,\n",
       "   0.5586026650679967,\n",
       "   0.5510181312458875,\n",
       "   0.5461622757077398,\n",
       "   0.5488854452686324,\n",
       "   0.5591578519994668],\n",
       "  [0.633505073451406,\n",
       "   0.6371519153146203,\n",
       "   0.63831225203781,\n",
       "   0.6370512192023159,\n",
       "   0.6407342471058171,\n",
       "   0.6397535326995255,\n",
       "   0.6402860870353244],\n",
       "  [0.5042027198546142,\n",
       "   0.5512175995611223,\n",
       "   0.5718523823194348,\n",
       "   0.5584883447782076,\n",
       "   0.5645845229293855,\n",
       "   0.5655617434889363,\n",
       "   0.5708534918427257]],\n",
       " [[0.726229213305071,\n",
       "   0.7497160072751368,\n",
       "   0.7493660915418213,\n",
       "   0.7472264700401046,\n",
       "   0.7527735022259581,\n",
       "   0.7509034677099239,\n",
       "   0.7514008147203205],\n",
       "  [0.4922050990037451,\n",
       "   0.5302129292468325,\n",
       "   0.5522687595897322,\n",
       "   0.5591500247664891,\n",
       "   0.5596604608147278,\n",
       "   0.5493026457705226,\n",
       "   0.5619083572399939],\n",
       "  [0.634652708632375,\n",
       "   0.6410293353439684,\n",
       "   0.6403554324259633,\n",
       "   0.6396050878918571,\n",
       "   0.6389142438422735,\n",
       "   0.6393226852871906,\n",
       "   0.6397398822340357],\n",
       "  [0.5219183185953864,\n",
       "   0.5572721221352448,\n",
       "   0.5585585891957671,\n",
       "   0.5683365904881071,\n",
       "   0.5736844590043186,\n",
       "   0.5671879886160187,\n",
       "   0.5712768314324684]],\n",
       " [[0.7276944609066467,\n",
       "   0.7484737623640941,\n",
       "   0.7528120507958908,\n",
       "   0.755895011241672,\n",
       "   0.7477949282167744,\n",
       "   0.7480898025885951,\n",
       "   0.7490116945937896],\n",
       "  [0.5387669616563714,\n",
       "   0.5563263445759653,\n",
       "   0.539884153271823,\n",
       "   0.5528249199689961,\n",
       "   0.5475235635815472,\n",
       "   0.5474155957685725,\n",
       "   0.5542253447421395],\n",
       "  [0.6359402560698679,\n",
       "   0.640114936425985,\n",
       "   0.6394653535180159,\n",
       "   0.6398409941177712,\n",
       "   0.639418868394299,\n",
       "   0.6400470414552695,\n",
       "   0.6393570103082091],\n",
       "  [0.5051273644919481,\n",
       "   0.5662703328455867,\n",
       "   0.5594992782065986,\n",
       "   0.5580668539600312,\n",
       "   0.5701855271817032,\n",
       "   0.5703969533780617,\n",
       "   0.5725634012946992]]]"
      ]
     },
     "execution_count": 88,
     "metadata": {},
     "output_type": "execute_result"
    }
   ],
   "source": [
    "train_RF_out_scr"
   ]
  },
  {
   "cell_type": "code",
   "execution_count": 122,
   "metadata": {},
   "outputs": [
    {
     "data": {
      "text/plain": [
       "Total.Charges    1562.44\n",
       "dtype: float64"
      ]
     },
     "execution_count": 122,
     "metadata": {},
     "output_type": "execute_result"
    }
   ],
   "source": [
    "y.min()"
   ]
  },
  {
   "cell_type": "code",
   "execution_count": 123,
   "metadata": {},
   "outputs": [
    {
     "data": {
      "text/plain": [
       "Total.Charges    2193723.15\n",
       "dtype: float64"
      ]
     },
     "execution_count": 123,
     "metadata": {},
     "output_type": "execute_result"
    }
   ],
   "source": [
    "y.max()"
   ]
  },
  {
   "cell_type": "code",
   "execution_count": 124,
   "metadata": {},
   "outputs": [
    {
     "data": {
      "text/plain": [
       "Total.Charges    58879.052972\n",
       "dtype: float64"
      ]
     },
     "execution_count": 124,
     "metadata": {},
     "output_type": "execute_result"
    }
   ],
   "source": [
    "y.mean()"
   ]
  },
  {
   "cell_type": "code",
   "execution_count": 94,
   "metadata": {},
   "outputs": [
    {
     "data": {
      "image/png": "[encoded data removed]",
      "text/plain": [
       "<Figure size 864x576 with 1 Axes>"
      ]
     },
     "metadata": {},
     "output_type": "display_data"
    }
   ],
   "source": [
    "xlib = tree_nums\n",
    "fig, ax = plt.subplots(figsize=(12,8))\n",
    "\n",
    "\n",
    "ax.plot(xlib, boot_auto_src)\n",
    "ax.scatter(xlib, boot_auto_src)\n",
    "ax.plot(xlib, full_auto_src)\n",
    "ax.scatter(xlib, full_auto_src)\n",
    "ax.plot(xlib, boot_log2_src)\n",
    "ax.scatter(xlib, boot_log2_src)\n",
    "ax.plot(xlib, full_log2_src)\n",
    "ax.scatter(xlib, full_log2_src)\n",
    "ax.legend(['bootstrap, auto', 'full set, auto', 'bootstrap, log2', 'full set, log2'])\n",
    "\n",
    "plt.show()"
   ]
  },
  {
   "cell_type": "code",
   "execution_count": 151,
   "metadata": {},
   "outputs": [
    {
     "name": "stdout",
     "output_type": "stream",
     "text": [
      "[0.7234587459723114, 0.7489975293608062, 0.752441647497295, 0.7524662741063903, 0.7513641694986184, 0.7500685780133036, 0.7524877321810686]\n",
      "[0.7244394887593681, 0.7443171385460083, 0.7454324773495858, 0.7462595421323873, 0.7475418802524028, 0.7497250213013322, 0.7509573634827984]\n",
      "[0.7397861464455411, 0.7427596126961027, 0.7489115328606577, 0.7508776001110324, 0.7504651059306308, 0.7496773238775428, 0.750701850134384]\n",
      "[0.7363693184567439, 0.7447670933998574, 0.7482582105067817, 0.7488084623026088, 0.7505521547298568, 0.7495432998404181, 0.7511153829720346]\n",
      "[0.7381067857266459, 0.7517982014224158, 0.7522914397591463, 0.7497398368921548, 0.7494185138719749, 0.7488869333485071, 0.7523512371915899]\n",
      "[0.7405504692311486, 0.7487004821402039, 0.7461934592259725, 0.7523965170023298, 0.7494295175813258, 0.7527718960634504, 0.7521610635993401]\n",
      "[0.7383426938436467, 0.751284446517639, 0.7473921051450478, 0.7502189075747736, 0.7533153501925346, 0.7509317689763351, 0.7493603443224691]\n",
      "[0.736300687872785, 0.754067149332947, 0.7522999274655695, 0.7507278429106375, 0.7494578366802992, 0.750347022179481, 0.7507573651158739]\n",
      "[0.726229213305071, 0.7497160072751368, 0.7493660915418213, 0.7472264700401046, 0.7527735022259581, 0.7509034677099239, 0.7514008147203205]\n",
      "[0.7276944609066467, 0.7484737623640941, 0.7528120507958908, 0.755895011241672, 0.7477949282167744, 0.7480898025885951, 0.7490116945937896]\n"
     ]
    }
   ],
   "source": [
    "for scr_lst in train_RF_out_scr:\n",
    "    print(max(scr_lst))"
   ]
  },
  {
   "cell_type": "code",
   "execution_count": 97,
   "metadata": {
    "scrolled": false
   },
   "outputs": [
    {
     "data": {
      "image/png": "[encoded data removed]",
      "text/plain": [
       "<Figure size 648x504 with 1 Axes>"
      ]
     },
     "metadata": {},
     "output_type": "display_data"
    },
    {
     "data": {
      "image/png": "[encoded data removed]",
      "text/plain": [
       "<Figure size 648x504 with 1 Axes>"
      ]
     },
     "metadata": {},
     "output_type": "display_data"
    },
    {
     "data": {
      "image/png": "[encoded data removed]",
      "text/plain": [
       "<Figure size 648x504 with 1 Axes>"
      ]
     },
     "metadata": {},
     "output_type": "display_data"
    },
    {
     "data": {
      "image/png": "[encoded data removed]",
      "text/plain": [
       "<Figure size 648x504 with 1 Axes>"
      ]
     },
     "metadata": {},
     "output_type": "display_data"
    },
    {
     "data": {
      "image/png": "[encoded data removed]",
      "text/plain": [
       "<Figure size 648x504 with 1 Axes>"
      ]
     },
     "metadata": {},
     "output_type": "display_data"
    },
    {
     "data": {
      "image/png": "[encoded data removed]",
      "text/plain": [
       "<Figure size 648x504 with 1 Axes>"
      ]
     },
     "metadata": {},
     "output_type": "display_data"
    },
    {
     "data": {
      "image/png": "[encoded data removed]",
      "text/plain": [
       "<Figure size 648x504 with 1 Axes>"
      ]
     },
     "metadata": {},
     "output_type": "display_data"
    },
    {
     "data": {
      "image/png": "[encoded data removed]",
      "text/plain": [
       "<Figure size 648x504 with 1 Axes>"
      ]
     },
     "metadata": {},
     "output_type": "display_data"
    },
    {
     "data": {
      "image/png": "[encoded data removed]",
      "text/plain": [
       "<Figure size 648x504 with 1 Axes>"
      ]
     },
     "metadata": {},
     "output_type": "display_data"
    },
    {
     "data": {
      "image/png": "[encoded data removed]",
      "text/plain": [
       "<Figure size 648x504 with 1 Axes>"
      ]
     },
     "metadata": {},
     "output_type": "display_data"
    }
   ],
   "source": [
    "count = 0\n",
    "for scr_lst in train_RF_out_scr:\n",
    "    count += 1\n",
    "    xlib = tree_nums\n",
    "    fig, ax = plt.subplots(figsize=(9,7))\n",
    "    for i in range(4):\n",
    "        ax.plot(xlib, scr_lst[i])\n",
    "        ax.scatter(xlib, scr_lst[i])\n",
    "    ax.legend(['bootstrap, auto', 'bootstrap, log2', 'full set, auto', 'full set, log2'])\n",
    "    plt.show()"
   ]
  },
  {
   "cell_type": "markdown",
   "metadata": {},
   "source": [
    "using bootstrap all features is much better in R^2"
   ]
  },
  {
   "cell_type": "markdown",
   "metadata": {},
   "source": [
    "## Get MSE"
   ]
  },
  {
   "cell_type": "code",
   "execution_count": 110,
   "metadata": {},
   "outputs": [],
   "source": [
    "def MSE(actual, pred): \n",
    "    actual, pred = np.array(actual), np.array(pred)\n",
    "    return np.square(np.subtract(actual,pred)).mean() "
   ]
  },
  {
   "cell_type": "code",
   "execution_count": null,
   "metadata": {},
   "outputs": [],
   "source": [
    "data = {'Type.of.Training': []}"
   ]
  },
  {
   "cell_type": "code",
   "execution_count": 112,
   "metadata": {},
   "outputs": [],
   "source": [
    "tree1 = train_RF_out_reg[0][0][0]"
   ]
  },
  {
   "cell_type": "code",
   "execution_count": 107,
   "metadata": {},
   "outputs": [
    {
     "data": {
      "text/plain": [
       "RandomForestRegressor(bootstrap=True, criterion='mse', max_depth=None,\n",
       "           max_features='auto', max_leaf_nodes=None,\n",
       "           min_impurity_decrease=0.0, min_impurity_split=None,\n",
       "           min_samples_leaf=1, min_samples_split=2,\n",
       "           min_weight_fraction_leaf=0.0, n_estimators=500, n_jobs=-1,\n",
       "           oob_score=False, random_state=None, verbose=0, warm_start=False)"
      ]
     },
     "execution_count": 107,
     "metadata": {},
     "output_type": "execute_result"
    }
   ],
   "source": [
    "tree1"
   ]
  },
  {
   "cell_type": "code",
   "execution_count": 113,
   "metadata": {},
   "outputs": [],
   "source": [
    "y_new_test = tree1.predict(X_test)"
   ]
  },
  {
   "cell_type": "code",
   "execution_count": 109,
   "metadata": {},
   "outputs": [
    {
     "ename": "TypeError",
     "evalue": "unsupported operand type(s) for -: 'list' and 'list'",
     "output_type": "error",
     "traceback": [
      "\u001b[0;31m---------------------------------------------------------------------------\u001b[0m",
      "\u001b[0;31mTypeError\u001b[0m                                 Traceback (most recent call last)",
      "\u001b[0;32m<ipython-input-109-f14818142446>\u001b[0m in \u001b[0;36m<module>\u001b[0;34m()\u001b[0m\n\u001b[0;32m----> 1\u001b[0;31m \u001b[0;34m(\u001b[0m\u001b[0;34m[\u001b[0m\u001b[0;36m1\u001b[0m\u001b[0;34m,\u001b[0m \u001b[0;36m2\u001b[0m\u001b[0;34m,\u001b[0m \u001b[0;36m3\u001b[0m\u001b[0;34m]\u001b[0m \u001b[0;34m-\u001b[0m \u001b[0;34m[\u001b[0m\u001b[0;36m3\u001b[0m\u001b[0;34m,\u001b[0m \u001b[0;36m2\u001b[0m\u001b[0;34m,\u001b[0m \u001b[0;36m1\u001b[0m\u001b[0;34m]\u001b[0m\u001b[0;34m)\u001b[0m\u001b[0;34m^\u001b[0m\u001b[0;36m2\u001b[0m\u001b[0;34m\u001b[0m\u001b[0m\n\u001b[0m",
      "\u001b[0;31mTypeError\u001b[0m: unsupported operand type(s) for -: 'list' and 'list'"
     ]
    }
   ],
   "source": [
    "([1, 2, 3] - [3, 2, 1])^2"
   ]
  },
  {
   "cell_type": "code",
   "execution_count": 119,
   "metadata": {},
   "outputs": [
    {
     "data": {
      "text/plain": [
       "522893397.4035938"
      ]
     },
     "execution_count": 119,
     "metadata": {},
     "output_type": "execute_result"
    }
   ],
   "source": [
    "np.array(y_new_test).sum()"
   ]
  },
  {
   "cell_type": "code",
   "execution_count": 120,
   "metadata": {},
   "outputs": [
    {
     "data": {
      "text/plain": [
       "531147574.85"
      ]
     },
     "execution_count": 120,
     "metadata": {},
     "output_type": "execute_result"
    }
   ],
   "source": [
    "np.array(y_test).sum()"
   ]
  },
  {
   "cell_type": "code",
   "execution_count": 114,
   "metadata": {},
   "outputs": [
    {
     "data": {
      "text/plain": [
       "11565962445.049429"
      ]
     },
     "execution_count": 114,
     "metadata": {},
     "output_type": "execute_result"
    }
   ],
   "source": [
    "MSE(y_new_test, y_test)"
   ]
  },
  {
   "cell_type": "code",
   "execution_count": null,
   "metadata": {},
   "outputs": [],
   "source": [
    "for scr_lst in train_RF_out_scr:\n",
    "    col = 'Iteration.' + str(count) + \".R_sqr\""
   ]
  },
  {
   "cell_type": "markdown",
   "metadata": {},
   "source": [
    "## Generate feature importance "
   ]
  },
  {
   "cell_type": "code",
   "execution_count": 71,
   "metadata": {},
   "outputs": [],
   "source": [
    "imp = list(regressor.feature_importances_)\n",
    "col = list(X_train.columns)"
   ]
  },
  {
   "cell_type": "code",
   "execution_count": 75,
   "metadata": {
    "scrolled": true
   },
   "outputs": [
    {
     "data": {
      "text/html": [
       "<div>\n",
       "<style scoped>\n",
       "    .dataframe tbody tr th:only-of-type {\n",
       "        vertical-align: middle;\n",
       "    }\n",
       "\n",
       "    .dataframe tbody tr th {\n",
       "        vertical-align: top;\n",
       "    }\n",
       "\n",
       "    .dataframe thead th {\n",
       "        text-align: right;\n",
       "    }\n",
       "</style>\n",
       "<table border=\"1\" class=\"dataframe\">\n",
       "  <thead>\n",
       "    <tr style=\"text-align: right;\">\n",
       "      <th></th>\n",
       "      <th>Column.Names</th>\n",
       "      <th>Feature.Importance</th>\n",
       "    </tr>\n",
       "  </thead>\n",
       "  <tbody>\n",
       "    <tr>\n",
       "      <th>0</th>\n",
       "      <td>APR.Severity.of.Illness.Code</td>\n",
       "      <td>1.591309e-02</td>\n",
       "    </tr>\n",
       "    <tr>\n",
       "      <th>1</th>\n",
       "      <td>APR.Risk.of.Mortality</td>\n",
       "      <td>1.252543e-02</td>\n",
       "    </tr>\n",
       "    <tr>\n",
       "      <th>2</th>\n",
       "      <td>Age.Ordinal</td>\n",
       "      <td>1.489473e-02</td>\n",
       "    </tr>\n",
       "    <tr>\n",
       "      <th>3</th>\n",
       "      <td>Length.of.Stay</td>\n",
       "      <td>5.656567e-01</td>\n",
       "    </tr>\n",
       "    <tr>\n",
       "      <th>4</th>\n",
       "      <td>Hospital.County.Bronx</td>\n",
       "      <td>5.024358e-03</td>\n",
       "    </tr>\n",
       "    <tr>\n",
       "      <th>5</th>\n",
       "      <td>Hospital.County.Kings</td>\n",
       "      <td>4.662854e-03</td>\n",
       "    </tr>\n",
       "    <tr>\n",
       "      <th>6</th>\n",
       "      <td>Hospital.County.Manhattan</td>\n",
       "      <td>4.210911e-02</td>\n",
       "    </tr>\n",
       "    <tr>\n",
       "      <th>7</th>\n",
       "      <td>Hospital.County.Queens</td>\n",
       "      <td>3.007749e-03</td>\n",
       "    </tr>\n",
       "    <tr>\n",
       "      <th>8</th>\n",
       "      <td>Hospital.County.Richmond</td>\n",
       "      <td>6.723471e-04</td>\n",
       "    </tr>\n",
       "    <tr>\n",
       "      <th>9</th>\n",
       "      <td>Type.of.Admission.Elective</td>\n",
       "      <td>1.805517e-02</td>\n",
       "    </tr>\n",
       "    <tr>\n",
       "      <th>10</th>\n",
       "      <td>Type.of.Admission.Emergency</td>\n",
       "      <td>7.103173e-03</td>\n",
       "    </tr>\n",
       "    <tr>\n",
       "      <th>11</th>\n",
       "      <td>Type.of.Admission.Newborn</td>\n",
       "      <td>1.336274e-06</td>\n",
       "    </tr>\n",
       "    <tr>\n",
       "      <th>12</th>\n",
       "      <td>Type.of.Admission.Urgent</td>\n",
       "      <td>2.511011e-03</td>\n",
       "    </tr>\n",
       "    <tr>\n",
       "      <th>13</th>\n",
       "      <td>Type.of.Admission.Not Available</td>\n",
       "      <td>5.067265e-05</td>\n",
       "    </tr>\n",
       "    <tr>\n",
       "      <th>14</th>\n",
       "      <td>Type.of.Admission.Trauma</td>\n",
       "      <td>1.770049e-06</td>\n",
       "    </tr>\n",
       "    <tr>\n",
       "      <th>15</th>\n",
       "      <td>Patient.Disposition.Home w/ Home Health Services</td>\n",
       "      <td>3.785394e-03</td>\n",
       "    </tr>\n",
       "    <tr>\n",
       "      <th>16</th>\n",
       "      <td>Patient.Disposition.Skilled Nursing Home</td>\n",
       "      <td>2.634227e-03</td>\n",
       "    </tr>\n",
       "    <tr>\n",
       "      <th>17</th>\n",
       "      <td>Patient.Disposition.Home or Self Care</td>\n",
       "      <td>4.711698e-03</td>\n",
       "    </tr>\n",
       "    <tr>\n",
       "      <th>18</th>\n",
       "      <td>Patient.Disposition.Expired</td>\n",
       "      <td>4.761351e-03</td>\n",
       "    </tr>\n",
       "    <tr>\n",
       "      <th>19</th>\n",
       "      <td>Patient.Disposition.Left Against Medical Advice</td>\n",
       "      <td>8.940370e-05</td>\n",
       "    </tr>\n",
       "    <tr>\n",
       "      <th>20</th>\n",
       "      <td>Patient.Disposition.Short-term Hospital</td>\n",
       "      <td>6.722966e-04</td>\n",
       "    </tr>\n",
       "    <tr>\n",
       "      <th>21</th>\n",
       "      <td>Patient.Disposition.Hospice - Home</td>\n",
       "      <td>3.325136e-04</td>\n",
       "    </tr>\n",
       "    <tr>\n",
       "      <th>22</th>\n",
       "      <td>Patient.Disposition.Inpatient Rehabilitation F...</td>\n",
       "      <td>2.018808e-03</td>\n",
       "    </tr>\n",
       "    <tr>\n",
       "      <th>23</th>\n",
       "      <td>Patient.Disposition.Medicare Cert Long Term Ca...</td>\n",
       "      <td>4.403772e-03</td>\n",
       "    </tr>\n",
       "    <tr>\n",
       "      <th>24</th>\n",
       "      <td>Patient.Disposition.Another Type Not Listed</td>\n",
       "      <td>3.091779e-05</td>\n",
       "    </tr>\n",
       "    <tr>\n",
       "      <th>25</th>\n",
       "      <td>Patient.Disposition.Hospice - Medical Facility</td>\n",
       "      <td>5.156565e-04</td>\n",
       "    </tr>\n",
       "    <tr>\n",
       "      <th>26</th>\n",
       "      <td>Patient.Disposition.Cancer Center or Children'...</td>\n",
       "      <td>8.068207e-04</td>\n",
       "    </tr>\n",
       "    <tr>\n",
       "      <th>27</th>\n",
       "      <td>Patient.Disposition.Facility w/ Custodial/Supp...</td>\n",
       "      <td>7.489827e-06</td>\n",
       "    </tr>\n",
       "    <tr>\n",
       "      <th>28</th>\n",
       "      <td>Patient.Disposition.Federal Health Care Facility</td>\n",
       "      <td>2.223070e-06</td>\n",
       "    </tr>\n",
       "    <tr>\n",
       "      <th>29</th>\n",
       "      <td>Patient.Disposition.Hosp Basd Medicare Approve...</td>\n",
       "      <td>0.000000e+00</td>\n",
       "    </tr>\n",
       "    <tr>\n",
       "      <th>...</th>\n",
       "      <td>...</td>\n",
       "      <td>...</td>\n",
       "    </tr>\n",
       "    <tr>\n",
       "      <th>364</th>\n",
       "      <td>APR.MDC.Code.9</td>\n",
       "      <td>5.347078e-04</td>\n",
       "    </tr>\n",
       "    <tr>\n",
       "      <th>365</th>\n",
       "      <td>APR.MDC.Code.10</td>\n",
       "      <td>5.849698e-04</td>\n",
       "    </tr>\n",
       "    <tr>\n",
       "      <th>366</th>\n",
       "      <td>APR.MDC.Code.1</td>\n",
       "      <td>1.568875e-03</td>\n",
       "    </tr>\n",
       "    <tr>\n",
       "      <th>367</th>\n",
       "      <td>APR.MDC.Code.12</td>\n",
       "      <td>6.703674e-04</td>\n",
       "    </tr>\n",
       "    <tr>\n",
       "      <th>368</th>\n",
       "      <td>APR.MDC.Code.2</td>\n",
       "      <td>1.422570e-05</td>\n",
       "    </tr>\n",
       "    <tr>\n",
       "      <th>369</th>\n",
       "      <td>APR.MDC.Code.15</td>\n",
       "      <td>2.379810e-06</td>\n",
       "    </tr>\n",
       "    <tr>\n",
       "      <th>370</th>\n",
       "      <td>APR.MDC.Code.17</td>\n",
       "      <td>3.416877e-04</td>\n",
       "    </tr>\n",
       "    <tr>\n",
       "      <th>371</th>\n",
       "      <td>APR.MDC.Code.24</td>\n",
       "      <td>1.811804e-07</td>\n",
       "    </tr>\n",
       "    <tr>\n",
       "      <th>372</th>\n",
       "      <td>APR.MDC.Code.23</td>\n",
       "      <td>4.387932e-09</td>\n",
       "    </tr>\n",
       "    <tr>\n",
       "      <th>373</th>\n",
       "      <td>APR.MDC.Code.5</td>\n",
       "      <td>1.578606e-05</td>\n",
       "    </tr>\n",
       "    <tr>\n",
       "      <th>374</th>\n",
       "      <td>APR.Medical.Surgical.Description.Surgical</td>\n",
       "      <td>6.021038e-02</td>\n",
       "    </tr>\n",
       "    <tr>\n",
       "      <th>375</th>\n",
       "      <td>Payment.Typology.1.Medicaid</td>\n",
       "      <td>4.847142e-03</td>\n",
       "    </tr>\n",
       "    <tr>\n",
       "      <th>376</th>\n",
       "      <td>Payment.Typology.1.Medicare</td>\n",
       "      <td>2.899054e-03</td>\n",
       "    </tr>\n",
       "    <tr>\n",
       "      <th>377</th>\n",
       "      <td>Payment.Typology.1.Blue Cross/Blue Shield</td>\n",
       "      <td>4.203915e-03</td>\n",
       "    </tr>\n",
       "    <tr>\n",
       "      <th>378</th>\n",
       "      <td>Payment.Typology.1.Self-Pay</td>\n",
       "      <td>1.337344e-03</td>\n",
       "    </tr>\n",
       "    <tr>\n",
       "      <th>379</th>\n",
       "      <td>Payment.Typology.1.Private Health Insurance</td>\n",
       "      <td>4.102500e-03</td>\n",
       "    </tr>\n",
       "    <tr>\n",
       "      <th>380</th>\n",
       "      <td>Payment.Typology.1.Federal/State/Local/VA</td>\n",
       "      <td>1.646416e-05</td>\n",
       "    </tr>\n",
       "    <tr>\n",
       "      <th>381</th>\n",
       "      <td>Payment.Typology.1.Department of Corrections</td>\n",
       "      <td>2.106684e-04</td>\n",
       "    </tr>\n",
       "    <tr>\n",
       "      <th>382</th>\n",
       "      <td>Payment.Typology.1.Managed Care, Unspecified</td>\n",
       "      <td>2.840070e-04</td>\n",
       "    </tr>\n",
       "    <tr>\n",
       "      <th>383</th>\n",
       "      <td>Payment.Typology.1.Miscellaneous/Other</td>\n",
       "      <td>3.574441e-04</td>\n",
       "    </tr>\n",
       "    <tr>\n",
       "      <th>384</th>\n",
       "      <td>Payment.Typology.1.Unknown</td>\n",
       "      <td>4.029825e-05</td>\n",
       "    </tr>\n",
       "    <tr>\n",
       "      <th>385</th>\n",
       "      <td>Emergency.Department.Indicator.Y</td>\n",
       "      <td>3.619359e-03</td>\n",
       "    </tr>\n",
       "    <tr>\n",
       "      <th>386</th>\n",
       "      <td>Gender.F</td>\n",
       "      <td>3.903522e-03</td>\n",
       "    </tr>\n",
       "    <tr>\n",
       "      <th>387</th>\n",
       "      <td>Race.Black/African American</td>\n",
       "      <td>3.704902e-03</td>\n",
       "    </tr>\n",
       "    <tr>\n",
       "      <th>388</th>\n",
       "      <td>Race.Other Race</td>\n",
       "      <td>4.219451e-03</td>\n",
       "    </tr>\n",
       "    <tr>\n",
       "      <th>389</th>\n",
       "      <td>Race.White</td>\n",
       "      <td>3.748460e-03</td>\n",
       "    </tr>\n",
       "    <tr>\n",
       "      <th>390</th>\n",
       "      <td>Race.Unknown</td>\n",
       "      <td>8.991189e-06</td>\n",
       "    </tr>\n",
       "    <tr>\n",
       "      <th>391</th>\n",
       "      <td>Ethnicity.Not Span/Hispanic</td>\n",
       "      <td>2.036799e-03</td>\n",
       "    </tr>\n",
       "    <tr>\n",
       "      <th>392</th>\n",
       "      <td>Ethnicity.Spanish/Hispanic</td>\n",
       "      <td>1.867165e-03</td>\n",
       "    </tr>\n",
       "    <tr>\n",
       "      <th>393</th>\n",
       "      <td>Ethnicity.Unknown</td>\n",
       "      <td>1.007136e-03</td>\n",
       "    </tr>\n",
       "  </tbody>\n",
       "</table>\n",
       "<p>394 rows × 2 columns</p>\n",
       "</div>"
      ],
      "text/plain": [
       "                                          Column.Names  Feature.Importance\n",
       "0                         APR.Severity.of.Illness.Code        1.591309e-02\n",
       "1                                APR.Risk.of.Mortality        1.252543e-02\n",
       "2                                          Age.Ordinal        1.489473e-02\n",
       "3                                       Length.of.Stay        5.656567e-01\n",
       "4                                Hospital.County.Bronx        5.024358e-03\n",
       "5                                Hospital.County.Kings        4.662854e-03\n",
       "6                            Hospital.County.Manhattan        4.210911e-02\n",
       "7                               Hospital.County.Queens        3.007749e-03\n",
       "8                             Hospital.County.Richmond        6.723471e-04\n",
       "9                           Type.of.Admission.Elective        1.805517e-02\n",
       "10                         Type.of.Admission.Emergency        7.103173e-03\n",
       "11                           Type.of.Admission.Newborn        1.336274e-06\n",
       "12                            Type.of.Admission.Urgent        2.511011e-03\n",
       "13                     Type.of.Admission.Not Available        5.067265e-05\n",
       "14                            Type.of.Admission.Trauma        1.770049e-06\n",
       "15    Patient.Disposition.Home w/ Home Health Services        3.785394e-03\n",
       "16            Patient.Disposition.Skilled Nursing Home        2.634227e-03\n",
       "17               Patient.Disposition.Home or Self Care        4.711698e-03\n",
       "18                         Patient.Disposition.Expired        4.761351e-03\n",
       "19     Patient.Disposition.Left Against Medical Advice        8.940370e-05\n",
       "20             Patient.Disposition.Short-term Hospital        6.722966e-04\n",
       "21                  Patient.Disposition.Hospice - Home        3.325136e-04\n",
       "22   Patient.Disposition.Inpatient Rehabilitation F...        2.018808e-03\n",
       "23   Patient.Disposition.Medicare Cert Long Term Ca...        4.403772e-03\n",
       "24         Patient.Disposition.Another Type Not Listed        3.091779e-05\n",
       "25      Patient.Disposition.Hospice - Medical Facility        5.156565e-04\n",
       "26   Patient.Disposition.Cancer Center or Children'...        8.068207e-04\n",
       "27   Patient.Disposition.Facility w/ Custodial/Supp...        7.489827e-06\n",
       "28    Patient.Disposition.Federal Health Care Facility        2.223070e-06\n",
       "29   Patient.Disposition.Hosp Basd Medicare Approve...        0.000000e+00\n",
       "..                                                 ...                 ...\n",
       "364                                     APR.MDC.Code.9        5.347078e-04\n",
       "365                                    APR.MDC.Code.10        5.849698e-04\n",
       "366                                     APR.MDC.Code.1        1.568875e-03\n",
       "367                                    APR.MDC.Code.12        6.703674e-04\n",
       "368                                     APR.MDC.Code.2        1.422570e-05\n",
       "369                                    APR.MDC.Code.15        2.379810e-06\n",
       "370                                    APR.MDC.Code.17        3.416877e-04\n",
       "371                                    APR.MDC.Code.24        1.811804e-07\n",
       "372                                    APR.MDC.Code.23        4.387932e-09\n",
       "373                                     APR.MDC.Code.5        1.578606e-05\n",
       "374          APR.Medical.Surgical.Description.Surgical        6.021038e-02\n",
       "375                        Payment.Typology.1.Medicaid        4.847142e-03\n",
       "376                        Payment.Typology.1.Medicare        2.899054e-03\n",
       "377          Payment.Typology.1.Blue Cross/Blue Shield        4.203915e-03\n",
       "378                        Payment.Typology.1.Self-Pay        1.337344e-03\n",
       "379        Payment.Typology.1.Private Health Insurance        4.102500e-03\n",
       "380          Payment.Typology.1.Federal/State/Local/VA        1.646416e-05\n",
       "381       Payment.Typology.1.Department of Corrections        2.106684e-04\n",
       "382       Payment.Typology.1.Managed Care, Unspecified        2.840070e-04\n",
       "383             Payment.Typology.1.Miscellaneous/Other        3.574441e-04\n",
       "384                         Payment.Typology.1.Unknown        4.029825e-05\n",
       "385                   Emergency.Department.Indicator.Y        3.619359e-03\n",
       "386                                           Gender.F        3.903522e-03\n",
       "387                        Race.Black/African American        3.704902e-03\n",
       "388                                    Race.Other Race        4.219451e-03\n",
       "389                                         Race.White        3.748460e-03\n",
       "390                                       Race.Unknown        8.991189e-06\n",
       "391                        Ethnicity.Not Span/Hispanic        2.036799e-03\n",
       "392                         Ethnicity.Spanish/Hispanic        1.867165e-03\n",
       "393                                  Ethnicity.Unknown        1.007136e-03\n",
       "\n",
       "[394 rows x 2 columns]"
      ]
     },
     "execution_count": 75,
     "metadata": {},
     "output_type": "execute_result"
    }
   ],
   "source": [
    "data = {'Column.Names': col, 'Feature.Importance': imp}\n",
    "df = pd.DataFrame(data, columns = ['Column.Names','Feature.Importance'])\n",
    "df"
   ]
  },
  {
   "cell_type": "code",
   "execution_count": null,
   "metadata": {},
   "outputs": [],
   "source": []
  },
  {
   "cell_type": "code",
   "execution_count": 76,
   "metadata": {},
   "outputs": [],
   "source": [
    "#df.to_csv('../data/Feature_importance.csv')"
   ]
  },
  {
   "cell_type": "code",
   "execution_count": 65,
   "metadata": {},
   "outputs": [
    {
     "data": {
      "text/plain": [
       "<matplotlib.collections.PathCollection at 0x1a3f272198>"
      ]
     },
     "execution_count": 65,
     "metadata": {},
     "output_type": "execute_result"
    },
    {
     "data": {
      "image/png": "[encoded data removed]",
      "text/plain": [
       "<Figure size 432x288 with 1 Axes>"
      ]
     },
     "metadata": {},
     "output_type": "display_data"
    }
   ],
   "source": [
    "plt.scatter(y_pred, y_test)"
   ]
  },
  {
   "cell_type": "code",
   "execution_count": 79,
   "metadata": {},
   "outputs": [
    {
     "data": {
      "text/html": [
       "<div>\n",
       "<style scoped>\n",
       "    .dataframe tbody tr th:only-of-type {\n",
       "        vertical-align: middle;\n",
       "    }\n",
       "\n",
       "    .dataframe tbody tr th {\n",
       "        vertical-align: top;\n",
       "    }\n",
       "\n",
       "    .dataframe thead th {\n",
       "        text-align: right;\n",
       "    }\n",
       "</style>\n",
       "<table border=\"1\" class=\"dataframe\">\n",
       "  <thead>\n",
       "    <tr style=\"text-align: right;\">\n",
       "      <th></th>\n",
       "      <th>Column.Names</th>\n",
       "      <th>Feature.Importance</th>\n",
       "    </tr>\n",
       "  </thead>\n",
       "  <tbody>\n",
       "    <tr>\n",
       "      <th>3</th>\n",
       "      <td>Length.of.Stay</td>\n",
       "      <td>5.656567e-01</td>\n",
       "    </tr>\n",
       "    <tr>\n",
       "      <th>282</th>\n",
       "      <td>APR.DRG.Code.4</td>\n",
       "      <td>8.033502e-02</td>\n",
       "    </tr>\n",
       "    <tr>\n",
       "      <th>374</th>\n",
       "      <td>APR.Medical.Surgical.Description.Surgical</td>\n",
       "      <td>6.021038e-02</td>\n",
       "    </tr>\n",
       "    <tr>\n",
       "      <th>6</th>\n",
       "      <td>Hospital.County.Manhattan</td>\n",
       "      <td>4.210911e-02</td>\n",
       "    </tr>\n",
       "    <tr>\n",
       "      <th>9</th>\n",
       "      <td>Type.of.Admission.Elective</td>\n",
       "      <td>1.805517e-02</td>\n",
       "    </tr>\n",
       "    <tr>\n",
       "      <th>0</th>\n",
       "      <td>APR.Severity.of.Illness.Code</td>\n",
       "      <td>1.591309e-02</td>\n",
       "    </tr>\n",
       "    <tr>\n",
       "      <th>2</th>\n",
       "      <td>Age.Ordinal</td>\n",
       "      <td>1.489473e-02</td>\n",
       "    </tr>\n",
       "    <tr>\n",
       "      <th>1</th>\n",
       "      <td>APR.Risk.of.Mortality</td>\n",
       "      <td>1.252543e-02</td>\n",
       "    </tr>\n",
       "    <tr>\n",
       "      <th>10</th>\n",
       "      <td>Type.of.Admission.Emergency</td>\n",
       "      <td>7.103173e-03</td>\n",
       "    </tr>\n",
       "    <tr>\n",
       "      <th>4</th>\n",
       "      <td>Hospital.County.Bronx</td>\n",
       "      <td>5.024358e-03</td>\n",
       "    </tr>\n",
       "    <tr>\n",
       "      <th>375</th>\n",
       "      <td>Payment.Typology.1.Medicaid</td>\n",
       "      <td>4.847142e-03</td>\n",
       "    </tr>\n",
       "    <tr>\n",
       "      <th>43</th>\n",
       "      <td>CCS.Diagnosis.Code.14</td>\n",
       "      <td>4.779066e-03</td>\n",
       "    </tr>\n",
       "    <tr>\n",
       "      <th>18</th>\n",
       "      <td>Patient.Disposition.Expired</td>\n",
       "      <td>4.761351e-03</td>\n",
       "    </tr>\n",
       "    <tr>\n",
       "      <th>17</th>\n",
       "      <td>Patient.Disposition.Home or Self Care</td>\n",
       "      <td>4.711698e-03</td>\n",
       "    </tr>\n",
       "    <tr>\n",
       "      <th>5</th>\n",
       "      <td>Hospital.County.Kings</td>\n",
       "      <td>4.662854e-03</td>\n",
       "    </tr>\n",
       "    <tr>\n",
       "      <th>23</th>\n",
       "      <td>Patient.Disposition.Medicare Cert Long Term Ca...</td>\n",
       "      <td>4.403772e-03</td>\n",
       "    </tr>\n",
       "    <tr>\n",
       "      <th>388</th>\n",
       "      <td>Race.Other Race</td>\n",
       "      <td>4.219451e-03</td>\n",
       "    </tr>\n",
       "    <tr>\n",
       "      <th>377</th>\n",
       "      <td>Payment.Typology.1.Blue Cross/Blue Shield</td>\n",
       "      <td>4.203915e-03</td>\n",
       "    </tr>\n",
       "    <tr>\n",
       "      <th>379</th>\n",
       "      <td>Payment.Typology.1.Private Health Insurance</td>\n",
       "      <td>4.102500e-03</td>\n",
       "    </tr>\n",
       "    <tr>\n",
       "      <th>102</th>\n",
       "      <td>CCS.Procedure.Code.34</td>\n",
       "      <td>4.015266e-03</td>\n",
       "    </tr>\n",
       "    <tr>\n",
       "      <th>386</th>\n",
       "      <td>Gender.F</td>\n",
       "      <td>3.903522e-03</td>\n",
       "    </tr>\n",
       "    <tr>\n",
       "      <th>15</th>\n",
       "      <td>Patient.Disposition.Home w/ Home Health Services</td>\n",
       "      <td>3.785394e-03</td>\n",
       "    </tr>\n",
       "    <tr>\n",
       "      <th>389</th>\n",
       "      <td>Race.White</td>\n",
       "      <td>3.748460e-03</td>\n",
       "    </tr>\n",
       "    <tr>\n",
       "      <th>387</th>\n",
       "      <td>Race.Black/African American</td>\n",
       "      <td>3.704902e-03</td>\n",
       "    </tr>\n",
       "    <tr>\n",
       "      <th>385</th>\n",
       "      <td>Emergency.Department.Indicator.Y</td>\n",
       "      <td>3.619359e-03</td>\n",
       "    </tr>\n",
       "    <tr>\n",
       "      <th>7</th>\n",
       "      <td>Hospital.County.Queens</td>\n",
       "      <td>3.007749e-03</td>\n",
       "    </tr>\n",
       "    <tr>\n",
       "      <th>376</th>\n",
       "      <td>Payment.Typology.1.Medicare</td>\n",
       "      <td>2.899054e-03</td>\n",
       "    </tr>\n",
       "    <tr>\n",
       "      <th>105</th>\n",
       "      <td>CCS.Procedure.Code.74</td>\n",
       "      <td>2.759702e-03</td>\n",
       "    </tr>\n",
       "    <tr>\n",
       "      <th>301</th>\n",
       "      <td>APR.DRG.Code.1</td>\n",
       "      <td>2.651249e-03</td>\n",
       "    </tr>\n",
       "    <tr>\n",
       "      <th>16</th>\n",
       "      <td>Patient.Disposition.Skilled Nursing Home</td>\n",
       "      <td>2.634227e-03</td>\n",
       "    </tr>\n",
       "    <tr>\n",
       "      <th>...</th>\n",
       "      <td>...</td>\n",
       "      <td>...</td>\n",
       "    </tr>\n",
       "    <tr>\n",
       "      <th>371</th>\n",
       "      <td>APR.MDC.Code.24</td>\n",
       "      <td>1.811804e-07</td>\n",
       "    </tr>\n",
       "    <tr>\n",
       "      <th>350</th>\n",
       "      <td>APR.DRG.Code.227</td>\n",
       "      <td>1.741947e-07</td>\n",
       "    </tr>\n",
       "    <tr>\n",
       "      <th>173</th>\n",
       "      <td>CCS.Procedure.Code.195</td>\n",
       "      <td>1.654474e-07</td>\n",
       "    </tr>\n",
       "    <tr>\n",
       "      <th>219</th>\n",
       "      <td>CCS.Procedure.Code.8</td>\n",
       "      <td>1.568571e-07</td>\n",
       "    </tr>\n",
       "    <tr>\n",
       "      <th>334</th>\n",
       "      <td>APR.DRG.Code.894</td>\n",
       "      <td>1.448426e-07</td>\n",
       "    </tr>\n",
       "    <tr>\n",
       "      <th>312</th>\n",
       "      <td>APR.DRG.Code.82</td>\n",
       "      <td>1.279134e-07</td>\n",
       "    </tr>\n",
       "    <tr>\n",
       "      <th>233</th>\n",
       "      <td>CCS.Procedure.Code.181</td>\n",
       "      <td>7.530691e-08</td>\n",
       "    </tr>\n",
       "    <tr>\n",
       "      <th>235</th>\n",
       "      <td>CCS.Procedure.Code.129</td>\n",
       "      <td>6.913342e-08</td>\n",
       "    </tr>\n",
       "    <tr>\n",
       "      <th>318</th>\n",
       "      <td>APR.DRG.Code.228</td>\n",
       "      <td>6.277058e-08</td>\n",
       "    </tr>\n",
       "    <tr>\n",
       "      <th>221</th>\n",
       "      <td>CCS.Procedure.Code.55</td>\n",
       "      <td>4.707410e-08</td>\n",
       "    </tr>\n",
       "    <tr>\n",
       "      <th>309</th>\n",
       "      <td>APR.DRG.Code.316</td>\n",
       "      <td>2.807147e-08</td>\n",
       "    </tr>\n",
       "    <tr>\n",
       "      <th>345</th>\n",
       "      <td>APR.DRG.Code.115</td>\n",
       "      <td>2.431058e-08</td>\n",
       "    </tr>\n",
       "    <tr>\n",
       "      <th>240</th>\n",
       "      <td>CCS.Procedure.Code.18</td>\n",
       "      <td>2.388794e-08</td>\n",
       "    </tr>\n",
       "    <tr>\n",
       "      <th>184</th>\n",
       "      <td>CCS.Procedure.Code.117</td>\n",
       "      <td>2.047700e-08</td>\n",
       "    </tr>\n",
       "    <tr>\n",
       "      <th>333</th>\n",
       "      <td>APR.DRG.Code.893</td>\n",
       "      <td>1.503099e-08</td>\n",
       "    </tr>\n",
       "    <tr>\n",
       "      <th>207</th>\n",
       "      <td>CCS.Procedure.Code.205</td>\n",
       "      <td>1.485989e-08</td>\n",
       "    </tr>\n",
       "    <tr>\n",
       "      <th>349</th>\n",
       "      <td>APR.DRG.Code.861</td>\n",
       "      <td>5.274290e-09</td>\n",
       "    </tr>\n",
       "    <tr>\n",
       "      <th>372</th>\n",
       "      <td>APR.MDC.Code.23</td>\n",
       "      <td>4.387932e-09</td>\n",
       "    </tr>\n",
       "    <tr>\n",
       "      <th>239</th>\n",
       "      <td>CCS.Procedure.Code.229</td>\n",
       "      <td>4.034879e-09</td>\n",
       "    </tr>\n",
       "    <tr>\n",
       "      <th>352</th>\n",
       "      <td>APR.DRG.Code.207</td>\n",
       "      <td>2.237173e-09</td>\n",
       "    </tr>\n",
       "    <tr>\n",
       "      <th>223</th>\n",
       "      <td>CCS.Procedure.Code.156</td>\n",
       "      <td>1.841197e-09</td>\n",
       "    </tr>\n",
       "    <tr>\n",
       "      <th>201</th>\n",
       "      <td>CCS.Procedure.Code.25</td>\n",
       "      <td>1.749643e-09</td>\n",
       "    </tr>\n",
       "    <tr>\n",
       "      <th>314</th>\n",
       "      <td>APR.DRG.Code.468</td>\n",
       "      <td>1.260564e-09</td>\n",
       "    </tr>\n",
       "    <tr>\n",
       "      <th>222</th>\n",
       "      <td>CCS.Procedure.Code.79</td>\n",
       "      <td>7.276042e-10</td>\n",
       "    </tr>\n",
       "    <tr>\n",
       "      <th>326</th>\n",
       "      <td>APR.DRG.Code.691</td>\n",
       "      <td>1.544138e-10</td>\n",
       "    </tr>\n",
       "    <tr>\n",
       "      <th>354</th>\n",
       "      <td>APR.DRG.Code.692</td>\n",
       "      <td>0.000000e+00</td>\n",
       "    </tr>\n",
       "    <tr>\n",
       "      <th>241</th>\n",
       "      <td>CCS.Procedure.Code.85</td>\n",
       "      <td>0.000000e+00</td>\n",
       "    </tr>\n",
       "    <tr>\n",
       "      <th>29</th>\n",
       "      <td>Patient.Disposition.Hosp Basd Medicare Approve...</td>\n",
       "      <td>0.000000e+00</td>\n",
       "    </tr>\n",
       "    <tr>\n",
       "      <th>208</th>\n",
       "      <td>CCS.Procedure.Code.190</td>\n",
       "      <td>0.000000e+00</td>\n",
       "    </tr>\n",
       "    <tr>\n",
       "      <th>355</th>\n",
       "      <td>APR.DRG.Code.850</td>\n",
       "      <td>0.000000e+00</td>\n",
       "    </tr>\n",
       "  </tbody>\n",
       "</table>\n",
       "<p>394 rows × 2 columns</p>\n",
       "</div>"
      ],
      "text/plain": [
       "                                          Column.Names  Feature.Importance\n",
       "3                                       Length.of.Stay        5.656567e-01\n",
       "282                                     APR.DRG.Code.4        8.033502e-02\n",
       "374          APR.Medical.Surgical.Description.Surgical        6.021038e-02\n",
       "6                            Hospital.County.Manhattan        4.210911e-02\n",
       "9                           Type.of.Admission.Elective        1.805517e-02\n",
       "0                         APR.Severity.of.Illness.Code        1.591309e-02\n",
       "2                                          Age.Ordinal        1.489473e-02\n",
       "1                                APR.Risk.of.Mortality        1.252543e-02\n",
       "10                         Type.of.Admission.Emergency        7.103173e-03\n",
       "4                                Hospital.County.Bronx        5.024358e-03\n",
       "375                        Payment.Typology.1.Medicaid        4.847142e-03\n",
       "43                               CCS.Diagnosis.Code.14        4.779066e-03\n",
       "18                         Patient.Disposition.Expired        4.761351e-03\n",
       "17               Patient.Disposition.Home or Self Care        4.711698e-03\n",
       "5                                Hospital.County.Kings        4.662854e-03\n",
       "23   Patient.Disposition.Medicare Cert Long Term Ca...        4.403772e-03\n",
       "388                                    Race.Other Race        4.219451e-03\n",
       "377          Payment.Typology.1.Blue Cross/Blue Shield        4.203915e-03\n",
       "379        Payment.Typology.1.Private Health Insurance        4.102500e-03\n",
       "102                              CCS.Procedure.Code.34        4.015266e-03\n",
       "386                                           Gender.F        3.903522e-03\n",
       "15    Patient.Disposition.Home w/ Home Health Services        3.785394e-03\n",
       "389                                         Race.White        3.748460e-03\n",
       "387                        Race.Black/African American        3.704902e-03\n",
       "385                   Emergency.Department.Indicator.Y        3.619359e-03\n",
       "7                               Hospital.County.Queens        3.007749e-03\n",
       "376                        Payment.Typology.1.Medicare        2.899054e-03\n",
       "105                              CCS.Procedure.Code.74        2.759702e-03\n",
       "301                                     APR.DRG.Code.1        2.651249e-03\n",
       "16            Patient.Disposition.Skilled Nursing Home        2.634227e-03\n",
       "..                                                 ...                 ...\n",
       "371                                    APR.MDC.Code.24        1.811804e-07\n",
       "350                                   APR.DRG.Code.227        1.741947e-07\n",
       "173                             CCS.Procedure.Code.195        1.654474e-07\n",
       "219                               CCS.Procedure.Code.8        1.568571e-07\n",
       "334                                   APR.DRG.Code.894        1.448426e-07\n",
       "312                                    APR.DRG.Code.82        1.279134e-07\n",
       "233                             CCS.Procedure.Code.181        7.530691e-08\n",
       "235                             CCS.Procedure.Code.129        6.913342e-08\n",
       "318                                   APR.DRG.Code.228        6.277058e-08\n",
       "221                              CCS.Procedure.Code.55        4.707410e-08\n",
       "309                                   APR.DRG.Code.316        2.807147e-08\n",
       "345                                   APR.DRG.Code.115        2.431058e-08\n",
       "240                              CCS.Procedure.Code.18        2.388794e-08\n",
       "184                             CCS.Procedure.Code.117        2.047700e-08\n",
       "333                                   APR.DRG.Code.893        1.503099e-08\n",
       "207                             CCS.Procedure.Code.205        1.485989e-08\n",
       "349                                   APR.DRG.Code.861        5.274290e-09\n",
       "372                                    APR.MDC.Code.23        4.387932e-09\n",
       "239                             CCS.Procedure.Code.229        4.034879e-09\n",
       "352                                   APR.DRG.Code.207        2.237173e-09\n",
       "223                             CCS.Procedure.Code.156        1.841197e-09\n",
       "201                              CCS.Procedure.Code.25        1.749643e-09\n",
       "314                                   APR.DRG.Code.468        1.260564e-09\n",
       "222                              CCS.Procedure.Code.79        7.276042e-10\n",
       "326                                   APR.DRG.Code.691        1.544138e-10\n",
       "354                                   APR.DRG.Code.692        0.000000e+00\n",
       "241                              CCS.Procedure.Code.85        0.000000e+00\n",
       "29   Patient.Disposition.Hosp Basd Medicare Approve...        0.000000e+00\n",
       "208                             CCS.Procedure.Code.190        0.000000e+00\n",
       "355                                   APR.DRG.Code.850        0.000000e+00\n",
       "\n",
       "[394 rows x 2 columns]"
      ]
     },
     "execution_count": 79,
     "metadata": {},
     "output_type": "execute_result"
    }
   ],
   "source": [
    "df.sort_values(by = 'Feature.Importance', ascending = False)"
   ]
  },
  {
   "cell_type": "code",
   "execution_count": 129,
   "metadata": {},
   "outputs": [],
   "source": [
    "feat_imp = list(train_RF_out_reg[0][0][4].feature_importances_)"
   ]
  },
  {
   "cell_type": "code",
   "execution_count": 131,
   "metadata": {},
   "outputs": [],
   "source": [
    "colnames = list(X.columns)"
   ]
  },
  {
   "cell_type": "code",
   "execution_count": 133,
   "metadata": {},
   "outputs": [],
   "source": [
    "data_imp = {'columns': colnames, 'importance': feat_imp}"
   ]
  },
  {
   "cell_type": "code",
   "execution_count": 134,
   "metadata": {},
   "outputs": [],
   "source": [
    "imp_df = pd.DataFrame(data_imp, columns = ['columns', 'importance'])"
   ]
  },
  {
   "cell_type": "code",
   "execution_count": 150,
   "metadata": {},
   "outputs": [
    {
     "data": {
      "text/html": [
       "<div>\n",
       "<style scoped>\n",
       "    .dataframe tbody tr th:only-of-type {\n",
       "        vertical-align: middle;\n",
       "    }\n",
       "\n",
       "    .dataframe tbody tr th {\n",
       "        vertical-align: top;\n",
       "    }\n",
       "\n",
       "    .dataframe thead th {\n",
       "        text-align: right;\n",
       "    }\n",
       "</style>\n",
       "<table border=\"1\" class=\"dataframe\">\n",
       "  <thead>\n",
       "    <tr style=\"text-align: right;\">\n",
       "      <th></th>\n",
       "      <th>columns</th>\n",
       "      <th>importance</th>\n",
       "    </tr>\n",
       "  </thead>\n",
       "  <tbody>\n",
       "    <tr>\n",
       "      <th>3</th>\n",
       "      <td>Length.of.Stay</td>\n",
       "      <td>0.549700</td>\n",
       "    </tr>\n",
       "    <tr>\n",
       "      <th>282</th>\n",
       "      <td>APR.DRG.Code.4</td>\n",
       "      <td>0.124110</td>\n",
       "    </tr>\n",
       "    <tr>\n",
       "      <th>374</th>\n",
       "      <td>APR.Medical.Surgical.Description.Surgical</td>\n",
       "      <td>0.045906</td>\n",
       "    </tr>\n",
       "    <tr>\n",
       "      <th>6</th>\n",
       "      <td>Hospital.County.Manhattan</td>\n",
       "      <td>0.037793</td>\n",
       "    </tr>\n",
       "    <tr>\n",
       "      <th>2</th>\n",
       "      <td>Age.Ordinal</td>\n",
       "      <td>0.014987</td>\n",
       "    </tr>\n",
       "    <tr>\n",
       "      <th>9</th>\n",
       "      <td>Type.of.Admission.Elective</td>\n",
       "      <td>0.014565</td>\n",
       "    </tr>\n",
       "    <tr>\n",
       "      <th>1</th>\n",
       "      <td>APR.Risk.of.Mortality</td>\n",
       "      <td>0.013860</td>\n",
       "    </tr>\n",
       "    <tr>\n",
       "      <th>0</th>\n",
       "      <td>APR.Severity.of.Illness.Code</td>\n",
       "      <td>0.013085</td>\n",
       "    </tr>\n",
       "    <tr>\n",
       "      <th>122</th>\n",
       "      <td>CCS.Procedure.Code.50</td>\n",
       "      <td>0.008754</td>\n",
       "    </tr>\n",
       "    <tr>\n",
       "      <th>18</th>\n",
       "      <td>Patient.Disposition.Expired</td>\n",
       "      <td>0.007105</td>\n",
       "    </tr>\n",
       "  </tbody>\n",
       "</table>\n",
       "</div>"
      ],
      "text/plain": [
       "                                       columns  importance\n",
       "3                               Length.of.Stay    0.549700\n",
       "282                             APR.DRG.Code.4    0.124110\n",
       "374  APR.Medical.Surgical.Description.Surgical    0.045906\n",
       "6                    Hospital.County.Manhattan    0.037793\n",
       "2                                  Age.Ordinal    0.014987\n",
       "9                   Type.of.Admission.Elective    0.014565\n",
       "1                        APR.Risk.of.Mortality    0.013860\n",
       "0                 APR.Severity.of.Illness.Code    0.013085\n",
       "122                      CCS.Procedure.Code.50    0.008754\n",
       "18                 Patient.Disposition.Expired    0.007105"
      ]
     },
     "execution_count": 150,
     "metadata": {},
     "output_type": "execute_result"
    }
   ],
   "source": [
    "imp_df.sort_values(by = 'importance', ascending = False).head(10)"
   ]
  },
  {
   "cell_type": "code",
   "execution_count": 130,
   "metadata": {},
   "outputs": [
    {
     "data": {
      "text/plain": [
       "{'bootstrap': True,\n",
       " 'criterion': 'mse',\n",
       " 'max_depth': None,\n",
       " 'max_features': 'auto',\n",
       " 'max_leaf_nodes': None,\n",
       " 'min_impurity_decrease': 0.0,\n",
       " 'min_impurity_split': None,\n",
       " 'min_samples_leaf': 1,\n",
       " 'min_samples_split': 2,\n",
       " 'min_weight_fraction_leaf': 0.0,\n",
       " 'n_estimators': 200,\n",
       " 'n_jobs': -1,\n",
       " 'oob_score': False,\n",
       " 'random_state': None,\n",
       " 'verbose': 0,\n",
       " 'warm_start': False}"
      ]
     },
     "execution_count": 130,
     "metadata": {},
     "output_type": "execute_result"
    }
   ],
   "source": [
    "train_RF_out_reg[0][0][4].get_params()"
   ]
  },
  {
   "cell_type": "code",
   "execution_count": 145,
   "metadata": {
    "scrolled": true
   },
   "outputs": [
    {
     "ename": "KeyboardInterrupt",
     "evalue": "",
     "output_type": "error",
     "traceback": [
      "\u001b[0;31m---------------------------------------------------------------------------\u001b[0m",
      "\u001b[0;31mKeyboardInterrupt\u001b[0m                         Traceback (most recent call last)",
      "\u001b[0;32m<ipython-input-145-85dae1ddcf3b>\u001b[0m in \u001b[0;36m<module>\u001b[0;34m()\u001b[0m\n\u001b[1;32m      1\u001b[0m \u001b[0mfig1\u001b[0m\u001b[0;34m,\u001b[0m \u001b[0max1\u001b[0m \u001b[0;34m=\u001b[0m \u001b[0mplt\u001b[0m\u001b[0;34m.\u001b[0m\u001b[0msubplots\u001b[0m\u001b[0;34m(\u001b[0m\u001b[0mfigsize\u001b[0m\u001b[0;34m=\u001b[0m\u001b[0;34m(\u001b[0m\u001b[0;36m50\u001b[0m\u001b[0;34m,\u001b[0m\u001b[0;36m40\u001b[0m\u001b[0;34m)\u001b[0m\u001b[0;34m)\u001b[0m\u001b[0;34m\u001b[0m\u001b[0m\n\u001b[0;32m----> 2\u001b[0;31m \u001b[0max1\u001b[0m\u001b[0;34m.\u001b[0m\u001b[0mhist\u001b[0m\u001b[0;34m(\u001b[0m\u001b[0my\u001b[0m\u001b[0;34m)\u001b[0m\u001b[0;34m\u001b[0m\u001b[0m\n\u001b[0m\u001b[1;32m      3\u001b[0m \u001b[0;34m\u001b[0m\u001b[0m\n\u001b[1;32m      4\u001b[0m \u001b[0max1\u001b[0m\u001b[0;34m.\u001b[0m\u001b[0mshow\u001b[0m\u001b[0;34m(\u001b[0m\u001b[0;34m)\u001b[0m\u001b[0;34m\u001b[0m\u001b[0m\n",
      "\u001b[0;32m/anaconda3/lib/python3.6/site-packages/matplotlib/__init__.py\u001b[0m in \u001b[0;36minner\u001b[0;34m(ax, *args, **kwargs)\u001b[0m\n\u001b[1;32m   1853\u001b[0m                         \u001b[0;34m\"the Matplotlib list!)\"\u001b[0m \u001b[0;34m%\u001b[0m \u001b[0;34m(\u001b[0m\u001b[0mlabel_namer\u001b[0m\u001b[0;34m,\u001b[0m \u001b[0mfunc\u001b[0m\u001b[0;34m.\u001b[0m\u001b[0m__name__\u001b[0m\u001b[0;34m)\u001b[0m\u001b[0;34m,\u001b[0m\u001b[0;34m\u001b[0m\u001b[0m\n\u001b[1;32m   1854\u001b[0m                         RuntimeWarning, stacklevel=2)\n\u001b[0;32m-> 1855\u001b[0;31m             \u001b[0;32mreturn\u001b[0m \u001b[0mfunc\u001b[0m\u001b[0;34m(\u001b[0m\u001b[0max\u001b[0m\u001b[0;34m,\u001b[0m \u001b[0;34m*\u001b[0m\u001b[0margs\u001b[0m\u001b[0;34m,\u001b[0m \u001b[0;34m**\u001b[0m\u001b[0mkwargs\u001b[0m\u001b[0;34m)\u001b[0m\u001b[0;34m\u001b[0m\u001b[0m\n\u001b[0m\u001b[1;32m   1856\u001b[0m \u001b[0;34m\u001b[0m\u001b[0m\n\u001b[1;32m   1857\u001b[0m         inner.__doc__ = _add_data_doc(inner.__doc__,\n",
      "\u001b[0;32m/anaconda3/lib/python3.6/site-packages/matplotlib/axes/_axes.py\u001b[0m in \u001b[0;36mhist\u001b[0;34m(***failed resolving arguments***)\u001b[0m\n\u001b[1;32m   6604\u001b[0m                 patch = _barfunc(bins[:-1]+boffset, height, width,\n\u001b[1;32m   6605\u001b[0m                                  \u001b[0malign\u001b[0m\u001b[0;34m=\u001b[0m\u001b[0;34m'center'\u001b[0m\u001b[0;34m,\u001b[0m \u001b[0mlog\u001b[0m\u001b[0;34m=\u001b[0m\u001b[0mlog\u001b[0m\u001b[0;34m,\u001b[0m\u001b[0;34m\u001b[0m\u001b[0m\n\u001b[0;32m-> 6606\u001b[0;31m                                  color=c, **{bottom_kwarg: bottom})\n\u001b[0m\u001b[1;32m   6607\u001b[0m                 \u001b[0mpatches\u001b[0m\u001b[0;34m.\u001b[0m\u001b[0mappend\u001b[0m\u001b[0;34m(\u001b[0m\u001b[0mpatch\u001b[0m\u001b[0;34m)\u001b[0m\u001b[0;34m\u001b[0m\u001b[0m\n\u001b[1;32m   6608\u001b[0m                 \u001b[0;32mif\u001b[0m \u001b[0mstacked\u001b[0m\u001b[0;34m:\u001b[0m\u001b[0;34m\u001b[0m\u001b[0m\n",
      "\u001b[0;32m/anaconda3/lib/python3.6/site-packages/matplotlib/__init__.py\u001b[0m in \u001b[0;36minner\u001b[0;34m(ax, *args, **kwargs)\u001b[0m\n\u001b[1;32m   1853\u001b[0m                         \u001b[0;34m\"the Matplotlib list!)\"\u001b[0m \u001b[0;34m%\u001b[0m \u001b[0;34m(\u001b[0m\u001b[0mlabel_namer\u001b[0m\u001b[0;34m,\u001b[0m \u001b[0mfunc\u001b[0m\u001b[0;34m.\u001b[0m\u001b[0m__name__\u001b[0m\u001b[0;34m)\u001b[0m\u001b[0;34m,\u001b[0m\u001b[0;34m\u001b[0m\u001b[0m\n\u001b[1;32m   1854\u001b[0m                         RuntimeWarning, stacklevel=2)\n\u001b[0;32m-> 1855\u001b[0;31m             \u001b[0;32mreturn\u001b[0m \u001b[0mfunc\u001b[0m\u001b[0;34m(\u001b[0m\u001b[0max\u001b[0m\u001b[0;34m,\u001b[0m \u001b[0;34m*\u001b[0m\u001b[0margs\u001b[0m\u001b[0;34m,\u001b[0m \u001b[0;34m**\u001b[0m\u001b[0mkwargs\u001b[0m\u001b[0;34m)\u001b[0m\u001b[0;34m\u001b[0m\u001b[0m\n\u001b[0m\u001b[1;32m   1856\u001b[0m \u001b[0;34m\u001b[0m\u001b[0m\n\u001b[1;32m   1857\u001b[0m         inner.__doc__ = _add_data_doc(inner.__doc__,\n",
      "\u001b[0;32m/anaconda3/lib/python3.6/site-packages/matplotlib/axes/_axes.py\u001b[0m in \u001b[0;36mbar\u001b[0;34m(self, *args, **kwargs)\u001b[0m\n\u001b[1;32m   2326\u001b[0m             \u001b[0mymin\u001b[0m \u001b[0;34m=\u001b[0m \u001b[0mmax\u001b[0m\u001b[0;34m(\u001b[0m\u001b[0mymin\u001b[0m \u001b[0;34m*\u001b[0m \u001b[0;36m0.9\u001b[0m\u001b[0;34m,\u001b[0m \u001b[0;36m1e-100\u001b[0m\u001b[0;34m)\u001b[0m\u001b[0;34m\u001b[0m\u001b[0m\n\u001b[1;32m   2327\u001b[0m             \u001b[0mself\u001b[0m\u001b[0;34m.\u001b[0m\u001b[0mdataLim\u001b[0m\u001b[0;34m.\u001b[0m\u001b[0mintervaly\u001b[0m \u001b[0;34m=\u001b[0m \u001b[0;34m(\u001b[0m\u001b[0mymin\u001b[0m\u001b[0;34m,\u001b[0m \u001b[0mymax\u001b[0m\u001b[0;34m)\u001b[0m\u001b[0;34m\u001b[0m\u001b[0m\n\u001b[0;32m-> 2328\u001b[0;31m         \u001b[0mself\u001b[0m\u001b[0;34m.\u001b[0m\u001b[0mautoscale_view\u001b[0m\u001b[0;34m(\u001b[0m\u001b[0;34m)\u001b[0m\u001b[0;34m\u001b[0m\u001b[0m\n\u001b[0m\u001b[1;32m   2329\u001b[0m \u001b[0;34m\u001b[0m\u001b[0m\n\u001b[1;32m   2330\u001b[0m         \u001b[0mbar_container\u001b[0m \u001b[0;34m=\u001b[0m \u001b[0mBarContainer\u001b[0m\u001b[0;34m(\u001b[0m\u001b[0mpatches\u001b[0m\u001b[0;34m,\u001b[0m \u001b[0merrorbar\u001b[0m\u001b[0;34m,\u001b[0m \u001b[0mlabel\u001b[0m\u001b[0;34m=\u001b[0m\u001b[0mlabel\u001b[0m\u001b[0;34m)\u001b[0m\u001b[0;34m\u001b[0m\u001b[0m\n",
      "\u001b[0;32m/anaconda3/lib/python3.6/site-packages/matplotlib/axes/_base.py\u001b[0m in \u001b[0;36mautoscale_view\u001b[0;34m(self, tight, scalex, scaley)\u001b[0m\n\u001b[1;32m   2448\u001b[0m             \u001b[0mstickies\u001b[0m \u001b[0;34m=\u001b[0m \u001b[0;34m[\u001b[0m\u001b[0martist\u001b[0m\u001b[0;34m.\u001b[0m\u001b[0msticky_edges\u001b[0m \u001b[0;32mfor\u001b[0m \u001b[0martist\u001b[0m \u001b[0;32min\u001b[0m \u001b[0mself\u001b[0m\u001b[0;34m.\u001b[0m\u001b[0mget_children\u001b[0m\u001b[0;34m(\u001b[0m\u001b[0;34m)\u001b[0m\u001b[0;34m]\u001b[0m\u001b[0;34m\u001b[0m\u001b[0m\n\u001b[1;32m   2449\u001b[0m             \u001b[0mx_stickies\u001b[0m \u001b[0;34m=\u001b[0m \u001b[0msum\u001b[0m\u001b[0;34m(\u001b[0m\u001b[0;34m[\u001b[0m\u001b[0msticky\u001b[0m\u001b[0;34m.\u001b[0m\u001b[0mx\u001b[0m \u001b[0;32mfor\u001b[0m \u001b[0msticky\u001b[0m \u001b[0;32min\u001b[0m \u001b[0mstickies\u001b[0m\u001b[0;34m]\u001b[0m\u001b[0;34m,\u001b[0m \u001b[0;34m[\u001b[0m\u001b[0;34m]\u001b[0m\u001b[0;34m)\u001b[0m\u001b[0;34m\u001b[0m\u001b[0m\n\u001b[0;32m-> 2450\u001b[0;31m             \u001b[0my_stickies\u001b[0m \u001b[0;34m=\u001b[0m \u001b[0msum\u001b[0m\u001b[0;34m(\u001b[0m\u001b[0;34m[\u001b[0m\u001b[0msticky\u001b[0m\u001b[0;34m.\u001b[0m\u001b[0my\u001b[0m \u001b[0;32mfor\u001b[0m \u001b[0msticky\u001b[0m \u001b[0;32min\u001b[0m \u001b[0mstickies\u001b[0m\u001b[0;34m]\u001b[0m\u001b[0;34m,\u001b[0m \u001b[0;34m[\u001b[0m\u001b[0;34m]\u001b[0m\u001b[0;34m)\u001b[0m\u001b[0;34m\u001b[0m\u001b[0m\n\u001b[0m\u001b[1;32m   2451\u001b[0m             \u001b[0;32mif\u001b[0m \u001b[0mself\u001b[0m\u001b[0;34m.\u001b[0m\u001b[0mget_xscale\u001b[0m\u001b[0;34m(\u001b[0m\u001b[0;34m)\u001b[0m\u001b[0;34m.\u001b[0m\u001b[0mlower\u001b[0m\u001b[0;34m(\u001b[0m\u001b[0;34m)\u001b[0m \u001b[0;34m==\u001b[0m \u001b[0;34m'log'\u001b[0m\u001b[0;34m:\u001b[0m\u001b[0;34m\u001b[0m\u001b[0m\n\u001b[1;32m   2452\u001b[0m                 \u001b[0mx_stickies\u001b[0m \u001b[0;34m=\u001b[0m \u001b[0;34m[\u001b[0m\u001b[0mxs\u001b[0m \u001b[0;32mfor\u001b[0m \u001b[0mxs\u001b[0m \u001b[0;32min\u001b[0m \u001b[0mx_stickies\u001b[0m \u001b[0;32mif\u001b[0m \u001b[0mxs\u001b[0m \u001b[0;34m>\u001b[0m \u001b[0;36m0\u001b[0m\u001b[0;34m]\u001b[0m\u001b[0;34m\u001b[0m\u001b[0m\n",
      "\u001b[0;31mKeyboardInterrupt\u001b[0m: "
     ]
    },
    {
     "data": {
      "image/png": "[encoded data removed]",
      "text/plain": [
       "<Figure size 3600x2880 with 1 Axes>"
      ]
     },
     "metadata": {},
     "output_type": "display_data"
    }
   ],
   "source": [
    "fig1, ax1 = plt.subplots(figsize=(50,40))\n",
    "ax1.hist(y)\n",
    "\n",
    "ax1.show()"
   ]
  },
  {
   "cell_type": "code",
   "execution_count": 144,
   "metadata": {
    "scrolled": true
   },
   "outputs": [
    {
     "ename": "KeyboardInterrupt",
     "evalue": "",
     "output_type": "error",
     "traceback": [
      "\u001b[0;31m---------------------------------------------------------------------------\u001b[0m",
      "\u001b[0;31mKeyboardInterrupt\u001b[0m                         Traceback (most recent call last)",
      "\u001b[0;32m<ipython-input-144-088e9a7a0dbb>\u001b[0m in \u001b[0;36m<module>\u001b[0;34m()\u001b[0m\n\u001b[0;32m----> 1\u001b[0;31m \u001b[0mplt\u001b[0m\u001b[0;34m.\u001b[0m\u001b[0mhist\u001b[0m\u001b[0;34m(\u001b[0m\u001b[0my\u001b[0m\u001b[0;34m)\u001b[0m\u001b[0;34m\u001b[0m\u001b[0m\n\u001b[0m",
      "\u001b[0;32m/anaconda3/lib/python3.6/site-packages/matplotlib/pyplot.py\u001b[0m in \u001b[0;36mhist\u001b[0;34m(x, bins, range, density, weights, cumulative, bottom, histtype, align, orientation, rwidth, log, color, label, stacked, normed, hold, data, **kwargs)\u001b[0m\n\u001b[1;32m   3130\u001b[0m                       \u001b[0mhisttype\u001b[0m\u001b[0;34m=\u001b[0m\u001b[0mhisttype\u001b[0m\u001b[0;34m,\u001b[0m \u001b[0malign\u001b[0m\u001b[0;34m=\u001b[0m\u001b[0malign\u001b[0m\u001b[0;34m,\u001b[0m \u001b[0morientation\u001b[0m\u001b[0;34m=\u001b[0m\u001b[0morientation\u001b[0m\u001b[0;34m,\u001b[0m\u001b[0;34m\u001b[0m\u001b[0m\n\u001b[1;32m   3131\u001b[0m                       \u001b[0mrwidth\u001b[0m\u001b[0;34m=\u001b[0m\u001b[0mrwidth\u001b[0m\u001b[0;34m,\u001b[0m \u001b[0mlog\u001b[0m\u001b[0;34m=\u001b[0m\u001b[0mlog\u001b[0m\u001b[0;34m,\u001b[0m \u001b[0mcolor\u001b[0m\u001b[0;34m=\u001b[0m\u001b[0mcolor\u001b[0m\u001b[0;34m,\u001b[0m \u001b[0mlabel\u001b[0m\u001b[0;34m=\u001b[0m\u001b[0mlabel\u001b[0m\u001b[0;34m,\u001b[0m\u001b[0;34m\u001b[0m\u001b[0m\n\u001b[0;32m-> 3132\u001b[0;31m                       stacked=stacked, normed=normed, data=data, **kwargs)\n\u001b[0m\u001b[1;32m   3133\u001b[0m     \u001b[0;32mfinally\u001b[0m\u001b[0;34m:\u001b[0m\u001b[0;34m\u001b[0m\u001b[0m\n\u001b[1;32m   3134\u001b[0m         \u001b[0max\u001b[0m\u001b[0;34m.\u001b[0m\u001b[0m_hold\u001b[0m \u001b[0;34m=\u001b[0m \u001b[0mwashold\u001b[0m\u001b[0;34m\u001b[0m\u001b[0m\n",
      "\u001b[0;32m/anaconda3/lib/python3.6/site-packages/matplotlib/__init__.py\u001b[0m in \u001b[0;36minner\u001b[0;34m(ax, *args, **kwargs)\u001b[0m\n\u001b[1;32m   1853\u001b[0m                         \u001b[0;34m\"the Matplotlib list!)\"\u001b[0m \u001b[0;34m%\u001b[0m \u001b[0;34m(\u001b[0m\u001b[0mlabel_namer\u001b[0m\u001b[0;34m,\u001b[0m \u001b[0mfunc\u001b[0m\u001b[0;34m.\u001b[0m\u001b[0m__name__\u001b[0m\u001b[0;34m)\u001b[0m\u001b[0;34m,\u001b[0m\u001b[0;34m\u001b[0m\u001b[0m\n\u001b[1;32m   1854\u001b[0m                         RuntimeWarning, stacklevel=2)\n\u001b[0;32m-> 1855\u001b[0;31m             \u001b[0;32mreturn\u001b[0m \u001b[0mfunc\u001b[0m\u001b[0;34m(\u001b[0m\u001b[0max\u001b[0m\u001b[0;34m,\u001b[0m \u001b[0;34m*\u001b[0m\u001b[0margs\u001b[0m\u001b[0;34m,\u001b[0m \u001b[0;34m**\u001b[0m\u001b[0mkwargs\u001b[0m\u001b[0;34m)\u001b[0m\u001b[0;34m\u001b[0m\u001b[0m\n\u001b[0m\u001b[1;32m   1856\u001b[0m \u001b[0;34m\u001b[0m\u001b[0m\n\u001b[1;32m   1857\u001b[0m         inner.__doc__ = _add_data_doc(inner.__doc__,\n",
      "\u001b[0;32m/anaconda3/lib/python3.6/site-packages/matplotlib/axes/_axes.py\u001b[0m in \u001b[0;36mhist\u001b[0;34m(***failed resolving arguments***)\u001b[0m\n\u001b[1;32m   6604\u001b[0m                 patch = _barfunc(bins[:-1]+boffset, height, width,\n\u001b[1;32m   6605\u001b[0m                                  \u001b[0malign\u001b[0m\u001b[0;34m=\u001b[0m\u001b[0;34m'center'\u001b[0m\u001b[0;34m,\u001b[0m \u001b[0mlog\u001b[0m\u001b[0;34m=\u001b[0m\u001b[0mlog\u001b[0m\u001b[0;34m,\u001b[0m\u001b[0;34m\u001b[0m\u001b[0m\n\u001b[0;32m-> 6606\u001b[0;31m                                  color=c, **{bottom_kwarg: bottom})\n\u001b[0m\u001b[1;32m   6607\u001b[0m                 \u001b[0mpatches\u001b[0m\u001b[0;34m.\u001b[0m\u001b[0mappend\u001b[0m\u001b[0;34m(\u001b[0m\u001b[0mpatch\u001b[0m\u001b[0;34m)\u001b[0m\u001b[0;34m\u001b[0m\u001b[0m\n\u001b[1;32m   6608\u001b[0m                 \u001b[0;32mif\u001b[0m \u001b[0mstacked\u001b[0m\u001b[0;34m:\u001b[0m\u001b[0;34m\u001b[0m\u001b[0m\n",
      "\u001b[0;32m/anaconda3/lib/python3.6/site-packages/matplotlib/__init__.py\u001b[0m in \u001b[0;36minner\u001b[0;34m(ax, *args, **kwargs)\u001b[0m\n\u001b[1;32m   1853\u001b[0m                         \u001b[0;34m\"the Matplotlib list!)\"\u001b[0m \u001b[0;34m%\u001b[0m \u001b[0;34m(\u001b[0m\u001b[0mlabel_namer\u001b[0m\u001b[0;34m,\u001b[0m \u001b[0mfunc\u001b[0m\u001b[0;34m.\u001b[0m\u001b[0m__name__\u001b[0m\u001b[0;34m)\u001b[0m\u001b[0;34m,\u001b[0m\u001b[0;34m\u001b[0m\u001b[0m\n\u001b[1;32m   1854\u001b[0m                         RuntimeWarning, stacklevel=2)\n\u001b[0;32m-> 1855\u001b[0;31m             \u001b[0;32mreturn\u001b[0m \u001b[0mfunc\u001b[0m\u001b[0;34m(\u001b[0m\u001b[0max\u001b[0m\u001b[0;34m,\u001b[0m \u001b[0;34m*\u001b[0m\u001b[0margs\u001b[0m\u001b[0;34m,\u001b[0m \u001b[0;34m**\u001b[0m\u001b[0mkwargs\u001b[0m\u001b[0;34m)\u001b[0m\u001b[0;34m\u001b[0m\u001b[0m\n\u001b[0m\u001b[1;32m   1856\u001b[0m \u001b[0;34m\u001b[0m\u001b[0m\n\u001b[1;32m   1857\u001b[0m         inner.__doc__ = _add_data_doc(inner.__doc__,\n",
      "\u001b[0;32m/anaconda3/lib/python3.6/site-packages/matplotlib/axes/_axes.py\u001b[0m in \u001b[0;36mbar\u001b[0;34m(self, *args, **kwargs)\u001b[0m\n\u001b[1;32m   2326\u001b[0m             \u001b[0mymin\u001b[0m \u001b[0;34m=\u001b[0m \u001b[0mmax\u001b[0m\u001b[0;34m(\u001b[0m\u001b[0mymin\u001b[0m \u001b[0;34m*\u001b[0m \u001b[0;36m0.9\u001b[0m\u001b[0;34m,\u001b[0m \u001b[0;36m1e-100\u001b[0m\u001b[0;34m)\u001b[0m\u001b[0;34m\u001b[0m\u001b[0m\n\u001b[1;32m   2327\u001b[0m             \u001b[0mself\u001b[0m\u001b[0;34m.\u001b[0m\u001b[0mdataLim\u001b[0m\u001b[0;34m.\u001b[0m\u001b[0mintervaly\u001b[0m \u001b[0;34m=\u001b[0m \u001b[0;34m(\u001b[0m\u001b[0mymin\u001b[0m\u001b[0;34m,\u001b[0m \u001b[0mymax\u001b[0m\u001b[0;34m)\u001b[0m\u001b[0;34m\u001b[0m\u001b[0m\n\u001b[0;32m-> 2328\u001b[0;31m         \u001b[0mself\u001b[0m\u001b[0;34m.\u001b[0m\u001b[0mautoscale_view\u001b[0m\u001b[0;34m(\u001b[0m\u001b[0;34m)\u001b[0m\u001b[0;34m\u001b[0m\u001b[0m\n\u001b[0m\u001b[1;32m   2329\u001b[0m \u001b[0;34m\u001b[0m\u001b[0m\n\u001b[1;32m   2330\u001b[0m         \u001b[0mbar_container\u001b[0m \u001b[0;34m=\u001b[0m \u001b[0mBarContainer\u001b[0m\u001b[0;34m(\u001b[0m\u001b[0mpatches\u001b[0m\u001b[0;34m,\u001b[0m \u001b[0merrorbar\u001b[0m\u001b[0;34m,\u001b[0m \u001b[0mlabel\u001b[0m\u001b[0;34m=\u001b[0m\u001b[0mlabel\u001b[0m\u001b[0;34m)\u001b[0m\u001b[0;34m\u001b[0m\u001b[0m\n",
      "\u001b[0;32m/anaconda3/lib/python3.6/site-packages/matplotlib/axes/_base.py\u001b[0m in \u001b[0;36mautoscale_view\u001b[0;34m(self, tight, scalex, scaley)\u001b[0m\n\u001b[1;32m   2447\u001b[0m         \u001b[0;32mif\u001b[0m \u001b[0mself\u001b[0m\u001b[0;34m.\u001b[0m\u001b[0muse_sticky_edges\u001b[0m \u001b[0;32mand\u001b[0m \u001b[0;34m(\u001b[0m\u001b[0mself\u001b[0m\u001b[0;34m.\u001b[0m\u001b[0m_xmargin\u001b[0m \u001b[0;32mor\u001b[0m \u001b[0mself\u001b[0m\u001b[0;34m.\u001b[0m\u001b[0m_ymargin\u001b[0m\u001b[0;34m)\u001b[0m\u001b[0;34m:\u001b[0m\u001b[0;34m\u001b[0m\u001b[0m\n\u001b[1;32m   2448\u001b[0m             \u001b[0mstickies\u001b[0m \u001b[0;34m=\u001b[0m \u001b[0;34m[\u001b[0m\u001b[0martist\u001b[0m\u001b[0;34m.\u001b[0m\u001b[0msticky_edges\u001b[0m \u001b[0;32mfor\u001b[0m \u001b[0martist\u001b[0m \u001b[0;32min\u001b[0m \u001b[0mself\u001b[0m\u001b[0;34m.\u001b[0m\u001b[0mget_children\u001b[0m\u001b[0;34m(\u001b[0m\u001b[0;34m)\u001b[0m\u001b[0;34m]\u001b[0m\u001b[0;34m\u001b[0m\u001b[0m\n\u001b[0;32m-> 2449\u001b[0;31m             \u001b[0mx_stickies\u001b[0m \u001b[0;34m=\u001b[0m \u001b[0msum\u001b[0m\u001b[0;34m(\u001b[0m\u001b[0;34m[\u001b[0m\u001b[0msticky\u001b[0m\u001b[0;34m.\u001b[0m\u001b[0mx\u001b[0m \u001b[0;32mfor\u001b[0m \u001b[0msticky\u001b[0m \u001b[0;32min\u001b[0m \u001b[0mstickies\u001b[0m\u001b[0;34m]\u001b[0m\u001b[0;34m,\u001b[0m \u001b[0;34m[\u001b[0m\u001b[0;34m]\u001b[0m\u001b[0;34m)\u001b[0m\u001b[0;34m\u001b[0m\u001b[0m\n\u001b[0m\u001b[1;32m   2450\u001b[0m             \u001b[0my_stickies\u001b[0m \u001b[0;34m=\u001b[0m \u001b[0msum\u001b[0m\u001b[0;34m(\u001b[0m\u001b[0;34m[\u001b[0m\u001b[0msticky\u001b[0m\u001b[0;34m.\u001b[0m\u001b[0my\u001b[0m \u001b[0;32mfor\u001b[0m \u001b[0msticky\u001b[0m \u001b[0;32min\u001b[0m \u001b[0mstickies\u001b[0m\u001b[0;34m]\u001b[0m\u001b[0;34m,\u001b[0m \u001b[0;34m[\u001b[0m\u001b[0;34m]\u001b[0m\u001b[0;34m)\u001b[0m\u001b[0;34m\u001b[0m\u001b[0m\n\u001b[1;32m   2451\u001b[0m             \u001b[0;32mif\u001b[0m \u001b[0mself\u001b[0m\u001b[0;34m.\u001b[0m\u001b[0mget_xscale\u001b[0m\u001b[0;34m(\u001b[0m\u001b[0;34m)\u001b[0m\u001b[0;34m.\u001b[0m\u001b[0mlower\u001b[0m\u001b[0;34m(\u001b[0m\u001b[0;34m)\u001b[0m \u001b[0;34m==\u001b[0m \u001b[0;34m'log'\u001b[0m\u001b[0;34m:\u001b[0m\u001b[0;34m\u001b[0m\u001b[0m\n",
      "\u001b[0;31mKeyboardInterrupt\u001b[0m: "
     ]
    },
    {
     "data": {
      "image/png": "[encoded data removed]",
      "text/plain": [
       "<Figure size 432x288 with 1 Axes>"
      ]
     },
     "metadata": {},
     "output_type": "display_data"
    }
   ],
   "source": [
    "plt.hist(y)"
   ]
  },
  {
   "cell_type": "code",
   "execution_count": null,
   "metadata": {},
   "outputs": [],
   "source": []
  },
  {
   "cell_type": "code",
   "execution_count": 148,
   "metadata": {},
   "outputs": [
    {
     "data": {
      "image/png": "[encoded data removed]",
      "text/plain": [
       "<Figure size 1440x1080 with 1 Axes>"
      ]
     },
     "metadata": {},
     "output_type": "display_data"
    }
   ],
   "source": [
    "fig1, ax1 = plt.subplots(figsize = (20, 15))\n",
    "\n",
    "ax1.plot(colnames, feat_imp)\n",
    "\n",
    "plt.show()"
   ]
  },
  {
   "cell_type": "code",
   "execution_count": null,
   "metadata": {},
   "outputs": [],
   "source": []
  }
 ],
 "metadata": {
  "kernelspec": {
   "display_name": "Python 3",
   "language": "python",
   "name": "python3"
  },
  "language_info": {
   "codemirror_mode": {
    "name": "ipython",
    "version": 3
   },
   "file_extension": ".py",
   "mimetype": "text/x-python",
   "name": "python",
   "nbconvert_exporter": "python",
   "pygments_lexer": "ipython3",
   "version": "3.6.5"
  }
 },
 "nbformat": 4,
 "nbformat_minor": 2
}
