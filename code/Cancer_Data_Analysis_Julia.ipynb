{
 "cells": [
  {
   "cell_type": "code",
   "execution_count": 1,
   "metadata": {},
   "outputs": [
    {
     "data": {
      "text/plain": [
       "Plots.PyPlotBackend()"
      ]
     },
     "execution_count": 1,
     "metadata": {},
     "output_type": "execute_result"
    }
   ],
   "source": [
    "using Random\n",
    "using LinearAlgebra\n",
    "using DataFrames             # Data tables are called \"DataFrames\"\n",
    "using StatsPlots             # load plotting packages \n",
    "using Statistics             # basic statistical functions\n",
    "using CSV  \n",
    "using SparseArrays\n",
    "using Pkg\n",
    "using StatsBase\n",
    "pyplot() "
   ]
  },
  {
   "cell_type": "code",
   "execution_count": 2,
   "metadata": {
    "scrolled": true
   },
   "outputs": [
    {
     "data": {
      "text/html": [
       "<table class=\"data-frame\"><thead><tr><th></th><th>Health_Service_Area</th><th>Hospital_County</th><th>Operating_Certificate_Number</th><th>Facility_ID</th></tr><tr><th></th><th>String</th><th>String</th><th>Int64</th><th>Int64</th></tr></thead><tbody><p>35,804 rows × 33 columns (omitted printing of 29 columns)</p><tr><th>1</th><td>New York City</td><td>Bronx</td><td>7000002</td><td>1165</td></tr><tr><th>2</th><td>New York City</td><td>Bronx</td><td>7000002</td><td>1165</td></tr><tr><th>3</th><td>New York City</td><td>Bronx</td><td>7000002</td><td>1165</td></tr><tr><th>4</th><td>New York City</td><td>Bronx</td><td>7000002</td><td>1165</td></tr><tr><th>5</th><td>New York City</td><td>Bronx</td><td>7000002</td><td>1165</td></tr><tr><th>6</th><td>New York City</td><td>Bronx</td><td>7000002</td><td>1165</td></tr><tr><th>7</th><td>New York City</td><td>Bronx</td><td>7000002</td><td>1165</td></tr><tr><th>8</th><td>New York City</td><td>Bronx</td><td>7000002</td><td>1165</td></tr><tr><th>9</th><td>New York City</td><td>Bronx</td><td>7000002</td><td>1165</td></tr><tr><th>10</th><td>New York City</td><td>Bronx</td><td>7000002</td><td>1165</td></tr><tr><th>11</th><td>New York City</td><td>Bronx</td><td>7000002</td><td>1165</td></tr><tr><th>12</th><td>New York City</td><td>Bronx</td><td>7000002</td><td>1165</td></tr><tr><th>13</th><td>New York City</td><td>Bronx</td><td>7000002</td><td>1165</td></tr><tr><th>14</th><td>New York City</td><td>Bronx</td><td>7000002</td><td>1165</td></tr><tr><th>15</th><td>New York City</td><td>Bronx</td><td>7000002</td><td>1165</td></tr><tr><th>16</th><td>New York City</td><td>Bronx</td><td>7000002</td><td>1165</td></tr><tr><th>17</th><td>New York City</td><td>Bronx</td><td>7000002</td><td>1165</td></tr><tr><th>18</th><td>New York City</td><td>Bronx</td><td>7000002</td><td>1165</td></tr><tr><th>19</th><td>New York City</td><td>Bronx</td><td>7000002</td><td>1165</td></tr><tr><th>20</th><td>New York City</td><td>Bronx</td><td>7000002</td><td>1165</td></tr><tr><th>21</th><td>New York City</td><td>Bronx</td><td>7000002</td><td>1165</td></tr><tr><th>22</th><td>New York City</td><td>Bronx</td><td>7000002</td><td>1165</td></tr><tr><th>23</th><td>New York City</td><td>Bronx</td><td>7000002</td><td>1165</td></tr><tr><th>24</th><td>New York City</td><td>Bronx</td><td>7000002</td><td>1165</td></tr><tr><th>25</th><td>New York City</td><td>Bronx</td><td>7000002</td><td>1165</td></tr><tr><th>26</th><td>New York City</td><td>Bronx</td><td>7000002</td><td>1165</td></tr><tr><th>27</th><td>New York City</td><td>Bronx</td><td>7000002</td><td>1165</td></tr><tr><th>28</th><td>New York City</td><td>Bronx</td><td>7000002</td><td>1165</td></tr><tr><th>29</th><td>New York City</td><td>Bronx</td><td>7000002</td><td>1165</td></tr><tr><th>30</th><td>New York City</td><td>Bronx</td><td>7000002</td><td>1165</td></tr><tr><th>&vellip;</th><td>&vellip;</td><td>&vellip;</td><td>&vellip;</td><td>&vellip;</td></tr></tbody></table>"
      ],
      "text/latex": [
       "\\begin{tabular}{r|ccccc}\n",
       "\t& Health\\_Service\\_Area & Hospital\\_County & Operating\\_Certificate\\_Number & Facility\\_ID & \\\\\n",
       "\t\\hline\n",
       "\t& String & String & Int64 & Int64 & \\\\\n",
       "\t\\hline\n",
       "\t1 & New York City & Bronx & 7000002 & 1165 & $\\dots$ \\\\\n",
       "\t2 & New York City & Bronx & 7000002 & 1165 & $\\dots$ \\\\\n",
       "\t3 & New York City & Bronx & 7000002 & 1165 & $\\dots$ \\\\\n",
       "\t4 & New York City & Bronx & 7000002 & 1165 & $\\dots$ \\\\\n",
       "\t5 & New York City & Bronx & 7000002 & 1165 & $\\dots$ \\\\\n",
       "\t6 & New York City & Bronx & 7000002 & 1165 & $\\dots$ \\\\\n",
       "\t7 & New York City & Bronx & 7000002 & 1165 & $\\dots$ \\\\\n",
       "\t8 & New York City & Bronx & 7000002 & 1165 & $\\dots$ \\\\\n",
       "\t9 & New York City & Bronx & 7000002 & 1165 & $\\dots$ \\\\\n",
       "\t10 & New York City & Bronx & 7000002 & 1165 & $\\dots$ \\\\\n",
       "\t11 & New York City & Bronx & 7000002 & 1165 & $\\dots$ \\\\\n",
       "\t12 & New York City & Bronx & 7000002 & 1165 & $\\dots$ \\\\\n",
       "\t13 & New York City & Bronx & 7000002 & 1165 & $\\dots$ \\\\\n",
       "\t14 & New York City & Bronx & 7000002 & 1165 & $\\dots$ \\\\\n",
       "\t15 & New York City & Bronx & 7000002 & 1165 & $\\dots$ \\\\\n",
       "\t16 & New York City & Bronx & 7000002 & 1165 & $\\dots$ \\\\\n",
       "\t17 & New York City & Bronx & 7000002 & 1165 & $\\dots$ \\\\\n",
       "\t18 & New York City & Bronx & 7000002 & 1165 & $\\dots$ \\\\\n",
       "\t19 & New York City & Bronx & 7000002 & 1165 & $\\dots$ \\\\\n",
       "\t20 & New York City & Bronx & 7000002 & 1165 & $\\dots$ \\\\\n",
       "\t21 & New York City & Bronx & 7000002 & 1165 & $\\dots$ \\\\\n",
       "\t22 & New York City & Bronx & 7000002 & 1165 & $\\dots$ \\\\\n",
       "\t23 & New York City & Bronx & 7000002 & 1165 & $\\dots$ \\\\\n",
       "\t24 & New York City & Bronx & 7000002 & 1165 & $\\dots$ \\\\\n",
       "\t25 & New York City & Bronx & 7000002 & 1165 & $\\dots$ \\\\\n",
       "\t26 & New York City & Bronx & 7000002 & 1165 & $\\dots$ \\\\\n",
       "\t27 & New York City & Bronx & 7000002 & 1165 & $\\dots$ \\\\\n",
       "\t28 & New York City & Bronx & 7000002 & 1165 & $\\dots$ \\\\\n",
       "\t29 & New York City & Bronx & 7000002 & 1165 & $\\dots$ \\\\\n",
       "\t30 & New York City & Bronx & 7000002 & 1165 & $\\dots$ \\\\\n",
       "\t$\\dots$ & $\\dots$ & $\\dots$ & $\\dots$ & $\\dots$ &  \\\\\n",
       "\\end{tabular}\n"
      ],
      "text/plain": [
       "35804×33 DataFrame. Omitted printing of 30 columns\n",
       "│ Row   │ Health_Service_Area │ Hospital_County │ Operating_Certificate_Number │\n",
       "│       │ \u001b[90mString\u001b[39m              │ \u001b[90mString\u001b[39m          │ \u001b[90mInt64\u001b[39m                        │\n",
       "├───────┼─────────────────────┼─────────────────┼──────────────────────────────┤\n",
       "│ 1     │ New York City       │ Bronx           │ 7000002                      │\n",
       "│ 2     │ New York City       │ Bronx           │ 7000002                      │\n",
       "│ 3     │ New York City       │ Bronx           │ 7000002                      │\n",
       "│ 4     │ New York City       │ Bronx           │ 7000002                      │\n",
       "│ 5     │ New York City       │ Bronx           │ 7000002                      │\n",
       "│ 6     │ New York City       │ Bronx           │ 7000002                      │\n",
       "│ 7     │ New York City       │ Bronx           │ 7000002                      │\n",
       "│ 8     │ New York City       │ Bronx           │ 7000002                      │\n",
       "│ 9     │ New York City       │ Bronx           │ 7000002                      │\n",
       "│ 10    │ New York City       │ Bronx           │ 7000002                      │\n",
       "⋮\n",
       "│ 35794 │ New York City       │ Queens          │ 7003004                      │\n",
       "│ 35795 │ New York City       │ Queens          │ 7003004                      │\n",
       "│ 35796 │ New York City       │ Queens          │ 7003004                      │\n",
       "│ 35797 │ New York City       │ Queens          │ 7003004                      │\n",
       "│ 35798 │ New York City       │ Queens          │ 7003004                      │\n",
       "│ 35799 │ New York City       │ Queens          │ 7003004                      │\n",
       "│ 35800 │ New York City       │ Queens          │ 7003004                      │\n",
       "│ 35801 │ New York City       │ Queens          │ 7003004                      │\n",
       "│ 35802 │ New York City       │ Queens          │ 7003004                      │\n",
       "│ 35803 │ New York City       │ Queens          │ 7003004                      │\n",
       "│ 35804 │ New York City       │ Queens          │ 7003004                      │"
      ]
     },
     "execution_count": 2,
     "metadata": {},
     "output_type": "execute_result"
    }
   ],
   "source": [
    "df = CSV.read(\"../data/NYC_SPARCS_cancer.csv\")"
   ]
  },
  {
   "cell_type": "code",
   "execution_count": 3,
   "metadata": {
    "scrolled": true
   },
   "outputs": [],
   "source": [
    "#isnan(convert(Array, df))"
   ]
  },
  {
   "cell_type": "code",
   "execution_count": 4,
   "metadata": {},
   "outputs": [
    {
     "data": {
      "text/plain": [
       "1:35804"
      ]
     },
     "execution_count": 4,
     "metadata": {},
     "output_type": "execute_result"
    }
   ],
   "source": [
    "#:x is a row number column\n",
    "df[!,:x] = 1:size(df,1)"
   ]
  },
  {
   "cell_type": "code",
   "execution_count": 5,
   "metadata": {},
   "outputs": [
    {
     "name": "stdout",
     "output_type": "stream",
     "text": [
      ":Health_Service_Area, :Hospital_County, :Operating_Certificate_Number, :Facility_ID, :Facility_Name, :Age_Group, :Zip_Code_3digits, :Gender, :Race, :Ethnicity, :Length_of_Stay, :Type_of_Admission, :Patient_Disposition, :Discharge_Year, :CCS_Diagnosis_Code, :CCS_Diagnosis_Description, :CCS_Procedure_Code, :CCS_Procedure_Description, :APR_DRG_Code, :APR_DRG_Description, :APR_MDC_Code, :APR_MDC_Description, :APR_Severity_of_Illness_Code, :APR_Severity_of_Illness_Description, :APR_Risk_of_Mortality, :APR_Medical_Surgical_Description, :Payment_Typology 1, :Payment_Typology_2, :Payment_Typology_3, :Birth_Weight, :Abortion_Edit_Indicator, :Emergency_Department_Indicator, :Total_Charges, :x, "
     ]
    }
   ],
   "source": [
    "for name in names(df)\n",
    "    print(\":\", name, \", \")\n",
    "end"
   ]
  },
  {
   "cell_type": "code",
   "execution_count": 4,
   "metadata": {
    "scrolled": false
   },
   "outputs": [
    {
     "data": {
      "text/plain": [
       "35804-element Array{String,1}:\n",
       " \"58\"\n",
       " \"57\"\n",
       " \"21\"\n",
       " \"25\"\n",
       " \"49\"\n",
       " \"14\"\n",
       " \"37\"\n",
       " \"8\"\n",
       " \"11\"\n",
       " \"11\"\n",
       " \"6\"\n",
       " \"13\"\n",
       " \"12\"\n",
       " ⋮\n",
       " \"5\"\n",
       " \"3\"\n",
       " \"2\"\n",
       " \"4\"\n",
       " \"6\"\n",
       " \"16\"\n",
       " \"4\"\n",
       " \"5\"\n",
       " \"9\"\n",
       " \"2\"\n",
       " \"2\"\n",
       " \"5\""
      ]
     },
     "execution_count": 4,
     "metadata": {},
     "output_type": "execute_result"
    }
   ],
   "source": [
    "df.Length_of_Stay = replace.(df.Length_of_Stay, Ref(\"120 +\" => \"120\"))\n",
    "#df[df[:Length_of_Stay] .== \"120 +\",12] = \"120\""
   ]
  },
  {
   "cell_type": "code",
   "execution_count": 5,
   "metadata": {
    "scrolled": true
   },
   "outputs": [
    {
     "name": "stderr",
     "output_type": "stream",
     "text": [
      "┌ Warning: `getindex(df::DataFrame, col_ind::ColumnIndex)` is deprecated, use `df[!, col_ind]` instead.\n",
      "│   caller = top-level scope at In[5]:1\n",
      "└ @ Core In[5]:1\n",
      "┌ Warning: `setindex!(df::DataFrame, v::AbstractVector, col_ind::ColumnIndex)` is deprecated, use `begin\n",
      "│     df[!, col_ind] = v\n",
      "│     df\n",
      "│ end` instead.\n",
      "│   caller = top-level scope at In[5]:1\n",
      "└ @ Core In[5]:1\n"
     ]
    },
    {
     "data": {
      "text/plain": [
       "35804-element Array{Float64,1}:\n",
       " 58.0\n",
       " 57.0\n",
       " 21.0\n",
       " 25.0\n",
       " 49.0\n",
       " 14.0\n",
       " 37.0\n",
       "  8.0\n",
       " 11.0\n",
       " 11.0\n",
       "  6.0\n",
       " 13.0\n",
       " 12.0\n",
       "  ⋮\n",
       "  5.0\n",
       "  3.0\n",
       "  2.0\n",
       "  4.0\n",
       "  6.0\n",
       " 16.0\n",
       "  4.0\n",
       "  5.0\n",
       "  9.0\n",
       "  2.0\n",
       "  2.0\n",
       "  5.0"
      ]
     },
     "execution_count": 5,
     "metadata": {},
     "output_type": "execute_result"
    }
   ],
   "source": [
    "#df[:Length_of_Stay] = float(df[:Length_of_Stay])\n",
    "df[:Length_of_Stay] = parse.(Float64, df[:Length_of_Stay])\n",
    "#data1[:Age] = map(x -> isna(x) ? NA : convert(Float64, x), data1[:Age])"
   ]
  },
  {
   "cell_type": "code",
   "execution_count": 28,
   "metadata": {},
   "outputs": [
    {
     "data": {
      "text/plain": [
       "122.2"
      ]
     },
     "execution_count": 28,
     "metadata": {},
     "output_type": "execute_result"
    }
   ],
   "source": [
    "parse(Float64, \"122.2\")"
   ]
  },
  {
   "cell_type": "code",
   "execution_count": 8,
   "metadata": {
    "scrolled": false
   },
   "outputs": [
    {
     "name": "stderr",
     "output_type": "stream",
     "text": [
      "┌ Warning: `getindex(df::DataFrame, col_ind::ColumnIndex)` is deprecated, use `df[!, col_ind]` instead.\n",
      "│   caller = top-level scope at In[8]:1\n",
      "└ @ Core In[8]:1\n"
     ]
    },
    {
     "data": {
      "image/png": "[encoded data removed]"
     },
     "execution_count": 8,
     "metadata": {},
     "output_type": "execute_result"
    }
   ],
   "source": [
    "histogram(df[:Length_of_Stay], label=\"Length of Stay\", bins=70)\n",
    "xlabel!(\"Length_of_Stay\")\n",
    "ylabel!(\"Number of Patients\")\n",
    "title!(\"Histogram of Length of Stay\")"
   ]
  },
  {
   "cell_type": "code",
   "execution_count": 9,
   "metadata": {},
   "outputs": [
    {
     "name": "stderr",
     "output_type": "stream",
     "text": [
      "┌ Warning: `getindex(df::DataFrame, col_ind::ColumnIndex)` is deprecated, use `df[!, col_ind]` instead.\n",
      "│   caller = top-level scope at In[9]:1\n",
      "└ @ Core In[9]:1\n"
     ]
    },
    {
     "data": {
      "image/png": "[encoded data removed]"
     },
     "execution_count": 9,
     "metadata": {},
     "output_type": "execute_result"
    }
   ],
   "source": [
    "histogram(df[:Length_of_Stay], label=\"Length of Stay\", bins=50)\n",
    "xlabel!(\"Length_of_Stay\")\n",
    "ylabel!(\"Number of Patients\")\n",
    "title!(\"Histogram of Length of Stay\")"
   ]
  },
  {
   "cell_type": "code",
   "execution_count": 12,
   "metadata": {
    "scrolled": true
   },
   "outputs": [
    {
     "name": "stderr",
     "output_type": "stream",
     "text": [
      "┌ Warning: `getindex(df::DataFrame, col_ind::ColumnIndex)` is deprecated, use `df[!, col_ind]` instead.\n",
      "│   caller = top-level scope at In[12]:1\n",
      "└ @ Core In[12]:1\n"
     ]
    },
    {
     "data": {
      "text/plain": [
       "\"35804-element Array{Float64,1}\""
      ]
     },
     "execution_count": 12,
     "metadata": {},
     "output_type": "execute_result"
    }
   ],
   "source": [
    "summary(df[:Length_of_Stay])"
   ]
  },
  {
   "cell_type": "code",
   "execution_count": 13,
   "metadata": {},
   "outputs": [
    {
     "name": "stderr",
     "output_type": "stream",
     "text": [
      "┌ Warning: `getindex(df::DataFrame, col_ind::ColumnIndex)` is deprecated, use `df[!, col_ind]` instead.\n",
      "│   caller = top-level scope at In[13]:1\n",
      "└ @ Core In[13]:1\n"
     ]
    },
    {
     "name": "stdout",
     "output_type": "stream",
     "text": [
      "Summary Stats:\n",
      "Length:         35804\n",
      "Missing Count:  0\n",
      "Mean:           7.252988\n",
      "Minimum:        1.000000\n",
      "1st Quartile:   2.000000\n",
      "Median:         4.000000\n",
      "3rd Quartile:   8.000000\n",
      "Maximum:        120.000000\n",
      "Type:           Float64\n"
     ]
    }
   ],
   "source": [
    "describe(df[:Length_of_Stay])"
   ]
  },
  {
   "cell_type": "markdown",
   "metadata": {},
   "source": [
    "# Heart Attack Linear Models.ipynb"
   ]
  },
  {
   "cell_type": "code",
   "execution_count": 1,
   "metadata": {},
   "outputs": [
    {
     "data": {
      "text/latex": [
       "No documentation found.\n",
       "\n",
       "Binding \\texttt{model} does not exist.\n",
       "\n"
      ],
      "text/markdown": [
       "No documentation found.\n",
       "\n",
       "Binding `model` does not exist.\n"
      ],
      "text/plain": [
       "  No documentation found.\n",
       "\n",
       "  Binding \u001b[36mmodel\u001b[39m does not exist."
      ]
     },
     "execution_count": 1,
     "metadata": {},
     "output_type": "execute_result"
    }
   ],
   "source": [
    "model(test_set)[2]"
   ]
  },
  {
   "cell_type": "code",
   "execution_count": 30,
   "metadata": {},
   "outputs": [
    {
     "data": {
      "text/plain": [
       "split_data (generic function with 1 method)"
      ]
     },
     "execution_count": 30,
     "metadata": {},
     "output_type": "execute_result"
    }
   ],
   "source": [
    "\n",
    "#function that calculates out-of-sample error\n",
    "#w = parameter array fit to model\n",
    "#model = function that fits a model on a dataset\n",
    "#test_set = dataset being tested\n",
    "function out_sample_error(w,model,test_set)\n",
    "    test_size = size(test_set,1)\n",
    "    model_X = (test_set)[2]\n",
    "    #model_X = model(test_set)[2]\n",
    "    model_output = round(model_X*w)        ##### error this line?\n",
    "    model_error = 0\n",
    "    for i in 1:test_size\n",
    "        if test_set[:Total_Charges][i] != model_output[i]\n",
    "            model_error = model_error + 1\n",
    "        end\n",
    "    end\n",
    "    return model_error / test_size\n",
    "end\n",
    "\n",
    "#function that runs a bootstrap estimation on the training set\n",
    "#model = function that fits a model on a dataset\n",
    "#resample_num = number of samples\n",
    "function bootstrap_estimate(model,training_data\n",
    "    ;resample_num = 1000)\n",
    "    w_bs = 0\n",
    "    td_size = size(training_data,1)\n",
    "    for i in 1:resample_num\n",
    "        #randomly samples from training set\n",
    "        train_sample = training_data[sample(1:td_size,round(Int,.5*td_size)), :] \n",
    "        #incrememts bootstrap parameter by parameter of new sample\n",
    "        w_bs = w_bs + model(train_sample)[1]\n",
    "    end\n",
    "    #finds average parameter among trials\n",
    "    w_bs = w_bs / resample_num\n",
    "    return w_bs\n",
    "end \n",
    "\n",
    "\n",
    "\n",
    "#function that partitions data into train and test sets,\n",
    "#runs model on train and checks error on test\n",
    "#model = function that fits a model on a dataset\n",
    "#training_data = dataset to be partitioned and crossvalidated\n",
    "#k = number of partitions \n",
    "function cross_validate(model, training_data;\n",
    "    k = 5)\n",
    "    error_cv = 0\n",
    "    td_size = size(training_data,1)\n",
    "    #size of 1 partition when they are k partitions \n",
    "    partition = round(Int,td_size / k)\n",
    "    for i in 1:k\n",
    "        #creates training and test sets for this iteration\n",
    "        s = (i-1)*partition + 1 \n",
    "        if i == k \n",
    "            f = td_size\n",
    "        else\n",
    "            f = i*partition\n",
    "        end\n",
    "        #test partition with size 1/kth of dataset\n",
    "        round_test = training_data[s:f,:]\n",
    "        round_train_1 = training_data[1:s-1,:]\n",
    "        round_train_2 = training_data[f+1:td_size,:]\n",
    "        #training partition\n",
    "        round_train = [round_train_1;round_train_2]\n",
    "        #w when model is run on training set\n",
    "        round_w = model(round_train)[1]\n",
    "        #error in w when model run on test set\n",
    "        round_error = out_sample_error(round_w,model,round_test)\n",
    "        error_cv = error_cv + round_error\n",
    "    end\n",
    "    #average error among partitions \n",
    "    error_cv = error_cv / k\n",
    "    return error_cv\n",
    "end\n",
    "\n",
    "\n",
    "#helper function for split_data\n",
    "function build_subset(index,data)\n",
    "    subset = similar(data,0)\n",
    "    for i in 1:length(index)\n",
    "        new_row = convert(Array, data[data[:x] .== index[i],:])\n",
    "        #new_row = DataArray(data[data[:x] .== index[i],:])\n",
    "        push!(subset,new_row)\n",
    "    end\n",
    "    return subset\n",
    "end \n",
    "\n",
    "#splits dataset into train and test sets\n",
    "#splits data based on the discharge identifier column :x (integer)\n",
    "#split_raio = ratio of training set size to entire dataset size\n",
    "function split_data(data_set;split_ratio = .8)\n",
    "    n = size(data_set,1)\n",
    "    split = Int(round(split_ratio*n))\n",
    "    rand_index = shuffle(data_set[:x])\n",
    "    train_index = rand_index[1:split]\n",
    "    test_index = rand_index[split + 1:n]\n",
    "    train = build_subset(train_index,data_set)\n",
    "    test = build_subset(test_index,data_set)\n",
    "    return(train,test)\n",
    "end"
   ]
  },
  {
   "cell_type": "code",
   "execution_count": 31,
   "metadata": {
    "scrolled": true
   },
   "outputs": [
    {
     "name": "stderr",
     "output_type": "stream",
     "text": [
      "┌ Warning: `getindex(df::DataFrame, col_ind::ColumnIndex)` is deprecated, use `df[!, col_ind]` instead.\n",
      "│   caller = top-level scope at In[31]:1\n",
      "└ @ Core In[31]:1\n"
     ]
    },
    {
     "data": {
      "text/plain": [
       "35804-element CSV.Column{Float64,Float64}:\n",
       " 216494.21\n",
       " 194330.51\n",
       "  79396.48\n",
       "  86736.8\n",
       " 178592.87\n",
       "  57239.16\n",
       " 111640.1\n",
       "  31801.91\n",
       "  38714.48\n",
       "  33681.75\n",
       "  20601.51\n",
       "  45184.99\n",
       "  37010.34\n",
       "      ⋮\n",
       "  92564.3\n",
       "  30328.2\n",
       "  23124.27\n",
       "  83585.84\n",
       "  83309.06\n",
       " 315887.84\n",
       " 119039.11\n",
       "  84369.32\n",
       "  99857.0\n",
       "  60672.77\n",
       "  35890.19\n",
       " 110566.0"
      ]
     },
     "execution_count": 31,
     "metadata": {},
     "output_type": "execute_result"
    }
   ],
   "source": [
    "df[:Total_Charges]\n",
    "#typeof(df[:Total_Charges][1])"
   ]
  },
  {
   "cell_type": "code",
   "execution_count": 32,
   "metadata": {},
   "outputs": [
    {
     "name": "stderr",
     "output_type": "stream",
     "text": [
      "┌ Warning: `getindex(df::DataFrame, col_ind::ColumnIndex)` is deprecated, use `df[!, col_ind]` instead.\n",
      "│   caller = split_data(::DataFrame; split_ratio::Float64) at In[30]:93\n",
      "└ @ Main ./In[30]:93\n",
      "┌ Warning: `getindex(df::DataFrame, col_ind::ColumnIndex)` is deprecated, use `df[!, col_ind]` instead.\n",
      "│   caller = build_subset(::Array{Int64,1}, ::DataFrame) at In[30]:80\n",
      "└ @ Main ./In[30]:80\n",
      "┌ Warning: `convert(::Type{Array}, df::AbstractDataFrame)` is deprecated, use `convert(Matrix, df)` instead.\n",
      "│   caller = build_subset(::Array{Int64,1}, ::DataFrame) at In[30]:80\n",
      "└ @ Main ./In[30]:80\n"
     ]
    },
    {
     "data": {
      "text/html": [
       "<table class=\"data-frame\"><thead><tr><th></th><th>Health_Service_Area</th><th>Hospital_County</th><th>Operating_Certificate_Number</th><th>Facility_ID</th></tr><tr><th></th><th>String</th><th>String</th><th>Int64</th><th>Int64</th></tr></thead><tbody><p>7,161 rows × 34 columns (omitted printing of 30 columns)</p><tr><th>1</th><td>New York City</td><td>Kings</td><td>7001033</td><td>1315</td></tr><tr><th>2</th><td>New York City</td><td>Kings</td><td>7001009</td><td>1294</td></tr><tr><th>3</th><td>New York City</td><td>Manhattan</td><td>7002002</td><td>1439</td></tr><tr><th>4</th><td>New York City</td><td>Manhattan</td><td>7002053</td><td>1463</td></tr><tr><th>5</th><td>New York City</td><td>Bronx</td><td>7000006</td><td>1169</td></tr><tr><th>6</th><td>New York City</td><td>Manhattan</td><td>7002020</td><td>1453</td></tr><tr><th>7</th><td>New York City</td><td>Manhattan</td><td>7002054</td><td>1458</td></tr><tr><th>8</th><td>New York City</td><td>Manhattan</td><td>7002001</td><td>1438</td></tr><tr><th>9</th><td>New York City</td><td>Manhattan</td><td>7002054</td><td>1458</td></tr><tr><th>10</th><td>New York City</td><td>Manhattan</td><td>7002054</td><td>1464</td></tr><tr><th>11</th><td>New York City</td><td>Kings</td><td>7001003</td><td>1288</td></tr><tr><th>12</th><td>New York City</td><td>Kings</td><td>7001008</td><td>1293</td></tr><tr><th>13</th><td>New York City</td><td>Manhattan</td><td>7002054</td><td>1464</td></tr><tr><th>14</th><td>New York City</td><td>Manhattan</td><td>7002020</td><td>1453</td></tr><tr><th>15</th><td>New York City</td><td>Manhattan</td><td>7002017</td><td>1450</td></tr><tr><th>16</th><td>New York City</td><td>Manhattan</td><td>7002054</td><td>1458</td></tr><tr><th>17</th><td>New York City</td><td>Manhattan</td><td>7002024</td><td>1456</td></tr><tr><th>18</th><td>New York City</td><td>Manhattan</td><td>7002024</td><td>1456</td></tr><tr><th>19</th><td>New York City</td><td>Kings</td><td>7001020</td><td>1305</td></tr><tr><th>20</th><td>New York City</td><td>Manhattan</td><td>7002020</td><td>1453</td></tr><tr><th>21</th><td>New York City</td><td>Manhattan</td><td>7002020</td><td>1453</td></tr><tr><th>22</th><td>New York City</td><td>Kings</td><td>7001008</td><td>1293</td></tr><tr><th>23</th><td>New York City</td><td>Manhattan</td><td>7002054</td><td>1458</td></tr><tr><th>24</th><td>New York City</td><td>Bronx</td><td>7000006</td><td>1169</td></tr><tr><th>25</th><td>New York City</td><td>Queens</td><td>7003004</td><td>1630</td></tr><tr><th>26</th><td>New York City</td><td>Queens</td><td>7001024</td><td>1635</td></tr><tr><th>27</th><td>New York City</td><td>Manhattan</td><td>7002020</td><td>1453</td></tr><tr><th>28</th><td>New York City</td><td>Bronx</td><td>7000011</td><td>1175</td></tr><tr><th>29</th><td>New York City</td><td>Manhattan</td><td>7002020</td><td>1453</td></tr><tr><th>30</th><td>New York City</td><td>Kings</td><td>7001020</td><td>1305</td></tr><tr><th>&vellip;</th><td>&vellip;</td><td>&vellip;</td><td>&vellip;</td><td>&vellip;</td></tr></tbody></table>"
      ],
      "text/latex": [
       "\\begin{tabular}{r|ccccc}\n",
       "\t& Health\\_Service\\_Area & Hospital\\_County & Operating\\_Certificate\\_Number & Facility\\_ID & \\\\\n",
       "\t\\hline\n",
       "\t& String & String & Int64 & Int64 & \\\\\n",
       "\t\\hline\n",
       "\t1 & New York City & Kings & 7001033 & 1315 & $\\dots$ \\\\\n",
       "\t2 & New York City & Kings & 7001009 & 1294 & $\\dots$ \\\\\n",
       "\t3 & New York City & Manhattan & 7002002 & 1439 & $\\dots$ \\\\\n",
       "\t4 & New York City & Manhattan & 7002053 & 1463 & $\\dots$ \\\\\n",
       "\t5 & New York City & Bronx & 7000006 & 1169 & $\\dots$ \\\\\n",
       "\t6 & New York City & Manhattan & 7002020 & 1453 & $\\dots$ \\\\\n",
       "\t7 & New York City & Manhattan & 7002054 & 1458 & $\\dots$ \\\\\n",
       "\t8 & New York City & Manhattan & 7002001 & 1438 & $\\dots$ \\\\\n",
       "\t9 & New York City & Manhattan & 7002054 & 1458 & $\\dots$ \\\\\n",
       "\t10 & New York City & Manhattan & 7002054 & 1464 & $\\dots$ \\\\\n",
       "\t11 & New York City & Kings & 7001003 & 1288 & $\\dots$ \\\\\n",
       "\t12 & New York City & Kings & 7001008 & 1293 & $\\dots$ \\\\\n",
       "\t13 & New York City & Manhattan & 7002054 & 1464 & $\\dots$ \\\\\n",
       "\t14 & New York City & Manhattan & 7002020 & 1453 & $\\dots$ \\\\\n",
       "\t15 & New York City & Manhattan & 7002017 & 1450 & $\\dots$ \\\\\n",
       "\t16 & New York City & Manhattan & 7002054 & 1458 & $\\dots$ \\\\\n",
       "\t17 & New York City & Manhattan & 7002024 & 1456 & $\\dots$ \\\\\n",
       "\t18 & New York City & Manhattan & 7002024 & 1456 & $\\dots$ \\\\\n",
       "\t19 & New York City & Kings & 7001020 & 1305 & $\\dots$ \\\\\n",
       "\t20 & New York City & Manhattan & 7002020 & 1453 & $\\dots$ \\\\\n",
       "\t21 & New York City & Manhattan & 7002020 & 1453 & $\\dots$ \\\\\n",
       "\t22 & New York City & Kings & 7001008 & 1293 & $\\dots$ \\\\\n",
       "\t23 & New York City & Manhattan & 7002054 & 1458 & $\\dots$ \\\\\n",
       "\t24 & New York City & Bronx & 7000006 & 1169 & $\\dots$ \\\\\n",
       "\t25 & New York City & Queens & 7003004 & 1630 & $\\dots$ \\\\\n",
       "\t26 & New York City & Queens & 7001024 & 1635 & $\\dots$ \\\\\n",
       "\t27 & New York City & Manhattan & 7002020 & 1453 & $\\dots$ \\\\\n",
       "\t28 & New York City & Bronx & 7000011 & 1175 & $\\dots$ \\\\\n",
       "\t29 & New York City & Manhattan & 7002020 & 1453 & $\\dots$ \\\\\n",
       "\t30 & New York City & Kings & 7001020 & 1305 & $\\dots$ \\\\\n",
       "\t$\\dots$ & $\\dots$ & $\\dots$ & $\\dots$ & $\\dots$ &  \\\\\n",
       "\\end{tabular}\n"
      ],
      "text/plain": [
       "7161×34 DataFrame. Omitted printing of 31 columns\n",
       "│ Row  │ Health_Service_Area │ Hospital_County │ Operating_Certificate_Number │\n",
       "│      │ \u001b[90mString\u001b[39m              │ \u001b[90mString\u001b[39m          │ \u001b[90mInt64\u001b[39m                        │\n",
       "├──────┼─────────────────────┼─────────────────┼──────────────────────────────┤\n",
       "│ 1    │ New York City       │ Kings           │ 7001033                      │\n",
       "│ 2    │ New York City       │ Kings           │ 7001009                      │\n",
       "│ 3    │ New York City       │ Manhattan       │ 7002002                      │\n",
       "│ 4    │ New York City       │ Manhattan       │ 7002053                      │\n",
       "│ 5    │ New York City       │ Bronx           │ 7000006                      │\n",
       "│ 6    │ New York City       │ Manhattan       │ 7002020                      │\n",
       "│ 7    │ New York City       │ Manhattan       │ 7002054                      │\n",
       "│ 8    │ New York City       │ Manhattan       │ 7002001                      │\n",
       "│ 9    │ New York City       │ Manhattan       │ 7002054                      │\n",
       "│ 10   │ New York City       │ Manhattan       │ 7002054                      │\n",
       "⋮\n",
       "│ 7151 │ New York City       │ Kings           │ 7001021                      │\n",
       "│ 7152 │ New York City       │ Manhattan       │ 7002020                      │\n",
       "│ 7153 │ New York City       │ Queens          │ 7003010                      │\n",
       "│ 7154 │ New York City       │ Manhattan       │ 7002020                      │\n",
       "│ 7155 │ New York City       │ Manhattan       │ 7002054                      │\n",
       "│ 7156 │ New York City       │ Manhattan       │ 7002054                      │\n",
       "│ 7157 │ New York City       │ Kings           │ 7001020                      │\n",
       "│ 7158 │ New York City       │ Manhattan       │ 7002020                      │\n",
       "│ 7159 │ New York City       │ Manhattan       │ 7002054                      │\n",
       "│ 7160 │ New York City       │ Manhattan       │ 7002020                      │\n",
       "│ 7161 │ New York City       │ Manhattan       │ 7002020                      │"
      ]
     },
     "execution_count": 32,
     "metadata": {},
     "output_type": "execute_result"
    }
   ],
   "source": [
    "train = split_data(df)[1]\n",
    "test = split_data(df)[2]"
   ]
  },
  {
   "cell_type": "code",
   "execution_count": 33,
   "metadata": {},
   "outputs": [
    {
     "data": {
      "text/plain": [
       "model_one (generic function with 1 method)"
      ]
     },
     "execution_count": 33,
     "metadata": {},
     "output_type": "execute_result"
    }
   ],
   "source": [
    "#MODEL ONE: predict total charges\n",
    "#conditions on severity of illness and length of stay\n",
    "function model_one(training_data)\n",
    "    td_size = size(training_data,1)\n",
    "    X = [training_data[:APR_Severity_of_Illness_Code] training_data[:Length_of_Stay] ones(td_size)]\n",
    "    y = training_data[:Total_Charges]\n",
    "    #X = [training_data[:APR_Severity_of_Illness_Code].data training_data[:Length_of_Stay] ones(td_size)]\n",
    "    #y = training_data[:Survived].data\n",
    "    w = X\\y\n",
    "    return (w,X)\n",
    "end "
   ]
  },
  {
   "cell_type": "code",
   "execution_count": 34,
   "metadata": {},
   "outputs": [
    {
     "name": "stderr",
     "output_type": "stream",
     "text": [
      "┌ Warning: `getindex(df::DataFrame, col_ind::ColumnIndex)` is deprecated, use `df[!, col_ind]` instead.\n",
      "│   caller = model_one(::DataFrame) at In[33]:5\n",
      "└ @ Main ./In[33]:5\n",
      "┌ Warning: `getindex(df::DataFrame, col_ind::ColumnIndex)` is deprecated, use `df[!, col_ind]` instead.\n",
      "│   caller = model_one(::DataFrame) at In[33]:5\n",
      "└ @ Main ./In[33]:5\n",
      "┌ Warning: `getindex(df::DataFrame, col_ind::ColumnIndex)` is deprecated, use `df[!, col_ind]` instead.\n",
      "│   caller = model_one(::DataFrame) at In[33]:6\n",
      "└ @ Main ./In[33]:6\n"
     ]
    },
    {
     "data": {
      "text/plain": [
       "3-element Array{Float64,1}:\n",
       " 9311.704417417293\n",
       " 4368.132452991335\n",
       " 7044.165570314837"
      ]
     },
     "execution_count": 34,
     "metadata": {},
     "output_type": "execute_result"
    }
   ],
   "source": [
    "w1 = model_one(train)[1]"
   ]
  },
  {
   "cell_type": "code",
   "execution_count": 35,
   "metadata": {},
   "outputs": [
    {
     "name": "stderr",
     "output_type": "stream",
     "text": [
      "┌ Warning: `getindex(df::DataFrame, col_ind::ColumnIndex)` is deprecated, use `df[!, col_ind]` instead.\n",
      "│   caller = top-level scope at In[35]:2\n",
      "└ @ Core In[35]:2\n",
      "┌ Warning: `getindex(df::DataFrame, col_ind::ColumnIndex)` is deprecated, use `df[!, col_ind]` instead.\n",
      "│   caller = top-level scope at In[35]:2\n",
      "└ @ Core In[35]:2\n",
      "┌ Warning: `getindex(df::DataFrame, col_ind::ColumnIndex)` is deprecated, use `df[!, col_ind]` instead.\n",
      "│   caller = top-level scope at In[35]:3\n",
      "└ @ Core In[35]:3\n"
     ]
    },
    {
     "data": {
      "text/plain": [
       "3-element Array{Float64,1}:\n",
       " 9311.704417417293\n",
       " 4368.132452991335\n",
       " 7044.165570314837"
      ]
     },
     "execution_count": 35,
     "metadata": {},
     "output_type": "execute_result"
    }
   ],
   "source": [
    "td_size = size(train,1)\n",
    "X = [train[:APR_Severity_of_Illness_Code] train[:Length_of_Stay] ones(td_size)]\n",
    "y = train[:Total_Charges]\n",
    "w = X\\y    # MethodError: no method matching zero(::Type{Any}) zero y val?\n",
    "#return (w,X)"
   ]
  },
  {
   "cell_type": "code",
   "execution_count": 37,
   "metadata": {},
   "outputs": [
    {
     "ename": "MethodError",
     "evalue": "MethodError: no method matching round(::Array{Float64,1})\nClosest candidates are:\n  round(!Matched::Type{BigInt}, !Matched::BigFloat) at mpfr.jl:321\n  round(!Matched::Float64, !Matched::RoundingMode{:Nearest}) at float.jl:376\n  round(!Matched::Float64, !Matched::RoundingMode{:Up}) at float.jl:374\n  ...",
     "output_type": "error",
     "traceback": [
      "MethodError: no method matching round(::Array{Float64,1})\nClosest candidates are:\n  round(!Matched::Type{BigInt}, !Matched::BigFloat) at mpfr.jl:321\n  round(!Matched::Float64, !Matched::RoundingMode{:Nearest}) at float.jl:376\n  round(!Matched::Float64, !Matched::RoundingMode{:Up}) at float.jl:374\n  ...",
      "",
      "Stacktrace:",
      " [1] out_sample_error(::Array{Float64,1}, ::typeof(model_one), ::DataFrame) at ./In[30]:9",
      " [2] cross_validate(::typeof(model_one), ::DataFrame; k::Int64) at ./In[30]:67",
      " [3] cross_validate(::Function, ::DataFrame) at ./In[30]:46",
      " [4] top-level scope at show.jl:613",
      " [5] top-level scope at In[37]:1"
     ]
    }
   ],
   "source": [
    "@show cross_validate(model_one, train)"
   ]
  },
  {
   "cell_type": "code",
   "execution_count": null,
   "metadata": {},
   "outputs": [],
   "source": []
  },
  {
   "cell_type": "code",
   "execution_count": null,
   "metadata": {},
   "outputs": [],
   "source": []
  }
 ],
 "metadata": {
  "kernelspec": {
   "display_name": "Julia 1.4.2",
   "language": "julia",
   "name": "julia-1.4"
  },
  "language_info": {
   "file_extension": ".jl",
   "mimetype": "application/julia",
   "name": "julia",
   "version": "1.4.2"
  }
 },
 "nbformat": 4,
 "nbformat_minor": 2
}
