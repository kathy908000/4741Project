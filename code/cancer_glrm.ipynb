{
 "cells": [
  {
   "cell_type": "code",
   "execution_count": 1,
   "metadata": {},
   "outputs": [],
   "source": [
    "#import Pkg; Pkg.add(\"Pycall\")\n",
    "\n"
   ]
  },
  {
   "cell_type": "code",
   "execution_count": 7,
   "metadata": {},
   "outputs": [
    {
     "data": {
      "text/plain": [
       "Plots.PyPlotBackend()"
      ]
     },
     "execution_count": 7,
     "metadata": {},
     "output_type": "execute_result"
    }
   ],
   "source": [
    "using PyCall\n",
    "\n",
    "using LowRankModels\n",
    "using CSV\n",
    "using DataFrames\n",
    "using Pkg\n",
    "using StatsBase\n",
    "using Random, SparseArrays\n",
    "\n",
    "using Random\n",
    "using LinearAlgebra\n",
    "using DataFrames             # Data tables are called \"DataFrames\"\n",
    "using StatsPlots             # load plotting packages \n",
    "using Statistics             # basic statistical functions\n",
    "using CSV  \n",
    "using SparseArrays\n",
    "using Pkg\n",
    "using StatsBase\n",
    "pyplot()"
   ]
  },
  {
   "cell_type": "code",
   "execution_count": 8,
   "metadata": {
    "scrolled": true
   },
   "outputs": [
    {
     "data": {
      "text/html": [
       "<table class=\"data-frame\"><thead><tr><th></th><th>Column1</th><th>Unnamed: 0</th><th>Unnamed: 0_1</th><th>Total_Charges</th><th>APR_Severity_of_Illness_Code</th></tr><tr><th></th><th>Int64</th><th>Int64</th><th>Int64</th><th>Float64</th><th>Int64</th></tr></thead><tbody><p>35,804 rows × 416 columns (omitted printing of 411 columns)</p><tr><th>1</th><td>0</td><td>0</td><td>0</td><td>216494.0</td><td>3</td></tr><tr><th>2</th><td>1</td><td>1</td><td>1</td><td>194331.0</td><td>4</td></tr><tr><th>3</th><td>2</td><td>2</td><td>2</td><td>79396.5</td><td>3</td></tr><tr><th>4</th><td>3</td><td>3</td><td>3</td><td>86736.8</td><td>3</td></tr><tr><th>5</th><td>4</td><td>4</td><td>4</td><td>178593.0</td><td>3</td></tr><tr><th>6</th><td>5</td><td>5</td><td>5</td><td>57239.2</td><td>2</td></tr><tr><th>7</th><td>6</td><td>6</td><td>6</td><td>111640.0</td><td>4</td></tr><tr><th>8</th><td>7</td><td>7</td><td>7</td><td>31801.9</td><td>2</td></tr><tr><th>9</th><td>8</td><td>8</td><td>8</td><td>38714.5</td><td>3</td></tr><tr><th>10</th><td>9</td><td>9</td><td>9</td><td>33681.8</td><td>3</td></tr><tr><th>11</th><td>10</td><td>10</td><td>10</td><td>20601.5</td><td>2</td></tr><tr><th>12</th><td>11</td><td>11</td><td>11</td><td>45185.0</td><td>2</td></tr><tr><th>13</th><td>12</td><td>12</td><td>12</td><td>37010.3</td><td>2</td></tr><tr><th>14</th><td>13</td><td>13</td><td>13</td><td>11905.8</td><td>1</td></tr><tr><th>15</th><td>14</td><td>14</td><td>14</td><td>37150.7</td><td>4</td></tr><tr><th>16</th><td>15</td><td>15</td><td>15</td><td>21769.0</td><td>1</td></tr><tr><th>17</th><td>16</td><td>16</td><td>16</td><td>4531.2</td><td>2</td></tr><tr><th>18</th><td>17</td><td>17</td><td>17</td><td>18945.8</td><td>3</td></tr><tr><th>19</th><td>18</td><td>18</td><td>18</td><td>18892.5</td><td>1</td></tr><tr><th>20</th><td>19</td><td>19</td><td>19</td><td>26588.7</td><td>1</td></tr><tr><th>21</th><td>20</td><td>20</td><td>20</td><td>22676.3</td><td>3</td></tr><tr><th>22</th><td>21</td><td>21</td><td>21</td><td>67895.6</td><td>3</td></tr><tr><th>23</th><td>22</td><td>22</td><td>22</td><td>22945.3</td><td>4</td></tr><tr><th>24</th><td>23</td><td>23</td><td>23</td><td>90060.1</td><td>4</td></tr><tr><th>25</th><td>24</td><td>24</td><td>24</td><td>81742.5</td><td>3</td></tr><tr><th>26</th><td>25</td><td>25</td><td>25</td><td>6911.59</td><td>2</td></tr><tr><th>27</th><td>26</td><td>26</td><td>26</td><td>13773.6</td><td>3</td></tr><tr><th>28</th><td>27</td><td>27</td><td>27</td><td>21995.4</td><td>2</td></tr><tr><th>29</th><td>28</td><td>28</td><td>28</td><td>20620.0</td><td>2</td></tr><tr><th>30</th><td>29</td><td>29</td><td>29</td><td>36878.1</td><td>4</td></tr><tr><th>&vellip;</th><td>&vellip;</td><td>&vellip;</td><td>&vellip;</td><td>&vellip;</td><td>&vellip;</td></tr></tbody></table>"
      ],
      "text/latex": [
       "\\begin{tabular}{r|cccccc}\n",
       "\t& Column1 & Unnamed: 0 & Unnamed: 0\\_1 & Total\\_Charges & APR\\_Severity\\_of\\_Illness\\_Code & \\\\\n",
       "\t\\hline\n",
       "\t& Int64 & Int64 & Int64 & Float64 & Int64 & \\\\\n",
       "\t\\hline\n",
       "\t1 & 0 & 0 & 0 & 216494.0 & 3 & $\\dots$ \\\\\n",
       "\t2 & 1 & 1 & 1 & 194331.0 & 4 & $\\dots$ \\\\\n",
       "\t3 & 2 & 2 & 2 & 79396.5 & 3 & $\\dots$ \\\\\n",
       "\t4 & 3 & 3 & 3 & 86736.8 & 3 & $\\dots$ \\\\\n",
       "\t5 & 4 & 4 & 4 & 178593.0 & 3 & $\\dots$ \\\\\n",
       "\t6 & 5 & 5 & 5 & 57239.2 & 2 & $\\dots$ \\\\\n",
       "\t7 & 6 & 6 & 6 & 111640.0 & 4 & $\\dots$ \\\\\n",
       "\t8 & 7 & 7 & 7 & 31801.9 & 2 & $\\dots$ \\\\\n",
       "\t9 & 8 & 8 & 8 & 38714.5 & 3 & $\\dots$ \\\\\n",
       "\t10 & 9 & 9 & 9 & 33681.8 & 3 & $\\dots$ \\\\\n",
       "\t11 & 10 & 10 & 10 & 20601.5 & 2 & $\\dots$ \\\\\n",
       "\t12 & 11 & 11 & 11 & 45185.0 & 2 & $\\dots$ \\\\\n",
       "\t13 & 12 & 12 & 12 & 37010.3 & 2 & $\\dots$ \\\\\n",
       "\t14 & 13 & 13 & 13 & 11905.8 & 1 & $\\dots$ \\\\\n",
       "\t15 & 14 & 14 & 14 & 37150.7 & 4 & $\\dots$ \\\\\n",
       "\t16 & 15 & 15 & 15 & 21769.0 & 1 & $\\dots$ \\\\\n",
       "\t17 & 16 & 16 & 16 & 4531.2 & 2 & $\\dots$ \\\\\n",
       "\t18 & 17 & 17 & 17 & 18945.8 & 3 & $\\dots$ \\\\\n",
       "\t19 & 18 & 18 & 18 & 18892.5 & 1 & $\\dots$ \\\\\n",
       "\t20 & 19 & 19 & 19 & 26588.7 & 1 & $\\dots$ \\\\\n",
       "\t21 & 20 & 20 & 20 & 22676.3 & 3 & $\\dots$ \\\\\n",
       "\t22 & 21 & 21 & 21 & 67895.6 & 3 & $\\dots$ \\\\\n",
       "\t23 & 22 & 22 & 22 & 22945.3 & 4 & $\\dots$ \\\\\n",
       "\t24 & 23 & 23 & 23 & 90060.1 & 4 & $\\dots$ \\\\\n",
       "\t25 & 24 & 24 & 24 & 81742.5 & 3 & $\\dots$ \\\\\n",
       "\t26 & 25 & 25 & 25 & 6911.59 & 2 & $\\dots$ \\\\\n",
       "\t27 & 26 & 26 & 26 & 13773.6 & 3 & $\\dots$ \\\\\n",
       "\t28 & 27 & 27 & 27 & 21995.4 & 2 & $\\dots$ \\\\\n",
       "\t29 & 28 & 28 & 28 & 20620.0 & 2 & $\\dots$ \\\\\n",
       "\t30 & 29 & 29 & 29 & 36878.1 & 4 & $\\dots$ \\\\\n",
       "\t$\\dots$ & $\\dots$ & $\\dots$ & $\\dots$ & $\\dots$ & $\\dots$ &  \\\\\n",
       "\\end{tabular}\n"
      ],
      "text/plain": [
       "35804×416 DataFrame. Omitted printing of 412 columns\n",
       "│ Row   │ Column1 │ Unnamed: 0 │ Unnamed: 0_1 │ Total_Charges │\n",
       "│       │ \u001b[90mInt64\u001b[39m   │ \u001b[90mInt64\u001b[39m      │ \u001b[90mInt64\u001b[39m        │ \u001b[90mFloat64\u001b[39m       │\n",
       "├───────┼─────────┼────────────┼──────────────┼───────────────┤\n",
       "│ 1     │ 0       │ 0          │ 0            │ 216494.0      │\n",
       "│ 2     │ 1       │ 1          │ 1            │ 194331.0      │\n",
       "│ 3     │ 2       │ 2          │ 2            │ 79396.5       │\n",
       "│ 4     │ 3       │ 3          │ 3            │ 86736.8       │\n",
       "│ 5     │ 4       │ 4          │ 4            │ 178593.0      │\n",
       "│ 6     │ 5       │ 5          │ 5            │ 57239.2       │\n",
       "│ 7     │ 6       │ 6          │ 6            │ 111640.0      │\n",
       "│ 8     │ 7       │ 7          │ 7            │ 31801.9       │\n",
       "│ 9     │ 8       │ 8          │ 8            │ 38714.5       │\n",
       "│ 10    │ 9       │ 9          │ 9            │ 33681.8       │\n",
       "⋮\n",
       "│ 35794 │ 35793   │ 35793      │ 35793        │ 30328.2       │\n",
       "│ 35795 │ 35794   │ 35794      │ 35794        │ 23124.3       │\n",
       "│ 35796 │ 35795   │ 35795      │ 35795        │ 83585.8       │\n",
       "│ 35797 │ 35796   │ 35796      │ 35796        │ 83309.1       │\n",
       "│ 35798 │ 35797   │ 35797      │ 35797        │ 315888.0      │\n",
       "│ 35799 │ 35798   │ 35798      │ 35798        │ 119039.0      │\n",
       "│ 35800 │ 35799   │ 35799      │ 35799        │ 84369.3       │\n",
       "│ 35801 │ 35800   │ 35800      │ 35800        │ 99857.0       │\n",
       "│ 35802 │ 35801   │ 35801      │ 35801        │ 60672.8       │\n",
       "│ 35803 │ 35802   │ 35802      │ 35802        │ 35890.2       │\n",
       "│ 35804 │ 35803   │ 35803      │ 35803        │ 110566.0      │"
      ]
     },
     "execution_count": 8,
     "metadata": {},
     "output_type": "execute_result"
    }
   ],
   "source": [
    "df2 = CSV.read(\"../data/NYC_SPARCS_cancer.csv\")\n",
    "#df = CSV.read(\"../data/SPARCS_cancer_binary.csv\")\n",
    "#dfk = CSV.read(\"../data/SPARCS_kidney_cancer_binary.csv\")\n",
    "dffin = CSV.read(\"../data/cancer_binary_fin2.csv\")\n",
    "\n"
   ]
  },
  {
   "cell_type": "code",
   "execution_count": 9,
   "metadata": {},
   "outputs": [
    {
     "name": "stdout",
     "output_type": "stream",
     "text": [
      "Column1\n",
      "Unnamed: 0\n",
      "Unnamed: 0_1\n",
      "Total_Charges\n",
      "APR_Severity_of_Illness_Code\n",
      "APR_Risk_of_Mortality\n",
      "Age_Ordinal\n",
      "Length_of_Stay\n",
      "Hospital_County_Bronx\n",
      "Hospital_County_Kings\n",
      "Hospital_County_Manhattan\n",
      "Hospital_County_Queens\n",
      "Hospital_County_Richmond\n",
      "Type_of_Admission_Elective\n",
      "Type_of_Admission_Emergency\n",
      "Type_of_Admission_Newborn\n",
      "Type_of_Admission_Urgent\n",
      "Type_of_Admission_Not Available\n",
      "Type_of_Admission_Trauma\n",
      "Patient_Disposition_Home w/ Home Health Services\n",
      "Patient_Disposition_Skilled Nursing Home\n",
      "Patient_Disposition_Home or Self Care\n",
      "Patient_Disposition_Expired\n",
      "Patient_Disposition_Left Against Medical Advice\n",
      "Patient_Disposition_Short-term Hospital\n",
      "Patient_Disposition_Hospice - Home\n",
      "Patient_Disposition_Inpatient Rehabilitation Facility\n",
      "Patient_Disposition_Medicare Cert Long Term Care Hospital\n",
      "Patient_Disposition_Another Type Not Listed\n",
      "Patient_Disposition_Hospice - Medical Facility\n",
      "Patient_Disposition_Cancer Center or Children's Hospital\n",
      "Patient_Disposition_Facility w/ Custodial/Supportive Care\n",
      "Patient_Disposition_Federal Health Care Facility\n",
      "Patient_Disposition_Hosp Basd Medicare Approved Swing Bed\n",
      "Patient_Disposition_Psychiatric Hospital or Unit of Hosp\n",
      "Patient_Disposition_Medicaid Cert Nursing Facility\n",
      "Patient_Disposition_Court/Law Enforcement\n",
      "CCS_Diagnosis_Code_12\n",
      "CCS_Diagnosis_Code_32\n",
      "CCS_Diagnosis_Code_19\n",
      "CCS_Diagnosis_Code_21\n",
      "CCS_Diagnosis_Code_15\n",
      "CCS_Diagnosis_Code_11\n",
      "CCS_Diagnosis_Code_26\n",
      "CCS_Diagnosis_Code_28\n",
      "CCS_Diagnosis_Code_33\n",
      "CCS_Diagnosis_Code_27\n",
      "CCS_Diagnosis_Code_14\n",
      "CCS_Diagnosis_Code_18\n",
      "CCS_Diagnosis_Code_24\n",
      "CCS_Diagnosis_Code_25\n",
      "CCS_Diagnosis_Code_36\n",
      "CCS_Diagnosis_Code_35\n",
      "CCS_Diagnosis_Code_13\n",
      "CCS_Diagnosis_Code_16\n",
      "CCS_Diagnosis_Code_29\n",
      "CCS_Diagnosis_Code_20\n",
      "CCS_Diagnosis_Code_17\n",
      "CCS_Diagnosis_Code_41\n",
      "CCS_Diagnosis_Code_23\n",
      "CCS_Diagnosis_Code_31\n",
      "CCS_Diagnosis_Code_34\n",
      "CCS_Diagnosis_Code_30\n",
      "CCS_Procedure_Code_94\n",
      "CCS_Procedure_Code_112\n",
      "CCS_Procedure_Code_224\n",
      "CCS_Procedure_Code_37\n",
      "CCS_Procedure_Code_54\n",
      "CCS_Procedure_Code_78\n",
      "CCS_Procedure_Code_222\n",
      "CCS_Procedure_Code_70\n",
      "CCS_Procedure_Code_0\n",
      "CCS_Procedure_Code_104\n",
      "CCS_Procedure_Code_101\n",
      "CCS_Procedure_Code_119\n",
      "CCS_Procedure_Code_36\n",
      "CCS_Procedure_Code_125\n",
      "CCS_Procedure_Code_76\n",
      "CCS_Procedure_Code_124\n",
      "CCS_Procedure_Code_39\n",
      "CCS_Procedure_Code_95\n",
      "CCS_Procedure_Code_103\n",
      "CCS_Procedure_Code_10\n",
      "CCS_Procedure_Code_97\n",
      "CCS_Procedure_Code_132\n",
      "CCS_Procedure_Code_130\n",
      "CCS_Procedure_Code_216\n",
      "CCS_Procedure_Code_67\n",
      "CCS_Procedure_Code_83\n",
      "CCS_Procedure_Code_167\n",
      "CCS_Procedure_Code_114\n",
      "CCS_Procedure_Code_113\n",
      "CCS_Procedure_Code_7\n",
      "CCS_Procedure_Code_73\n",
      "CCS_Procedure_Code_169\n",
      "CCS_Procedure_Code_159\n",
      "CCS_Procedure_Code_1\n",
      "CCS_Procedure_Code_38\n",
      "CCS_Procedure_Code_231\n",
      "CCS_Procedure_Code_71\n",
      "CCS_Procedure_Code_82\n",
      "CCS_Procedure_Code_99\n",
      "CCS_Procedure_Code_223\n",
      "CCS_Procedure_Code_93\n",
      "CCS_Procedure_Code_61\n",
      "CCS_Procedure_Code_88\n",
      "CCS_Procedure_Code_34\n",
      "CCS_Procedure_Code_96\n",
      "CCS_Procedure_Code_40\n",
      "CCS_Procedure_Code_74\n",
      "CCS_Procedure_Code_228\n",
      "CCS_Procedure_Code_77\n",
      "CCS_Procedure_Code_110\n",
      "CCS_Procedure_Code_178\n",
      "CCS_Procedure_Code_98\n",
      "CCS_Procedure_Code_179\n",
      "CCS_Procedure_Code_174\n",
      "CCS_Procedure_Code_69\n",
      "CCS_Procedure_Code_21\n",
      "CCS_Procedure_Code_165\n",
      "CCS_Procedure_Code_116\n",
      "CCS_Procedure_Code_198\n",
      "CCS_Procedure_Code_42\n",
      "CCS_Procedure_Code_215\n",
      "CCS_Procedure_Code_166\n",
      "CCS_Procedure_Code_227\n",
      "CCS_Procedure_Code_50\n",
      "CCS_Procedure_Code_33\n",
      "CCS_Procedure_Code_196\n",
      "CCS_Procedure_Code_170\n",
      "CCS_Procedure_Code_90\n",
      "CCS_Procedure_Code_213\n",
      "CCS_Procedure_Code_19\n",
      "CCS_Procedure_Code_173\n",
      "CCS_Procedure_Code_9\n",
      "CCS_Procedure_Code_177\n",
      "CCS_Procedure_Code_58\n",
      "CCS_Procedure_Code_75\n",
      "CCS_Procedure_Code_207\n",
      "CCS_Procedure_Code_209\n",
      "CCS_Procedure_Code_142\n",
      "CCS_Procedure_Code_35\n",
      "CCS_Procedure_Code_157\n",
      "CCS_Procedure_Code_175\n",
      "CCS_Procedure_Code_211\n",
      "CCS_Procedure_Code_64\n",
      "CCS_Procedure_Code_118\n",
      "CCS_Procedure_Code_89\n",
      "CCS_Procedure_Code_2\n",
      "CCS_Procedure_Code_164\n",
      "CCS_Procedure_Code_210\n",
      "CCS_Procedure_Code_31\n",
      "CCS_Procedure_Code_176\n",
      "CCS_Procedure_Code_172\n",
      "CCS_Procedure_Code_197\n",
      "CCS_Procedure_Code_23\n",
      "CCS_Procedure_Code_28\n",
      "CCS_Procedure_Code_4\n",
      "CCS_Procedure_Code_32\n",
      "CCS_Procedure_Code_208\n",
      "CCS_Procedure_Code_84\n",
      "CCS_Procedure_Code_152\n",
      "CCS_Procedure_Code_193\n",
      "CCS_Procedure_Code_160\n",
      "CCS_Procedure_Code_153\n",
      "CCS_Procedure_Code_41\n",
      "CCS_Procedure_Code_29\n",
      "CCS_Procedure_Code_65\n",
      "CCS_Procedure_Code_100\n",
      "CCS_Procedure_Code_199\n",
      "CCS_Procedure_Code_217\n",
      "CCS_Procedure_Code_86\n",
      "CCS_Procedure_Code_26\n",
      "CCS_Procedure_Code_111\n",
      "CCS_Procedure_Code_30\n",
      "CCS_Procedure_Code_128\n",
      "CCS_Procedure_Code_180\n",
      "CCS_Procedure_Code_195\n",
      "CCS_Procedure_Code_87\n",
      "CCS_Procedure_Code_12\n",
      "CCS_Procedure_Code_226\n",
      "CCS_Procedure_Code_11\n",
      "CCS_Procedure_Code_221\n",
      "CCS_Procedure_Code_171\n",
      "CCS_Procedure_Code_168\n",
      "CCS_Procedure_Code_225\n",
      "CCS_Procedure_Code_191\n",
      "CCS_Procedure_Code_108\n",
      "CCS_Procedure_Code_117\n",
      "CCS_Procedure_Code_72\n",
      "CCS_Procedure_Code_120\n",
      "CCS_Procedure_Code_123\n",
      "CCS_Procedure_Code_194\n",
      "CCS_Procedure_Code_131\n",
      "CCS_Procedure_Code_202\n",
      "CCS_Procedure_Code_47\n",
      "CCS_Procedure_Code_66\n",
      "CCS_Procedure_Code_161\n",
      "CCS_Procedure_Code_158\n",
      "CCS_Procedure_Code_49\n",
      "CCS_Procedure_Code_57\n",
      "CCS_Procedure_Code_102\n",
      "CCS_Procedure_Code_109\n",
      "CCS_Procedure_Code_203\n",
      "CCS_Procedure_Code_212\n",
      "CCS_Procedure_Code_25\n",
      "CCS_Procedure_Code_192\n",
      "CCS_Procedure_Code_92\n",
      "CCS_Procedure_Code_218\n",
      "CCS_Procedure_Code_201\n",
      "CCS_Procedure_Code_63\n",
      "CCS_Procedure_Code_205\n",
      "CCS_Procedure_Code_190\n",
      "CCS_Procedure_Code_81\n",
      "CCS_Procedure_Code_80\n",
      "CCS_Procedure_Code_183\n",
      "CCS_Procedure_Code_48\n",
      "CCS_Procedure_Code_45\n",
      "CCS_Procedure_Code_56\n",
      "CCS_Procedure_Code_214\n",
      "CCS_Procedure_Code_3\n",
      "CCS_Procedure_Code_59\n",
      "CCS_Procedure_Code_185\n",
      "CCS_Procedure_Code_8\n",
      "CCS_Procedure_Code_188\n",
      "CCS_Procedure_Code_55\n",
      "CCS_Procedure_Code_79\n",
      "CCS_Procedure_Code_156\n",
      "CCS_Procedure_Code_27\n",
      "CCS_Procedure_Code_148\n",
      "CCS_Procedure_Code_17\n",
      "CCS_Procedure_Code_162\n",
      "CCS_Procedure_Code_146\n",
      "CCS_Procedure_Code_154\n",
      "CCS_Procedure_Code_5\n",
      "CCS_Procedure_Code_20\n",
      "CCS_Procedure_Code_24\n",
      "CCS_Procedure_Code_181\n",
      "CCS_Procedure_Code_220\n",
      "CCS_Procedure_Code_129\n",
      "CCS_Procedure_Code_6\n",
      "CCS_Procedure_Code_62\n",
      "CCS_Procedure_Code_184\n",
      "CCS_Procedure_Code_229\n",
      "CCS_Procedure_Code_18\n",
      "CCS_Procedure_Code_85\n",
      "CCS_Procedure_Code_187\n",
      "CCS_Procedure_Code_44\n",
      "APR_DRG_Code_220\n",
      "APR_DRG_Code_441\n",
      "APR_DRG_Code_136\n",
      "APR_DRG_Code_343\n",
      "APR_DRG_Code_221\n",
      "APR_DRG_Code_110\n",
      "APR_DRG_Code_518\n",
      "APR_DRG_Code_530\n",
      "APR_DRG_Code_442\n",
      "APR_DRG_Code_446\n",
      "APR_DRG_Code_511\n",
      "APR_DRG_Code_281\n",
      "APR_DRG_Code_120\n",
      "APR_DRG_Code_240\n",
      "APR_DRG_Code_382\n",
      "APR_DRG_Code_512\n",
      "APR_DRG_Code_404\n",
      "APR_DRG_Code_510\n",
      "APR_DRG_Code_41\n",
      "APR_DRG_Code_229\n",
      "APR_DRG_Code_362\n",
      "APR_DRG_Code_480\n",
      "APR_DRG_Code_461\n",
      "APR_DRG_Code_482\n",
      "APR_DRG_Code_447\n",
      "APR_DRG_Code_223\n",
      "APR_DRG_Code_500\n",
      "APR_DRG_Code_21\n",
      "APR_DRG_Code_950\n",
      "APR_DRG_Code_261\n",
      "APR_DRG_Code_264\n",
      "APR_DRG_Code_121\n",
      "APR_DRG_Code_260\n",
      "APR_DRG_Code_222\n",
      "APR_DRG_Code_130\n",
      "APR_DRG_Code_951\n",
      "APR_DRG_Code_70\n",
      "APR_DRG_Code_90\n",
      "APR_DRG_Code_4\n",
      "APR_DRG_Code_89\n",
      "APR_DRG_Code_5\n",
      "APR_DRG_Code_484\n",
      "APR_DRG_Code_98\n",
      "APR_DRG_Code_361\n",
      "APR_DRG_Code_513\n",
      "APR_DRG_Code_301\n",
      "APR_DRG_Code_22\n",
      "APR_DRG_Code_364\n",
      "APR_DRG_Code_91\n",
      "APR_DRG_Code_631\n",
      "APR_DRG_Code_92\n",
      "APR_DRG_Code_305\n",
      "APR_DRG_Code_309\n",
      "APR_DRG_Code_3\n",
      "APR_DRG_Code_481\n",
      "APR_DRG_Code_97\n",
      "APR_DRG_Code_363\n",
      "APR_DRG_Code_1\n",
      "APR_DRG_Code_313\n",
      "APR_DRG_Code_424\n",
      "APR_DRG_Code_405\n",
      "APR_DRG_Code_385\n",
      "APR_DRG_Code_226\n",
      "APR_DRG_Code_302\n",
      "APR_DRG_Code_680\n",
      "APR_DRG_Code_316\n",
      "APR_DRG_Code_483\n",
      "APR_DRG_Code_23\n",
      "APR_DRG_Code_82\n",
      "APR_DRG_Code_312\n",
      "APR_DRG_Code_468\n",
      "APR_DRG_Code_952\n",
      "APR_DRG_Code_317\n",
      "APR_DRG_Code_694\n",
      "APR_DRG_Code_228\n",
      "APR_DRG_Code_517\n",
      "APR_DRG_Code_315\n",
      "APR_DRG_Code_381\n",
      "APR_DRG_Code_224\n",
      "APR_DRG_Code_254\n",
      "APR_DRG_Code_532\n",
      "APR_DRG_Code_262\n",
      "APR_DRG_Code_691\n",
      "APR_DRG_Code_263\n",
      "APR_DRG_Code_314\n",
      "APR_DRG_Code_320\n",
      "APR_DRG_Code_514\n",
      "APR_DRG_Code_304\n",
      "APR_DRG_Code_445\n",
      "APR_DRG_Code_893\n",
      "APR_DRG_Code_894\n",
      "APR_DRG_Code_321\n",
      "APR_DRG_Code_681\n",
      "APR_DRG_Code_225\n",
      "APR_DRG_Code_401\n",
      "APR_DRG_Code_283\n",
      "APR_DRG_Code_143\n",
      "APR_DRG_Code_24\n",
      "APR_DRG_Code_443\n",
      "APR_DRG_Code_93\n",
      "APR_DRG_Code_95\n",
      "APR_DRG_Code_115\n",
      "APR_DRG_Code_73\n",
      "APR_DRG_Code_310\n",
      "APR_DRG_Code_26\n",
      "APR_DRG_Code_861\n",
      "APR_DRG_Code_227\n",
      "APR_DRG_Code_167\n",
      "APR_DRG_Code_207\n",
      "APR_DRG_Code_180\n",
      "APR_DRG_Code_692\n",
      "APR_DRG_Code_850\n",
      "APR_DRG_Code_403\n",
      "APR_MDC_Code_6\n",
      "APR_MDC_Code_11\n",
      "APR_MDC_Code_4\n",
      "APR_MDC_Code_8\n",
      "APR_MDC_Code_3\n",
      "APR_MDC_Code_13\n",
      "APR_MDC_Code_7\n",
      "APR_MDC_Code_9\n",
      "APR_MDC_Code_10\n",
      "APR_MDC_Code_1\n",
      "APR_MDC_Code_12\n",
      "APR_MDC_Code_2\n",
      "APR_MDC_Code_15\n",
      "APR_MDC_Code_17\n",
      "APR_MDC_Code_24\n",
      "APR_MDC_Code_23\n",
      "APR_MDC_Code_5\n",
      "APR_Medical_Surgical_Description_Surgical\n",
      "Payment_Typology_1_Medicaid\n",
      "Payment_Typology_1_Medicare\n",
      "Payment_Typology_1_Blue Cross/Blue Shield\n",
      "Payment_Typology_1_Self-Pay\n",
      "Payment_Typology_1_Private Health Insurance\n",
      "Payment_Typology_1_Federal/State/Local/VA\n",
      "Payment_Typology_1_Department of Corrections\n",
      "Payment_Typology_1_Managed Care, Unspecified\n",
      "Payment_Typology_1_Miscellaneous/Other\n",
      "Payment_Typology_1_Unknown\n",
      "Payment_Typology_2_Medicare\n",
      "Payment_Typology_2_Medicaid\n",
      "Payment_Typology_2_Self-Pay\n",
      "Payment_Typology_2_Blue Cross/Blue Shield\n",
      "Payment_Typology_2_Private Health Insurance\n",
      "Payment_Typology_2_Managed Care, Unspecified\n",
      "Payment_Typology_2_Unknown\n",
      "Payment_Typology_2_Federal/State/Local/VA\n",
      "Payment_Typology_2_Miscellaneous/Other\n",
      "Payment_Typology_3_Medicaid\n",
      "Payment_Typology_3_Private Health Insurance\n",
      "Payment_Typology_3_Self-Pay\n",
      "Payment_Typology_3_Blue Cross/Blue Shield\n",
      "Payment_Typology_3_Medicare\n",
      "Payment_Typology_3_Federal/State/Local/VA\n",
      "Payment_Typology_3_Unknown\n",
      "Payment_Typology_3_Miscellaneous/Other\n",
      "Payment_Typology_3_Managed Care, Unspecified\n",
      "Emergency_Department_Indicator_Y\n",
      "Gender_F\n",
      "Race_Black/African American\n",
      "Race_Other Race\n",
      "Race_White\n",
      "Race_Unknown\n",
      "Ethnicity_Not Span/Hispanic\n",
      "Ethnicity_Spanish/Hispanic\n",
      "Ethnicity_Unknown\n"
     ]
    }
   ],
   "source": [
    "for name in names(dffin)\n",
    "    println(name)\n",
    "end\n",
    "#replace(\"GFG is a CS portal.\", \"CS\" => \"Computer Science\")"
   ]
  },
  {
   "cell_type": "code",
   "execution_count": 10,
   "metadata": {
    "scrolled": true
   },
   "outputs": [
    {
     "data": {
      "text/html": [
       "<table class=\"data-frame\"><thead><tr><th></th><th>Column1</th><th>Unnamed: 0</th><th>Unnamed: 0_1</th><th>Total_Charges</th><th>APR_Severity_of_Illness_Code</th></tr><tr><th></th><th>Int64</th><th>Int64</th><th>Int64</th><th>Float64</th><th>Int64</th></tr></thead><tbody><p>15,000 rows × 416 columns (omitted printing of 411 columns)</p><tr><th>1</th><td>1</td><td>1</td><td>1</td><td>194331.0</td><td>4</td></tr><tr><th>2</th><td>3</td><td>3</td><td>3</td><td>86736.8</td><td>3</td></tr><tr><th>3</th><td>9</td><td>9</td><td>9</td><td>33681.8</td><td>3</td></tr><tr><th>4</th><td>10</td><td>10</td><td>10</td><td>20601.5</td><td>2</td></tr><tr><th>5</th><td>13</td><td>13</td><td>13</td><td>11905.8</td><td>1</td></tr><tr><th>6</th><td>14</td><td>14</td><td>14</td><td>37150.7</td><td>4</td></tr><tr><th>7</th><td>16</td><td>16</td><td>16</td><td>4531.2</td><td>2</td></tr><tr><th>8</th><td>17</td><td>17</td><td>17</td><td>18945.8</td><td>3</td></tr><tr><th>9</th><td>23</td><td>23</td><td>23</td><td>90060.1</td><td>4</td></tr><tr><th>10</th><td>25</td><td>25</td><td>25</td><td>6911.59</td><td>2</td></tr><tr><th>11</th><td>26</td><td>26</td><td>26</td><td>13773.6</td><td>3</td></tr><tr><th>12</th><td>28</td><td>28</td><td>28</td><td>20620.0</td><td>2</td></tr><tr><th>13</th><td>29</td><td>29</td><td>29</td><td>36878.1</td><td>4</td></tr><tr><th>14</th><td>30</td><td>30</td><td>30</td><td>12338.4</td><td>2</td></tr><tr><th>15</th><td>32</td><td>32</td><td>32</td><td>51437.6</td><td>2</td></tr><tr><th>16</th><td>33</td><td>33</td><td>33</td><td>15973.6</td><td>1</td></tr><tr><th>17</th><td>35</td><td>35</td><td>35</td><td>27848.9</td><td>3</td></tr><tr><th>18</th><td>36</td><td>36</td><td>36</td><td>9348.38</td><td>4</td></tr><tr><th>19</th><td>37</td><td>37</td><td>37</td><td>14154.2</td><td>3</td></tr><tr><th>20</th><td>42</td><td>42</td><td>42</td><td>12020.9</td><td>1</td></tr><tr><th>21</th><td>44</td><td>44</td><td>44</td><td>5742.39</td><td>1</td></tr><tr><th>22</th><td>45</td><td>45</td><td>45</td><td>11187.7</td><td>3</td></tr><tr><th>23</th><td>46</td><td>46</td><td>46</td><td>24804.8</td><td>3</td></tr><tr><th>24</th><td>48</td><td>48</td><td>48</td><td>3474.34</td><td>1</td></tr><tr><th>25</th><td>52</td><td>52</td><td>52</td><td>12759.9</td><td>2</td></tr><tr><th>26</th><td>53</td><td>53</td><td>53</td><td>20269.5</td><td>3</td></tr><tr><th>27</th><td>54</td><td>54</td><td>54</td><td>37638.8</td><td>4</td></tr><tr><th>28</th><td>55</td><td>55</td><td>55</td><td>10391.4</td><td>2</td></tr><tr><th>29</th><td>56</td><td>56</td><td>56</td><td>41922.1</td><td>3</td></tr><tr><th>30</th><td>58</td><td>58</td><td>58</td><td>27046.6</td><td>4</td></tr><tr><th>&vellip;</th><td>&vellip;</td><td>&vellip;</td><td>&vellip;</td><td>&vellip;</td><td>&vellip;</td></tr></tbody></table>"
      ],
      "text/latex": [
       "\\begin{tabular}{r|cccccc}\n",
       "\t& Column1 & Unnamed: 0 & Unnamed: 0\\_1 & Total\\_Charges & APR\\_Severity\\_of\\_Illness\\_Code & \\\\\n",
       "\t\\hline\n",
       "\t& Int64 & Int64 & Int64 & Float64 & Int64 & \\\\\n",
       "\t\\hline\n",
       "\t1 & 1 & 1 & 1 & 194331.0 & 4 & $\\dots$ \\\\\n",
       "\t2 & 3 & 3 & 3 & 86736.8 & 3 & $\\dots$ \\\\\n",
       "\t3 & 9 & 9 & 9 & 33681.8 & 3 & $\\dots$ \\\\\n",
       "\t4 & 10 & 10 & 10 & 20601.5 & 2 & $\\dots$ \\\\\n",
       "\t5 & 13 & 13 & 13 & 11905.8 & 1 & $\\dots$ \\\\\n",
       "\t6 & 14 & 14 & 14 & 37150.7 & 4 & $\\dots$ \\\\\n",
       "\t7 & 16 & 16 & 16 & 4531.2 & 2 & $\\dots$ \\\\\n",
       "\t8 & 17 & 17 & 17 & 18945.8 & 3 & $\\dots$ \\\\\n",
       "\t9 & 23 & 23 & 23 & 90060.1 & 4 & $\\dots$ \\\\\n",
       "\t10 & 25 & 25 & 25 & 6911.59 & 2 & $\\dots$ \\\\\n",
       "\t11 & 26 & 26 & 26 & 13773.6 & 3 & $\\dots$ \\\\\n",
       "\t12 & 28 & 28 & 28 & 20620.0 & 2 & $\\dots$ \\\\\n",
       "\t13 & 29 & 29 & 29 & 36878.1 & 4 & $\\dots$ \\\\\n",
       "\t14 & 30 & 30 & 30 & 12338.4 & 2 & $\\dots$ \\\\\n",
       "\t15 & 32 & 32 & 32 & 51437.6 & 2 & $\\dots$ \\\\\n",
       "\t16 & 33 & 33 & 33 & 15973.6 & 1 & $\\dots$ \\\\\n",
       "\t17 & 35 & 35 & 35 & 27848.9 & 3 & $\\dots$ \\\\\n",
       "\t18 & 36 & 36 & 36 & 9348.38 & 4 & $\\dots$ \\\\\n",
       "\t19 & 37 & 37 & 37 & 14154.2 & 3 & $\\dots$ \\\\\n",
       "\t20 & 42 & 42 & 42 & 12020.9 & 1 & $\\dots$ \\\\\n",
       "\t21 & 44 & 44 & 44 & 5742.39 & 1 & $\\dots$ \\\\\n",
       "\t22 & 45 & 45 & 45 & 11187.7 & 3 & $\\dots$ \\\\\n",
       "\t23 & 46 & 46 & 46 & 24804.8 & 3 & $\\dots$ \\\\\n",
       "\t24 & 48 & 48 & 48 & 3474.34 & 1 & $\\dots$ \\\\\n",
       "\t25 & 52 & 52 & 52 & 12759.9 & 2 & $\\dots$ \\\\\n",
       "\t26 & 53 & 53 & 53 & 20269.5 & 3 & $\\dots$ \\\\\n",
       "\t27 & 54 & 54 & 54 & 37638.8 & 4 & $\\dots$ \\\\\n",
       "\t28 & 55 & 55 & 55 & 10391.4 & 2 & $\\dots$ \\\\\n",
       "\t29 & 56 & 56 & 56 & 41922.1 & 3 & $\\dots$ \\\\\n",
       "\t30 & 58 & 58 & 58 & 27046.6 & 4 & $\\dots$ \\\\\n",
       "\t$\\dots$ & $\\dots$ & $\\dots$ & $\\dots$ & $\\dots$ & $\\dots$ &  \\\\\n",
       "\\end{tabular}\n"
      ],
      "text/plain": [
       "15000×416 DataFrame. Omitted printing of 412 columns\n",
       "│ Row   │ Column1 │ Unnamed: 0 │ Unnamed: 0_1 │ Total_Charges │\n",
       "│       │ \u001b[90mInt64\u001b[39m   │ \u001b[90mInt64\u001b[39m      │ \u001b[90mInt64\u001b[39m        │ \u001b[90mFloat64\u001b[39m       │\n",
       "├───────┼─────────┼────────────┼──────────────┼───────────────┤\n",
       "│ 1     │ 1       │ 1          │ 1            │ 194331.0      │\n",
       "│ 2     │ 3       │ 3          │ 3            │ 86736.8       │\n",
       "│ 3     │ 9       │ 9          │ 9            │ 33681.8       │\n",
       "│ 4     │ 10      │ 10         │ 10           │ 20601.5       │\n",
       "│ 5     │ 13      │ 13         │ 13           │ 11905.8       │\n",
       "│ 6     │ 14      │ 14         │ 14           │ 37150.7       │\n",
       "│ 7     │ 16      │ 16         │ 16           │ 4531.2        │\n",
       "│ 8     │ 17      │ 17         │ 17           │ 18945.8       │\n",
       "│ 9     │ 23      │ 23         │ 23           │ 90060.1       │\n",
       "│ 10    │ 25      │ 25         │ 25           │ 6911.59       │\n",
       "⋮\n",
       "│ 14990 │ 35781   │ 35781      │ 35781        │ 81525.3       │\n",
       "│ 14991 │ 35783   │ 35783      │ 35783        │ 285918.0      │\n",
       "│ 14992 │ 35784   │ 35784      │ 35784        │ 72115.3       │\n",
       "│ 14993 │ 35785   │ 35785      │ 35785        │ 91213.4       │\n",
       "│ 14994 │ 35792   │ 35792      │ 35792        │ 92564.3       │\n",
       "│ 14995 │ 35793   │ 35793      │ 35793        │ 30328.2       │\n",
       "│ 14996 │ 35795   │ 35795      │ 35795        │ 83585.8       │\n",
       "│ 14997 │ 35796   │ 35796      │ 35796        │ 83309.1       │\n",
       "│ 14998 │ 35798   │ 35798      │ 35798        │ 119039.0      │\n",
       "│ 14999 │ 35799   │ 35799      │ 35799        │ 84369.3       │\n",
       "│ 15000 │ 35802   │ 35802      │ 35802        │ 35890.2       │"
      ]
     },
     "execution_count": 10,
     "metadata": {},
     "output_type": "execute_result"
    }
   ],
   "source": [
    "dfsample = dffin[sample(axes(dffin, 1), 7000; replace = false, ordered = true), :]\n",
    "dfsample2 = dffin[sample(axes(dffin, 1), 15000; replace = false, ordered = true), :]"
   ]
  },
  {
   "cell_type": "code",
   "execution_count": 11,
   "metadata": {},
   "outputs": [
    {
     "data": {
      "text/plain": [
       "5-element Array{Symbol,1}:\n",
       " :Total_Charges\n",
       " :APR_Severity_of_Illness_Code\n",
       " :Age_Ordinal\n",
       " :Length_of_Stay\n",
       " :Gender_F"
      ]
     },
     "execution_count": 11,
     "metadata": {},
     "output_type": "execute_result"
    }
   ],
   "source": [
    "features = [\n",
    "    :Total_Charges,\n",
    "    :APR_Severity_of_Illness_Code,\n",
    "    :Age_Ordinal,\n",
    "    :Length_of_Stay, \n",
    "    :Gender_F\n",
    "]\n",
    "\n",
    "#df = df[:,[1 2]]\n",
    "#df = select!(df, Not(:B))"
   ]
  },
  {
   "cell_type": "code",
   "execution_count": 13,
   "metadata": {
    "scrolled": true
   },
   "outputs": [
    {
     "name": "stderr",
     "output_type": "stream",
     "text": [
      "┌ Warning: `getindex(df::DataFrame, col_inds::Union{AbstractVector, Regex, Not})` is deprecated, use `df[:, col_inds]` instead.\n",
      "│   caller = top-level scope at In[13]:1\n",
      "└ @ Core In[13]:1\n",
      "┌ Warning: `getindex(df::DataFrame, col_inds::Union{AbstractVector, Regex, Not})` is deprecated, use `df[:, col_inds]` instead.\n",
      "│   caller = top-level scope at In[13]:2\n",
      "└ @ Core In[13]:2\n",
      "┌ Warning: `getindex(df::DataFrame, col_inds::Union{AbstractVector, Regex, Not})` is deprecated, use `df[:, col_inds]` instead.\n",
      "│   caller = top-level scope at In[13]:3\n",
      "└ @ Core In[13]:3\n"
     ]
    },
    {
     "data": {
      "text/html": [
       "<table class=\"data-frame\"><thead><tr><th></th><th>Total_Charges</th><th>APR_Severity_of_Illness_Code</th><th>Age_Ordinal</th><th>Length_of_Stay</th><th>Gender_F</th></tr><tr><th></th><th>Float64</th><th>Int64</th><th>Int64</th><th>Int64</th><th>Int64</th></tr></thead><tbody><p>15,000 rows × 5 columns</p><tr><th>1</th><td>194331.0</td><td>4</td><td>5</td><td>57</td><td>0</td></tr><tr><th>2</th><td>86736.8</td><td>3</td><td>4</td><td>25</td><td>0</td></tr><tr><th>3</th><td>33681.8</td><td>3</td><td>4</td><td>11</td><td>1</td></tr><tr><th>4</th><td>20601.5</td><td>2</td><td>3</td><td>6</td><td>0</td></tr><tr><th>5</th><td>11905.8</td><td>1</td><td>3</td><td>4</td><td>0</td></tr><tr><th>6</th><td>37150.7</td><td>4</td><td>4</td><td>9</td><td>0</td></tr><tr><th>7</th><td>4531.2</td><td>2</td><td>3</td><td>1</td><td>1</td></tr><tr><th>8</th><td>18945.8</td><td>3</td><td>3</td><td>5</td><td>1</td></tr><tr><th>9</th><td>90060.1</td><td>4</td><td>5</td><td>25</td><td>0</td></tr><tr><th>10</th><td>6911.59</td><td>2</td><td>4</td><td>1</td><td>0</td></tr><tr><th>11</th><td>13773.6</td><td>3</td><td>4</td><td>4</td><td>1</td></tr><tr><th>12</th><td>20620.0</td><td>2</td><td>4</td><td>7</td><td>0</td></tr><tr><th>13</th><td>36878.1</td><td>4</td><td>3</td><td>12</td><td>1</td></tr><tr><th>14</th><td>12338.4</td><td>2</td><td>4</td><td>2</td><td>0</td></tr><tr><th>15</th><td>51437.6</td><td>2</td><td>5</td><td>15</td><td>1</td></tr><tr><th>16</th><td>15973.6</td><td>1</td><td>4</td><td>5</td><td>1</td></tr><tr><th>17</th><td>27848.9</td><td>3</td><td>4</td><td>7</td><td>1</td></tr><tr><th>18</th><td>9348.38</td><td>4</td><td>4</td><td>2</td><td>1</td></tr><tr><th>19</th><td>14154.2</td><td>3</td><td>5</td><td>4</td><td>1</td></tr><tr><th>20</th><td>12020.9</td><td>1</td><td>5</td><td>4</td><td>0</td></tr><tr><th>21</th><td>5742.39</td><td>1</td><td>4</td><td>2</td><td>0</td></tr><tr><th>22</th><td>11187.7</td><td>3</td><td>4</td><td>3</td><td>0</td></tr><tr><th>23</th><td>24804.8</td><td>3</td><td>5</td><td>8</td><td>1</td></tr><tr><th>24</th><td>3474.34</td><td>1</td><td>5</td><td>1</td><td>0</td></tr><tr><th>25</th><td>12759.9</td><td>2</td><td>4</td><td>4</td><td>0</td></tr><tr><th>26</th><td>20269.5</td><td>3</td><td>4</td><td>6</td><td>0</td></tr><tr><th>27</th><td>37638.8</td><td>4</td><td>3</td><td>12</td><td>0</td></tr><tr><th>28</th><td>10391.4</td><td>2</td><td>1</td><td>2</td><td>0</td></tr><tr><th>29</th><td>41922.1</td><td>3</td><td>5</td><td>9</td><td>1</td></tr><tr><th>30</th><td>27046.6</td><td>4</td><td>5</td><td>7</td><td>1</td></tr><tr><th>&vellip;</th><td>&vellip;</td><td>&vellip;</td><td>&vellip;</td><td>&vellip;</td><td>&vellip;</td></tr></tbody></table>"
      ],
      "text/latex": [
       "\\begin{tabular}{r|ccccc}\n",
       "\t& Total\\_Charges & APR\\_Severity\\_of\\_Illness\\_Code & Age\\_Ordinal & Length\\_of\\_Stay & Gender\\_F\\\\\n",
       "\t\\hline\n",
       "\t& Float64 & Int64 & Int64 & Int64 & Int64\\\\\n",
       "\t\\hline\n",
       "\t1 & 194331.0 & 4 & 5 & 57 & 0 \\\\\n",
       "\t2 & 86736.8 & 3 & 4 & 25 & 0 \\\\\n",
       "\t3 & 33681.8 & 3 & 4 & 11 & 1 \\\\\n",
       "\t4 & 20601.5 & 2 & 3 & 6 & 0 \\\\\n",
       "\t5 & 11905.8 & 1 & 3 & 4 & 0 \\\\\n",
       "\t6 & 37150.7 & 4 & 4 & 9 & 0 \\\\\n",
       "\t7 & 4531.2 & 2 & 3 & 1 & 1 \\\\\n",
       "\t8 & 18945.8 & 3 & 3 & 5 & 1 \\\\\n",
       "\t9 & 90060.1 & 4 & 5 & 25 & 0 \\\\\n",
       "\t10 & 6911.59 & 2 & 4 & 1 & 0 \\\\\n",
       "\t11 & 13773.6 & 3 & 4 & 4 & 1 \\\\\n",
       "\t12 & 20620.0 & 2 & 4 & 7 & 0 \\\\\n",
       "\t13 & 36878.1 & 4 & 3 & 12 & 1 \\\\\n",
       "\t14 & 12338.4 & 2 & 4 & 2 & 0 \\\\\n",
       "\t15 & 51437.6 & 2 & 5 & 15 & 1 \\\\\n",
       "\t16 & 15973.6 & 1 & 4 & 5 & 1 \\\\\n",
       "\t17 & 27848.9 & 3 & 4 & 7 & 1 \\\\\n",
       "\t18 & 9348.38 & 4 & 4 & 2 & 1 \\\\\n",
       "\t19 & 14154.2 & 3 & 5 & 4 & 1 \\\\\n",
       "\t20 & 12020.9 & 1 & 5 & 4 & 0 \\\\\n",
       "\t21 & 5742.39 & 1 & 4 & 2 & 0 \\\\\n",
       "\t22 & 11187.7 & 3 & 4 & 3 & 0 \\\\\n",
       "\t23 & 24804.8 & 3 & 5 & 8 & 1 \\\\\n",
       "\t24 & 3474.34 & 1 & 5 & 1 & 0 \\\\\n",
       "\t25 & 12759.9 & 2 & 4 & 4 & 0 \\\\\n",
       "\t26 & 20269.5 & 3 & 4 & 6 & 0 \\\\\n",
       "\t27 & 37638.8 & 4 & 3 & 12 & 0 \\\\\n",
       "\t28 & 10391.4 & 2 & 1 & 2 & 0 \\\\\n",
       "\t29 & 41922.1 & 3 & 5 & 9 & 1 \\\\\n",
       "\t30 & 27046.6 & 4 & 5 & 7 & 1 \\\\\n",
       "\t$\\dots$ & $\\dots$ & $\\dots$ & $\\dots$ & $\\dots$ & $\\dots$ \\\\\n",
       "\\end{tabular}\n"
      ],
      "text/plain": [
       "15000×5 DataFrame. Omitted printing of 2 columns\n",
       "│ Row   │ Total_Charges │ APR_Severity_of_Illness_Code │ Age_Ordinal │\n",
       "│       │ \u001b[90mFloat64\u001b[39m       │ \u001b[90mInt64\u001b[39m                        │ \u001b[90mInt64\u001b[39m       │\n",
       "├───────┼───────────────┼──────────────────────────────┼─────────────┤\n",
       "│ 1     │ 194331.0      │ 4                            │ 5           │\n",
       "│ 2     │ 86736.8       │ 3                            │ 4           │\n",
       "│ 3     │ 33681.8       │ 3                            │ 4           │\n",
       "│ 4     │ 20601.5       │ 2                            │ 3           │\n",
       "│ 5     │ 11905.8       │ 1                            │ 3           │\n",
       "│ 6     │ 37150.7       │ 4                            │ 4           │\n",
       "│ 7     │ 4531.2        │ 2                            │ 3           │\n",
       "│ 8     │ 18945.8       │ 3                            │ 3           │\n",
       "│ 9     │ 90060.1       │ 4                            │ 5           │\n",
       "│ 10    │ 6911.59       │ 2                            │ 4           │\n",
       "⋮\n",
       "│ 14990 │ 81525.3       │ 1                            │ 1           │\n",
       "│ 14991 │ 285918.0      │ 4                            │ 1           │\n",
       "│ 14992 │ 72115.3       │ 3                            │ 1           │\n",
       "│ 14993 │ 91213.4       │ 3                            │ 1           │\n",
       "│ 14994 │ 92564.3       │ 2                            │ 1           │\n",
       "│ 14995 │ 30328.2       │ 2                            │ 1           │\n",
       "│ 14996 │ 83585.8       │ 1                            │ 1           │\n",
       "│ 14997 │ 83309.1       │ 3                            │ 1           │\n",
       "│ 14998 │ 119039.0      │ 2                            │ 1           │\n",
       "│ 14999 │ 84369.3       │ 2                            │ 1           │\n",
       "│ 15000 │ 35890.2       │ 1                            │ 1           │"
      ]
     },
     "execution_count": 13,
     "metadata": {},
     "output_type": "execute_result"
    }
   ],
   "source": [
    "dfsamplefeat = dfsample[features]\n",
    "dfwholefeat = dffin[features]\n",
    "\n",
    "dfsamplefeat2 = dfsample2[features]"
   ]
  },
  {
   "cell_type": "code",
   "execution_count": 24,
   "metadata": {},
   "outputs": [
    {
     "data": {
      "text/plain": [
       "\"../data/dfsamplefeat2.csv\""
      ]
     },
     "execution_count": 24,
     "metadata": {},
     "output_type": "execute_result"
    }
   ],
   "source": [
    "CSV.write(\"../data/dfsamplefeat2.csv\", dfsamplefeat2)\n"
   ]
  },
  {
   "cell_type": "raw",
   "metadata": {},
   "source": [
    "#testtranspose\n",
    "ex = DataFrame([[names(dfwholefeat)]; collect.(eachrow(dfwholefeat))], [:column; Symbol.(axes(dfwholefeat, 1))])"
   ]
  },
  {
   "cell_type": "code",
   "execution_count": null,
   "metadata": {},
   "outputs": [],
   "source": [
    "dfsmall1 = df[features]\n",
    "\n",
    "#dfsmall1 = dfk[features]"
   ]
  },
  {
   "cell_type": "code",
   "execution_count": 16,
   "metadata": {},
   "outputs": [
    {
     "data": {
      "text/plain": [
       "init_kmeanspp! (generic function with 1 method)"
      ]
     },
     "execution_count": 16,
     "metadata": {},
     "output_type": "execute_result"
    }
   ],
   "source": [
    "#debugged init_kmeansapp\n",
    "function init_kmeanspp!(glrm::GLRM)\n",
    "    m,n = size(glrm.A)\n",
    "    k = glrm.k\n",
    "    possible_centers = Set(1:m)\n",
    "    glrm.Y = randn(k,n)\n",
    "    # assign first center randomly\n",
    "    i = sample(1:m)\n",
    "    setdiff!(possible_centers, i)\n",
    "\n",
    "    glrm.Y[1,glrm.observed_features[i]] =  vec(convert(Array, glrm.A[i,glrm.observed_features[i]]))\n",
    "    #glrm.Y[1,glrm.observed_features[i]] = convert(Matrix, glrm.A[i,glrm.observed_features[i]])\n",
    "    # assign next centers one by one\n",
    "    for l=1:k-1\n",
    "    min_dists_per_obs = zeros(m)\n",
    "    for i in possible_centers\n",
    "        d = zeros(l)\n",
    "        for j in glrm.observed_features[i]\n",
    "            for ll=1:l\n",
    "                d[ll] += evaluate(glrm.losses[j], glrm.Y[ll,j], glrm.A[i,j])\n",
    "            end\n",
    "        end\n",
    "        min_dists_per_obs[i] = minimum(d)/length(glrm.observed_features[i])\n",
    "    end\n",
    "    furthest_index = wsample(1:m,min_dists_per_obs)\n",
    "\n",
    "    glrm.Y[l+1,glrm.observed_features[furthest_index]] = vec(convert(Array, glrm.A[furthest_index,glrm.observed_features[furthest_index]]))\n",
    "    end\n",
    "    return glrm \n",
    "    \n",
    "end"
   ]
  },
  {
   "cell_type": "markdown",
   "metadata": {},
   "source": [
    "# kmeans k=4 quadloss"
   ]
  },
  {
   "cell_type": "code",
   "execution_count": 15,
   "metadata": {},
   "outputs": [
    {
     "data": {
      "text/plain": [
       "GLRM(35804×5 DataFrame. Omitted printing of 2 columns\n",
       "│ Row   │ Total_Charges │ APR_Severity_of_Illness_Code │ Age_Ordinal │\n",
       "│       │ \u001b[90mFloat64\u001b[39m       │ \u001b[90mInt64\u001b[39m                        │ \u001b[90mInt64\u001b[39m       │\n",
       "├───────┼───────────────┼──────────────────────────────┼─────────────┤\n",
       "│ 1     │ 216494.0      │ 3                            │ 3           │\n",
       "│ 2     │ 194331.0      │ 4                            │ 5           │\n",
       "│ 3     │ 79396.5       │ 3                            │ 4           │\n",
       "│ 4     │ 86736.8       │ 3                            │ 4           │\n",
       "│ 5     │ 178593.0      │ 3                            │ 1           │\n",
       "│ 6     │ 57239.2       │ 2                            │ 4           │\n",
       "│ 7     │ 111640.0      │ 4                            │ 4           │\n",
       "│ 8     │ 31801.9       │ 2                            │ 4           │\n",
       "│ 9     │ 38714.5       │ 3                            │ 5           │\n",
       "│ 10    │ 33681.8       │ 3                            │ 4           │\n",
       "⋮\n",
       "│ 35794 │ 30328.2       │ 2                            │ 1           │\n",
       "│ 35795 │ 23124.3       │ 2                            │ 1           │\n",
       "│ 35796 │ 83585.8       │ 1                            │ 1           │\n",
       "│ 35797 │ 83309.1       │ 3                            │ 1           │\n",
       "│ 35798 │ 315888.0      │ 2                            │ 1           │\n",
       "│ 35799 │ 119039.0      │ 2                            │ 1           │\n",
       "│ 35800 │ 84369.3       │ 2                            │ 1           │\n",
       "│ 35801 │ 99857.0       │ 3                            │ 1           │\n",
       "│ 35802 │ 60672.8       │ 1                            │ 1           │\n",
       "│ 35803 │ 35890.2       │ 1                            │ 1           │\n",
       "│ 35804 │ 110566.0      │ 2                            │ 1           │, Loss[QuadLoss(1.0, RealDomain()), QuadLoss(1.0, RealDomain()), QuadLoss(1.0, RealDomain()), QuadLoss(1.0, RealDomain()), QuadLoss(1.0, RealDomain())], Regularizer[UnitOneSparseConstraint(), UnitOneSparseConstraint(), UnitOneSparseConstraint(), UnitOneSparseConstraint(), UnitOneSparseConstraint(), UnitOneSparseConstraint(), UnitOneSparseConstraint(), UnitOneSparseConstraint(), UnitOneSparseConstraint(), UnitOneSparseConstraint()  …  UnitOneSparseConstraint(), UnitOneSparseConstraint(), UnitOneSparseConstraint(), UnitOneSparseConstraint(), UnitOneSparseConstraint(), UnitOneSparseConstraint(), UnitOneSparseConstraint(), UnitOneSparseConstraint(), UnitOneSparseConstraint(), UnitOneSparseConstraint()], Regularizer[ZeroReg(), ZeroReg(), ZeroReg(), ZeroReg(), ZeroReg()], 4, UnitRange{Int64}[1:5, 1:5, 1:5, 1:5, 1:5, 1:5, 1:5, 1:5, 1:5, 1:5  …  1:5, 1:5, 1:5, 1:5, 1:5, 1:5, 1:5, 1:5, 1:5, 1:5], UnitRange{Int64}[1:35804, 1:35804, 1:35804, 1:35804, 1:35804], [0.886910596926457 -0.702149842127494 … -0.47516400719555213 0.7184394474320732; -0.5617380416348093 -1.9657178236643258 … 0.2555846835216476 1.7233698274845843; 0.566275217373971 0.046383959493923724 … -1.308367580323342 -0.5883942680607208; -2.1302553013356404 2.1928145389117657 … -0.36232760583423695 -0.6240744804452971], [0.9657644980535032 1.271168296833395 … 0.24032192495891647 1.7627276546106379; 0.25091514230322315 0.1688502853860003 … -0.31912051759806953 0.5910448136302708; 1.4056810479610227 0.6614856737040555 … -0.5333945746498909 -0.6401825305338443; 0.6598171838122322 -0.29230587593808005 … -0.16231427153843686 1.5189475967526829])"
      ]
     },
     "execution_count": 15,
     "metadata": {},
     "output_type": "execute_result"
    }
   ],
   "source": [
    "k = 4\n",
    "A= dfsmall1\n",
    "losses = QuadLoss() # minimize squared distance to cluster centroids\n",
    "rx = UnitOneSparseConstraint() # each row is assigned to exactly one cluster\n",
    "ry = ZeroReg() # no regularization on the cluster centroids\n",
    "glrm = GLRM(A,losses,rx,ry,k)"
   ]
  },
  {
   "cell_type": "raw",
   "metadata": {},
   "source": [
    "function init_kmeanspp!(glrm::GLRM)\n",
    "    m,n = size(glrm.A)\n",
    "    k = glrm.k\n",
    "    possible_centers = Set(1:m)\n",
    "    glrm.Y = randn(k,n)\n",
    "    # assign first center randomly\n",
    "    i = sample(1:m)\n",
    "    setdiff!(possible_centers, i)\n",
    "    glrm.Y[1,glrm.observed_features[i]] = Array(glrm.A[i,glrm.observed_features[i]])\n",
    "    # assign next centers one by one\n",
    "    for l=1:k-1\n",
    "    min_dists_per_obs = zeros(m)\n",
    "    for i in possible_centers\n",
    "        d = zeros(l)\n",
    "        for j in glrm.observed_features[i]\n",
    "            for ll=1:l\n",
    "                d[ll] += evaluate(glrm.losses[j], glrm.Y[ll,j], glrm.A[i,j])\n",
    "            end\n",
    "        end\n",
    "        min_dists_per_obs[i] = minimum(d)/length(glrm.observed_features[i])\n",
    "    end\n",
    "    furthest_index = wsample(1:m,min_dists_per_obs)\n",
    "    glrm.Y[l+1,glrm.observed_features[furthest_index]] = glrm.A[furthest_index,glrm.observed_features[furthest_index]]\n",
    "    end\n",
    "    return glrm\n",
    "end"
   ]
  },
  {
   "cell_type": "markdown",
   "metadata": {},
   "source": [
    "# init_kmeans debugged"
   ]
  },
  {
   "cell_type": "code",
   "execution_count": 16,
   "metadata": {},
   "outputs": [
    {
     "name": "stderr",
     "output_type": "stream",
     "text": [
      "┌ Warning: `convert(::Type{Array}, dfr::DataFrameRow)` is deprecated, use `permutedims(Vector(dfr))` instead.\n",
      "│   caller = top-level scope at In[16]:8\n",
      "└ @ Core In[16]:8\n",
      "┌ Warning: `convert(::Type{Array}, dfr::DataFrameRow)` is deprecated, use `permutedims(Vector(dfr))` instead.\n",
      "│   caller = top-level scope at In[16]:25\n",
      "└ @ Core ./In[16]:25\n"
     ]
    },
    {
     "data": {
      "text/plain": [
       "GLRM(35804×5 DataFrame. Omitted printing of 2 columns\n",
       "│ Row   │ Total_Charges │ APR_Severity_of_Illness_Code │ Age_Ordinal │\n",
       "│       │ \u001b[90mFloat64\u001b[39m       │ \u001b[90mInt64\u001b[39m                        │ \u001b[90mInt64\u001b[39m       │\n",
       "├───────┼───────────────┼──────────────────────────────┼─────────────┤\n",
       "│ 1     │ 216494.0      │ 3                            │ 3           │\n",
       "│ 2     │ 194331.0      │ 4                            │ 5           │\n",
       "│ 3     │ 79396.5       │ 3                            │ 4           │\n",
       "│ 4     │ 86736.8       │ 3                            │ 4           │\n",
       "│ 5     │ 178593.0      │ 3                            │ 1           │\n",
       "│ 6     │ 57239.2       │ 2                            │ 4           │\n",
       "│ 7     │ 111640.0      │ 4                            │ 4           │\n",
       "│ 8     │ 31801.9       │ 2                            │ 4           │\n",
       "│ 9     │ 38714.5       │ 3                            │ 5           │\n",
       "│ 10    │ 33681.8       │ 3                            │ 4           │\n",
       "⋮\n",
       "│ 35794 │ 30328.2       │ 2                            │ 1           │\n",
       "│ 35795 │ 23124.3       │ 2                            │ 1           │\n",
       "│ 35796 │ 83585.8       │ 1                            │ 1           │\n",
       "│ 35797 │ 83309.1       │ 3                            │ 1           │\n",
       "│ 35798 │ 315888.0      │ 2                            │ 1           │\n",
       "│ 35799 │ 119039.0      │ 2                            │ 1           │\n",
       "│ 35800 │ 84369.3       │ 2                            │ 1           │\n",
       "│ 35801 │ 99857.0       │ 3                            │ 1           │\n",
       "│ 35802 │ 60672.8       │ 1                            │ 1           │\n",
       "│ 35803 │ 35890.2       │ 1                            │ 1           │\n",
       "│ 35804 │ 110566.0      │ 2                            │ 1           │, Loss[QuadLoss(1.0, RealDomain()), QuadLoss(1.0, RealDomain()), QuadLoss(1.0, RealDomain()), QuadLoss(1.0, RealDomain()), QuadLoss(1.0, RealDomain())], Regularizer[UnitOneSparseConstraint(), UnitOneSparseConstraint(), UnitOneSparseConstraint(), UnitOneSparseConstraint(), UnitOneSparseConstraint(), UnitOneSparseConstraint(), UnitOneSparseConstraint(), UnitOneSparseConstraint(), UnitOneSparseConstraint(), UnitOneSparseConstraint()  …  UnitOneSparseConstraint(), UnitOneSparseConstraint(), UnitOneSparseConstraint(), UnitOneSparseConstraint(), UnitOneSparseConstraint(), UnitOneSparseConstraint(), UnitOneSparseConstraint(), UnitOneSparseConstraint(), UnitOneSparseConstraint(), UnitOneSparseConstraint()], Regularizer[ZeroReg(), ZeroReg(), ZeroReg(), ZeroReg(), ZeroReg()], 4, UnitRange{Int64}[1:5, 1:5, 1:5, 1:5, 1:5, 1:5, 1:5, 1:5, 1:5, 1:5  …  1:5, 1:5, 1:5, 1:5, 1:5, 1:5, 1:5, 1:5, 1:5, 1:5], UnitRange{Int64}[1:35804, 1:35804, 1:35804, 1:35804, 1:35804], [0.886910596926457 -0.702149842127494 … -0.47516400719555213 0.7184394474320732; -0.5617380416348093 -1.9657178236643258 … 0.2555846835216476 1.7233698274845843; 0.566275217373971 0.046383959493923724 … -1.308367580323342 -0.5883942680607208; -2.1302553013356404 2.1928145389117657 … -0.36232760583423695 -0.6240744804452971], [58842.85 2.0 … 6.0 0.0; 565764.15 4.0 … 57.0 0.0; 289599.03 4.0 … 34.0 0.0; 472565.58 4.0 … 25.0 0.0])"
      ]
     },
     "execution_count": 16,
     "metadata": {},
     "output_type": "execute_result"
    }
   ],
   "source": [
    "m,n = size(glrm.A)\n",
    "k = glrm.k\n",
    "possible_centers = Set(1:m)\n",
    "glrm.Y = randn(k,n)\n",
    "# assign first center randomly\n",
    "i = sample(1:m)\n",
    "setdiff!(possible_centers, i)\n",
    "\n",
    "glrm.Y[1,glrm.observed_features[i]] =  vec(convert(Array, glrm.A[i,glrm.observed_features[i]]))\n",
    "#glrm.Y[1,glrm.observed_features[i]] = convert(Matrix, glrm.A[i,glrm.observed_features[i]])\n",
    "# assign next centers one by one\n",
    "for l=1:k-1\n",
    "min_dists_per_obs = zeros(m)\n",
    "for i in possible_centers\n",
    "    d = zeros(l)\n",
    "    for j in glrm.observed_features[i]\n",
    "        for ll=1:l\n",
    "            d[ll] += evaluate(glrm.losses[j], glrm.Y[ll,j], glrm.A[i,j])\n",
    "        end\n",
    "    end\n",
    "    min_dists_per_obs[i] = minimum(d)/length(glrm.observed_features[i])\n",
    "end\n",
    "furthest_index = wsample(1:m,min_dists_per_obs)\n",
    "\n",
    "glrm.Y[l+1,glrm.observed_features[furthest_index]] = vec(convert(Array, glrm.A[furthest_index,glrm.observed_features[furthest_index]]))\n",
    "end\n",
    "return glrm    \n"
   ]
  },
  {
   "cell_type": "code",
   "execution_count": 17,
   "metadata": {},
   "outputs": [],
   "source": [
    "#init_kmeanspp!(glrm)"
   ]
  },
  {
   "cell_type": "code",
   "execution_count": 18,
   "metadata": {
    "scrolled": false
   },
   "outputs": [
    {
     "name": "stdout",
     "output_type": "stream",
     "text": [
      "Fitting GLRM\n",
      "Iteration 10: objective value = 9.025586902742312e13\n",
      "Iteration 20: objective value = 8.903641998248395e13\n"
     ]
    },
    {
     "data": {
      "text/plain": [
       "([0.0 0.0 … 0.0 1.0; 1.0 1.0 … 1.0 0.0; 0.0 0.0 … 0.0 0.0; 0.0 0.0 … 0.0 0.0], [131986.56024395 2.816816917541517 … 16.319965462368806 0.48369468873775123; 46748.81134672322 2.063364768909834 … 6.049383552338485 0.5248828658209977; 289599.03 4.0 … 34.0 0.0; 447228.7344765475 3.768353893646632 … 38.82150995296226 0.29403672633146893], ConvergenceHistory(\"ProxGradGLRM\", [Inf, 2.205586442288748e14, 9.934593165623252e13, 9.577011653782797e13, 9.414855806112212e13, 9.276506423434617e13, 9.223070787697027e13, 9.17515179474165e13, 9.105636810219642e13, 9.053868921575558e13  …  8.90740264917361e13, 8.903641998248395e13, 8.901599346561756e13, 8.893969434682598e13, 8.888958772022947e13, 8.88513637342336e13, 8.881960779135614e13, 8.879557939086562e13, 8.877597558162822e13, 8.87729269599886e13], Float64[], [0.0, 0.0, 0.0, 0.0, 0.0, 0.0, 0.0, 0.0, 0.0, 0.0  …  0.0, 0.0, 0.0, 0.0, 0.0, 0.0, 0.0, 0.0, 0.0, 0.0], [0.0, 0.0, 0.0, 0.0, 0.0, 0.0, 0.0, 0.0, 0.0, 0.0  …  0.0, 0.0, 0.0, 0.0, 0.0, 0.0, 0.0, 0.0, 0.0, 0.0], [0.0, 1.2581379413604736, 2.622861862182617, 3.3625388145446777, 3.7122669219970703, 4.0454277992248535, 4.412742853164673, 4.748510837554932, 5.10750675201416, 5.439966917037964  …  8.957921743392944, 9.31791877746582, 9.670848846435547, 10.022899866104126, 10.351274967193604, 10.702630043029785, 11.027801036834717, 11.384187936782837, 11.71902084350586, 12.094358921051025], [0.0, 0.0, 0.0, 0.0, 0.0, 0.0, 0.0, 0.0, 0.0, 0.0  …  0.0, 0.0, 0.0, 0.0, 0.0, 0.0, 0.0, 0.0, 0.0, 0.0], 0))"
      ]
     },
     "execution_count": 18,
     "metadata": {},
     "output_type": "execute_result"
    }
   ],
   "source": [
    "X,Y,ch = fit!(glrm)"
   ]
  },
  {
   "cell_type": "code",
   "execution_count": null,
   "metadata": {},
   "outputs": [],
   "source": []
  },
  {
   "cell_type": "code",
   "execution_count": null,
   "metadata": {},
   "outputs": [],
   "source": []
  },
  {
   "cell_type": "code",
   "execution_count": null,
   "metadata": {},
   "outputs": [],
   "source": []
  },
  {
   "cell_type": "code",
   "execution_count": 20,
   "metadata": {},
   "outputs": [
    {
     "data": {
      "text/html": [
       "<table class=\"data-frame\"><thead><tr><th></th><th>x1</th><th>x2</th><th>x3</th><th>x4</th><th>x5</th><th>x6</th><th>x7</th><th>x8</th><th>x9</th></tr><tr><th></th><th>Float64</th><th>Float64</th><th>Float64</th><th>Float64</th><th>Float64</th><th>Float64</th><th>Float64</th><th>Float64</th><th>Float64</th></tr></thead><tbody><p>4 rows × 35,804 columns (omitted printing of 35795 columns)</p><tr><th>1</th><td>0.0</td><td>0.0</td><td>0.0</td><td>0.0</td><td>0.0</td><td>0.0</td><td>0.0</td><td>0.0</td><td>0.0</td></tr><tr><th>2</th><td>1.0</td><td>1.0</td><td>1.0</td><td>1.0</td><td>1.0</td><td>1.0</td><td>1.0</td><td>1.0</td><td>1.0</td></tr><tr><th>3</th><td>0.0</td><td>0.0</td><td>0.0</td><td>0.0</td><td>0.0</td><td>0.0</td><td>0.0</td><td>0.0</td><td>0.0</td></tr><tr><th>4</th><td>0.0</td><td>0.0</td><td>0.0</td><td>0.0</td><td>0.0</td><td>0.0</td><td>0.0</td><td>0.0</td><td>0.0</td></tr></tbody></table>"
      ],
      "text/latex": [
       "\\begin{tabular}{r|cccccccccc}\n",
       "\t& x1 & x2 & x3 & x4 & x5 & x6 & x7 & x8 & x9 & \\\\\n",
       "\t\\hline\n",
       "\t& Float64 & Float64 & Float64 & Float64 & Float64 & Float64 & Float64 & Float64 & Float64 & \\\\\n",
       "\t\\hline\n",
       "\t1 & 0.0 & 0.0 & 0.0 & 0.0 & 0.0 & 0.0 & 0.0 & 0.0 & 0.0 & $\\dots$ \\\\\n",
       "\t2 & 1.0 & 1.0 & 1.0 & 1.0 & 1.0 & 1.0 & 1.0 & 1.0 & 1.0 & $\\dots$ \\\\\n",
       "\t3 & 0.0 & 0.0 & 0.0 & 0.0 & 0.0 & 0.0 & 0.0 & 0.0 & 0.0 & $\\dots$ \\\\\n",
       "\t4 & 0.0 & 0.0 & 0.0 & 0.0 & 0.0 & 0.0 & 0.0 & 0.0 & 0.0 & $\\dots$ \\\\\n",
       "\\end{tabular}\n"
      ],
      "text/plain": [
       "4×35804 DataFrame. Omitted printing of 35797 columns\n",
       "│ Row │ x1      │ x2      │ x3      │ x4      │ x5      │ x6      │ x7      │\n",
       "│     │ \u001b[90mFloat64\u001b[39m │ \u001b[90mFloat64\u001b[39m │ \u001b[90mFloat64\u001b[39m │ \u001b[90mFloat64\u001b[39m │ \u001b[90mFloat64\u001b[39m │ \u001b[90mFloat64\u001b[39m │ \u001b[90mFloat64\u001b[39m │\n",
       "├─────┼─────────┼─────────┼─────────┼─────────┼─────────┼─────────┼─────────┤\n",
       "│ 1   │ 0.0     │ 0.0     │ 0.0     │ 0.0     │ 0.0     │ 0.0     │ 0.0     │\n",
       "│ 2   │ 1.0     │ 1.0     │ 1.0     │ 1.0     │ 1.0     │ 1.0     │ 1.0     │\n",
       "│ 3   │ 0.0     │ 0.0     │ 0.0     │ 0.0     │ 0.0     │ 0.0     │ 0.0     │\n",
       "│ 4   │ 0.0     │ 0.0     │ 0.0     │ 0.0     │ 0.0     │ 0.0     │ 0.0     │"
      ]
     },
     "execution_count": 20,
     "metadata": {},
     "output_type": "execute_result"
    }
   ],
   "source": [
    "X = convert(DataFrame, X)\n"
   ]
  },
  {
   "cell_type": "code",
   "execution_count": null,
   "metadata": {},
   "outputs": [],
   "source": [
    "CSV.write(\"../data/cancer4quad.csv\", X)"
   ]
  },
  {
   "cell_type": "code",
   "execution_count": null,
   "metadata": {},
   "outputs": [],
   "source": []
  },
  {
   "cell_type": "code",
   "execution_count": null,
   "metadata": {},
   "outputs": [],
   "source": []
  },
  {
   "cell_type": "code",
   "execution_count": 16,
   "metadata": {},
   "outputs": [
    {
     "ename": "MethodError",
     "evalue": "MethodError: no method matching PyReverseDims(::DataFrame)\nClosest candidates are:\n  PyReverseDims(!Matched::Union{DenseArray{T,N}, Base.ReinterpretArray{T,N,S,A} where S where A<:Union{SubArray{T,N,A,I,true} where I<:Union{Tuple{Vararg{Real,N} where N}, Tuple{AbstractUnitRange,Vararg{Any,N} where N}} where A<:DenseArray where N where T, DenseArray}, Base.ReshapedArray{T,N,A,MI} where MI<:Tuple{Vararg{Base.MultiplicativeInverses.SignedMultiplicativeInverse{Int64},N} where N} where A<:Union{Base.ReinterpretArray{T,N,S,A} where S where A<:Union{SubArray{T,N,A,I,true} where I<:Union{Tuple{Vararg{Real,N} where N}, Tuple{AbstractUnitRange,Vararg{Any,N} where N}} where A<:DenseArray where N where T, DenseArray} where N where T, SubArray{T,N,A,I,true} where I<:Union{Tuple{Vararg{Real,N} where N}, Tuple{AbstractUnitRange,Vararg{Any,N} where N}} where A<:DenseArray where N where T, DenseArray}, SubArray{T,N,A,I,L} where L where I<:Tuple{Vararg{Union{Int64, AbstractRange{Int64}, Base.AbstractCartesianIndex},N} where N} where A<:Union{Base.ReinterpretArray{T,N,S,A} where S where A<:Union{SubArray{T,N,A,I,true} where I<:Union{Tuple{Vararg{Real,N} where N}, Tuple{AbstractUnitRange,Vararg{Any,N} where N}} where A<:DenseArray where N where T, DenseArray} where N where T, Base.ReshapedArray{T,N,A,MI} where MI<:Tuple{Vararg{Base.MultiplicativeInverses.SignedMultiplicativeInverse{Int64},N} where N} where A<:Union{Base.ReinterpretArray{T,N,S,A} where S where A<:Union{SubArray{T,N,A,I,true} where I<:Union{Tuple{Vararg{Real,N} where N}, Tuple{AbstractUnitRange,Vararg{Any,N} where N}} where A<:DenseArray where N where T, DenseArray} where N where T, SubArray{T,N,A,I,true} where I<:Union{Tuple{Vararg{Real,N} where N}, Tuple{AbstractUnitRange,Vararg{Any,N} where N}} where A<:DenseArray where N where T, DenseArray} where N where T, DenseArray}}) where {T<:Union{Complex{Float32}, Complex{Float64}, Bool, Float16, Float32, Float64, Int16, Int32, Int64, Int8, Ptr{PyCall.PyObject_struct}, UInt16, UInt32, UInt64, UInt8, PyObject}, N} at /Users/kathy908000/.julia/packages/PyCall/l64G5/src/numpy.jl:198\n  PyReverseDims(!Matched::BitArray) at /Users/kathy908000/.julia/packages/PyCall/l64G5/src/numpy.jl:204\n  PyReverseDims(!Matched::AbstractArray{T,2} where T) at /Users/kathy908000/.julia/packages/PyCall/l64G5/src/numpy.jl:208\n  ...",
     "output_type": "error",
     "traceback": [
      "MethodError: no method matching PyReverseDims(::DataFrame)\nClosest candidates are:\n  PyReverseDims(!Matched::Union{DenseArray{T,N}, Base.ReinterpretArray{T,N,S,A} where S where A<:Union{SubArray{T,N,A,I,true} where I<:Union{Tuple{Vararg{Real,N} where N}, Tuple{AbstractUnitRange,Vararg{Any,N} where N}} where A<:DenseArray where N where T, DenseArray}, Base.ReshapedArray{T,N,A,MI} where MI<:Tuple{Vararg{Base.MultiplicativeInverses.SignedMultiplicativeInverse{Int64},N} where N} where A<:Union{Base.ReinterpretArray{T,N,S,A} where S where A<:Union{SubArray{T,N,A,I,true} where I<:Union{Tuple{Vararg{Real,N} where N}, Tuple{AbstractUnitRange,Vararg{Any,N} where N}} where A<:DenseArray where N where T, DenseArray} where N where T, SubArray{T,N,A,I,true} where I<:Union{Tuple{Vararg{Real,N} where N}, Tuple{AbstractUnitRange,Vararg{Any,N} where N}} where A<:DenseArray where N where T, DenseArray}, SubArray{T,N,A,I,L} where L where I<:Tuple{Vararg{Union{Int64, AbstractRange{Int64}, Base.AbstractCartesianIndex},N} where N} where A<:Union{Base.ReinterpretArray{T,N,S,A} where S where A<:Union{SubArray{T,N,A,I,true} where I<:Union{Tuple{Vararg{Real,N} where N}, Tuple{AbstractUnitRange,Vararg{Any,N} where N}} where A<:DenseArray where N where T, DenseArray} where N where T, Base.ReshapedArray{T,N,A,MI} where MI<:Tuple{Vararg{Base.MultiplicativeInverses.SignedMultiplicativeInverse{Int64},N} where N} where A<:Union{Base.ReinterpretArray{T,N,S,A} where S where A<:Union{SubArray{T,N,A,I,true} where I<:Union{Tuple{Vararg{Real,N} where N}, Tuple{AbstractUnitRange,Vararg{Any,N} where N}} where A<:DenseArray where N where T, DenseArray} where N where T, SubArray{T,N,A,I,true} where I<:Union{Tuple{Vararg{Real,N} where N}, Tuple{AbstractUnitRange,Vararg{Any,N} where N}} where A<:DenseArray where N where T, DenseArray} where N where T, DenseArray}}) where {T<:Union{Complex{Float32}, Complex{Float64}, Bool, Float16, Float32, Float64, Int16, Int32, Int64, Int8, Ptr{PyCall.PyObject_struct}, UInt16, UInt32, UInt64, UInt8, PyObject}, N} at /Users/kathy908000/.julia/packages/PyCall/l64G5/src/numpy.jl:198\n  PyReverseDims(!Matched::BitArray) at /Users/kathy908000/.julia/packages/PyCall/l64G5/src/numpy.jl:204\n  PyReverseDims(!Matched::AbstractArray{T,2} where T) at /Users/kathy908000/.julia/packages/PyCall/l64G5/src/numpy.jl:208\n  ...",
      "",
      "Stacktrace:",
      " [1] top-level scope at In[16]:1"
     ]
    }
   ],
   "source": [
    "PyReverseDims(X)"
   ]
  },
  {
   "cell_type": "code",
   "execution_count": null,
   "metadata": {},
   "outputs": [],
   "source": []
  },
  {
   "cell_type": "code",
   "execution_count": 11,
   "metadata": {},
   "outputs": [
    {
     "name": "stdout",
     "output_type": "stream",
     "text": [
      "Computing cross validation error for each fold\n",
      "flattening observations\n",
      "computing CV folds\n",
      "\n",
      "forming train and test GLRM for fold 1\n",
      "training model on 134299 samples and testing on 44721\n",
      "fitting train GLRM for fold 1\n",
      "Fitting GLRM\n",
      "Iteration 10: objective value = 6.447025739614471e13\n",
      "computing train and test error for fold 1:\n",
      "\ttrain error: 4.8001585198691386e8\n",
      "\ttest error:  1.0935026047220385e9\n",
      "\n",
      "forming train and test GLRM for fold 2\n",
      "training model on 134167 samples and testing on 44853\n",
      "fitting train GLRM for fold 2\n",
      "Fitting GLRM\n",
      "Iteration 10: objective value = 7.172113023481761e13\n",
      "computing train and test error for fold 2:\n",
      "\ttrain error: 5.34250441219968e8\n",
      "\ttest error:  9.238132819729986e8\n",
      "\n",
      "forming train and test GLRM for fold 3\n",
      "training model on 134456 samples and testing on 44564\n",
      "fitting train GLRM for fold 3\n",
      "Fitting GLRM\n",
      "Iteration 10: objective value = 7.740016365904039e13\n",
      "Iteration 20: objective value = 7.711675833913516e13\n",
      "computing train and test error for fold 3:\n",
      "\ttrain error: 5.726691599721352e8\n",
      "\ttest error:  9.086618961597468e8\n",
      "\n",
      "forming train and test GLRM for fold 4\n",
      "training model on 134138 samples and testing on 44882\n",
      "fitting train GLRM for fold 4\n",
      "Fitting GLRM\n",
      "Iteration 10: objective value = 7.361566501783678e13\n",
      "computing train and test error for fold 4:\n",
      "\ttrain error: 5.483306530666965e8\n",
      "\ttest error:  8.911253836578114e8\n"
     ]
    },
    {
     "data": {
      "text/html": [
       "<table class=\"data-frame\"><thead><tr><th></th><th>train_error</th><th>test_error</th></tr><tr><th></th><th>Float64</th><th>Float64</th></tr></thead><tbody><p>4 rows × 2 columns</p><tr><th>1</th><td>4.80016e8</td><td>1.0935e9</td></tr><tr><th>2</th><td>5.3425e8</td><td>9.23813e8</td></tr><tr><th>3</th><td>5.72669e8</td><td>9.08662e8</td></tr><tr><th>4</th><td>5.48331e8</td><td>8.91125e8</td></tr></tbody></table>"
      ],
      "text/latex": [
       "\\begin{tabular}{r|cc}\n",
       "\t& train\\_error & test\\_error\\\\\n",
       "\t\\hline\n",
       "\t& Float64 & Float64\\\\\n",
       "\t\\hline\n",
       "\t1 & 4.80016e8 & 1.0935e9 \\\\\n",
       "\t2 & 5.3425e8 & 9.23813e8 \\\\\n",
       "\t3 & 5.72669e8 & 9.08662e8 \\\\\n",
       "\t4 & 5.48331e8 & 8.91125e8 \\\\\n",
       "\\end{tabular}\n"
      ],
      "text/plain": [
       "4×2 DataFrame\n",
       "│ Row │ train_error │ test_error │\n",
       "│     │ \u001b[90mFloat64\u001b[39m     │ \u001b[90mFloat64\u001b[39m    │\n",
       "├─────┼─────────────┼────────────┤\n",
       "│ 1   │ 4.80016e8   │ 1.0935e9   │\n",
       "│ 2   │ 5.3425e8    │ 9.23813e8  │\n",
       "│ 3   │ 5.72669e8   │ 9.08662e8  │\n",
       "│ 4   │ 5.48331e8   │ 8.91125e8  │"
      ]
     },
     "execution_count": 11,
     "metadata": {},
     "output_type": "execute_result"
    }
   ],
   "source": [
    "println(\"Computing cross validation error for each fold\")\n",
    "params = Params(1.0, max_iter=100, abs_tol=0.0, min_stepsize=.001)\n",
    "train_error, test_error, train_glrms, test_glrms = cross_validate(glrm, nfolds=4, params=params)\n",
    "df = DataFrame(train_error = train_error, test_error = test_error)"
   ]
  },
  {
   "cell_type": "code",
   "execution_count": null,
   "metadata": {},
   "outputs": [],
   "source": []
  },
  {
   "cell_type": "code",
   "execution_count": null,
   "metadata": {},
   "outputs": [],
   "source": []
  },
  {
   "cell_type": "code",
   "execution_count": 88,
   "metadata": {
    "scrolled": true
   },
   "outputs": [
    {
     "name": "stdout",
     "output_type": "stream",
     "text": [
      "Fitting GLRM\n",
      "Iteration 10: objective value = 3.2805339662568237e12\n",
      "Iteration 20: objective value = 3.224545614791724e12\n",
      "Iteration 30: objective value = 3.2061817551191025e12\n"
     ]
    },
    {
     "data": {
      "text/plain": [
       "([0.0 0.0 … 0.0 1.0; 1.0 1.0 … 1.0 0.0; 0.0 0.0 … 0.0 0.0; 0.0 0.0 … 0.0 0.0], [113184.78482324463 2.340246337498031 … 4.046487473627556 7.816767914895969; 44521.31827694036 1.8615761382422633 … 4.055640059452669 4.083095034249618; 327563.5215575475 3.6581914529729516 … 3.8908319495044776 31.39960870369608; 131185.96 2.0 … 3.0 2.0], ConvergenceHistory(\"ProxGradGLRM\", [Inf, 8.536269346374443e12, 3.7486746107862393e12, 3.57768305812089e12, 3.5055349202241167e12, 3.4560368611355483e12, 3.371443760229454e12, 3.3327930253829106e12, 3.3113845539291714e12, 3.2927684809191685e12  …  3.213785822340414e12, 3.212441917284759e12, 3.211273764014428e12, 3.209844840137926e12, 3.2074742641460703e12, 3.2061817551191025e12, 3.205021153597181e12, 3.203401150015468e12, 3.2023527124434165e12, 3.202143962474778e12], Float64[], [0.0, 0.0, 0.0, 0.0, 0.0, 0.0, 0.0, 0.0, 0.0, 0.0  …  0.0, 0.0, 0.0, 0.0, 0.0, 0.0, 0.0, 0.0, 0.0, 0.0], [0.0, 0.0, 0.0, 0.0, 0.0, 0.0, 0.0, 0.0, 0.0, 0.0  …  0.0, 0.0, 0.0, 0.0, 0.0, 0.0, 0.0, 0.0, 0.0, 0.0], [0.0, 0.09428691864013672, 0.42725491523742676, 0.878803014755249, 0.9052789211273193, 0.9310920238494873, 0.9820640087127686, 1.024705171585083, 1.0456490516662598, 1.070004940032959  …  3.2361745834350586, 3.2631754875183105, 3.290806531906128, 3.3119795322418213, 3.3369216918945312, 3.358388662338257, 3.4136557579040527, 3.428598642349243, 3.4418997764587402, 3.455620765686035], [0.0, 0.0, 0.0, 0.0, 0.0, 0.0, 0.0, 0.0, 0.0, 0.0  …  0.0, 0.0, 0.0, 0.0, 0.0, 0.0, 0.0, 0.0, 0.0, 0.0], 0))"
      ]
     },
     "execution_count": 88,
     "metadata": {},
     "output_type": "execute_result"
    }
   ],
   "source": [
    "X,Y,ch = fit!(glrm)"
   ]
  },
  {
   "cell_type": "code",
   "execution_count": 89,
   "metadata": {},
   "outputs": [
    {
     "data": {
      "text/plain": [
       "\"../data/cancer4quad.csv\""
      ]
     },
     "execution_count": 89,
     "metadata": {},
     "output_type": "execute_result"
    }
   ],
   "source": [
    "X = convert(DataFrame, X)\n",
    "CSV.write(\"../data/cancer4quad.csv\", X)"
   ]
  },
  {
   "cell_type": "code",
   "execution_count": null,
   "metadata": {},
   "outputs": [],
   "source": []
  },
  {
   "cell_type": "code",
   "execution_count": null,
   "metadata": {},
   "outputs": [],
   "source": []
  },
  {
   "cell_type": "code",
   "execution_count": null,
   "metadata": {},
   "outputs": [],
   "source": []
  },
  {
   "cell_type": "code",
   "execution_count": null,
   "metadata": {},
   "outputs": [],
   "source": []
  },
  {
   "cell_type": "code",
   "execution_count": null,
   "metadata": {},
   "outputs": [],
   "source": []
  },
  {
   "cell_type": "code",
   "execution_count": 15,
   "metadata": {},
   "outputs": [
    {
     "name": "stdout",
     "output_type": "stream",
     "text": [
      "Fitting GLRM\n",
      "Iteration 10: objective value = 4.099376798805289e12\n"
     ]
    },
    {
     "data": {
      "text/plain": [
       "([1.0 1.0 … 1.0 1.0; 0.0 0.0 … 0.0 0.0; 0.0 0.0 … 0.0 0.0; 0.0 0.0 … 0.0 0.0], [33420.672901369675 1.7296703970331702 … 3.9557554235376706 3.2943347822477898; 166281.67292282914 2.528691892311409 … 4.054463378986292 12.51196033233945; 60571.32774550853 2.2075346372166855 … 4.06697679930551 6.385815075558724; 46216.84219269738 1.9583586454953394 … 4.218650486924203 4.1903747401096645], ConvergenceHistory(\"ProxGradGLRM\", [Inf, 1.2551296796617248e13, 5.268198095228664e12, 4.81667220099305e12, 4.766552055125784e12, 4.71597316468396e12, 4.609425322287994e12, 4.463761913706175e12, 4.3056413543919062e12, 4.187344197951655e12, 4.099376798805289e12, 4.0536243317866626e12, 4.027974741832973e12, 4.0158800144847646e12, 4.009342796492845e12, 4.005777035124553e12, 4.004265402393816e12, 4.0032669656317686e12, 4.002921919973579e12], Float64[], [0.0, 0.0, 0.0, 0.0, 0.0, 0.0, 0.0, 0.0, 0.0, 0.0, 0.0, 0.0, 0.0, 0.0, 0.0, 0.0, 0.0, 0.0, 0.0], [0.0, 0.0, 0.0, 0.0, 0.0, 0.0, 0.0, 0.0, 0.0, 0.0, 0.0, 0.0, 0.0, 0.0, 0.0, 0.0, 0.0, 0.0, 0.0], [0.0, 0.9434950351715088, 0.9792499542236328, 1.0723459720611572, 1.0944020748138428, 1.1077160835266113, 1.1207551956176758, 1.1340172290802002, 1.14851713180542, 1.1685421466827393, 1.1884641647338867, 1.2079651355743408, 1.2235281467437744, 1.2395071983337402, 1.2539269924163818, 1.2679800987243652, 1.315134048461914, 1.3292641639709473, 1.3425383567810059], [0.0, 0.0, 0.0, 0.0, 0.0, 0.0, 0.0, 0.0, 0.0, 0.0, 0.0, 0.0, 0.0, 0.0, 0.0, 0.0, 0.0, 0.0, 0.0], 0))"
      ]
     },
     "execution_count": 15,
     "metadata": {},
     "output_type": "execute_result"
    }
   ],
   "source": [
    "X,Y,ch = fit!(glrm)"
   ]
  },
  {
   "cell_type": "code",
   "execution_count": 16,
   "metadata": {},
   "outputs": [
    {
     "data": {
      "text/plain": [
       "\"../data/cancer4quad.csv\""
      ]
     },
     "execution_count": 16,
     "metadata": {},
     "output_type": "execute_result"
    }
   ],
   "source": [
    "X = convert(DataFrame, X)\n",
    "CSV.write(\"../data/cancer4quad.csv\", X)"
   ]
  },
  {
   "cell_type": "raw",
   "metadata": {},
   "source": [
    "Xdf = convert(DataFrame, X)\n",
    "CSV.write(\"../data/cancer4quad.csv\", Xdf)\n",
    "(\"../data/NYC_SPARCS_cancer.csv\")\n",
    "CSV.write(\"../data/ex2.csv\", ex2)"
   ]
  },
  {
   "cell_type": "code",
   "execution_count": 17,
   "metadata": {
    "scrolled": false
   },
   "outputs": [
    {
     "name": "stdout",
     "output_type": "stream",
     "text": [
      "Computing cross validation error for each fold\n",
      "flattening observations\n",
      "computing CV folds\n",
      "\n",
      "forming train and test GLRM for fold 1\n",
      "training model on 6401 samples and testing on 2199\n",
      "fitting train GLRM for fold 1\n",
      "Fitting GLRM\n",
      "Iteration 10: objective value = 3.599753972016063e12\n",
      "Iteration 20: objective value = 3.475273975832182e12\n",
      "Iteration 30: objective value = 3.2768024711401123e12\n",
      "Iteration 40: objective value = 3.175230403166264e12\n",
      "Iteration 50: objective value = 3.1390001201005586e12\n",
      "Iteration 60: objective value = 3.1163929119786914e12\n",
      "computing train and test error for fold 1:\n",
      "\ttrain error: 4.8649362662906814e8\n",
      "\ttest error:  1.6726007804486382e9\n",
      "\n",
      "forming train and test GLRM for fold 2\n",
      "training model on 6510 samples and testing on 2090\n",
      "fitting train GLRM for fold 2\n",
      "Fitting GLRM\n",
      "Iteration 10: objective value = 1.56294095290953e12\n",
      "computing train and test error for fold 2:\n",
      "\ttrain error: 2.400792716797506e8\n",
      "\ttest error:  1.337552856693221e9\n",
      "\n",
      "forming train and test GLRM for fold 3\n",
      "training model on 6433 samples and testing on 2167\n",
      "fitting train GLRM for fold 3\n",
      "Fitting GLRM\n",
      "Iteration 10: objective value = 3.45232012962407e12\n",
      "computing train and test error for fold 3:\n",
      "\ttrain error: 5.366571799785232e8\n",
      "\ttest error:  4.642849993221057e8\n",
      "\n",
      "forming train and test GLRM for fold 4\n",
      "training model on 6456 samples and testing on 2144\n",
      "fitting train GLRM for fold 4\n",
      "Fitting GLRM\n",
      "Iteration 10: objective value = 3.2993006812240156e12\n",
      "computing train and test error for fold 4:\n",
      "\ttrain error: 5.110419775151578e8\n",
      "\ttest error:  5.591074028472283e8\n"
     ]
    },
    {
     "data": {
      "text/html": [
       "<table class=\"data-frame\"><thead><tr><th></th><th>train_error</th><th>test_error</th></tr><tr><th></th><th>Float64</th><th>Float64</th></tr></thead><tbody><p>4 rows × 2 columns</p><tr><th>1</th><td>4.86494e8</td><td>1.6726e9</td></tr><tr><th>2</th><td>2.40079e8</td><td>1.33755e9</td></tr><tr><th>3</th><td>5.36657e8</td><td>4.64285e8</td></tr><tr><th>4</th><td>5.11042e8</td><td>5.59107e8</td></tr></tbody></table>"
      ],
      "text/latex": [
       "\\begin{tabular}{r|cc}\n",
       "\t& train\\_error & test\\_error\\\\\n",
       "\t\\hline\n",
       "\t& Float64 & Float64\\\\\n",
       "\t\\hline\n",
       "\t1 & 4.86494e8 & 1.6726e9 \\\\\n",
       "\t2 & 2.40079e8 & 1.33755e9 \\\\\n",
       "\t3 & 5.36657e8 & 4.64285e8 \\\\\n",
       "\t4 & 5.11042e8 & 5.59107e8 \\\\\n",
       "\\end{tabular}\n"
      ],
      "text/plain": [
       "4×2 DataFrame\n",
       "│ Row │ train_error │ test_error │\n",
       "│     │ \u001b[90mFloat64\u001b[39m     │ \u001b[90mFloat64\u001b[39m    │\n",
       "├─────┼─────────────┼────────────┤\n",
       "│ 1   │ 4.86494e8   │ 1.6726e9   │\n",
       "│ 2   │ 2.40079e8   │ 1.33755e9  │\n",
       "│ 3   │ 5.36657e8   │ 4.64285e8  │\n",
       "│ 4   │ 5.11042e8   │ 5.59107e8  │"
      ]
     },
     "execution_count": 17,
     "metadata": {},
     "output_type": "execute_result"
    }
   ],
   "source": [
    "println(\"Computing cross validation error for each fold\")\n",
    "params = Params(1.0, max_iter=100, abs_tol=0.0, min_stepsize=.001)\n",
    "train_error, test_error, train_glrms, test_glrms = cross_validate(glrm, nfolds=4, params=params)\n",
    "df = DataFrame(train_error = train_error, test_error = test_error)"
   ]
  },
  {
   "cell_type": "markdown",
   "metadata": {},
   "source": [
    "# kmeans k=3 different loss function entire cancer"
   ]
  },
  {
   "cell_type": "code",
   "execution_count": 7,
   "metadata": {},
   "outputs": [
    {
     "data": {
      "text/plain": [
       "5-element Array{Loss,1}:\n",
       " HuberLoss(1.0, RealDomain(), 1.0)\n",
       " OrdinalHingeLoss(1, 10, 1.0, OrdinalDomain(1, 10))\n",
       " OrdinalHingeLoss(1, 10, 1.0, OrdinalDomain(1, 10))\n",
       " OrdinalHingeLoss(1, 10, 1.0, OrdinalDomain(1, 10))\n",
       " WeightedHingeLoss(1.0, BoolDomain(), 1.0)"
      ]
     },
     "execution_count": 7,
     "metadata": {},
     "output_type": "execute_result"
    }
   ],
   "source": [
    "loss1 = fill(HuberLoss(),1)\n",
    "loss2 = fill(OrdinalHingeLoss(), 3)\n",
    "loss3 = fill(HingeLoss(), 1)\n",
    "\n",
    "lossarr = [loss1; loss2; loss3]\n",
    "#lossarr = [loss1; loss2; loss3]\n",
    "lossarr"
   ]
  },
  {
   "cell_type": "code",
   "execution_count": 8,
   "metadata": {},
   "outputs": [
    {
     "data": {
      "text/plain": [
       "GLRM(35804×5 DataFrame. Omitted printing of 2 columns\n",
       "│ Row   │ Total_Charges │ APR_Severity_of_Illness_Code │ Age_Ordinal │\n",
       "│       │ \u001b[90mFloat64\u001b[39m       │ \u001b[90mInt64\u001b[39m                        │ \u001b[90mInt64\u001b[39m       │\n",
       "├───────┼───────────────┼──────────────────────────────┼─────────────┤\n",
       "│ 1     │ 216494.0      │ 3                            │ 3           │\n",
       "│ 2     │ 194331.0      │ 4                            │ 5           │\n",
       "│ 3     │ 79396.5       │ 3                            │ 4           │\n",
       "│ 4     │ 86736.8       │ 3                            │ 4           │\n",
       "│ 5     │ 178593.0      │ 3                            │ 1           │\n",
       "│ 6     │ 57239.2       │ 2                            │ 4           │\n",
       "│ 7     │ 111640.0      │ 4                            │ 4           │\n",
       "│ 8     │ 31801.9       │ 2                            │ 4           │\n",
       "│ 9     │ 38714.5       │ 3                            │ 5           │\n",
       "│ 10    │ 33681.8       │ 3                            │ 4           │\n",
       "⋮\n",
       "│ 35794 │ 30328.2       │ 2                            │ 1           │\n",
       "│ 35795 │ 23124.3       │ 2                            │ 1           │\n",
       "│ 35796 │ 83585.8       │ 1                            │ 1           │\n",
       "│ 35797 │ 83309.1       │ 3                            │ 1           │\n",
       "│ 35798 │ 315888.0      │ 2                            │ 1           │\n",
       "│ 35799 │ 119039.0      │ 2                            │ 1           │\n",
       "│ 35800 │ 84369.3       │ 2                            │ 1           │\n",
       "│ 35801 │ 99857.0       │ 3                            │ 1           │\n",
       "│ 35802 │ 60672.8       │ 1                            │ 1           │\n",
       "│ 35803 │ 35890.2       │ 1                            │ 1           │\n",
       "│ 35804 │ 110566.0      │ 2                            │ 1           │, Loss[HuberLoss(1.0, RealDomain(), 1.0), OrdinalHingeLoss(1, 10, 1.0, OrdinalDomain(1, 10)), OrdinalHingeLoss(1, 10, 1.0, OrdinalDomain(1, 10)), OrdinalHingeLoss(1, 10, 1.0, OrdinalDomain(1, 10)), WeightedHingeLoss(1.0, BoolDomain(), 1.0)], Regularizer[UnitOneSparseConstraint(), UnitOneSparseConstraint(), UnitOneSparseConstraint(), UnitOneSparseConstraint(), UnitOneSparseConstraint(), UnitOneSparseConstraint(), UnitOneSparseConstraint(), UnitOneSparseConstraint(), UnitOneSparseConstraint(), UnitOneSparseConstraint()  …  UnitOneSparseConstraint(), UnitOneSparseConstraint(), UnitOneSparseConstraint(), UnitOneSparseConstraint(), UnitOneSparseConstraint(), UnitOneSparseConstraint(), UnitOneSparseConstraint(), UnitOneSparseConstraint(), UnitOneSparseConstraint(), UnitOneSparseConstraint()], Regularizer[ZeroReg(), ZeroReg(), ZeroReg(), ZeroReg(), ZeroReg()], 3, UnitRange{Int64}[1:5, 1:5, 1:5, 1:5, 1:5, 1:5, 1:5, 1:5, 1:5, 1:5  …  1:5, 1:5, 1:5, 1:5, 1:5, 1:5, 1:5, 1:5, 1:5, 1:5], UnitRange{Int64}[1:35804, 1:35804, 1:35804, 1:35804, 1:35804], [0.4919015147137122 -0.43405176105403864 … -0.25222980388052235 0.7672819564281649; -0.10351280327249926 -0.27034564801738087 … -1.0222103396138702 -0.5916702487341852; -0.7963548126414642 -0.7734323891063605 … 1.7883394769276124 1.9904957657146234], [0.8943097833340581 -0.06198089986390144 … 0.41299839961760615 -0.8656200492973214; -0.6051644006078694 -0.7869246100797624 … 0.3894808564168623 -0.6489014460655328; -1.603260085265922 0.4871810056515755 … -0.781616529313775 0.641836335711683])"
      ]
     },
     "execution_count": 8,
     "metadata": {},
     "output_type": "execute_result"
    }
   ],
   "source": [
    "k = 3\n",
    "losses = lossarr\n",
    "A = dfwholefeat\n",
    "rx = UnitOneSparseConstraint()\n",
    "ry = ZeroReg()\n",
    "glrm = GLRM(A,losses,rx,ry,k)\n",
    "#params = ProxGradParams(inner_iter_Y=40)"
   ]
  },
  {
   "cell_type": "code",
   "execution_count": 9,
   "metadata": {},
   "outputs": [
    {
     "name": "stderr",
     "output_type": "stream",
     "text": [
      "┌ Warning: `convert(::Type{Array}, dfr::DataFrameRow)` is deprecated, use `permutedims(Vector(dfr))` instead.\n",
      "│   caller = top-level scope at In[9]:9\n",
      "└ @ Core In[9]:9\n",
      "┌ Warning: `convert(::Type{Array}, dfr::DataFrameRow)` is deprecated, use `permutedims(Vector(dfr))` instead.\n",
      "│   caller = top-level scope at In[9]:26\n",
      "└ @ Core ./In[9]:26\n"
     ]
    },
    {
     "data": {
      "text/plain": [
       "GLRM(35804×5 DataFrame. Omitted printing of 2 columns\n",
       "│ Row   │ Total_Charges │ APR_Severity_of_Illness_Code │ Age_Ordinal │\n",
       "│       │ \u001b[90mFloat64\u001b[39m       │ \u001b[90mInt64\u001b[39m                        │ \u001b[90mInt64\u001b[39m       │\n",
       "├───────┼───────────────┼──────────────────────────────┼─────────────┤\n",
       "│ 1     │ 216494.0      │ 3                            │ 3           │\n",
       "│ 2     │ 194331.0      │ 4                            │ 5           │\n",
       "│ 3     │ 79396.5       │ 3                            │ 4           │\n",
       "│ 4     │ 86736.8       │ 3                            │ 4           │\n",
       "│ 5     │ 178593.0      │ 3                            │ 1           │\n",
       "│ 6     │ 57239.2       │ 2                            │ 4           │\n",
       "│ 7     │ 111640.0      │ 4                            │ 4           │\n",
       "│ 8     │ 31801.9       │ 2                            │ 4           │\n",
       "│ 9     │ 38714.5       │ 3                            │ 5           │\n",
       "│ 10    │ 33681.8       │ 3                            │ 4           │\n",
       "⋮\n",
       "│ 35794 │ 30328.2       │ 2                            │ 1           │\n",
       "│ 35795 │ 23124.3       │ 2                            │ 1           │\n",
       "│ 35796 │ 83585.8       │ 1                            │ 1           │\n",
       "│ 35797 │ 83309.1       │ 3                            │ 1           │\n",
       "│ 35798 │ 315888.0      │ 2                            │ 1           │\n",
       "│ 35799 │ 119039.0      │ 2                            │ 1           │\n",
       "│ 35800 │ 84369.3       │ 2                            │ 1           │\n",
       "│ 35801 │ 99857.0       │ 3                            │ 1           │\n",
       "│ 35802 │ 60672.8       │ 1                            │ 1           │\n",
       "│ 35803 │ 35890.2       │ 1                            │ 1           │\n",
       "│ 35804 │ 110566.0      │ 2                            │ 1           │, Loss[HuberLoss(1.0, RealDomain(), 1.0), OrdinalHingeLoss(1, 10, 1.0, OrdinalDomain(1, 10)), OrdinalHingeLoss(1, 10, 1.0, OrdinalDomain(1, 10)), OrdinalHingeLoss(1, 10, 1.0, OrdinalDomain(1, 10)), WeightedHingeLoss(1.0, BoolDomain(), 1.0)], Regularizer[UnitOneSparseConstraint(), UnitOneSparseConstraint(), UnitOneSparseConstraint(), UnitOneSparseConstraint(), UnitOneSparseConstraint(), UnitOneSparseConstraint(), UnitOneSparseConstraint(), UnitOneSparseConstraint(), UnitOneSparseConstraint(), UnitOneSparseConstraint()  …  UnitOneSparseConstraint(), UnitOneSparseConstraint(), UnitOneSparseConstraint(), UnitOneSparseConstraint(), UnitOneSparseConstraint(), UnitOneSparseConstraint(), UnitOneSparseConstraint(), UnitOneSparseConstraint(), UnitOneSparseConstraint(), UnitOneSparseConstraint()], Regularizer[ZeroReg(), ZeroReg(), ZeroReg(), ZeroReg(), ZeroReg()], 3, UnitRange{Int64}[1:5, 1:5, 1:5, 1:5, 1:5, 1:5, 1:5, 1:5, 1:5, 1:5  …  1:5, 1:5, 1:5, 1:5, 1:5, 1:5, 1:5, 1:5, 1:5, 1:5], UnitRange{Int64}[1:35804, 1:35804, 1:35804, 1:35804, 1:35804], [0.4919015147137122 -0.43405176105403864 … -0.25222980388052235 0.7672819564281649; -0.10351280327249926 -0.27034564801738087 … -1.0222103396138702 -0.5916702487341852; -0.7963548126414642 -0.7734323891063605 … 1.7883394769276124 1.9904957657146234], [38175.7 4.0 … 5.0 1.0; 25944.06 1.0 … 1.0 1.0; 194431.47 3.0 … 20.0 0.0])"
      ]
     },
     "execution_count": 9,
     "metadata": {},
     "output_type": "execute_result"
    }
   ],
   "source": [
    "#kinit debug\n",
    "m,n = size(glrm.A)\n",
    "k = glrm.k\n",
    "possible_centers = Set(1:m)\n",
    "glrm.Y = randn(k,n)\n",
    "# assign first center randomly\n",
    "i = sample(1:m)\n",
    "setdiff!(possible_centers, i)\n",
    "\n",
    "glrm.Y[1,glrm.observed_features[i]] =  vec(convert(Array, glrm.A[i,glrm.observed_features[i]]))\n",
    "#glrm.Y[1,glrm.observed_features[i]] = convert(Matrix, glrm.A[i,glrm.observed_features[i]])\n",
    "# assign next centers one by one\n",
    "for l=1:k-1\n",
    "min_dists_per_obs = zeros(m)\n",
    "for i in possible_centers\n",
    "    d = zeros(l)\n",
    "    for j in glrm.observed_features[i]\n",
    "        for ll=1:l\n",
    "            d[ll] += evaluate(glrm.losses[j], glrm.Y[ll,j], glrm.A[i,j])\n",
    "        end\n",
    "    end\n",
    "    min_dists_per_obs[i] = minimum(d)/length(glrm.observed_features[i])\n",
    "end\n",
    "furthest_index = wsample(1:m,min_dists_per_obs)\n",
    "\n",
    "glrm.Y[l+1,glrm.observed_features[furthest_index]] = vec(convert(Array, glrm.A[furthest_index,glrm.observed_features[furthest_index]]))\n",
    "end\n",
    "return glrm   "
   ]
  },
  {
   "cell_type": "code",
   "execution_count": 10,
   "metadata": {},
   "outputs": [
    {
     "name": "stdout",
     "output_type": "stream",
     "text": [
      "Fitting GLRM\n",
      "Iteration 10: objective value = 1.0069511318164657e9\n",
      "Iteration 20: objective value = 1.0055409736410784e9\n"
     ]
    },
    {
     "data": {
      "text/plain": [
       "([0.0 0.0 … 0.0 0.0; 0.0 0.0 … 1.0 0.0; 1.0 1.0 … 0.0 1.0], [38175.7 4.0 … 5.0 1.0; 25956.160366083972 1.997165034739869 … 8.039852344562668 1.0; 194429.16029096986 2.7270158978812757 … 68.98126892587067 0.0], ConvergenceHistory(\"ProxGradGLRM\", [Inf, 3.442016029419299e9, 1.0076694712216891e9, 1.0075918902689227e9, 1.0075106953287493e9, 1.0074302618970193e9, 1.0073372713698443e9, 1.0072556665331875e9, 1.0071528124746549e9, 1.0070632942436646e9  …  1.0063346999449303e9, 1.0062037960518965e9, 1.006038017034414e9, 1.0058931317546053e9, 1.0057131540997608e9, 1.0055409736410784e9, 1.0053533807788793e9, 1.0051522497919049e9, 1.0049615294766374e9, 1.0048756384746342e9], Float64[], [0.0, 0.0, 0.0, 0.0, 0.0, 0.0, 0.0, 0.0, 0.0, 0.0  …  0.0, 0.0, 0.0, 0.0, 0.0, 0.0, 0.0, 0.0, 0.0, 0.0], [0.0, 0.0, 0.0, 0.0, 0.0, 0.0, 0.0, 0.0, 0.0, 0.0  …  0.0, 0.0, 0.0, 0.0, 0.0, 0.0, 0.0, 0.0, 0.0, 0.0], [0.0, 1.5610370635986328, 2.917799949645996, 4.473639011383057, 4.976433038711548, 5.48368501663208, 6.024553060531616, 6.532401084899902, 7.0964860916137695, 7.656598091125488  …  10.8325936794281, 11.361344814300537, 11.870055675506592, 12.38186264038086, 12.913495540618896, 13.431874513626099, 13.959861516952515, 14.503424644470215, 15.045966625213623, 15.627512693405151], [0.0, 0.0, 0.0, 0.0, 0.0, 0.0, 0.0, 0.0, 0.0, 0.0  …  0.0, 0.0, 0.0, 0.0, 0.0, 0.0, 0.0, 0.0, 0.0, 0.0], 0))"
      ]
     },
     "execution_count": 10,
     "metadata": {},
     "output_type": "execute_result"
    }
   ],
   "source": [
    "X,Y,ch = fit!(glrm)"
   ]
  },
  {
   "cell_type": "code",
   "execution_count": 11,
   "metadata": {},
   "outputs": [
    {
     "data": {
      "text/html": [
       "<table class=\"data-frame\"><thead><tr><th></th><th>x1</th><th>x2</th><th>x3</th><th>x4</th><th>x5</th><th>x6</th><th>x7</th><th>x8</th><th>x9</th></tr><tr><th></th><th>Float64</th><th>Float64</th><th>Float64</th><th>Float64</th><th>Float64</th><th>Float64</th><th>Float64</th><th>Float64</th><th>Float64</th></tr></thead><tbody><p>3 rows × 35,804 columns (omitted printing of 35795 columns)</p><tr><th>1</th><td>0.0</td><td>0.0</td><td>0.0</td><td>0.0</td><td>0.0</td><td>0.0</td><td>0.0</td><td>0.0</td><td>0.0</td></tr><tr><th>2</th><td>0.0</td><td>0.0</td><td>1.0</td><td>1.0</td><td>0.0</td><td>1.0</td><td>0.0</td><td>1.0</td><td>1.0</td></tr><tr><th>3</th><td>1.0</td><td>1.0</td><td>0.0</td><td>0.0</td><td>1.0</td><td>0.0</td><td>1.0</td><td>0.0</td><td>0.0</td></tr></tbody></table>"
      ],
      "text/latex": [
       "\\begin{tabular}{r|cccccccccc}\n",
       "\t& x1 & x2 & x3 & x4 & x5 & x6 & x7 & x8 & x9 & \\\\\n",
       "\t\\hline\n",
       "\t& Float64 & Float64 & Float64 & Float64 & Float64 & Float64 & Float64 & Float64 & Float64 & \\\\\n",
       "\t\\hline\n",
       "\t1 & 0.0 & 0.0 & 0.0 & 0.0 & 0.0 & 0.0 & 0.0 & 0.0 & 0.0 & $\\dots$ \\\\\n",
       "\t2 & 0.0 & 0.0 & 1.0 & 1.0 & 0.0 & 1.0 & 0.0 & 1.0 & 1.0 & $\\dots$ \\\\\n",
       "\t3 & 1.0 & 1.0 & 0.0 & 0.0 & 1.0 & 0.0 & 1.0 & 0.0 & 0.0 & $\\dots$ \\\\\n",
       "\\end{tabular}\n"
      ],
      "text/plain": [
       "3×35804 DataFrame. Omitted printing of 35797 columns\n",
       "│ Row │ x1      │ x2      │ x3      │ x4      │ x5      │ x6      │ x7      │\n",
       "│     │ \u001b[90mFloat64\u001b[39m │ \u001b[90mFloat64\u001b[39m │ \u001b[90mFloat64\u001b[39m │ \u001b[90mFloat64\u001b[39m │ \u001b[90mFloat64\u001b[39m │ \u001b[90mFloat64\u001b[39m │ \u001b[90mFloat64\u001b[39m │\n",
       "├─────┼─────────┼─────────┼─────────┼─────────┼─────────┼─────────┼─────────┤\n",
       "│ 1   │ 0.0     │ 0.0     │ 0.0     │ 0.0     │ 0.0     │ 0.0     │ 0.0     │\n",
       "│ 2   │ 0.0     │ 0.0     │ 1.0     │ 1.0     │ 0.0     │ 1.0     │ 0.0     │\n",
       "│ 3   │ 1.0     │ 1.0     │ 0.0     │ 0.0     │ 1.0     │ 0.0     │ 1.0     │"
      ]
     },
     "execution_count": 11,
     "metadata": {},
     "output_type": "execute_result"
    }
   ],
   "source": [
    "X = convert(DataFrame, X)"
   ]
  },
  {
   "cell_type": "code",
   "execution_count": 12,
   "metadata": {
    "scrolled": true
   },
   "outputs": [
    {
     "data": {
      "text/html": [
       "<table class=\"data-frame\"><thead><tr><th></th><th>column</th><th>1</th><th>2</th><th>3</th></tr><tr><th></th><th>Symbol</th><th>Float64</th><th>Float64</th><th>Float64</th></tr></thead><tbody><p>35,804 rows × 4 columns</p><tr><th>1</th><td>x1</td><td>0.0</td><td>0.0</td><td>1.0</td></tr><tr><th>2</th><td>x2</td><td>0.0</td><td>0.0</td><td>1.0</td></tr><tr><th>3</th><td>x3</td><td>0.0</td><td>1.0</td><td>0.0</td></tr><tr><th>4</th><td>x4</td><td>0.0</td><td>1.0</td><td>0.0</td></tr><tr><th>5</th><td>x5</td><td>0.0</td><td>0.0</td><td>1.0</td></tr><tr><th>6</th><td>x6</td><td>0.0</td><td>1.0</td><td>0.0</td></tr><tr><th>7</th><td>x7</td><td>0.0</td><td>0.0</td><td>1.0</td></tr><tr><th>8</th><td>x8</td><td>0.0</td><td>1.0</td><td>0.0</td></tr><tr><th>9</th><td>x9</td><td>0.0</td><td>1.0</td><td>0.0</td></tr><tr><th>10</th><td>x10</td><td>0.0</td><td>1.0</td><td>0.0</td></tr><tr><th>11</th><td>x11</td><td>0.0</td><td>1.0</td><td>0.0</td></tr><tr><th>12</th><td>x12</td><td>0.0</td><td>1.0</td><td>0.0</td></tr><tr><th>13</th><td>x13</td><td>0.0</td><td>1.0</td><td>0.0</td></tr><tr><th>14</th><td>x14</td><td>0.0</td><td>1.0</td><td>0.0</td></tr><tr><th>15</th><td>x15</td><td>0.0</td><td>1.0</td><td>0.0</td></tr><tr><th>16</th><td>x16</td><td>0.0</td><td>1.0</td><td>0.0</td></tr><tr><th>17</th><td>x17</td><td>0.0</td><td>1.0</td><td>0.0</td></tr><tr><th>18</th><td>x18</td><td>0.0</td><td>1.0</td><td>0.0</td></tr><tr><th>19</th><td>x19</td><td>0.0</td><td>1.0</td><td>0.0</td></tr><tr><th>20</th><td>x20</td><td>0.0</td><td>1.0</td><td>0.0</td></tr><tr><th>21</th><td>x21</td><td>0.0</td><td>1.0</td><td>0.0</td></tr><tr><th>22</th><td>x22</td><td>0.0</td><td>1.0</td><td>0.0</td></tr><tr><th>23</th><td>x23</td><td>0.0</td><td>1.0</td><td>0.0</td></tr><tr><th>24</th><td>x24</td><td>0.0</td><td>1.0</td><td>0.0</td></tr><tr><th>25</th><td>x25</td><td>0.0</td><td>1.0</td><td>0.0</td></tr><tr><th>26</th><td>x26</td><td>0.0</td><td>1.0</td><td>0.0</td></tr><tr><th>27</th><td>x27</td><td>0.0</td><td>1.0</td><td>0.0</td></tr><tr><th>28</th><td>x28</td><td>0.0</td><td>1.0</td><td>0.0</td></tr><tr><th>29</th><td>x29</td><td>0.0</td><td>1.0</td><td>0.0</td></tr><tr><th>30</th><td>x30</td><td>0.0</td><td>1.0</td><td>0.0</td></tr><tr><th>&vellip;</th><td>&vellip;</td><td>&vellip;</td><td>&vellip;</td><td>&vellip;</td></tr></tbody></table>"
      ],
      "text/latex": [
       "\\begin{tabular}{r|cccc}\n",
       "\t& column & 1 & 2 & 3\\\\\n",
       "\t\\hline\n",
       "\t& Symbol & Float64 & Float64 & Float64\\\\\n",
       "\t\\hline\n",
       "\t1 & x1 & 0.0 & 0.0 & 1.0 \\\\\n",
       "\t2 & x2 & 0.0 & 0.0 & 1.0 \\\\\n",
       "\t3 & x3 & 0.0 & 1.0 & 0.0 \\\\\n",
       "\t4 & x4 & 0.0 & 1.0 & 0.0 \\\\\n",
       "\t5 & x5 & 0.0 & 0.0 & 1.0 \\\\\n",
       "\t6 & x6 & 0.0 & 1.0 & 0.0 \\\\\n",
       "\t7 & x7 & 0.0 & 0.0 & 1.0 \\\\\n",
       "\t8 & x8 & 0.0 & 1.0 & 0.0 \\\\\n",
       "\t9 & x9 & 0.0 & 1.0 & 0.0 \\\\\n",
       "\t10 & x10 & 0.0 & 1.0 & 0.0 \\\\\n",
       "\t11 & x11 & 0.0 & 1.0 & 0.0 \\\\\n",
       "\t12 & x12 & 0.0 & 1.0 & 0.0 \\\\\n",
       "\t13 & x13 & 0.0 & 1.0 & 0.0 \\\\\n",
       "\t14 & x14 & 0.0 & 1.0 & 0.0 \\\\\n",
       "\t15 & x15 & 0.0 & 1.0 & 0.0 \\\\\n",
       "\t16 & x16 & 0.0 & 1.0 & 0.0 \\\\\n",
       "\t17 & x17 & 0.0 & 1.0 & 0.0 \\\\\n",
       "\t18 & x18 & 0.0 & 1.0 & 0.0 \\\\\n",
       "\t19 & x19 & 0.0 & 1.0 & 0.0 \\\\\n",
       "\t20 & x20 & 0.0 & 1.0 & 0.0 \\\\\n",
       "\t21 & x21 & 0.0 & 1.0 & 0.0 \\\\\n",
       "\t22 & x22 & 0.0 & 1.0 & 0.0 \\\\\n",
       "\t23 & x23 & 0.0 & 1.0 & 0.0 \\\\\n",
       "\t24 & x24 & 0.0 & 1.0 & 0.0 \\\\\n",
       "\t25 & x25 & 0.0 & 1.0 & 0.0 \\\\\n",
       "\t26 & x26 & 0.0 & 1.0 & 0.0 \\\\\n",
       "\t27 & x27 & 0.0 & 1.0 & 0.0 \\\\\n",
       "\t28 & x28 & 0.0 & 1.0 & 0.0 \\\\\n",
       "\t29 & x29 & 0.0 & 1.0 & 0.0 \\\\\n",
       "\t30 & x30 & 0.0 & 1.0 & 0.0 \\\\\n",
       "\t$\\dots$ & $\\dots$ & $\\dots$ & $\\dots$ & $\\dots$ \\\\\n",
       "\\end{tabular}\n"
      ],
      "text/plain": [
       "35804×4 DataFrame\n",
       "│ Row   │ column │ 1       │ 2       │ 3       │\n",
       "│       │ \u001b[90mSymbol\u001b[39m │ \u001b[90mFloat64\u001b[39m │ \u001b[90mFloat64\u001b[39m │ \u001b[90mFloat64\u001b[39m │\n",
       "├───────┼────────┼─────────┼─────────┼─────────┤\n",
       "│ 1     │ x1     │ 0.0     │ 0.0     │ 1.0     │\n",
       "│ 2     │ x2     │ 0.0     │ 0.0     │ 1.0     │\n",
       "│ 3     │ x3     │ 0.0     │ 1.0     │ 0.0     │\n",
       "│ 4     │ x4     │ 0.0     │ 1.0     │ 0.0     │\n",
       "│ 5     │ x5     │ 0.0     │ 0.0     │ 1.0     │\n",
       "│ 6     │ x6     │ 0.0     │ 1.0     │ 0.0     │\n",
       "│ 7     │ x7     │ 0.0     │ 0.0     │ 1.0     │\n",
       "│ 8     │ x8     │ 0.0     │ 1.0     │ 0.0     │\n",
       "│ 9     │ x9     │ 0.0     │ 1.0     │ 0.0     │\n",
       "│ 10    │ x10    │ 0.0     │ 1.0     │ 0.0     │\n",
       "⋮\n",
       "│ 35794 │ x35794 │ 0.0     │ 1.0     │ 0.0     │\n",
       "│ 35795 │ x35795 │ 0.0     │ 1.0     │ 0.0     │\n",
       "│ 35796 │ x35796 │ 0.0     │ 1.0     │ 0.0     │\n",
       "│ 35797 │ x35797 │ 0.0     │ 1.0     │ 0.0     │\n",
       "│ 35798 │ x35798 │ 0.0     │ 0.0     │ 1.0     │\n",
       "│ 35799 │ x35799 │ 0.0     │ 0.0     │ 1.0     │\n",
       "│ 35800 │ x35800 │ 0.0     │ 1.0     │ 0.0     │\n",
       "│ 35801 │ x35801 │ 0.0     │ 1.0     │ 0.0     │\n",
       "│ 35802 │ x35802 │ 0.0     │ 1.0     │ 0.0     │\n",
       "│ 35803 │ x35803 │ 0.0     │ 1.0     │ 0.0     │\n",
       "│ 35804 │ x35804 │ 0.0     │ 0.0     │ 1.0     │"
      ]
     },
     "execution_count": 12,
     "metadata": {},
     "output_type": "execute_result"
    }
   ],
   "source": [
    "#transpose \n",
    "XT = DataFrame([[names(X)]; collect.(eachrow(X))], [:column; Symbol.(axes(X, 1))])"
   ]
  },
  {
   "cell_type": "code",
   "execution_count": null,
   "metadata": {},
   "outputs": [],
   "source": []
  },
  {
   "cell_type": "code",
   "execution_count": 13,
   "metadata": {},
   "outputs": [
    {
     "data": {
      "text/plain": [
       "\"../data/cancer3diffwholetranspose.csv\""
      ]
     },
     "execution_count": 13,
     "metadata": {},
     "output_type": "execute_result"
    }
   ],
   "source": [
    "CSV.write(\"../data/cancer3diffwholetranspose.csv\", XT)"
   ]
  },
  {
   "cell_type": "code",
   "execution_count": 14,
   "metadata": {},
   "outputs": [
    {
     "name": "stdout",
     "output_type": "stream",
     "text": [
      "Computing cross validation error for each fold\n",
      "flattening observations\n",
      "computing CV folds\n",
      "\n",
      "forming train and test GLRM for fold 1\n",
      "training model on 134352 samples and testing on 44668\n",
      "fitting train GLRM for fold 1\n",
      "Fitting GLRM\n",
      "Iteration 10: objective value = 7.574446875295784e8\n",
      "Iteration 20: objective value = 7.557846780954361e8\n",
      "Iteration 30: objective value = 7.530729151235758e8\n",
      "computing train and test error for fold 1:\n",
      "\ttrain error: 5597.1511574035\n",
      "\ttest error:  7279.424425186883\n",
      "\n",
      "forming train and test GLRM for fold 2\n",
      "training model on 134049 samples and testing on 44971\n",
      "fitting train GLRM for fold 2\n",
      "Fitting GLRM\n",
      "Iteration 10: objective value = 7.530646160802958e8\n",
      "Iteration 20: objective value = 7.514579881910346e8\n",
      "computing train and test error for fold 2:\n",
      "\ttrain error: 5596.868397233103\n",
      "\ttest error:  7314.838492814024\n",
      "\n",
      "forming train and test GLRM for fold 3\n",
      "training model on 134244 samples and testing on 44776\n",
      "fitting train GLRM for fold 3\n",
      "Fitting GLRM\n",
      "Iteration 10: objective value = 7.545661729982468e8\n",
      "Iteration 20: objective value = 7.529105404479635e8\n",
      "Iteration 30: objective value = 7.501711275052834e8\n",
      "Iteration 40: objective value = 7.466977981504905e8\n",
      "computing train and test error for fold 3:\n",
      "\ttrain error: 5561.749501201127\n",
      "\ttest error:  7126.4359068869635\n",
      "\n",
      "forming train and test GLRM for fold 4\n",
      "training model on 134415 samples and testing on 44605\n",
      "fitting train GLRM for fold 4\n",
      "Fitting GLRM\n",
      "Iteration 10: objective value = 7.437848019470901e8\n",
      "Iteration 20: objective value = 7.421520701750665e8\n",
      "Iteration 30: objective value = 7.395978042940478e8\n",
      "Iteration 40: objective value = 7.365456940067209e8\n",
      "Iteration 50: objective value = 7.329658907125915e8\n",
      "computing train and test error for fold 4:\n",
      "\ttrain error: 5441.952617388631\n",
      "\ttest error:  7458.008743313581\n"
     ]
    },
    {
     "data": {
      "text/html": [
       "<table class=\"data-frame\"><thead><tr><th></th><th>train_error</th><th>test_error</th></tr><tr><th></th><th>Float64</th><th>Float64</th></tr></thead><tbody><p>4 rows × 2 columns</p><tr><th>1</th><td>5597.15</td><td>7279.42</td></tr><tr><th>2</th><td>5596.87</td><td>7314.84</td></tr><tr><th>3</th><td>5561.75</td><td>7126.44</td></tr><tr><th>4</th><td>5441.95</td><td>7458.01</td></tr></tbody></table>"
      ],
      "text/latex": [
       "\\begin{tabular}{r|cc}\n",
       "\t& train\\_error & test\\_error\\\\\n",
       "\t\\hline\n",
       "\t& Float64 & Float64\\\\\n",
       "\t\\hline\n",
       "\t1 & 5597.15 & 7279.42 \\\\\n",
       "\t2 & 5596.87 & 7314.84 \\\\\n",
       "\t3 & 5561.75 & 7126.44 \\\\\n",
       "\t4 & 5441.95 & 7458.01 \\\\\n",
       "\\end{tabular}\n"
      ],
      "text/plain": [
       "4×2 DataFrame\n",
       "│ Row │ train_error │ test_error │\n",
       "│     │ \u001b[90mFloat64\u001b[39m     │ \u001b[90mFloat64\u001b[39m    │\n",
       "├─────┼─────────────┼────────────┤\n",
       "│ 1   │ 5597.15     │ 7279.42    │\n",
       "│ 2   │ 5596.87     │ 7314.84    │\n",
       "│ 3   │ 5561.75     │ 7126.44    │\n",
       "│ 4   │ 5441.95     │ 7458.01    │"
      ]
     },
     "execution_count": 14,
     "metadata": {},
     "output_type": "execute_result"
    }
   ],
   "source": [
    "println(\"Computing cross validation error for each fold\")\n",
    "params = Params(1.0, max_iter=100, abs_tol=0.0, min_stepsize=.001)\n",
    "train_error, test_error, train_glrms, test_glrms = cross_validate(glrm, nfolds=4, params=params)\n",
    "df = DataFrame(train_error = train_error, test_error = test_error)"
   ]
  },
  {
   "cell_type": "code",
   "execution_count": null,
   "metadata": {},
   "outputs": [],
   "source": []
  },
  {
   "cell_type": "markdown",
   "metadata": {},
   "source": [
    "# kmeans k=3 different loss function 7000 rows"
   ]
  },
  {
   "cell_type": "code",
   "execution_count": null,
   "metadata": {},
   "outputs": [],
   "source": [
    "dfsamplefeat"
   ]
  },
  {
   "cell_type": "code",
   "execution_count": 8,
   "metadata": {},
   "outputs": [
    {
     "data": {
      "text/plain": [
       "5-element Array{Loss,1}:\n",
       " HuberLoss(1.0, RealDomain(), 1.0)\n",
       " OrdinalHingeLoss(1, 10, 1.0, OrdinalDomain(1, 10))\n",
       " OrdinalHingeLoss(1, 10, 1.0, OrdinalDomain(1, 10))\n",
       " OrdinalHingeLoss(1, 10, 1.0, OrdinalDomain(1, 10))\n",
       " WeightedHingeLoss(1.0, BoolDomain(), 1.0)"
      ]
     },
     "execution_count": 8,
     "metadata": {},
     "output_type": "execute_result"
    }
   ],
   "source": [
    "loss1 = fill(HuberLoss(),1)\n",
    "loss2 = fill(OrdinalHingeLoss(), 3)\n",
    "loss3 = fill(HingeLoss(), 1)\n",
    "\n",
    "lossarr = [loss1; loss2; loss3]\n",
    "#lossarr = [loss1; loss2; loss3]\n",
    "lossarr"
   ]
  },
  {
   "cell_type": "code",
   "execution_count": 9,
   "metadata": {},
   "outputs": [
    {
     "data": {
      "text/plain": [
       "GLRM(7000×5 DataFrame. Omitted printing of 2 columns\n",
       "│ Row  │ Total_Charges │ APR_Severity_of_Illness_Code │ Age_Ordinal │\n",
       "│      │ \u001b[90mFloat64\u001b[39m       │ \u001b[90mInt64\u001b[39m                        │ \u001b[90mInt64\u001b[39m       │\n",
       "├──────┼───────────────┼──────────────────────────────┼─────────────┤\n",
       "│ 1    │ 86736.8       │ 3                            │ 4           │\n",
       "│ 2    │ 20601.5       │ 2                            │ 3           │\n",
       "│ 3    │ 4531.2        │ 2                            │ 3           │\n",
       "│ 4    │ 18892.5       │ 1                            │ 5           │\n",
       "│ 5    │ 21995.4       │ 2                            │ 5           │\n",
       "│ 6    │ 12338.4       │ 2                            │ 4           │\n",
       "│ 7    │ 42244.8       │ 3                            │ 5           │\n",
       "│ 8    │ 20174.6       │ 3                            │ 5           │\n",
       "│ 9    │ 29581.6       │ 3                            │ 5           │\n",
       "│ 10   │ 52338.0       │ 4                            │ 5           │\n",
       "⋮\n",
       "│ 6990 │ 70481.4       │ 2                            │ 1           │\n",
       "│ 6991 │ 32832.3       │ 2                            │ 1           │\n",
       "│ 6992 │ 59708.5       │ 4                            │ 1           │\n",
       "│ 6993 │ 201552.0      │ 3                            │ 1           │\n",
       "│ 6994 │ 83270.3       │ 3                            │ 1           │\n",
       "│ 6995 │ 64355.6       │ 2                            │ 1           │\n",
       "│ 6996 │ 374467.0      │ 4                            │ 1           │\n",
       "│ 6997 │ 38411.0       │ 1                            │ 1           │\n",
       "│ 6998 │ 83585.8       │ 1                            │ 1           │\n",
       "│ 6999 │ 84369.3       │ 2                            │ 1           │\n",
       "│ 7000 │ 99857.0       │ 3                            │ 1           │, Loss[HuberLoss(1.0, RealDomain(), 1.0), OrdinalHingeLoss(1, 10, 1.0, OrdinalDomain(1, 10)), OrdinalHingeLoss(1, 10, 1.0, OrdinalDomain(1, 10)), OrdinalHingeLoss(1, 10, 1.0, OrdinalDomain(1, 10)), WeightedHingeLoss(1.0, BoolDomain(), 1.0)], Regularizer[UnitOneSparseConstraint(), UnitOneSparseConstraint(), UnitOneSparseConstraint(), UnitOneSparseConstraint(), UnitOneSparseConstraint(), UnitOneSparseConstraint(), UnitOneSparseConstraint(), UnitOneSparseConstraint(), UnitOneSparseConstraint(), UnitOneSparseConstraint()  …  UnitOneSparseConstraint(), UnitOneSparseConstraint(), UnitOneSparseConstraint(), UnitOneSparseConstraint(), UnitOneSparseConstraint(), UnitOneSparseConstraint(), UnitOneSparseConstraint(), UnitOneSparseConstraint(), UnitOneSparseConstraint(), UnitOneSparseConstraint()], Regularizer[ZeroReg(), ZeroReg(), ZeroReg(), ZeroReg(), ZeroReg()], 3, UnitRange{Int64}[1:5, 1:5, 1:5, 1:5, 1:5, 1:5, 1:5, 1:5, 1:5, 1:5  …  1:5, 1:5, 1:5, 1:5, 1:5, 1:5, 1:5, 1:5, 1:5, 1:5], UnitRange{Int64}[1:7000, 1:7000, 1:7000, 1:7000, 1:7000], [1.2603935424164459 -0.044170300104503464 … 0.46682528795012596 1.640135606749779; 1.0218710159498061 1.191719466041408 … -0.2065689701643361 -0.48224533404663306; -1.260530266020925 -0.11700154084899217 … -0.744029938671794 0.43434588289665904], [-0.20241605209207306 1.703328397121263 … -0.22709086210102092 0.19712692863578804; -0.28112860559243374 -0.05811858750412152 … -1.5824192777160755 0.934277503606834; 0.1824732554025808 0.4348665108140605 … 0.6816045994777482 -0.12540475799188458])"
      ]
     },
     "execution_count": 9,
     "metadata": {},
     "output_type": "execute_result"
    }
   ],
   "source": [
    "k = 3\n",
    "losses = lossarr\n",
    "A = dfsamplefeat\n",
    "rx = UnitOneSparseConstraint()\n",
    "ry = ZeroReg()\n",
    "glrm = GLRM(A,losses,rx,ry,k)\n",
    "#params = ProxGradParams(inner_iter_Y=40)"
   ]
  },
  {
   "cell_type": "code",
   "execution_count": 10,
   "metadata": {},
   "outputs": [
    {
     "name": "stderr",
     "output_type": "stream",
     "text": [
      "┌ Warning: `convert(::Type{Array}, dfr::DataFrameRow)` is deprecated, use `permutedims(Vector(dfr))` instead.\n",
      "│   caller = top-level scope at In[10]:9\n",
      "└ @ Core In[10]:9\n",
      "┌ Warning: `convert(::Type{Array}, dfr::DataFrameRow)` is deprecated, use `permutedims(Vector(dfr))` instead.\n",
      "│   caller = top-level scope at In[10]:26\n",
      "└ @ Core ./In[10]:26\n"
     ]
    },
    {
     "data": {
      "text/plain": [
       "GLRM(7000×5 DataFrame. Omitted printing of 2 columns\n",
       "│ Row  │ Total_Charges │ APR_Severity_of_Illness_Code │ Age_Ordinal │\n",
       "│      │ \u001b[90mFloat64\u001b[39m       │ \u001b[90mInt64\u001b[39m                        │ \u001b[90mInt64\u001b[39m       │\n",
       "├──────┼───────────────┼──────────────────────────────┼─────────────┤\n",
       "│ 1    │ 86736.8       │ 3                            │ 4           │\n",
       "│ 2    │ 20601.5       │ 2                            │ 3           │\n",
       "│ 3    │ 4531.2        │ 2                            │ 3           │\n",
       "│ 4    │ 18892.5       │ 1                            │ 5           │\n",
       "│ 5    │ 21995.4       │ 2                            │ 5           │\n",
       "│ 6    │ 12338.4       │ 2                            │ 4           │\n",
       "│ 7    │ 42244.8       │ 3                            │ 5           │\n",
       "│ 8    │ 20174.6       │ 3                            │ 5           │\n",
       "│ 9    │ 29581.6       │ 3                            │ 5           │\n",
       "│ 10   │ 52338.0       │ 4                            │ 5           │\n",
       "⋮\n",
       "│ 6990 │ 70481.4       │ 2                            │ 1           │\n",
       "│ 6991 │ 32832.3       │ 2                            │ 1           │\n",
       "│ 6992 │ 59708.5       │ 4                            │ 1           │\n",
       "│ 6993 │ 201552.0      │ 3                            │ 1           │\n",
       "│ 6994 │ 83270.3       │ 3                            │ 1           │\n",
       "│ 6995 │ 64355.6       │ 2                            │ 1           │\n",
       "│ 6996 │ 374467.0      │ 4                            │ 1           │\n",
       "│ 6997 │ 38411.0       │ 1                            │ 1           │\n",
       "│ 6998 │ 83585.8       │ 1                            │ 1           │\n",
       "│ 6999 │ 84369.3       │ 2                            │ 1           │\n",
       "│ 7000 │ 99857.0       │ 3                            │ 1           │, Loss[HuberLoss(1.0, RealDomain(), 1.0), OrdinalHingeLoss(1, 10, 1.0, OrdinalDomain(1, 10)), OrdinalHingeLoss(1, 10, 1.0, OrdinalDomain(1, 10)), OrdinalHingeLoss(1, 10, 1.0, OrdinalDomain(1, 10)), WeightedHingeLoss(1.0, BoolDomain(), 1.0)], Regularizer[UnitOneSparseConstraint(), UnitOneSparseConstraint(), UnitOneSparseConstraint(), UnitOneSparseConstraint(), UnitOneSparseConstraint(), UnitOneSparseConstraint(), UnitOneSparseConstraint(), UnitOneSparseConstraint(), UnitOneSparseConstraint(), UnitOneSparseConstraint()  …  UnitOneSparseConstraint(), UnitOneSparseConstraint(), UnitOneSparseConstraint(), UnitOneSparseConstraint(), UnitOneSparseConstraint(), UnitOneSparseConstraint(), UnitOneSparseConstraint(), UnitOneSparseConstraint(), UnitOneSparseConstraint(), UnitOneSparseConstraint()], Regularizer[ZeroReg(), ZeroReg(), ZeroReg(), ZeroReg(), ZeroReg()], 3, UnitRange{Int64}[1:5, 1:5, 1:5, 1:5, 1:5, 1:5, 1:5, 1:5, 1:5, 1:5  …  1:5, 1:5, 1:5, 1:5, 1:5, 1:5, 1:5, 1:5, 1:5, 1:5], UnitRange{Int64}[1:7000, 1:7000, 1:7000, 1:7000, 1:7000], [1.2603935424164459 -0.044170300104503464 … 0.46682528795012596 1.640135606749779; 1.0218710159498061 1.191719466041408 … -0.2065689701643361 -0.48224533404663306; -1.260530266020925 -0.11700154084899217 … -0.744029938671794 0.43434588289665904], [68051.15 1.0 … 3.0 0.0; 38337.2 1.0 … 3.0 1.0; 224190.49 4.0 … 70.0 0.0])"
      ]
     },
     "execution_count": 10,
     "metadata": {},
     "output_type": "execute_result"
    }
   ],
   "source": [
    "#kinit debug\n",
    "m,n = size(glrm.A)\n",
    "k = glrm.k\n",
    "possible_centers = Set(1:m)\n",
    "glrm.Y = randn(k,n)\n",
    "# assign first center randomly\n",
    "i = sample(1:m)\n",
    "setdiff!(possible_centers, i)\n",
    "\n",
    "glrm.Y[1,glrm.observed_features[i]] =  vec(convert(Array, glrm.A[i,glrm.observed_features[i]]))\n",
    "#glrm.Y[1,glrm.observed_features[i]] = convert(Matrix, glrm.A[i,glrm.observed_features[i]])\n",
    "# assign next centers one by one\n",
    "for l=1:k-1\n",
    "min_dists_per_obs = zeros(m)\n",
    "for i in possible_centers\n",
    "    d = zeros(l)\n",
    "    for j in glrm.observed_features[i]\n",
    "        for ll=1:l\n",
    "            d[ll] += evaluate(glrm.losses[j], glrm.Y[ll,j], glrm.A[i,j])\n",
    "        end\n",
    "    end\n",
    "    min_dists_per_obs[i] = minimum(d)/length(glrm.observed_features[i])\n",
    "end\n",
    "furthest_index = wsample(1:m,min_dists_per_obs)\n",
    "\n",
    "glrm.Y[l+1,glrm.observed_features[furthest_index]] = vec(convert(Array, glrm.A[furthest_index,glrm.observed_features[furthest_index]]))\n",
    "end\n",
    "return glrm   "
   ]
  },
  {
   "cell_type": "code",
   "execution_count": 11,
   "metadata": {
    "scrolled": true
   },
   "outputs": [
    {
     "name": "stdout",
     "output_type": "stream",
     "text": [
      "Fitting GLRM\n",
      "Iteration 10: objective value = 1.9808409688530418e8\n"
     ]
    },
    {
     "data": {
      "text/plain": [
       "([0.0 0.0 … 0.0 0.0; 1.0 1.0 … 1.0 1.0; 0.0 0.0 … 0.0 0.0], [68051.15 1.0 … 3.0 0.0; 38336.294842838586 1.9948074206379396 … 6.198022245750252 1.0; 224189.61539607836 3.0196720950405758 … 83.53077156497397 0.0], ConvergenceHistory(\"ProxGradGLRM\", [Inf, 7.829212163910463e8, 1.98212663221233e8, 1.9819827614681563e8, 1.9818439983604002e8, 1.9816927843296126e8, 1.9815353778724808e8, 1.9813722111078212e8, 1.981201861738213e8, 1.9810194097848943e8, 1.9808409688530418e8, 1.980657501571722e8], Float64[], [0.0, 0.0, 0.0, 0.0, 0.0, 0.0, 0.0, 0.0, 0.0, 0.0, 0.0, 0.0], [0.0, 0.0, 0.0, 0.0, 0.0, 0.0, 0.0, 0.0, 0.0, 0.0, 0.0, 0.0], [0.0, 1.0436420440673828, 1.3675498962402344, 1.7314457893371582, 1.8989696502685547, 2.022296667098999, 2.1519296169281006, 2.27651047706604, 2.3840906620025635, 2.516631841659546, 2.6173007488250732, 2.758180618286133], [0.0, 0.0, 0.0, 0.0, 0.0, 0.0, 0.0, 0.0, 0.0, 0.0, 0.0, 0.0], 0))"
      ]
     },
     "execution_count": 11,
     "metadata": {},
     "output_type": "execute_result"
    }
   ],
   "source": [
    "X,Y,ch = fit!(glrm)"
   ]
  },
  {
   "cell_type": "code",
   "execution_count": 12,
   "metadata": {},
   "outputs": [
    {
     "data": {
      "text/html": [
       "<table class=\"data-frame\"><thead><tr><th></th><th>x1</th><th>x2</th><th>x3</th><th>x4</th><th>x5</th><th>x6</th><th>x7</th><th>x8</th><th>x9</th></tr><tr><th></th><th>Float64</th><th>Float64</th><th>Float64</th><th>Float64</th><th>Float64</th><th>Float64</th><th>Float64</th><th>Float64</th><th>Float64</th></tr></thead><tbody><p>3 rows × 7,000 columns (omitted printing of 6991 columns)</p><tr><th>1</th><td>0.0</td><td>0.0</td><td>0.0</td><td>0.0</td><td>0.0</td><td>0.0</td><td>0.0</td><td>0.0</td><td>0.0</td></tr><tr><th>2</th><td>1.0</td><td>1.0</td><td>1.0</td><td>1.0</td><td>1.0</td><td>1.0</td><td>1.0</td><td>1.0</td><td>1.0</td></tr><tr><th>3</th><td>0.0</td><td>0.0</td><td>0.0</td><td>0.0</td><td>0.0</td><td>0.0</td><td>0.0</td><td>0.0</td><td>0.0</td></tr></tbody></table>"
      ],
      "text/latex": [
       "\\begin{tabular}{r|cccccccccc}\n",
       "\t& x1 & x2 & x3 & x4 & x5 & x6 & x7 & x8 & x9 & \\\\\n",
       "\t\\hline\n",
       "\t& Float64 & Float64 & Float64 & Float64 & Float64 & Float64 & Float64 & Float64 & Float64 & \\\\\n",
       "\t\\hline\n",
       "\t1 & 0.0 & 0.0 & 0.0 & 0.0 & 0.0 & 0.0 & 0.0 & 0.0 & 0.0 & $\\dots$ \\\\\n",
       "\t2 & 1.0 & 1.0 & 1.0 & 1.0 & 1.0 & 1.0 & 1.0 & 1.0 & 1.0 & $\\dots$ \\\\\n",
       "\t3 & 0.0 & 0.0 & 0.0 & 0.0 & 0.0 & 0.0 & 0.0 & 0.0 & 0.0 & $\\dots$ \\\\\n",
       "\\end{tabular}\n"
      ],
      "text/plain": [
       "3×7000 DataFrame. Omitted printing of 6993 columns\n",
       "│ Row │ x1      │ x2      │ x3      │ x4      │ x5      │ x6      │ x7      │\n",
       "│     │ \u001b[90mFloat64\u001b[39m │ \u001b[90mFloat64\u001b[39m │ \u001b[90mFloat64\u001b[39m │ \u001b[90mFloat64\u001b[39m │ \u001b[90mFloat64\u001b[39m │ \u001b[90mFloat64\u001b[39m │ \u001b[90mFloat64\u001b[39m │\n",
       "├─────┼─────────┼─────────┼─────────┼─────────┼─────────┼─────────┼─────────┤\n",
       "│ 1   │ 0.0     │ 0.0     │ 0.0     │ 0.0     │ 0.0     │ 0.0     │ 0.0     │\n",
       "│ 2   │ 1.0     │ 1.0     │ 1.0     │ 1.0     │ 1.0     │ 1.0     │ 1.0     │\n",
       "│ 3   │ 0.0     │ 0.0     │ 0.0     │ 0.0     │ 0.0     │ 0.0     │ 0.0     │"
      ]
     },
     "execution_count": 12,
     "metadata": {},
     "output_type": "execute_result"
    }
   ],
   "source": [
    "X = convert(DataFrame, X)"
   ]
  },
  {
   "cell_type": "code",
   "execution_count": 13,
   "metadata": {},
   "outputs": [
    {
     "data": {
      "text/plain": [
       "\"../data/cancer3diffloss.csv\""
      ]
     },
     "execution_count": 13,
     "metadata": {},
     "output_type": "execute_result"
    }
   ],
   "source": [
    "CSV.write(\"../data/cancer3diffloss.csv\", X)"
   ]
  },
  {
   "cell_type": "code",
   "execution_count": 15,
   "metadata": {},
   "outputs": [
    {
     "data": {
      "text/plain": [
       "\"../data/dfsamplefeat.csv\""
      ]
     },
     "execution_count": 15,
     "metadata": {},
     "output_type": "execute_result"
    }
   ],
   "source": [
    "CSV.write(\"../data/dfsamplefeat.csv\", dfsamplefeat)"
   ]
  },
  {
   "cell_type": "code",
   "execution_count": 14,
   "metadata": {},
   "outputs": [
    {
     "name": "stdout",
     "output_type": "stream",
     "text": [
      "Computing cross validation error for each fold\n",
      "flattening observations\n",
      "computing CV folds\n",
      "\n",
      "forming train and test GLRM for fold 1\n",
      "training model on 26352 samples and testing on 8648\n",
      "fitting train GLRM for fold 1\n",
      "Fitting GLRM\n",
      "Iteration 10: objective value = 1.463598136639156e8\n",
      "Iteration 20: objective value = 1.4607470143285602e8\n",
      "Iteration 30: objective value = 1.4565450391775325e8\n",
      "Iteration 40: objective value = 1.448586718081472e8\n",
      "Iteration 50: objective value = 1.4374691911818823e8\n",
      "computing train and test error for fold 1:\n",
      "\ttrain error: 5418.202135966774\n",
      "\ttest error:  10259.599427172507\n",
      "\n",
      "forming train and test GLRM for fold 2\n",
      "training model on 26174 samples and testing on 8826\n",
      "fitting train GLRM for fold 2\n",
      "Fitting GLRM\n",
      "Iteration 10: objective value = 1.504415699573499e8\n",
      "Iteration 20: objective value = 1.5011864163574088e8\n",
      "Iteration 30: objective value = 1.495916873983692e8\n",
      "Iteration 40: objective value = 1.4897032787182832e8\n",
      "Iteration 50: objective value = 1.478744148778853e8\n",
      "computing train and test error for fold 2:\n",
      "\ttrain error: 5622.346336133442\n",
      "\ttest error:  10200.174011502966\n",
      "\n",
      "forming train and test GLRM for fold 3\n",
      "training model on 26151 samples and testing on 8849\n",
      "fitting train GLRM for fold 3\n",
      "Fitting GLRM\n",
      "Iteration 10: objective value = 1.4864128070382044e8\n",
      "Iteration 20: objective value = 1.483290790966347e8\n",
      "Iteration 30: objective value = 1.4786663465518448e8\n",
      "Iteration 40: objective value = 1.469921393230594e8\n",
      "Iteration 50: objective value = 1.4563141430772617e8\n",
      "Iteration 60: objective value = 1.4398456858778915e8\n",
      "computing train and test error for fold 3:\n",
      "\ttrain error: 5478.555528559975\n",
      "\ttest error:  9453.948088279047\n",
      "\n",
      "forming train and test GLRM for fold 4\n",
      "training model on 26323 samples and testing on 8677\n",
      "fitting train GLRM for fold 4\n",
      "Fitting GLRM\n",
      "Iteration 10: objective value = 1.4762718891847116e8\n",
      "Iteration 20: objective value = 1.4728852259807274e8\n",
      "Iteration 30: objective value = 1.4683078416703895e8\n",
      "computing train and test error for fold 4:\n",
      "\ttrain error: 5561.310652157115\n",
      "\ttest error:  10299.325749275993\n"
     ]
    },
    {
     "data": {
      "text/html": [
       "<table class=\"data-frame\"><thead><tr><th></th><th>train_error</th><th>test_error</th></tr><tr><th></th><th>Float64</th><th>Float64</th></tr></thead><tbody><p>4 rows × 2 columns</p><tr><th>1</th><td>5418.2</td><td>10259.6</td></tr><tr><th>2</th><td>5622.35</td><td>10200.2</td></tr><tr><th>3</th><td>5478.56</td><td>9453.95</td></tr><tr><th>4</th><td>5561.31</td><td>10299.3</td></tr></tbody></table>"
      ],
      "text/latex": [
       "\\begin{tabular}{r|cc}\n",
       "\t& train\\_error & test\\_error\\\\\n",
       "\t\\hline\n",
       "\t& Float64 & Float64\\\\\n",
       "\t\\hline\n",
       "\t1 & 5418.2 & 10259.6 \\\\\n",
       "\t2 & 5622.35 & 10200.2 \\\\\n",
       "\t3 & 5478.56 & 9453.95 \\\\\n",
       "\t4 & 5561.31 & 10299.3 \\\\\n",
       "\\end{tabular}\n"
      ],
      "text/plain": [
       "4×2 DataFrame\n",
       "│ Row │ train_error │ test_error │\n",
       "│     │ \u001b[90mFloat64\u001b[39m     │ \u001b[90mFloat64\u001b[39m    │\n",
       "├─────┼─────────────┼────────────┤\n",
       "│ 1   │ 5418.2      │ 10259.6    │\n",
       "│ 2   │ 5622.35     │ 10200.2    │\n",
       "│ 3   │ 5478.56     │ 9453.95    │\n",
       "│ 4   │ 5561.31     │ 10299.3    │"
      ]
     },
     "execution_count": 14,
     "metadata": {},
     "output_type": "execute_result"
    }
   ],
   "source": [
    "println(\"Computing cross validation error for each fold\")\n",
    "params = Params(1.0, max_iter=100, abs_tol=0.0, min_stepsize=.001)\n",
    "train_error, test_error, train_glrms, test_glrms = cross_validate(glrm, nfolds=4, params=params)\n",
    "df = DataFrame(train_error = train_error, test_error = test_error)"
   ]
  },
  {
   "cell_type": "markdown",
   "metadata": {},
   "source": [
    "# kmeans k=4 different loss function 7000 rows"
   ]
  },
  {
   "cell_type": "code",
   "execution_count": 16,
   "metadata": {},
   "outputs": [
    {
     "data": {
      "text/plain": [
       "5-element Array{Loss,1}:\n",
       " HuberLoss(1.0, RealDomain(), 1.0)\n",
       " OrdinalHingeLoss(1, 10, 1.0, OrdinalDomain(1, 10))\n",
       " OrdinalHingeLoss(1, 10, 1.0, OrdinalDomain(1, 10))\n",
       " OrdinalHingeLoss(1, 10, 1.0, OrdinalDomain(1, 10))\n",
       " WeightedHingeLoss(1.0, BoolDomain(), 1.0)"
      ]
     },
     "execution_count": 16,
     "metadata": {},
     "output_type": "execute_result"
    }
   ],
   "source": [
    "loss1 = fill(HuberLoss(),1)\n",
    "loss2 = fill(OrdinalHingeLoss(), 3)\n",
    "loss3 = fill(HingeLoss(), 1)\n",
    "\n",
    "lossarr = [loss1; loss2; loss3]\n",
    "#lossarr = [loss1; loss2; loss3]\n",
    "lossarr"
   ]
  },
  {
   "cell_type": "code",
   "execution_count": 17,
   "metadata": {},
   "outputs": [
    {
     "data": {
      "text/plain": [
       "GLRM(7000×5 DataFrame. Omitted printing of 2 columns\n",
       "│ Row  │ Total_Charges │ APR_Severity_of_Illness_Code │ Age_Ordinal │\n",
       "│      │ \u001b[90mFloat64\u001b[39m       │ \u001b[90mInt64\u001b[39m                        │ \u001b[90mInt64\u001b[39m       │\n",
       "├──────┼───────────────┼──────────────────────────────┼─────────────┤\n",
       "│ 1    │ 38714.5       │ 3                            │ 5           │\n",
       "│ 2    │ 45185.0       │ 2                            │ 4           │\n",
       "│ 3    │ 37150.7       │ 4                            │ 4           │\n",
       "│ 4    │ 4531.2        │ 2                            │ 3           │\n",
       "│ 5    │ 26588.7       │ 1                            │ 4           │\n",
       "│ 6    │ 90060.1       │ 4                            │ 5           │\n",
       "│ 7    │ 15973.6       │ 1                            │ 4           │\n",
       "│ 8    │ 27848.9       │ 3                            │ 4           │\n",
       "│ 9    │ 29581.6       │ 3                            │ 5           │\n",
       "│ 10   │ 20269.5       │ 3                            │ 4           │\n",
       "⋮\n",
       "│ 6990 │ 83270.3       │ 3                            │ 1           │\n",
       "│ 6991 │ 337800.0      │ 3                            │ 2           │\n",
       "│ 6992 │ 10542.0       │ 4                            │ 2           │\n",
       "│ 6993 │ 103992.0      │ 3                            │ 1           │\n",
       "│ 6994 │ 45252.4       │ 1                            │ 2           │\n",
       "│ 6995 │ 144844.0      │ 3                            │ 1           │\n",
       "│ 6996 │ 81525.3       │ 1                            │ 1           │\n",
       "│ 6997 │ 91213.4       │ 3                            │ 1           │\n",
       "│ 6998 │ 374467.0      │ 4                            │ 1           │\n",
       "│ 6999 │ 315888.0      │ 2                            │ 1           │\n",
       "│ 7000 │ 110566.0      │ 2                            │ 1           │, Loss[HuberLoss(1.0, RealDomain(), 1.0), OrdinalHingeLoss(1, 10, 1.0, OrdinalDomain(1, 10)), OrdinalHingeLoss(1, 10, 1.0, OrdinalDomain(1, 10)), OrdinalHingeLoss(1, 10, 1.0, OrdinalDomain(1, 10)), WeightedHingeLoss(1.0, BoolDomain(), 1.0)], Regularizer[UnitOneSparseConstraint(), UnitOneSparseConstraint(), UnitOneSparseConstraint(), UnitOneSparseConstraint(), UnitOneSparseConstraint(), UnitOneSparseConstraint(), UnitOneSparseConstraint(), UnitOneSparseConstraint(), UnitOneSparseConstraint(), UnitOneSparseConstraint()  …  UnitOneSparseConstraint(), UnitOneSparseConstraint(), UnitOneSparseConstraint(), UnitOneSparseConstraint(), UnitOneSparseConstraint(), UnitOneSparseConstraint(), UnitOneSparseConstraint(), UnitOneSparseConstraint(), UnitOneSparseConstraint(), UnitOneSparseConstraint()], Regularizer[ZeroReg(), ZeroReg(), ZeroReg(), ZeroReg(), ZeroReg()], 4, UnitRange{Int64}[1:5, 1:5, 1:5, 1:5, 1:5, 1:5, 1:5, 1:5, 1:5, 1:5  …  1:5, 1:5, 1:5, 1:5, 1:5, 1:5, 1:5, 1:5, 1:5, 1:5], UnitRange{Int64}[1:7000, 1:7000, 1:7000, 1:7000, 1:7000], [-1.679419896667342 0.6762728657354524 … 0.33103223989544445 0.571247547397481; -0.33512197026049045 0.22586775653950691 … -2.201484008700448 0.28838994946415725; 1.1477336556120932 0.5781153890470495 … -0.1755213175803619 -0.10155028979297713; -0.12540343990183575 -1.3733106031853082 … 0.7454035215734629 0.1978772129401414], [1.40581524557427 -1.8509637915386215 … -0.6929267095851831 0.3632051750107401; -1.053988437121466 0.40278239879262756 … 1.6683668869800998 1.417346842347809; -0.2486775263522552 0.5109595716893257 … 0.056343083263938096 1.8167543650400018; 0.24035934734316483 0.47349781140600655 … 1.611678868633188 0.013255628443418528])"
      ]
     },
     "execution_count": 17,
     "metadata": {},
     "output_type": "execute_result"
    }
   ],
   "source": [
    "k = 4\n",
    "losses = lossarr\n",
    "A = dfsamplefeat\n",
    "rx = UnitOneSparseConstraint()\n",
    "ry = ZeroReg()\n",
    "glrm = GLRM(A,losses,rx,ry,k)"
   ]
  },
  {
   "cell_type": "code",
   "execution_count": 18,
   "metadata": {},
   "outputs": [
    {
     "name": "stderr",
     "output_type": "stream",
     "text": [
      "┌ Warning: `convert(::Type{Array}, dfr::DataFrameRow)` is deprecated, use `permutedims(Vector(dfr))` instead.\n",
      "│   caller = top-level scope at In[18]:9\n",
      "└ @ Core In[18]:9\n",
      "┌ Warning: `convert(::Type{Array}, dfr::DataFrameRow)` is deprecated, use `permutedims(Vector(dfr))` instead.\n",
      "│   caller = top-level scope at In[18]:26\n",
      "└ @ Core ./In[18]:26\n"
     ]
    },
    {
     "data": {
      "text/plain": [
       "GLRM(7000×5 DataFrame. Omitted printing of 2 columns\n",
       "│ Row  │ Total_Charges │ APR_Severity_of_Illness_Code │ Age_Ordinal │\n",
       "│      │ \u001b[90mFloat64\u001b[39m       │ \u001b[90mInt64\u001b[39m                        │ \u001b[90mInt64\u001b[39m       │\n",
       "├──────┼───────────────┼──────────────────────────────┼─────────────┤\n",
       "│ 1    │ 38714.5       │ 3                            │ 5           │\n",
       "│ 2    │ 45185.0       │ 2                            │ 4           │\n",
       "│ 3    │ 37150.7       │ 4                            │ 4           │\n",
       "│ 4    │ 4531.2        │ 2                            │ 3           │\n",
       "│ 5    │ 26588.7       │ 1                            │ 4           │\n",
       "│ 6    │ 90060.1       │ 4                            │ 5           │\n",
       "│ 7    │ 15973.6       │ 1                            │ 4           │\n",
       "│ 8    │ 27848.9       │ 3                            │ 4           │\n",
       "│ 9    │ 29581.6       │ 3                            │ 5           │\n",
       "│ 10   │ 20269.5       │ 3                            │ 4           │\n",
       "⋮\n",
       "│ 6990 │ 83270.3       │ 3                            │ 1           │\n",
       "│ 6991 │ 337800.0      │ 3                            │ 2           │\n",
       "│ 6992 │ 10542.0       │ 4                            │ 2           │\n",
       "│ 6993 │ 103992.0      │ 3                            │ 1           │\n",
       "│ 6994 │ 45252.4       │ 1                            │ 2           │\n",
       "│ 6995 │ 144844.0      │ 3                            │ 1           │\n",
       "│ 6996 │ 81525.3       │ 1                            │ 1           │\n",
       "│ 6997 │ 91213.4       │ 3                            │ 1           │\n",
       "│ 6998 │ 374467.0      │ 4                            │ 1           │\n",
       "│ 6999 │ 315888.0      │ 2                            │ 1           │\n",
       "│ 7000 │ 110566.0      │ 2                            │ 1           │, Loss[HuberLoss(1.0, RealDomain(), 1.0), OrdinalHingeLoss(1, 10, 1.0, OrdinalDomain(1, 10)), OrdinalHingeLoss(1, 10, 1.0, OrdinalDomain(1, 10)), OrdinalHingeLoss(1, 10, 1.0, OrdinalDomain(1, 10)), WeightedHingeLoss(1.0, BoolDomain(), 1.0)], Regularizer[UnitOneSparseConstraint(), UnitOneSparseConstraint(), UnitOneSparseConstraint(), UnitOneSparseConstraint(), UnitOneSparseConstraint(), UnitOneSparseConstraint(), UnitOneSparseConstraint(), UnitOneSparseConstraint(), UnitOneSparseConstraint(), UnitOneSparseConstraint()  …  UnitOneSparseConstraint(), UnitOneSparseConstraint(), UnitOneSparseConstraint(), UnitOneSparseConstraint(), UnitOneSparseConstraint(), UnitOneSparseConstraint(), UnitOneSparseConstraint(), UnitOneSparseConstraint(), UnitOneSparseConstraint(), UnitOneSparseConstraint()], Regularizer[ZeroReg(), ZeroReg(), ZeroReg(), ZeroReg(), ZeroReg()], 4, UnitRange{Int64}[1:5, 1:5, 1:5, 1:5, 1:5, 1:5, 1:5, 1:5, 1:5, 1:5  …  1:5, 1:5, 1:5, 1:5, 1:5, 1:5, 1:5, 1:5, 1:5, 1:5], UnitRange{Int64}[1:7000, 1:7000, 1:7000, 1:7000, 1:7000], [-1.679419896667342 0.6762728657354524 … 0.33103223989544445 0.571247547397481; -0.33512197026049045 0.22586775653950691 … -2.201484008700448 0.28838994946415725; 1.1477336556120932 0.5781153890470495 … -0.1755213175803619 -0.10155028979297713; -0.12540343990183575 -1.3733106031853082 … 0.7454035215734629 0.1978772129401414], [15022.21 1.0 … 2.0 1.0; 313745.23 4.0 … 60.0 0.0; 70087.09 3.0 … 12.0 1.0; 934311.98 4.0 … 120.0 1.0])"
      ]
     },
     "execution_count": 18,
     "metadata": {},
     "output_type": "execute_result"
    }
   ],
   "source": [
    "#kinit debug\n",
    "m,n = size(glrm.A)\n",
    "k = glrm.k\n",
    "possible_centers = Set(1:m)\n",
    "glrm.Y = randn(k,n)\n",
    "# assign first center randomly\n",
    "i = sample(1:m)\n",
    "setdiff!(possible_centers, i)\n",
    "\n",
    "glrm.Y[1,glrm.observed_features[i]] =  vec(convert(Array, glrm.A[i,glrm.observed_features[i]]))\n",
    "#glrm.Y[1,glrm.observed_features[i]] = convert(Matrix, glrm.A[i,glrm.observed_features[i]])\n",
    "# assign next centers one by one\n",
    "for l=1:k-1\n",
    "min_dists_per_obs = zeros(m)\n",
    "for i in possible_centers\n",
    "    d = zeros(l)\n",
    "    for j in glrm.observed_features[i]\n",
    "        for ll=1:l\n",
    "            d[ll] += evaluate(glrm.losses[j], glrm.Y[ll,j], glrm.A[i,j])\n",
    "        end\n",
    "    end\n",
    "    min_dists_per_obs[i] = minimum(d)/length(glrm.observed_features[i])\n",
    "end\n",
    "furthest_index = wsample(1:m,min_dists_per_obs)\n",
    "\n",
    "glrm.Y[l+1,glrm.observed_features[furthest_index]] = vec(convert(Array, glrm.A[furthest_index,glrm.observed_features[furthest_index]]))\n",
    "end\n",
    "return glrm  "
   ]
  },
  {
   "cell_type": "code",
   "execution_count": 19,
   "metadata": {},
   "outputs": [
    {
     "name": "stdout",
     "output_type": "stream",
     "text": [
      "Fitting GLRM\n",
      "Iteration 10: objective value = 3.1386698527373546e8\n"
     ]
    },
    {
     "data": {
      "text/plain": [
       "([1.0 1.0 … 1.0 1.0; 0.0 0.0 … 0.0 0.0; 0.0 0.0 … 0.0 0.0; 0.0 0.0 … 0.0 0.0], [15032.455177696886 2.0000373457911915 … 7.001887020391701 1.0; 313745.23 4.0 … 60.0 0.0; 70087.09 3.0 … 12.0 1.0; 934311.4092122699 3.0403372459876747 … 118.82346748186681 1.0], ConvergenceHistory(\"ProxGradGLRM\", [Inf, 3.390777166458862e9, 3.139101162555738e8, 3.1390463624062854e8, 3.1389989500948876e8, 3.138947717847371e8, 3.1388973563108486e8, 3.138844227286253e8, 3.1387889141853523e8, 3.138730835429943e8, 3.1386698527373546e8, 3.138605819168014e8], Float64[], [0.0, 0.0, 0.0, 0.0, 0.0, 0.0, 0.0, 0.0, 0.0, 0.0, 0.0, 0.0], [0.0, 0.0, 0.0, 0.0, 0.0, 0.0, 0.0, 0.0, 0.0, 0.0, 0.0, 0.0], [0.0, 0.1668109893798828, 0.424252986907959, 0.7190489768981934, 0.8433089256286621, 0.9264237880706787, 1.0549218654632568, 1.1408019065856934, 1.2482547760009766, 1.3323466777801514, 1.442427635192871, 1.540588617324829], [0.0, 0.0, 0.0, 0.0, 0.0, 0.0, 0.0, 0.0, 0.0, 0.0, 0.0, 0.0], 0))"
      ]
     },
     "execution_count": 19,
     "metadata": {},
     "output_type": "execute_result"
    }
   ],
   "source": [
    "X,Y,ch = fit!(glrm)"
   ]
  },
  {
   "cell_type": "code",
   "execution_count": 20,
   "metadata": {},
   "outputs": [
    {
     "data": {
      "text/html": [
       "<table class=\"data-frame\"><thead><tr><th></th><th>x1</th><th>x2</th><th>x3</th><th>x4</th><th>x5</th><th>x6</th><th>x7</th><th>x8</th><th>x9</th></tr><tr><th></th><th>Float64</th><th>Float64</th><th>Float64</th><th>Float64</th><th>Float64</th><th>Float64</th><th>Float64</th><th>Float64</th><th>Float64</th></tr></thead><tbody><p>4 rows × 7,000 columns (omitted printing of 6991 columns)</p><tr><th>1</th><td>1.0</td><td>1.0</td><td>1.0</td><td>1.0</td><td>1.0</td><td>1.0</td><td>1.0</td><td>1.0</td><td>1.0</td></tr><tr><th>2</th><td>0.0</td><td>0.0</td><td>0.0</td><td>0.0</td><td>0.0</td><td>0.0</td><td>0.0</td><td>0.0</td><td>0.0</td></tr><tr><th>3</th><td>0.0</td><td>0.0</td><td>0.0</td><td>0.0</td><td>0.0</td><td>0.0</td><td>0.0</td><td>0.0</td><td>0.0</td></tr><tr><th>4</th><td>0.0</td><td>0.0</td><td>0.0</td><td>0.0</td><td>0.0</td><td>0.0</td><td>0.0</td><td>0.0</td><td>0.0</td></tr></tbody></table>"
      ],
      "text/latex": [
       "\\begin{tabular}{r|cccccccccc}\n",
       "\t& x1 & x2 & x3 & x4 & x5 & x6 & x7 & x8 & x9 & \\\\\n",
       "\t\\hline\n",
       "\t& Float64 & Float64 & Float64 & Float64 & Float64 & Float64 & Float64 & Float64 & Float64 & \\\\\n",
       "\t\\hline\n",
       "\t1 & 1.0 & 1.0 & 1.0 & 1.0 & 1.0 & 1.0 & 1.0 & 1.0 & 1.0 & $\\dots$ \\\\\n",
       "\t2 & 0.0 & 0.0 & 0.0 & 0.0 & 0.0 & 0.0 & 0.0 & 0.0 & 0.0 & $\\dots$ \\\\\n",
       "\t3 & 0.0 & 0.0 & 0.0 & 0.0 & 0.0 & 0.0 & 0.0 & 0.0 & 0.0 & $\\dots$ \\\\\n",
       "\t4 & 0.0 & 0.0 & 0.0 & 0.0 & 0.0 & 0.0 & 0.0 & 0.0 & 0.0 & $\\dots$ \\\\\n",
       "\\end{tabular}\n"
      ],
      "text/plain": [
       "4×7000 DataFrame. Omitted printing of 6993 columns\n",
       "│ Row │ x1      │ x2      │ x3      │ x4      │ x5      │ x6      │ x7      │\n",
       "│     │ \u001b[90mFloat64\u001b[39m │ \u001b[90mFloat64\u001b[39m │ \u001b[90mFloat64\u001b[39m │ \u001b[90mFloat64\u001b[39m │ \u001b[90mFloat64\u001b[39m │ \u001b[90mFloat64\u001b[39m │ \u001b[90mFloat64\u001b[39m │\n",
       "├─────┼─────────┼─────────┼─────────┼─────────┼─────────┼─────────┼─────────┤\n",
       "│ 1   │ 1.0     │ 1.0     │ 1.0     │ 1.0     │ 1.0     │ 1.0     │ 1.0     │\n",
       "│ 2   │ 0.0     │ 0.0     │ 0.0     │ 0.0     │ 0.0     │ 0.0     │ 0.0     │\n",
       "│ 3   │ 0.0     │ 0.0     │ 0.0     │ 0.0     │ 0.0     │ 0.0     │ 0.0     │\n",
       "│ 4   │ 0.0     │ 0.0     │ 0.0     │ 0.0     │ 0.0     │ 0.0     │ 0.0     │"
      ]
     },
     "execution_count": 20,
     "metadata": {},
     "output_type": "execute_result"
    }
   ],
   "source": [
    "X = convert(DataFrame, X)"
   ]
  },
  {
   "cell_type": "code",
   "execution_count": null,
   "metadata": {},
   "outputs": [],
   "source": [
    "CSV.write(\"../data/cancer4diff7000.csv\", X)"
   ]
  },
  {
   "cell_type": "markdown",
   "metadata": {},
   "source": [
    "# kmeans k=3 different loss function 15000 rows"
   ]
  },
  {
   "cell_type": "code",
   "execution_count": 17,
   "metadata": {},
   "outputs": [
    {
     "data": {
      "text/html": [
       "<table class=\"data-frame\"><thead><tr><th></th><th>Total_Charges</th><th>APR_Severity_of_Illness_Code</th><th>Age_Ordinal</th><th>Length_of_Stay</th><th>Gender_F</th></tr><tr><th></th><th>Float64</th><th>Int64</th><th>Int64</th><th>Int64</th><th>Int64</th></tr></thead><tbody><p>15,000 rows × 5 columns</p><tr><th>1</th><td>194331.0</td><td>4</td><td>5</td><td>57</td><td>0</td></tr><tr><th>2</th><td>86736.8</td><td>3</td><td>4</td><td>25</td><td>0</td></tr><tr><th>3</th><td>33681.8</td><td>3</td><td>4</td><td>11</td><td>1</td></tr><tr><th>4</th><td>20601.5</td><td>2</td><td>3</td><td>6</td><td>0</td></tr><tr><th>5</th><td>11905.8</td><td>1</td><td>3</td><td>4</td><td>0</td></tr><tr><th>6</th><td>37150.7</td><td>4</td><td>4</td><td>9</td><td>0</td></tr><tr><th>7</th><td>4531.2</td><td>2</td><td>3</td><td>1</td><td>1</td></tr><tr><th>8</th><td>18945.8</td><td>3</td><td>3</td><td>5</td><td>1</td></tr><tr><th>9</th><td>90060.1</td><td>4</td><td>5</td><td>25</td><td>0</td></tr><tr><th>10</th><td>6911.59</td><td>2</td><td>4</td><td>1</td><td>0</td></tr><tr><th>11</th><td>13773.6</td><td>3</td><td>4</td><td>4</td><td>1</td></tr><tr><th>12</th><td>20620.0</td><td>2</td><td>4</td><td>7</td><td>0</td></tr><tr><th>13</th><td>36878.1</td><td>4</td><td>3</td><td>12</td><td>1</td></tr><tr><th>14</th><td>12338.4</td><td>2</td><td>4</td><td>2</td><td>0</td></tr><tr><th>15</th><td>51437.6</td><td>2</td><td>5</td><td>15</td><td>1</td></tr><tr><th>16</th><td>15973.6</td><td>1</td><td>4</td><td>5</td><td>1</td></tr><tr><th>17</th><td>27848.9</td><td>3</td><td>4</td><td>7</td><td>1</td></tr><tr><th>18</th><td>9348.38</td><td>4</td><td>4</td><td>2</td><td>1</td></tr><tr><th>19</th><td>14154.2</td><td>3</td><td>5</td><td>4</td><td>1</td></tr><tr><th>20</th><td>12020.9</td><td>1</td><td>5</td><td>4</td><td>0</td></tr><tr><th>21</th><td>5742.39</td><td>1</td><td>4</td><td>2</td><td>0</td></tr><tr><th>22</th><td>11187.7</td><td>3</td><td>4</td><td>3</td><td>0</td></tr><tr><th>23</th><td>24804.8</td><td>3</td><td>5</td><td>8</td><td>1</td></tr><tr><th>24</th><td>3474.34</td><td>1</td><td>5</td><td>1</td><td>0</td></tr><tr><th>25</th><td>12759.9</td><td>2</td><td>4</td><td>4</td><td>0</td></tr><tr><th>26</th><td>20269.5</td><td>3</td><td>4</td><td>6</td><td>0</td></tr><tr><th>27</th><td>37638.8</td><td>4</td><td>3</td><td>12</td><td>0</td></tr><tr><th>28</th><td>10391.4</td><td>2</td><td>1</td><td>2</td><td>0</td></tr><tr><th>29</th><td>41922.1</td><td>3</td><td>5</td><td>9</td><td>1</td></tr><tr><th>30</th><td>27046.6</td><td>4</td><td>5</td><td>7</td><td>1</td></tr><tr><th>&vellip;</th><td>&vellip;</td><td>&vellip;</td><td>&vellip;</td><td>&vellip;</td><td>&vellip;</td></tr></tbody></table>"
      ],
      "text/latex": [
       "\\begin{tabular}{r|ccccc}\n",
       "\t& Total\\_Charges & APR\\_Severity\\_of\\_Illness\\_Code & Age\\_Ordinal & Length\\_of\\_Stay & Gender\\_F\\\\\n",
       "\t\\hline\n",
       "\t& Float64 & Int64 & Int64 & Int64 & Int64\\\\\n",
       "\t\\hline\n",
       "\t1 & 194331.0 & 4 & 5 & 57 & 0 \\\\\n",
       "\t2 & 86736.8 & 3 & 4 & 25 & 0 \\\\\n",
       "\t3 & 33681.8 & 3 & 4 & 11 & 1 \\\\\n",
       "\t4 & 20601.5 & 2 & 3 & 6 & 0 \\\\\n",
       "\t5 & 11905.8 & 1 & 3 & 4 & 0 \\\\\n",
       "\t6 & 37150.7 & 4 & 4 & 9 & 0 \\\\\n",
       "\t7 & 4531.2 & 2 & 3 & 1 & 1 \\\\\n",
       "\t8 & 18945.8 & 3 & 3 & 5 & 1 \\\\\n",
       "\t9 & 90060.1 & 4 & 5 & 25 & 0 \\\\\n",
       "\t10 & 6911.59 & 2 & 4 & 1 & 0 \\\\\n",
       "\t11 & 13773.6 & 3 & 4 & 4 & 1 \\\\\n",
       "\t12 & 20620.0 & 2 & 4 & 7 & 0 \\\\\n",
       "\t13 & 36878.1 & 4 & 3 & 12 & 1 \\\\\n",
       "\t14 & 12338.4 & 2 & 4 & 2 & 0 \\\\\n",
       "\t15 & 51437.6 & 2 & 5 & 15 & 1 \\\\\n",
       "\t16 & 15973.6 & 1 & 4 & 5 & 1 \\\\\n",
       "\t17 & 27848.9 & 3 & 4 & 7 & 1 \\\\\n",
       "\t18 & 9348.38 & 4 & 4 & 2 & 1 \\\\\n",
       "\t19 & 14154.2 & 3 & 5 & 4 & 1 \\\\\n",
       "\t20 & 12020.9 & 1 & 5 & 4 & 0 \\\\\n",
       "\t21 & 5742.39 & 1 & 4 & 2 & 0 \\\\\n",
       "\t22 & 11187.7 & 3 & 4 & 3 & 0 \\\\\n",
       "\t23 & 24804.8 & 3 & 5 & 8 & 1 \\\\\n",
       "\t24 & 3474.34 & 1 & 5 & 1 & 0 \\\\\n",
       "\t25 & 12759.9 & 2 & 4 & 4 & 0 \\\\\n",
       "\t26 & 20269.5 & 3 & 4 & 6 & 0 \\\\\n",
       "\t27 & 37638.8 & 4 & 3 & 12 & 0 \\\\\n",
       "\t28 & 10391.4 & 2 & 1 & 2 & 0 \\\\\n",
       "\t29 & 41922.1 & 3 & 5 & 9 & 1 \\\\\n",
       "\t30 & 27046.6 & 4 & 5 & 7 & 1 \\\\\n",
       "\t$\\dots$ & $\\dots$ & $\\dots$ & $\\dots$ & $\\dots$ & $\\dots$ \\\\\n",
       "\\end{tabular}\n"
      ],
      "text/plain": [
       "15000×5 DataFrame. Omitted printing of 2 columns\n",
       "│ Row   │ Total_Charges │ APR_Severity_of_Illness_Code │ Age_Ordinal │\n",
       "│       │ \u001b[90mFloat64\u001b[39m       │ \u001b[90mInt64\u001b[39m                        │ \u001b[90mInt64\u001b[39m       │\n",
       "├───────┼───────────────┼──────────────────────────────┼─────────────┤\n",
       "│ 1     │ 194331.0      │ 4                            │ 5           │\n",
       "│ 2     │ 86736.8       │ 3                            │ 4           │\n",
       "│ 3     │ 33681.8       │ 3                            │ 4           │\n",
       "│ 4     │ 20601.5       │ 2                            │ 3           │\n",
       "│ 5     │ 11905.8       │ 1                            │ 3           │\n",
       "│ 6     │ 37150.7       │ 4                            │ 4           │\n",
       "│ 7     │ 4531.2        │ 2                            │ 3           │\n",
       "│ 8     │ 18945.8       │ 3                            │ 3           │\n",
       "│ 9     │ 90060.1       │ 4                            │ 5           │\n",
       "│ 10    │ 6911.59       │ 2                            │ 4           │\n",
       "⋮\n",
       "│ 14990 │ 81525.3       │ 1                            │ 1           │\n",
       "│ 14991 │ 285918.0      │ 4                            │ 1           │\n",
       "│ 14992 │ 72115.3       │ 3                            │ 1           │\n",
       "│ 14993 │ 91213.4       │ 3                            │ 1           │\n",
       "│ 14994 │ 92564.3       │ 2                            │ 1           │\n",
       "│ 14995 │ 30328.2       │ 2                            │ 1           │\n",
       "│ 14996 │ 83585.8       │ 1                            │ 1           │\n",
       "│ 14997 │ 83309.1       │ 3                            │ 1           │\n",
       "│ 14998 │ 119039.0      │ 2                            │ 1           │\n",
       "│ 14999 │ 84369.3       │ 2                            │ 1           │\n",
       "│ 15000 │ 35890.2       │ 1                            │ 1           │"
      ]
     },
     "execution_count": 17,
     "metadata": {},
     "output_type": "execute_result"
    }
   ],
   "source": [
    "dfsamplefeat2"
   ]
  },
  {
   "cell_type": "code",
   "execution_count": 18,
   "metadata": {},
   "outputs": [
    {
     "data": {
      "text/plain": [
       "5-element Array{Loss,1}:\n",
       " HuberLoss(1.0, RealDomain(), 1.0)\n",
       " OrdinalHingeLoss(1, 10, 1.0, OrdinalDomain(1, 10))\n",
       " OrdinalHingeLoss(1, 10, 1.0, OrdinalDomain(1, 10))\n",
       " OrdinalHingeLoss(1, 10, 1.0, OrdinalDomain(1, 10))\n",
       " WeightedHingeLoss(1.0, BoolDomain(), 1.0)"
      ]
     },
     "execution_count": 18,
     "metadata": {},
     "output_type": "execute_result"
    }
   ],
   "source": [
    "loss1 = fill(HuberLoss(),1)\n",
    "loss2 = fill(OrdinalHingeLoss(), 3)\n",
    "loss3 = fill(HingeLoss(), 1)\n",
    "\n",
    "lossarr = [loss1; loss2; loss3]\n",
    "#lossarr = [loss1; loss2; loss3]\n",
    "lossarr"
   ]
  },
  {
   "cell_type": "code",
   "execution_count": 19,
   "metadata": {},
   "outputs": [
    {
     "data": {
      "text/plain": [
       "GLRM(15000×5 DataFrame. Omitted printing of 2 columns\n",
       "│ Row   │ Total_Charges │ APR_Severity_of_Illness_Code │ Age_Ordinal │\n",
       "│       │ \u001b[90mFloat64\u001b[39m       │ \u001b[90mInt64\u001b[39m                        │ \u001b[90mInt64\u001b[39m       │\n",
       "├───────┼───────────────┼──────────────────────────────┼─────────────┤\n",
       "│ 1     │ 194331.0      │ 4                            │ 5           │\n",
       "│ 2     │ 86736.8       │ 3                            │ 4           │\n",
       "│ 3     │ 33681.8       │ 3                            │ 4           │\n",
       "│ 4     │ 20601.5       │ 2                            │ 3           │\n",
       "│ 5     │ 11905.8       │ 1                            │ 3           │\n",
       "│ 6     │ 37150.7       │ 4                            │ 4           │\n",
       "│ 7     │ 4531.2        │ 2                            │ 3           │\n",
       "│ 8     │ 18945.8       │ 3                            │ 3           │\n",
       "│ 9     │ 90060.1       │ 4                            │ 5           │\n",
       "│ 10    │ 6911.59       │ 2                            │ 4           │\n",
       "⋮\n",
       "│ 14990 │ 81525.3       │ 1                            │ 1           │\n",
       "│ 14991 │ 285918.0      │ 4                            │ 1           │\n",
       "│ 14992 │ 72115.3       │ 3                            │ 1           │\n",
       "│ 14993 │ 91213.4       │ 3                            │ 1           │\n",
       "│ 14994 │ 92564.3       │ 2                            │ 1           │\n",
       "│ 14995 │ 30328.2       │ 2                            │ 1           │\n",
       "│ 14996 │ 83585.8       │ 1                            │ 1           │\n",
       "│ 14997 │ 83309.1       │ 3                            │ 1           │\n",
       "│ 14998 │ 119039.0      │ 2                            │ 1           │\n",
       "│ 14999 │ 84369.3       │ 2                            │ 1           │\n",
       "│ 15000 │ 35890.2       │ 1                            │ 1           │, Loss[HuberLoss(1.0, RealDomain(), 1.0), OrdinalHingeLoss(1, 10, 1.0, OrdinalDomain(1, 10)), OrdinalHingeLoss(1, 10, 1.0, OrdinalDomain(1, 10)), OrdinalHingeLoss(1, 10, 1.0, OrdinalDomain(1, 10)), WeightedHingeLoss(1.0, BoolDomain(), 1.0)], Regularizer[UnitOneSparseConstraint(), UnitOneSparseConstraint(), UnitOneSparseConstraint(), UnitOneSparseConstraint(), UnitOneSparseConstraint(), UnitOneSparseConstraint(), UnitOneSparseConstraint(), UnitOneSparseConstraint(), UnitOneSparseConstraint(), UnitOneSparseConstraint()  …  UnitOneSparseConstraint(), UnitOneSparseConstraint(), UnitOneSparseConstraint(), UnitOneSparseConstraint(), UnitOneSparseConstraint(), UnitOneSparseConstraint(), UnitOneSparseConstraint(), UnitOneSparseConstraint(), UnitOneSparseConstraint(), UnitOneSparseConstraint()], Regularizer[ZeroReg(), ZeroReg(), ZeroReg(), ZeroReg(), ZeroReg()], 3, UnitRange{Int64}[1:5, 1:5, 1:5, 1:5, 1:5, 1:5, 1:5, 1:5, 1:5, 1:5  …  1:5, 1:5, 1:5, 1:5, 1:5, 1:5, 1:5, 1:5, 1:5, 1:5], UnitRange{Int64}[1:15000, 1:15000, 1:15000, 1:15000, 1:15000], [0.3596067353840307 -0.5372989637534882 … 0.7570222925537751 -0.7134913686079275; -0.14809523370039213 -1.341257543599108 … 0.3538409472457799 0.633738610076142; 0.01390335593578893 -0.21625057367957995 … 0.72632867966575 0.902097601535324], [-1.334035122366427 -0.08161847455688923 … 0.7556318206207693 0.7891133955281109; 1.0341093347527306 0.5571542065637551 … -0.5099469916194133 -1.9747934667999352; -0.8627017982602001 -1.0749364143490747 … 1.4362649423789005 0.3595551684217781])"
      ]
     },
     "execution_count": 19,
     "metadata": {},
     "output_type": "execute_result"
    }
   ],
   "source": [
    "k = 3\n",
    "losses = lossarr\n",
    "A = dfsamplefeat2\n",
    "rx = UnitOneSparseConstraint()\n",
    "ry = ZeroReg()\n",
    "glrm = GLRM(A,losses,rx,ry,k)\n",
    "#params = ProxGradParams(inner_iter_Y=40)"
   ]
  },
  {
   "cell_type": "code",
   "execution_count": 20,
   "metadata": {},
   "outputs": [
    {
     "name": "stderr",
     "output_type": "stream",
     "text": [
      "┌ Warning: `convert(::Type{Array}, dfr::DataFrameRow)` is deprecated, use `permutedims(Vector(dfr))` instead.\n",
      "│   caller = init_kmeanspp!(::GLRM) at In[16]:11\n",
      "└ @ Main ./In[16]:11\n",
      "┌ Warning: `convert(::Type{Array}, dfr::DataFrameRow)` is deprecated, use `permutedims(Vector(dfr))` instead.\n",
      "│   caller = init_kmeanspp!(::GLRM) at In[16]:27\n",
      "└ @ Main ./In[16]:27\n"
     ]
    },
    {
     "data": {
      "text/plain": [
       "GLRM(15000×5 DataFrame. Omitted printing of 2 columns\n",
       "│ Row   │ Total_Charges │ APR_Severity_of_Illness_Code │ Age_Ordinal │\n",
       "│       │ \u001b[90mFloat64\u001b[39m       │ \u001b[90mInt64\u001b[39m                        │ \u001b[90mInt64\u001b[39m       │\n",
       "├───────┼───────────────┼──────────────────────────────┼─────────────┤\n",
       "│ 1     │ 194331.0      │ 4                            │ 5           │\n",
       "│ 2     │ 86736.8       │ 3                            │ 4           │\n",
       "│ 3     │ 33681.8       │ 3                            │ 4           │\n",
       "│ 4     │ 20601.5       │ 2                            │ 3           │\n",
       "│ 5     │ 11905.8       │ 1                            │ 3           │\n",
       "│ 6     │ 37150.7       │ 4                            │ 4           │\n",
       "│ 7     │ 4531.2        │ 2                            │ 3           │\n",
       "│ 8     │ 18945.8       │ 3                            │ 3           │\n",
       "│ 9     │ 90060.1       │ 4                            │ 5           │\n",
       "│ 10    │ 6911.59       │ 2                            │ 4           │\n",
       "⋮\n",
       "│ 14990 │ 81525.3       │ 1                            │ 1           │\n",
       "│ 14991 │ 285918.0      │ 4                            │ 1           │\n",
       "│ 14992 │ 72115.3       │ 3                            │ 1           │\n",
       "│ 14993 │ 91213.4       │ 3                            │ 1           │\n",
       "│ 14994 │ 92564.3       │ 2                            │ 1           │\n",
       "│ 14995 │ 30328.2       │ 2                            │ 1           │\n",
       "│ 14996 │ 83585.8       │ 1                            │ 1           │\n",
       "│ 14997 │ 83309.1       │ 3                            │ 1           │\n",
       "│ 14998 │ 119039.0      │ 2                            │ 1           │\n",
       "│ 14999 │ 84369.3       │ 2                            │ 1           │\n",
       "│ 15000 │ 35890.2       │ 1                            │ 1           │, Loss[HuberLoss(1.0, RealDomain(), 1.0), OrdinalHingeLoss(1, 10, 1.0, OrdinalDomain(1, 10)), OrdinalHingeLoss(1, 10, 1.0, OrdinalDomain(1, 10)), OrdinalHingeLoss(1, 10, 1.0, OrdinalDomain(1, 10)), WeightedHingeLoss(1.0, BoolDomain(), 1.0)], Regularizer[UnitOneSparseConstraint(), UnitOneSparseConstraint(), UnitOneSparseConstraint(), UnitOneSparseConstraint(), UnitOneSparseConstraint(), UnitOneSparseConstraint(), UnitOneSparseConstraint(), UnitOneSparseConstraint(), UnitOneSparseConstraint(), UnitOneSparseConstraint()  …  UnitOneSparseConstraint(), UnitOneSparseConstraint(), UnitOneSparseConstraint(), UnitOneSparseConstraint(), UnitOneSparseConstraint(), UnitOneSparseConstraint(), UnitOneSparseConstraint(), UnitOneSparseConstraint(), UnitOneSparseConstraint(), UnitOneSparseConstraint()], Regularizer[ZeroReg(), ZeroReg(), ZeroReg(), ZeroReg(), ZeroReg()], 3, UnitRange{Int64}[1:5, 1:5, 1:5, 1:5, 1:5, 1:5, 1:5, 1:5, 1:5, 1:5  …  1:5, 1:5, 1:5, 1:5, 1:5, 1:5, 1:5, 1:5, 1:5, 1:5], UnitRange{Int64}[1:15000, 1:15000, 1:15000, 1:15000, 1:15000], [0.3596067353840307 -0.5372989637534882 … 0.7570222925537751 -0.7134913686079275; -0.14809523370039213 -1.341257543599108 … 0.3538409472457799 0.633738610076142; 0.01390335593578893 -0.21625057367957995 … 0.72632867966575 0.902097601535324], [63164.0 3.0 … 8.0 1.0; 1.39636078e6 4.0 … 68.0 0.0; 37794.26 2.0 … 11.0 1.0])"
      ]
     },
     "execution_count": 20,
     "metadata": {},
     "output_type": "execute_result"
    }
   ],
   "source": [
    "init_kmeanspp!(glrm)"
   ]
  },
  {
   "cell_type": "code",
   "execution_count": 21,
   "metadata": {},
   "outputs": [
    {
     "name": "stdout",
     "output_type": "stream",
     "text": [
      "Fitting GLRM\n",
      "Iteration 10: objective value = 5.333768685854723e8\n"
     ]
    },
    {
     "data": {
      "text/plain": [
       "([0.0 0.0 … 0.0 0.0; 0.0 0.0 … 0.0 0.0; 1.0 1.0 … 1.0 1.0], [63164.0 3.0 … 8.0 1.0; 1.3963602516830107e6 3.0647175880916886 … 66.61497195281476 0.0; 37794.360493862936 2.0019263283491564 … 7.000420837893909 1.0], ConvergenceHistory(\"ProxGradGLRM\", [Inf, 1.0490010668805758e10, 5.333806892465561e8, 5.3337772445475775e8, 5.333772690422658e8, 5.3337705662883663e8, 5.33377001566069e8, 5.3337697029818314e8, 5.333768716531399e8, 5.333768701562629e8, 5.333768685854723e8, 5.3337686693716735e8], Float64[], [0.0, 0.0, 0.0, 0.0, 0.0, 0.0, 0.0, 0.0, 0.0, 0.0, 0.0, 0.0], [0.0, 0.0, 0.0, 0.0, 0.0, 0.0, 0.0, 0.0, 0.0, 0.0, 0.0, 0.0], [0.0, 1.1556670665740967, 1.778285264968872, 2.369558095932007, 2.615800142288208, 2.852102279663086, 3.0582971572875977, 3.260782241821289, 3.4492673873901367, 3.6583213806152344, 3.850306510925293, 4.056651592254639], [0.0, 0.0, 0.0, 0.0, 0.0, 0.0, 0.0, 0.0, 0.0, 0.0, 0.0, 0.0], 0))"
      ]
     },
     "execution_count": 21,
     "metadata": {},
     "output_type": "execute_result"
    }
   ],
   "source": [
    "X,Y,ch = fit!(glrm)"
   ]
  },
  {
   "cell_type": "code",
   "execution_count": 22,
   "metadata": {},
   "outputs": [
    {
     "data": {
      "text/html": [
       "<table class=\"data-frame\"><thead><tr><th></th><th>x1</th><th>x2</th><th>x3</th><th>x4</th><th>x5</th><th>x6</th><th>x7</th><th>x8</th><th>x9</th></tr><tr><th></th><th>Float64</th><th>Float64</th><th>Float64</th><th>Float64</th><th>Float64</th><th>Float64</th><th>Float64</th><th>Float64</th><th>Float64</th></tr></thead><tbody><p>3 rows × 15,000 columns (omitted printing of 14991 columns)</p><tr><th>1</th><td>0.0</td><td>0.0</td><td>0.0</td><td>0.0</td><td>0.0</td><td>0.0</td><td>0.0</td><td>0.0</td><td>0.0</td></tr><tr><th>2</th><td>0.0</td><td>0.0</td><td>0.0</td><td>0.0</td><td>0.0</td><td>0.0</td><td>0.0</td><td>0.0</td><td>0.0</td></tr><tr><th>3</th><td>1.0</td><td>1.0</td><td>1.0</td><td>1.0</td><td>1.0</td><td>1.0</td><td>1.0</td><td>1.0</td><td>1.0</td></tr></tbody></table>"
      ],
      "text/latex": [
       "\\begin{tabular}{r|cccccccccc}\n",
       "\t& x1 & x2 & x3 & x4 & x5 & x6 & x7 & x8 & x9 & \\\\\n",
       "\t\\hline\n",
       "\t& Float64 & Float64 & Float64 & Float64 & Float64 & Float64 & Float64 & Float64 & Float64 & \\\\\n",
       "\t\\hline\n",
       "\t1 & 0.0 & 0.0 & 0.0 & 0.0 & 0.0 & 0.0 & 0.0 & 0.0 & 0.0 & $\\dots$ \\\\\n",
       "\t2 & 0.0 & 0.0 & 0.0 & 0.0 & 0.0 & 0.0 & 0.0 & 0.0 & 0.0 & $\\dots$ \\\\\n",
       "\t3 & 1.0 & 1.0 & 1.0 & 1.0 & 1.0 & 1.0 & 1.0 & 1.0 & 1.0 & $\\dots$ \\\\\n",
       "\\end{tabular}\n"
      ],
      "text/plain": [
       "3×15000 DataFrame. Omitted printing of 14993 columns\n",
       "│ Row │ x1      │ x2      │ x3      │ x4      │ x5      │ x6      │ x7      │\n",
       "│     │ \u001b[90mFloat64\u001b[39m │ \u001b[90mFloat64\u001b[39m │ \u001b[90mFloat64\u001b[39m │ \u001b[90mFloat64\u001b[39m │ \u001b[90mFloat64\u001b[39m │ \u001b[90mFloat64\u001b[39m │ \u001b[90mFloat64\u001b[39m │\n",
       "├─────┼─────────┼─────────┼─────────┼─────────┼─────────┼─────────┼─────────┤\n",
       "│ 1   │ 0.0     │ 0.0     │ 0.0     │ 0.0     │ 0.0     │ 0.0     │ 0.0     │\n",
       "│ 2   │ 0.0     │ 0.0     │ 0.0     │ 0.0     │ 0.0     │ 0.0     │ 0.0     │\n",
       "│ 3   │ 1.0     │ 1.0     │ 1.0     │ 1.0     │ 1.0     │ 1.0     │ 1.0     │"
      ]
     },
     "execution_count": 22,
     "metadata": {},
     "output_type": "execute_result"
    }
   ],
   "source": [
    "X = convert(DataFrame, X)"
   ]
  },
  {
   "cell_type": "code",
   "execution_count": 23,
   "metadata": {},
   "outputs": [
    {
     "data": {
      "text/plain": [
       "\"../data/cancer3diff15000.csv\""
      ]
     },
     "execution_count": 23,
     "metadata": {},
     "output_type": "execute_result"
    }
   ],
   "source": [
    "CSV.write(\"../data/cancer3diff15000.csv\", X)"
   ]
  },
  {
   "cell_type": "code",
   "execution_count": null,
   "metadata": {},
   "outputs": [],
   "source": []
  },
  {
   "cell_type": "code",
   "execution_count": null,
   "metadata": {},
   "outputs": [],
   "source": [
    "println(\"Computing cross validation error for each fold\")\n",
    "params = Params(1.0, max_iter=100, abs_tol=0.0, min_stepsize=.001)\n",
    "train_error, test_error, train_glrms, test_glrms = cross_validate(glrm, nfolds=4, params=params)\n",
    "df = DataFrame(train_error = train_error, test_error = test_error)"
   ]
  },
  {
   "cell_type": "code",
   "execution_count": null,
   "metadata": {},
   "outputs": [],
   "source": []
  },
  {
   "cell_type": "code",
   "execution_count": null,
   "metadata": {},
   "outputs": [],
   "source": [
    "#init kmean demo\n",
    "init_kmeanspp!(glrm)\n",
    "X,Y,ch = fit!(glrm)"
   ]
  },
  {
   "cell_type": "code",
   "execution_count": null,
   "metadata": {},
   "outputs": [],
   "source": []
  },
  {
   "cell_type": "code",
   "execution_count": null,
   "metadata": {},
   "outputs": [],
   "source": []
  },
  {
   "cell_type": "code",
   "execution_count": null,
   "metadata": {},
   "outputs": [],
   "source": []
  },
  {
   "cell_type": "raw",
   "metadata": {},
   "source": [
    "for name in names(df)\n",
    "    replace(name, Ref(\".\" => \"_\"))\n",
    "end\n",
    "\n",
    "#\n",
    "df.Length_of_Stay = replace.(df.Length_of_Stay, Ref(\"120 +\" => \"120\"))\n",
    "\n",
    "#df.Length_of_Stay = replace.(df.Length_of_Stay, Ref(\"120 +\" => \"120\"))\n",
    "#df[:Length_of_Stay] = parse.(Float64, df[:Length_of_Stay])\n",
    "\n",
    "df.Length_of_Stay = replace.(df.Length_of_Stay, Ref(\"120 +\" => \"120\"))\n",
    "df = replace.(names(df), Ref(\".\" => \"_\"))"
   ]
  },
  {
   "cell_type": "code",
   "execution_count": null,
   "metadata": {},
   "outputs": [],
   "source": []
  },
  {
   "cell_type": "code",
   "execution_count": null,
   "metadata": {},
   "outputs": [],
   "source": []
  },
  {
   "cell_type": "code",
   "execution_count": null,
   "metadata": {},
   "outputs": [],
   "source": []
  }
 ],
 "metadata": {
  "kernelspec": {
   "display_name": "Julia 1.4.2",
   "language": "julia",
   "name": "julia-1.4"
  },
  "language_info": {
   "file_extension": ".jl",
   "mimetype": "application/julia",
   "name": "julia",
   "version": "1.4.2"
  }
 },
 "nbformat": 4,
 "nbformat_minor": 2
}
