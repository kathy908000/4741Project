{
 "cells": [
  {
   "cell_type": "code",
   "execution_count": 17,
   "metadata": {},
   "outputs": [],
   "source": [
    "#import Pkg; Pkg.add(\"Pycall\")\n",
    "\n"
   ]
  },
  {
   "cell_type": "code",
   "execution_count": 28,
   "metadata": {},
   "outputs": [
    {
     "data": {
      "text/plain": [
       "Plots.PyPlotBackend()"
      ]
     },
     "execution_count": 28,
     "metadata": {},
     "output_type": "execute_result"
    }
   ],
   "source": [
    "using PyCall\n",
    "\n",
    "using LowRankModels\n",
    "using CSV\n",
    "using DataFrames\n",
    "using Pkg\n",
    "using StatsBase\n",
    "using Random, SparseArrays\n",
    "\n",
    "using Random\n",
    "using LinearAlgebra\n",
    "using DataFrames             # Data tables are called \"DataFrames\"\n",
    "using StatsPlots             # load plotting packages \n",
    "using Statistics             # basic statistical functions\n",
    "using CSV  \n",
    "using SparseArrays\n",
    "using Pkg\n",
    "using StatsBase\n",
    "pyplot()"
   ]
  },
  {
   "cell_type": "code",
   "execution_count": 29,
   "metadata": {
    "scrolled": true
   },
   "outputs": [
    {
     "data": {
      "text/html": [
       "<table class=\"data-frame\"><thead><tr><th></th><th>Column1</th><th>Total_Charges</th><th>APR_Severity_of_Illness_Code</th><th>APR_Risk_of_Mortality</th><th>Age_Ordinal</th></tr><tr><th></th><th>Int64</th><th>Float64</th><th>Int64</th><th>Int64</th><th>Int64</th></tr></thead><tbody><p>1,720 rows × 122 columns (omitted printing of 117 columns)</p><tr><th>1</th><td>0</td><td>20601.5</td><td>2</td><td>4</td><td>3</td></tr><tr><th>2</th><td>1</td><td>12020.9</td><td>1</td><td>1</td><td>5</td></tr><tr><th>3</th><td>2</td><td>40220.4</td><td>2</td><td>1</td><td>4</td></tr><tr><th>4</th><td>3</td><td>9914.54</td><td>1</td><td>1</td><td>4</td></tr><tr><th>5</th><td>4</td><td>10182.1</td><td>2</td><td>1</td><td>4</td></tr><tr><th>6</th><td>5</td><td>9090.09</td><td>2</td><td>1</td><td>4</td></tr><tr><th>7</th><td>6</td><td>28436.7</td><td>2</td><td>1</td><td>4</td></tr><tr><th>8</th><td>7</td><td>6183.3</td><td>2</td><td>1</td><td>3</td></tr><tr><th>9</th><td>8</td><td>6342.01</td><td>2</td><td>1</td><td>2</td></tr><tr><th>10</th><td>9</td><td>9988.53</td><td>3</td><td>4</td><td>3</td></tr><tr><th>11</th><td>10</td><td>9723.85</td><td>1</td><td>1</td><td>5</td></tr><tr><th>12</th><td>11</td><td>279132.0</td><td>3</td><td>2</td><td>5</td></tr><tr><th>13</th><td>12</td><td>322809.0</td><td>3</td><td>2</td><td>4</td></tr><tr><th>14</th><td>13</td><td>207153.0</td><td>4</td><td>3</td><td>4</td></tr><tr><th>15</th><td>14</td><td>42535.2</td><td>1</td><td>1</td><td>4</td></tr><tr><th>16</th><td>15</td><td>63235.4</td><td>2</td><td>1</td><td>4</td></tr><tr><th>17</th><td>16</td><td>21691.8</td><td>3</td><td>4</td><td>4</td></tr><tr><th>18</th><td>17</td><td>38518.3</td><td>2</td><td>4</td><td>4</td></tr><tr><th>19</th><td>18</td><td>45486.3</td><td>3</td><td>4</td><td>5</td></tr><tr><th>20</th><td>19</td><td>24861.6</td><td>2</td><td>1</td><td>4</td></tr><tr><th>21</th><td>20</td><td>203653.0</td><td>3</td><td>2</td><td>3</td></tr><tr><th>22</th><td>21</td><td>41232.1</td><td>3</td><td>3</td><td>5</td></tr><tr><th>23</th><td>22</td><td>93455.7</td><td>3</td><td>4</td><td>4</td></tr><tr><th>24</th><td>23</td><td>62028.4</td><td>2</td><td>1</td><td>4</td></tr><tr><th>25</th><td>24</td><td>36378.2</td><td>1</td><td>1</td><td>3</td></tr><tr><th>26</th><td>25</td><td>43662.6</td><td>2</td><td>4</td><td>4</td></tr><tr><th>27</th><td>26</td><td>38770.3</td><td>1</td><td>1</td><td>5</td></tr><tr><th>28</th><td>27</td><td>36538.7</td><td>1</td><td>1</td><td>5</td></tr><tr><th>29</th><td>28</td><td>960291.0</td><td>4</td><td>3</td><td>1</td></tr><tr><th>30</th><td>29</td><td>55324.9</td><td>1</td><td>1</td><td>3</td></tr><tr><th>&vellip;</th><td>&vellip;</td><td>&vellip;</td><td>&vellip;</td><td>&vellip;</td><td>&vellip;</td></tr></tbody></table>"
      ],
      "text/latex": [
       "\\begin{tabular}{r|cccccc}\n",
       "\t& Column1 & Total\\_Charges & APR\\_Severity\\_of\\_Illness\\_Code & APR\\_Risk\\_of\\_Mortality & Age\\_Ordinal & \\\\\n",
       "\t\\hline\n",
       "\t& Int64 & Float64 & Int64 & Int64 & Int64 & \\\\\n",
       "\t\\hline\n",
       "\t1 & 0 & 20601.5 & 2 & 4 & 3 & $\\dots$ \\\\\n",
       "\t2 & 1 & 12020.9 & 1 & 1 & 5 & $\\dots$ \\\\\n",
       "\t3 & 2 & 40220.4 & 2 & 1 & 4 & $\\dots$ \\\\\n",
       "\t4 & 3 & 9914.54 & 1 & 1 & 4 & $\\dots$ \\\\\n",
       "\t5 & 4 & 10182.1 & 2 & 1 & 4 & $\\dots$ \\\\\n",
       "\t6 & 5 & 9090.09 & 2 & 1 & 4 & $\\dots$ \\\\\n",
       "\t7 & 6 & 28436.7 & 2 & 1 & 4 & $\\dots$ \\\\\n",
       "\t8 & 7 & 6183.3 & 2 & 1 & 3 & $\\dots$ \\\\\n",
       "\t9 & 8 & 6342.01 & 2 & 1 & 2 & $\\dots$ \\\\\n",
       "\t10 & 9 & 9988.53 & 3 & 4 & 3 & $\\dots$ \\\\\n",
       "\t11 & 10 & 9723.85 & 1 & 1 & 5 & $\\dots$ \\\\\n",
       "\t12 & 11 & 279132.0 & 3 & 2 & 5 & $\\dots$ \\\\\n",
       "\t13 & 12 & 322809.0 & 3 & 2 & 4 & $\\dots$ \\\\\n",
       "\t14 & 13 & 207153.0 & 4 & 3 & 4 & $\\dots$ \\\\\n",
       "\t15 & 14 & 42535.2 & 1 & 1 & 4 & $\\dots$ \\\\\n",
       "\t16 & 15 & 63235.4 & 2 & 1 & 4 & $\\dots$ \\\\\n",
       "\t17 & 16 & 21691.8 & 3 & 4 & 4 & $\\dots$ \\\\\n",
       "\t18 & 17 & 38518.3 & 2 & 4 & 4 & $\\dots$ \\\\\n",
       "\t19 & 18 & 45486.3 & 3 & 4 & 5 & $\\dots$ \\\\\n",
       "\t20 & 19 & 24861.6 & 2 & 1 & 4 & $\\dots$ \\\\\n",
       "\t21 & 20 & 203653.0 & 3 & 2 & 3 & $\\dots$ \\\\\n",
       "\t22 & 21 & 41232.1 & 3 & 3 & 5 & $\\dots$ \\\\\n",
       "\t23 & 22 & 93455.7 & 3 & 4 & 4 & $\\dots$ \\\\\n",
       "\t24 & 23 & 62028.4 & 2 & 1 & 4 & $\\dots$ \\\\\n",
       "\t25 & 24 & 36378.2 & 1 & 1 & 3 & $\\dots$ \\\\\n",
       "\t26 & 25 & 43662.6 & 2 & 4 & 4 & $\\dots$ \\\\\n",
       "\t27 & 26 & 38770.3 & 1 & 1 & 5 & $\\dots$ \\\\\n",
       "\t28 & 27 & 36538.7 & 1 & 1 & 5 & $\\dots$ \\\\\n",
       "\t29 & 28 & 960291.0 & 4 & 3 & 1 & $\\dots$ \\\\\n",
       "\t30 & 29 & 55324.9 & 1 & 1 & 3 & $\\dots$ \\\\\n",
       "\t$\\dots$ & $\\dots$ & $\\dots$ & $\\dots$ & $\\dots$ & $\\dots$ &  \\\\\n",
       "\\end{tabular}\n"
      ],
      "text/plain": [
       "1720×122 DataFrame. Omitted printing of 119 columns\n",
       "│ Row  │ Column1 │ Total_Charges │ APR_Severity_of_Illness_Code │\n",
       "│      │ \u001b[90mInt64\u001b[39m   │ \u001b[90mFloat64\u001b[39m       │ \u001b[90mInt64\u001b[39m                        │\n",
       "├──────┼─────────┼───────────────┼──────────────────────────────┤\n",
       "│ 1    │ 0       │ 20601.5       │ 2                            │\n",
       "│ 2    │ 1       │ 12020.9       │ 1                            │\n",
       "│ 3    │ 2       │ 40220.4       │ 2                            │\n",
       "│ 4    │ 3       │ 9914.54       │ 1                            │\n",
       "│ 5    │ 4       │ 10182.1       │ 2                            │\n",
       "│ 6    │ 5       │ 9090.09       │ 2                            │\n",
       "│ 7    │ 6       │ 28436.7       │ 2                            │\n",
       "│ 8    │ 7       │ 6183.3        │ 2                            │\n",
       "│ 9    │ 8       │ 6342.01       │ 2                            │\n",
       "│ 10   │ 9       │ 9988.53       │ 3                            │\n",
       "⋮\n",
       "│ 1710 │ 1709    │ 151133.0      │ 3                            │\n",
       "│ 1711 │ 1710    │ 27434.9       │ 2                            │\n",
       "│ 1712 │ 1711    │ 33815.0       │ 3                            │\n",
       "│ 1713 │ 1712    │ 22248.0       │ 2                            │\n",
       "│ 1714 │ 1713    │ 15549.6       │ 2                            │\n",
       "│ 1715 │ 1714    │ 26799.8       │ 2                            │\n",
       "│ 1716 │ 1715    │ 32386.2       │ 2                            │\n",
       "│ 1717 │ 1716    │ 42029.2       │ 3                            │\n",
       "│ 1718 │ 1717    │ 56912.8       │ 4                            │\n",
       "│ 1719 │ 1718    │ 72115.3       │ 3                            │\n",
       "│ 1720 │ 1719    │ 83309.1       │ 3                            │"
      ]
     },
     "execution_count": 29,
     "metadata": {},
     "output_type": "execute_result"
    }
   ],
   "source": [
    "df2 = CSV.read(\"../data/NYC_SPARCS_cancer.csv\")\n",
    "df = CSV.read(\"../data/SPARCS_cancer_binary.csv\")\n",
    "dfk = CSV.read(\"../data/SPARCS_kidney_cancer_binary.csv\")\n",
    "\n"
   ]
  },
  {
   "cell_type": "code",
   "execution_count": 30,
   "metadata": {
    "scrolled": true
   },
   "outputs": [
    {
     "name": "stdout",
     "output_type": "stream",
     "text": [
      ":Column1, \n",
      ":Total_Charges, \n",
      ":APR_Severity_of_Illness_Code, \n",
      ":APR_Risk_of_Mortality, \n",
      ":Age_Ordinal, \n",
      ":Length_of_Stay, \n",
      ":Health_Service_Area_New York City, \n",
      ":Hospital_County_Bronx, \n",
      ":Hospital_County_Kings, \n",
      ":Hospital_County_Manhattan, \n",
      ":Hospital_County_Queens, \n",
      ":Hospital_County_Richmond, \n",
      ":Type_of_Admission_Elective, \n",
      ":Type_of_Admission_Emergency, \n",
      ":Type_of_Admission_Urgent, \n",
      ":Type_of_Admission_Not Available, \n",
      ":Patient_Disposition_Home or Self Care, \n",
      ":Patient_Disposition_Medicare Cert Long Term Care Hospital, \n",
      ":Patient_Disposition_Home w/ Home Health Services, \n",
      ":Patient_Disposition_Expired, \n",
      ":Patient_Disposition_Skilled Nursing Home, \n",
      ":Patient_Disposition_Short-term Hospital, \n",
      ":Patient_Disposition_Hospice - Medical Facility, \n",
      ":Patient_Disposition_Facility w/ Custodial/Supportive Care, \n",
      ":Patient_Disposition_Left Against Medical Advice, \n",
      ":Patient_Disposition_Inpatient Rehabilitation Facility, \n",
      ":Patient_Disposition_Hospice - Home, \n",
      ":Patient_Disposition_Psychiatric Hospital or Unit of Hosp, \n",
      ":Patient_Disposition_Cancer Center or Children's Hospital, \n",
      ":CCS_Diagnosis_Code_33, \n",
      ":CCS_Procedure_Code_104, \n",
      ":CCS_Procedure_Code_110, \n",
      ":CCS_Procedure_Code_83, \n",
      ":CCS_Procedure_Code_196, \n",
      ":CCS_Procedure_Code_90, \n",
      ":CCS_Procedure_Code_175, \n",
      ":CCS_Procedure_Code_67, \n",
      ":CCS_Procedure_Code_231, \n",
      ":CCS_Procedure_Code_0, \n",
      ":CCS_Procedure_Code_198, \n",
      ":CCS_Procedure_Code_213, \n",
      ":CCS_Procedure_Code_34, \n",
      ":CCS_Procedure_Code_169, \n",
      ":CCS_Procedure_Code_99, \n",
      ":CCS_Procedure_Code_217, \n",
      ":CCS_Procedure_Code_88, \n",
      ":CCS_Procedure_Code_54, \n",
      ":CCS_Procedure_Code_222, \n",
      ":CCS_Procedure_Code_193, \n",
      ":CCS_Procedure_Code_179, \n",
      ":CCS_Procedure_Code_97, \n",
      ":CCS_Procedure_Code_73, \n",
      ":CCS_Procedure_Code_202, \n",
      ":CCS_Procedure_Code_211, \n",
      ":CCS_Procedure_Code_112, \n",
      ":CCS_Procedure_Code_40, \n",
      ":CCS_Procedure_Code_61, \n",
      ":CCS_Procedure_Code_118, \n",
      ":CCS_Procedure_Code_173, \n",
      ":CCS_Procedure_Code_227, \n",
      ":CCS_Procedure_Code_102, \n",
      ":CCS_Procedure_Code_205, \n",
      ":CCS_Procedure_Code_201, \n",
      ":CCS_Procedure_Code_58, \n",
      ":CCS_Procedure_Code_226, \n",
      ":CCS_Procedure_Code_101, \n",
      ":CCS_Procedure_Code_95, \n",
      ":CCS_Procedure_Code_100, \n",
      ":CCS_Procedure_Code_9, \n",
      ":CCS_Procedure_Code_87, \n",
      ":CCS_Procedure_Code_224, \n",
      ":CCS_Procedure_Code_78, \n",
      ":CCS_Procedure_Code_37, \n",
      ":CCS_Procedure_Code_191, \n",
      ":CCS_Procedure_Code_103, \n",
      ":CCS_Procedure_Code_57, \n",
      ":CCS_Procedure_Code_64, \n",
      ":CCS_Procedure_Code_39, \n",
      ":CCS_Procedure_Code_197, \n",
      ":CCS_Procedure_Code_209, \n",
      ":CCS_Procedure_Code_113, \n",
      ":CCS_Procedure_Code_70, \n",
      ":CCS_Procedure_Code_158, \n",
      ":CCS_Procedure_Code_216, \n",
      ":CCS_Procedure_Code_187, \n",
      ":APR_DRG_Code_442, \n",
      ":APR_DRG_Code_461, \n",
      ":APR_DRG_Code_447, \n",
      ":APR_DRG_Code_441, \n",
      ":APR_DRG_Code_4, \n",
      ":APR_DRG_Code_951, \n",
      ":APR_DRG_Code_952, \n",
      ":APR_DRG_Code_446, \n",
      ":APR_DRG_Code_950, \n",
      ":APR_DRG_Code_3, \n",
      ":APR_MDC_Code_11, \n",
      ":APR_Medical_Surgical_Description_Surgical, \n",
      ":APR_Medical_Surgical_Description_Medical, \n",
      ":Payment_Typology_1_Medicaid, \n",
      ":Payment_Typology_1_Medicare, \n",
      ":Payment_Typology_1_Private Health Insurance, \n",
      ":Payment_Typology_1_Blue Cross/Blue Shield, \n",
      ":Payment_Typology_1_Self-Pay, \n",
      ":Payment_Typology_1_Managed Care, Unspecified, \n",
      ":Payment_Typology_1_Federal/State/Local/VA, \n",
      ":Payment_Typology_1_Miscellaneous/Other, \n",
      ":Payment_Typology_1_Unknown, \n",
      ":Payment_Typology_2_Medicare, \n",
      ":Payment_Typology_2_Medicaid, \n",
      ":Payment_Typology_2_Self-Pay, \n",
      ":Payment_Typology_2_Private Health Insurance, \n",
      ":Payment_Typology_2_Blue Cross/Blue Shield, \n",
      ":Payment_Typology_2_Miscellaneous/Other, \n",
      ":Payment_Typology_2_Managed Care, Unspecified, \n",
      ":Payment_Typology_2_Federal/State/Local/VA, \n",
      ":Payment_Typology_3_Medicaid, \n",
      ":Payment_Typology_3_Self-Pay, \n",
      ":Payment_Typology_3_Blue Cross/Blue Shield, \n",
      ":Payment_Typology_3_Private Health Insurance, \n",
      ":Payment_Typology_3_Medicare, \n",
      ":Emergency_Department_Indicator_N, \n",
      ":Emergency_Department_Indicator_Y, \n"
     ]
    }
   ],
   "source": [
    "for name in names(dfk)\n",
    "    println(\":\", name, \", \")\n",
    "end"
   ]
  },
  {
   "cell_type": "code",
   "execution_count": 31,
   "metadata": {},
   "outputs": [
    {
     "data": {
      "text/plain": [
       "5-element Array{Symbol,1}:\n",
       " :Total_Charges\n",
       " :APR_Severity_of_Illness_Code\n",
       " :APR_Risk_of_Mortality\n",
       " :Age_Ordinal\n",
       " :Length_of_Stay"
      ]
     },
     "execution_count": 31,
     "metadata": {},
     "output_type": "execute_result"
    }
   ],
   "source": [
    "features = [\n",
    "    :Total_Charges,\n",
    "    :APR_Severity_of_Illness_Code,\n",
    "    :APR_Risk_of_Mortality,\n",
    "    :Age_Ordinal,\n",
    "    :Length_of_Stay, \n",
    "    #:Gender_F\n",
    "]\n",
    "\n",
    "#df = df[:,[1 2]]\n",
    "#df = select!(df, Not(:B))"
   ]
  },
  {
   "cell_type": "code",
   "execution_count": 32,
   "metadata": {},
   "outputs": [
    {
     "name": "stderr",
     "output_type": "stream",
     "text": [
      "┌ Warning: `getindex(df::DataFrame, col_inds::Union{AbstractVector, Regex, Not})` is deprecated, use `df[:, col_inds]` instead.\n",
      "│   caller = top-level scope at In[32]:1\n",
      "└ @ Core In[32]:1\n"
     ]
    },
    {
     "data": {
      "text/html": [
       "<table class=\"data-frame\"><thead><tr><th></th><th>Total_Charges</th><th>APR_Severity_of_Illness_Code</th><th>APR_Risk_of_Mortality</th><th>Age_Ordinal</th></tr><tr><th></th><th>Float64</th><th>Int64</th><th>Int64</th><th>Int64</th></tr></thead><tbody><p>35,804 rows × 5 columns (omitted printing of 1 columns)</p><tr><th>1</th><td>216494.0</td><td>3</td><td>4</td><td>3</td></tr><tr><th>2</th><td>194331.0</td><td>4</td><td>3</td><td>5</td></tr><tr><th>3</th><td>79396.5</td><td>3</td><td>2</td><td>4</td></tr><tr><th>4</th><td>86736.8</td><td>3</td><td>4</td><td>4</td></tr><tr><th>5</th><td>178593.0</td><td>3</td><td>1</td><td>1</td></tr><tr><th>6</th><td>57239.2</td><td>2</td><td>4</td><td>4</td></tr><tr><th>7</th><td>111640.0</td><td>4</td><td>2</td><td>4</td></tr><tr><th>8</th><td>31801.9</td><td>2</td><td>4</td><td>4</td></tr><tr><th>9</th><td>38714.5</td><td>3</td><td>2</td><td>5</td></tr><tr><th>10</th><td>33681.8</td><td>3</td><td>4</td><td>4</td></tr><tr><th>11</th><td>20601.5</td><td>2</td><td>4</td><td>3</td></tr><tr><th>12</th><td>45185.0</td><td>2</td><td>1</td><td>4</td></tr><tr><th>13</th><td>37010.3</td><td>2</td><td>4</td><td>4</td></tr><tr><th>14</th><td>11905.8</td><td>1</td><td>1</td><td>3</td></tr><tr><th>15</th><td>37150.7</td><td>4</td><td>3</td><td>4</td></tr><tr><th>16</th><td>21769.0</td><td>1</td><td>1</td><td>3</td></tr><tr><th>17</th><td>4531.2</td><td>2</td><td>1</td><td>3</td></tr><tr><th>18</th><td>18945.8</td><td>3</td><td>4</td><td>3</td></tr><tr><th>19</th><td>18892.5</td><td>1</td><td>4</td><td>5</td></tr><tr><th>20</th><td>26588.7</td><td>1</td><td>1</td><td>4</td></tr><tr><th>21</th><td>22676.3</td><td>3</td><td>4</td><td>5</td></tr><tr><th>22</th><td>67895.6</td><td>3</td><td>4</td><td>4</td></tr><tr><th>23</th><td>22945.3</td><td>4</td><td>4</td><td>4</td></tr><tr><th>24</th><td>90060.1</td><td>4</td><td>3</td><td>5</td></tr><tr><th>25</th><td>81742.5</td><td>3</td><td>2</td><td>4</td></tr><tr><th>26</th><td>6911.59</td><td>2</td><td>4</td><td>4</td></tr><tr><th>27</th><td>13773.6</td><td>3</td><td>2</td><td>4</td></tr><tr><th>28</th><td>21995.4</td><td>2</td><td>2</td><td>5</td></tr><tr><th>29</th><td>20620.0</td><td>2</td><td>4</td><td>4</td></tr><tr><th>30</th><td>36878.1</td><td>4</td><td>2</td><td>3</td></tr><tr><th>&vellip;</th><td>&vellip;</td><td>&vellip;</td><td>&vellip;</td><td>&vellip;</td></tr></tbody></table>"
      ],
      "text/latex": [
       "\\begin{tabular}{r|ccccc}\n",
       "\t& Total\\_Charges & APR\\_Severity\\_of\\_Illness\\_Code & APR\\_Risk\\_of\\_Mortality & Age\\_Ordinal & \\\\\n",
       "\t\\hline\n",
       "\t& Float64 & Int64 & Int64 & Int64 & \\\\\n",
       "\t\\hline\n",
       "\t1 & 216494.0 & 3 & 4 & 3 & $\\dots$ \\\\\n",
       "\t2 & 194331.0 & 4 & 3 & 5 & $\\dots$ \\\\\n",
       "\t3 & 79396.5 & 3 & 2 & 4 & $\\dots$ \\\\\n",
       "\t4 & 86736.8 & 3 & 4 & 4 & $\\dots$ \\\\\n",
       "\t5 & 178593.0 & 3 & 1 & 1 & $\\dots$ \\\\\n",
       "\t6 & 57239.2 & 2 & 4 & 4 & $\\dots$ \\\\\n",
       "\t7 & 111640.0 & 4 & 2 & 4 & $\\dots$ \\\\\n",
       "\t8 & 31801.9 & 2 & 4 & 4 & $\\dots$ \\\\\n",
       "\t9 & 38714.5 & 3 & 2 & 5 & $\\dots$ \\\\\n",
       "\t10 & 33681.8 & 3 & 4 & 4 & $\\dots$ \\\\\n",
       "\t11 & 20601.5 & 2 & 4 & 3 & $\\dots$ \\\\\n",
       "\t12 & 45185.0 & 2 & 1 & 4 & $\\dots$ \\\\\n",
       "\t13 & 37010.3 & 2 & 4 & 4 & $\\dots$ \\\\\n",
       "\t14 & 11905.8 & 1 & 1 & 3 & $\\dots$ \\\\\n",
       "\t15 & 37150.7 & 4 & 3 & 4 & $\\dots$ \\\\\n",
       "\t16 & 21769.0 & 1 & 1 & 3 & $\\dots$ \\\\\n",
       "\t17 & 4531.2 & 2 & 1 & 3 & $\\dots$ \\\\\n",
       "\t18 & 18945.8 & 3 & 4 & 3 & $\\dots$ \\\\\n",
       "\t19 & 18892.5 & 1 & 4 & 5 & $\\dots$ \\\\\n",
       "\t20 & 26588.7 & 1 & 1 & 4 & $\\dots$ \\\\\n",
       "\t21 & 22676.3 & 3 & 4 & 5 & $\\dots$ \\\\\n",
       "\t22 & 67895.6 & 3 & 4 & 4 & $\\dots$ \\\\\n",
       "\t23 & 22945.3 & 4 & 4 & 4 & $\\dots$ \\\\\n",
       "\t24 & 90060.1 & 4 & 3 & 5 & $\\dots$ \\\\\n",
       "\t25 & 81742.5 & 3 & 2 & 4 & $\\dots$ \\\\\n",
       "\t26 & 6911.59 & 2 & 4 & 4 & $\\dots$ \\\\\n",
       "\t27 & 13773.6 & 3 & 2 & 4 & $\\dots$ \\\\\n",
       "\t28 & 21995.4 & 2 & 2 & 5 & $\\dots$ \\\\\n",
       "\t29 & 20620.0 & 2 & 4 & 4 & $\\dots$ \\\\\n",
       "\t30 & 36878.1 & 4 & 2 & 3 & $\\dots$ \\\\\n",
       "\t$\\dots$ & $\\dots$ & $\\dots$ & $\\dots$ & $\\dots$ &  \\\\\n",
       "\\end{tabular}\n"
      ],
      "text/plain": [
       "35804×5 DataFrame. Omitted printing of 2 columns\n",
       "│ Row   │ Total_Charges │ APR_Severity_of_Illness_Code │ APR_Risk_of_Mortality │\n",
       "│       │ \u001b[90mFloat64\u001b[39m       │ \u001b[90mInt64\u001b[39m                        │ \u001b[90mInt64\u001b[39m                 │\n",
       "├───────┼───────────────┼──────────────────────────────┼───────────────────────┤\n",
       "│ 1     │ 216494.0      │ 3                            │ 4                     │\n",
       "│ 2     │ 194331.0      │ 4                            │ 3                     │\n",
       "│ 3     │ 79396.5       │ 3                            │ 2                     │\n",
       "│ 4     │ 86736.8       │ 3                            │ 4                     │\n",
       "│ 5     │ 178593.0      │ 3                            │ 1                     │\n",
       "│ 6     │ 57239.2       │ 2                            │ 4                     │\n",
       "│ 7     │ 111640.0      │ 4                            │ 2                     │\n",
       "│ 8     │ 31801.9       │ 2                            │ 4                     │\n",
       "│ 9     │ 38714.5       │ 3                            │ 2                     │\n",
       "│ 10    │ 33681.8       │ 3                            │ 4                     │\n",
       "⋮\n",
       "│ 35794 │ 30328.2       │ 2                            │ 1                     │\n",
       "│ 35795 │ 23124.3       │ 2                            │ 1                     │\n",
       "│ 35796 │ 83585.8       │ 1                            │ 1                     │\n",
       "│ 35797 │ 83309.1       │ 3                            │ 1                     │\n",
       "│ 35798 │ 315888.0      │ 2                            │ 1                     │\n",
       "│ 35799 │ 119039.0      │ 2                            │ 1                     │\n",
       "│ 35800 │ 84369.3       │ 2                            │ 4                     │\n",
       "│ 35801 │ 99857.0       │ 3                            │ 4                     │\n",
       "│ 35802 │ 60672.8       │ 1                            │ 1                     │\n",
       "│ 35803 │ 35890.2       │ 1                            │ 1                     │\n",
       "│ 35804 │ 110566.0      │ 2                            │ 1                     │"
      ]
     },
     "execution_count": 32,
     "metadata": {},
     "output_type": "execute_result"
    }
   ],
   "source": [
    "dfsmall1 = df[features]\n",
    "\n",
    "#dfsmall1 = dfk[features]"
   ]
  },
  {
   "cell_type": "markdown",
   "metadata": {},
   "source": [
    "# kmeans k=4 quadloss"
   ]
  },
  {
   "cell_type": "code",
   "execution_count": 33,
   "metadata": {},
   "outputs": [
    {
     "data": {
      "text/plain": [
       "GLRM(35804×5 DataFrame. Omitted printing of 2 columns\n",
       "│ Row   │ Total_Charges │ APR_Severity_of_Illness_Code │ APR_Risk_of_Mortality │\n",
       "│       │ \u001b[90mFloat64\u001b[39m       │ \u001b[90mInt64\u001b[39m                        │ \u001b[90mInt64\u001b[39m                 │\n",
       "├───────┼───────────────┼──────────────────────────────┼───────────────────────┤\n",
       "│ 1     │ 216494.0      │ 3                            │ 4                     │\n",
       "│ 2     │ 194331.0      │ 4                            │ 3                     │\n",
       "│ 3     │ 79396.5       │ 3                            │ 2                     │\n",
       "│ 4     │ 86736.8       │ 3                            │ 4                     │\n",
       "│ 5     │ 178593.0      │ 3                            │ 1                     │\n",
       "│ 6     │ 57239.2       │ 2                            │ 4                     │\n",
       "│ 7     │ 111640.0      │ 4                            │ 2                     │\n",
       "│ 8     │ 31801.9       │ 2                            │ 4                     │\n",
       "│ 9     │ 38714.5       │ 3                            │ 2                     │\n",
       "│ 10    │ 33681.8       │ 3                            │ 4                     │\n",
       "⋮\n",
       "│ 35794 │ 30328.2       │ 2                            │ 1                     │\n",
       "│ 35795 │ 23124.3       │ 2                            │ 1                     │\n",
       "│ 35796 │ 83585.8       │ 1                            │ 1                     │\n",
       "│ 35797 │ 83309.1       │ 3                            │ 1                     │\n",
       "│ 35798 │ 315888.0      │ 2                            │ 1                     │\n",
       "│ 35799 │ 119039.0      │ 2                            │ 1                     │\n",
       "│ 35800 │ 84369.3       │ 2                            │ 4                     │\n",
       "│ 35801 │ 99857.0       │ 3                            │ 4                     │\n",
       "│ 35802 │ 60672.8       │ 1                            │ 1                     │\n",
       "│ 35803 │ 35890.2       │ 1                            │ 1                     │\n",
       "│ 35804 │ 110566.0      │ 2                            │ 1                     │, Loss[QuadLoss(1.0, RealDomain()), QuadLoss(1.0, RealDomain()), QuadLoss(1.0, RealDomain()), QuadLoss(1.0, RealDomain()), QuadLoss(1.0, RealDomain())], Regularizer[UnitOneSparseConstraint(), UnitOneSparseConstraint(), UnitOneSparseConstraint(), UnitOneSparseConstraint(), UnitOneSparseConstraint(), UnitOneSparseConstraint(), UnitOneSparseConstraint(), UnitOneSparseConstraint(), UnitOneSparseConstraint(), UnitOneSparseConstraint()  …  UnitOneSparseConstraint(), UnitOneSparseConstraint(), UnitOneSparseConstraint(), UnitOneSparseConstraint(), UnitOneSparseConstraint(), UnitOneSparseConstraint(), UnitOneSparseConstraint(), UnitOneSparseConstraint(), UnitOneSparseConstraint(), UnitOneSparseConstraint()], Regularizer[ZeroReg(), ZeroReg(), ZeroReg(), ZeroReg(), ZeroReg()], 4, UnitRange{Int64}[1:5, 1:5, 1:5, 1:5, 1:5, 1:5, 1:5, 1:5, 1:5, 1:5  …  1:5, 1:5, 1:5, 1:5, 1:5, 1:5, 1:5, 1:5, 1:5, 1:5], UnitRange{Int64}[1:35804, 1:35804, 1:35804, 1:35804, 1:35804], [-1.13493060200128 -1.6223260912275121 … 0.14615454599091698 -0.25505555076589653; 1.0944547412920975 -0.09830397480047073 … 0.3687802540623679 -2.69258900331125; 0.8722544534730012 0.3862729261664178 … -0.21849902018523853 -0.32089581313980586; 1.81037402736017 1.8579406084373744 … -0.47283725876591753 -0.3823517252300306], [0.42209509680265356 0.49436339750961966 … 0.2171203394358939 0.5798133010854097; -0.30246938901791687 -1.6355621320210112 … 0.9650712955469668 -1.3932615697954356; -0.4652860514294856 0.7669130047400408 … 1.7919048955095513 -0.6647137179793154; -0.26838667600838007 -0.6264289730582605 … -0.9596588112856443 0.6022340932123327])"
      ]
     },
     "execution_count": 33,
     "metadata": {},
     "output_type": "execute_result"
    }
   ],
   "source": [
    "k = 4\n",
    "A= dfsmall1\n",
    "losses = QuadLoss() # minimize squared distance to cluster centroids\n",
    "rx = UnitOneSparseConstraint() # each row is assigned to exactly one cluster\n",
    "ry = ZeroReg() # no regularization on the cluster centroids\n",
    "glrm = GLRM(A,losses,rx,ry,k)"
   ]
  },
  {
   "cell_type": "raw",
   "metadata": {},
   "source": [
    "function init_kmeanspp!(glrm::GLRM)\n",
    "    m,n = size(glrm.A)\n",
    "    k = glrm.k\n",
    "    possible_centers = Set(1:m)\n",
    "    glrm.Y = randn(k,n)\n",
    "    # assign first center randomly\n",
    "    i = sample(1:m)\n",
    "    setdiff!(possible_centers, i)\n",
    "    glrm.Y[1,glrm.observed_features[i]] = Array(glrm.A[i,glrm.observed_features[i]])\n",
    "    # assign next centers one by one\n",
    "    for l=1:k-1\n",
    "    min_dists_per_obs = zeros(m)\n",
    "    for i in possible_centers\n",
    "        d = zeros(l)\n",
    "        for j in glrm.observed_features[i]\n",
    "            for ll=1:l\n",
    "                d[ll] += evaluate(glrm.losses[j], glrm.Y[ll,j], glrm.A[i,j])\n",
    "            end\n",
    "        end\n",
    "        min_dists_per_obs[i] = minimum(d)/length(glrm.observed_features[i])\n",
    "    end\n",
    "    furthest_index = wsample(1:m,min_dists_per_obs)\n",
    "    glrm.Y[l+1,glrm.observed_features[furthest_index]] = glrm.A[furthest_index,glrm.observed_features[furthest_index]]\n",
    "    end\n",
    "    return glrm\n",
    "end"
   ]
  },
  {
   "cell_type": "markdown",
   "metadata": {},
   "source": [
    "# init_kmeans debugged"
   ]
  },
  {
   "cell_type": "code",
   "execution_count": 34,
   "metadata": {},
   "outputs": [
    {
     "name": "stderr",
     "output_type": "stream",
     "text": [
      "┌ Warning: `convert(::Type{Array}, dfr::DataFrameRow)` is deprecated, use `permutedims(Vector(dfr))` instead.\n",
      "│   caller = top-level scope at In[34]:8\n",
      "└ @ Core In[34]:8\n",
      "┌ Warning: `convert(::Type{Array}, dfr::DataFrameRow)` is deprecated, use `permutedims(Vector(dfr))` instead.\n",
      "│   caller = top-level scope at In[34]:25\n",
      "└ @ Core ./In[34]:25\n"
     ]
    },
    {
     "data": {
      "text/plain": [
       "GLRM(35804×5 DataFrame. Omitted printing of 2 columns\n",
       "│ Row   │ Total_Charges │ APR_Severity_of_Illness_Code │ APR_Risk_of_Mortality │\n",
       "│       │ \u001b[90mFloat64\u001b[39m       │ \u001b[90mInt64\u001b[39m                        │ \u001b[90mInt64\u001b[39m                 │\n",
       "├───────┼───────────────┼──────────────────────────────┼───────────────────────┤\n",
       "│ 1     │ 216494.0      │ 3                            │ 4                     │\n",
       "│ 2     │ 194331.0      │ 4                            │ 3                     │\n",
       "│ 3     │ 79396.5       │ 3                            │ 2                     │\n",
       "│ 4     │ 86736.8       │ 3                            │ 4                     │\n",
       "│ 5     │ 178593.0      │ 3                            │ 1                     │\n",
       "│ 6     │ 57239.2       │ 2                            │ 4                     │\n",
       "│ 7     │ 111640.0      │ 4                            │ 2                     │\n",
       "│ 8     │ 31801.9       │ 2                            │ 4                     │\n",
       "│ 9     │ 38714.5       │ 3                            │ 2                     │\n",
       "│ 10    │ 33681.8       │ 3                            │ 4                     │\n",
       "⋮\n",
       "│ 35794 │ 30328.2       │ 2                            │ 1                     │\n",
       "│ 35795 │ 23124.3       │ 2                            │ 1                     │\n",
       "│ 35796 │ 83585.8       │ 1                            │ 1                     │\n",
       "│ 35797 │ 83309.1       │ 3                            │ 1                     │\n",
       "│ 35798 │ 315888.0      │ 2                            │ 1                     │\n",
       "│ 35799 │ 119039.0      │ 2                            │ 1                     │\n",
       "│ 35800 │ 84369.3       │ 2                            │ 4                     │\n",
       "│ 35801 │ 99857.0       │ 3                            │ 4                     │\n",
       "│ 35802 │ 60672.8       │ 1                            │ 1                     │\n",
       "│ 35803 │ 35890.2       │ 1                            │ 1                     │\n",
       "│ 35804 │ 110566.0      │ 2                            │ 1                     │, Loss[QuadLoss(1.0, RealDomain()), QuadLoss(1.0, RealDomain()), QuadLoss(1.0, RealDomain()), QuadLoss(1.0, RealDomain()), QuadLoss(1.0, RealDomain())], Regularizer[UnitOneSparseConstraint(), UnitOneSparseConstraint(), UnitOneSparseConstraint(), UnitOneSparseConstraint(), UnitOneSparseConstraint(), UnitOneSparseConstraint(), UnitOneSparseConstraint(), UnitOneSparseConstraint(), UnitOneSparseConstraint(), UnitOneSparseConstraint()  …  UnitOneSparseConstraint(), UnitOneSparseConstraint(), UnitOneSparseConstraint(), UnitOneSparseConstraint(), UnitOneSparseConstraint(), UnitOneSparseConstraint(), UnitOneSparseConstraint(), UnitOneSparseConstraint(), UnitOneSparseConstraint(), UnitOneSparseConstraint()], Regularizer[ZeroReg(), ZeroReg(), ZeroReg(), ZeroReg(), ZeroReg()], 4, UnitRange{Int64}[1:5, 1:5, 1:5, 1:5, 1:5, 1:5, 1:5, 1:5, 1:5, 1:5  …  1:5, 1:5, 1:5, 1:5, 1:5, 1:5, 1:5, 1:5, 1:5, 1:5], UnitRange{Int64}[1:35804, 1:35804, 1:35804, 1:35804, 1:35804], [-1.13493060200128 -1.6223260912275121 … 0.14615454599091698 -0.25505555076589653; 1.0944547412920975 -0.09830397480047073 … 0.3687802540623679 -2.69258900331125; 0.8722544534730012 0.3862729261664178 … -0.21849902018523853 -0.32089581313980586; 1.81037402736017 1.8579406084373744 … -0.47283725876591753 -0.3823517252300306], [30268.0 3.0 … 4.0 5.0; 80593.35 1.0 … 4.0 3.0; 306921.48 4.0 … 4.0 26.0; 1.74042236e6 4.0 … 4.0 120.0])"
      ]
     },
     "execution_count": 34,
     "metadata": {},
     "output_type": "execute_result"
    }
   ],
   "source": [
    "m,n = size(glrm.A)\n",
    "k = glrm.k\n",
    "possible_centers = Set(1:m)\n",
    "glrm.Y = randn(k,n)\n",
    "# assign first center randomly\n",
    "i = sample(1:m)\n",
    "setdiff!(possible_centers, i)\n",
    "\n",
    "glrm.Y[1,glrm.observed_features[i]] =  vec(convert(Array, glrm.A[i,glrm.observed_features[i]]))\n",
    "#glrm.Y[1,glrm.observed_features[i]] = convert(Matrix, glrm.A[i,glrm.observed_features[i]])\n",
    "# assign next centers one by one\n",
    "for l=1:k-1\n",
    "min_dists_per_obs = zeros(m)\n",
    "for i in possible_centers\n",
    "    d = zeros(l)\n",
    "    for j in glrm.observed_features[i]\n",
    "        for ll=1:l\n",
    "            d[ll] += evaluate(glrm.losses[j], glrm.Y[ll,j], glrm.A[i,j])\n",
    "        end\n",
    "    end\n",
    "    min_dists_per_obs[i] = minimum(d)/length(glrm.observed_features[i])\n",
    "end\n",
    "furthest_index = wsample(1:m,min_dists_per_obs)\n",
    "\n",
    "glrm.Y[l+1,glrm.observed_features[furthest_index]] = vec(convert(Array, glrm.A[furthest_index,glrm.observed_features[furthest_index]]))\n",
    "end\n",
    "return glrm    \n"
   ]
  },
  {
   "cell_type": "code",
   "execution_count": 35,
   "metadata": {},
   "outputs": [],
   "source": [
    "#init_kmeanspp!(glrm)"
   ]
  },
  {
   "cell_type": "code",
   "execution_count": 36,
   "metadata": {
    "scrolled": false
   },
   "outputs": [
    {
     "name": "stdout",
     "output_type": "stream",
     "text": [
      "Fitting GLRM\n",
      "Iteration 10: objective value = 9.04964065895266e13\n"
     ]
    },
    {
     "data": {
      "text/plain": [
       "([0.0 0.0 … 0.0 0.0; 0.0 0.0 … 0.0 0.0; 1.0 1.0 … 0.0 0.0; 0.0 0.0 … 1.0 1.0], [103598.9592259127 2.6509912760219816 … 4.152052936007884 12.932370978171347; 80593.35 1.0 … 4.0 3.0; 308466.7458884541 3.559442903805858 … 4.084869317717121 33.11111086141694; 42062.26233024023 2.027187404955646 … 4.072225779248718 5.39066559487364], ConvergenceHistory(\"ProxGradGLRM\", [Inf, 2.7418859153369528e14, 1.0421020974863781e14, 9.665882706972905e13, 9.457862082986962e13, 9.34858507238223e13, 9.16706005761707e13, 9.10457267248301e13, 9.078635838418202e13, 9.060266154724081e13, 9.04964065895266e13, 9.038951258974878e13, 9.032721554154312e13, 9.02663074716619e13, 9.023383540769802e13, 9.019872046047827e13, 9.019715729195572e13], Float64[], [0.0, 0.0, 0.0, 0.0, 0.0, 0.0, 0.0, 0.0, 0.0, 0.0, 0.0, 0.0, 0.0, 0.0, 0.0, 0.0, 0.0], [0.0, 0.0, 0.0, 0.0, 0.0, 0.0, 0.0, 0.0, 0.0, 0.0, 0.0, 0.0, 0.0, 0.0, 0.0, 0.0, 0.0], [0.0, 0.34141111373901367, 1.661210060119629, 2.2585432529449463, 2.610260248184204, 2.956754207611084, 3.2871901988983154, 3.653452157974243, 3.9906623363494873, 4.348585367202759, 4.670931339263916, 5.004272222518921, 5.364859104156494, 5.692870140075684, 6.0400612354278564, 6.3734893798828125, 6.6925482749938965], [0.0, 0.0, 0.0, 0.0, 0.0, 0.0, 0.0, 0.0, 0.0, 0.0, 0.0, 0.0, 0.0, 0.0, 0.0, 0.0, 0.0], 0))"
      ]
     },
     "execution_count": 36,
     "metadata": {},
     "output_type": "execute_result"
    }
   ],
   "source": [
    "X,Y,ch = fit!(glrm)"
   ]
  },
  {
   "cell_type": "code",
   "execution_count": 38,
   "metadata": {},
   "outputs": [
    {
     "data": {
      "text/plain": [
       "PyObject array([[0., 0., 1., 0.],\n",
       "       [0., 0., 1., 0.],\n",
       "       [0., 0., 0., 1.],\n",
       "       ...,\n",
       "       [0., 0., 0., 1.],\n",
       "       [0., 0., 0., 1.],\n",
       "       [0., 0., 0., 1.]])"
      ]
     },
     "execution_count": 38,
     "metadata": {},
     "output_type": "execute_result"
    }
   ],
   "source": [
    "X4= PyReverseDims(X)"
   ]
  },
  {
   "cell_type": "code",
   "execution_count": null,
   "metadata": {},
   "outputs": [],
   "source": []
  },
  {
   "cell_type": "code",
   "execution_count": null,
   "metadata": {},
   "outputs": [],
   "source": []
  },
  {
   "cell_type": "code",
   "execution_count": null,
   "metadata": {},
   "outputs": [],
   "source": []
  },
  {
   "cell_type": "code",
   "execution_count": 27,
   "metadata": {},
   "outputs": [
    {
     "data": {
      "text/html": [
       "<table class=\"data-frame\"><thead><tr><th></th><th>x1</th><th>x2</th><th>x3</th><th>x4</th><th>x5</th><th>x6</th><th>x7</th><th>x8</th><th>x9</th></tr><tr><th></th><th>Float64</th><th>Float64</th><th>Float64</th><th>Float64</th><th>Float64</th><th>Float64</th><th>Float64</th><th>Float64</th><th>Float64</th></tr></thead><tbody><p>4 rows × 35,804 columns (omitted printing of 35795 columns)</p><tr><th>1</th><td>0.0</td><td>0.0</td><td>0.0</td><td>0.0</td><td>0.0</td><td>0.0</td><td>1.0</td><td>0.0</td><td>0.0</td></tr><tr><th>2</th><td>0.0</td><td>0.0</td><td>1.0</td><td>1.0</td><td>0.0</td><td>1.0</td><td>0.0</td><td>1.0</td><td>1.0</td></tr><tr><th>3</th><td>0.0</td><td>0.0</td><td>0.0</td><td>0.0</td><td>0.0</td><td>0.0</td><td>0.0</td><td>0.0</td><td>0.0</td></tr><tr><th>4</th><td>1.0</td><td>1.0</td><td>0.0</td><td>0.0</td><td>1.0</td><td>0.0</td><td>0.0</td><td>0.0</td><td>0.0</td></tr></tbody></table>"
      ],
      "text/latex": [
       "\\begin{tabular}{r|cccccccccc}\n",
       "\t& x1 & x2 & x3 & x4 & x5 & x6 & x7 & x8 & x9 & \\\\\n",
       "\t\\hline\n",
       "\t& Float64 & Float64 & Float64 & Float64 & Float64 & Float64 & Float64 & Float64 & Float64 & \\\\\n",
       "\t\\hline\n",
       "\t1 & 0.0 & 0.0 & 0.0 & 0.0 & 0.0 & 0.0 & 1.0 & 0.0 & 0.0 & $\\dots$ \\\\\n",
       "\t2 & 0.0 & 0.0 & 1.0 & 1.0 & 0.0 & 1.0 & 0.0 & 1.0 & 1.0 & $\\dots$ \\\\\n",
       "\t3 & 0.0 & 0.0 & 0.0 & 0.0 & 0.0 & 0.0 & 0.0 & 0.0 & 0.0 & $\\dots$ \\\\\n",
       "\t4 & 1.0 & 1.0 & 0.0 & 0.0 & 1.0 & 0.0 & 0.0 & 0.0 & 0.0 & $\\dots$ \\\\\n",
       "\\end{tabular}\n"
      ],
      "text/plain": [
       "4×35804 DataFrame. Omitted printing of 35797 columns\n",
       "│ Row │ x1      │ x2      │ x3      │ x4      │ x5      │ x6      │ x7      │\n",
       "│     │ \u001b[90mFloat64\u001b[39m │ \u001b[90mFloat64\u001b[39m │ \u001b[90mFloat64\u001b[39m │ \u001b[90mFloat64\u001b[39m │ \u001b[90mFloat64\u001b[39m │ \u001b[90mFloat64\u001b[39m │ \u001b[90mFloat64\u001b[39m │\n",
       "├─────┼─────────┼─────────┼─────────┼─────────┼─────────┼─────────┼─────────┤\n",
       "│ 1   │ 0.0     │ 0.0     │ 0.0     │ 0.0     │ 0.0     │ 0.0     │ 1.0     │\n",
       "│ 2   │ 0.0     │ 0.0     │ 1.0     │ 1.0     │ 0.0     │ 1.0     │ 0.0     │\n",
       "│ 3   │ 0.0     │ 0.0     │ 0.0     │ 0.0     │ 0.0     │ 0.0     │ 0.0     │\n",
       "│ 4   │ 1.0     │ 1.0     │ 0.0     │ 0.0     │ 1.0     │ 0.0     │ 0.0     │"
      ]
     },
     "execution_count": 27,
     "metadata": {},
     "output_type": "execute_result"
    }
   ],
   "source": [
    "X = convert(DataFrame, X)\n"
   ]
  },
  {
   "cell_type": "code",
   "execution_count": null,
   "metadata": {},
   "outputs": [],
   "source": [
    "CSV.write(\"../data/cancer4quad.csv\", X)"
   ]
  },
  {
   "cell_type": "code",
   "execution_count": 16,
   "metadata": {},
   "outputs": [
    {
     "ename": "MethodError",
     "evalue": "MethodError: no method matching PyReverseDims(::DataFrame)\nClosest candidates are:\n  PyReverseDims(!Matched::Union{DenseArray{T,N}, Base.ReinterpretArray{T,N,S,A} where S where A<:Union{SubArray{T,N,A,I,true} where I<:Union{Tuple{Vararg{Real,N} where N}, Tuple{AbstractUnitRange,Vararg{Any,N} where N}} where A<:DenseArray where N where T, DenseArray}, Base.ReshapedArray{T,N,A,MI} where MI<:Tuple{Vararg{Base.MultiplicativeInverses.SignedMultiplicativeInverse{Int64},N} where N} where A<:Union{Base.ReinterpretArray{T,N,S,A} where S where A<:Union{SubArray{T,N,A,I,true} where I<:Union{Tuple{Vararg{Real,N} where N}, Tuple{AbstractUnitRange,Vararg{Any,N} where N}} where A<:DenseArray where N where T, DenseArray} where N where T, SubArray{T,N,A,I,true} where I<:Union{Tuple{Vararg{Real,N} where N}, Tuple{AbstractUnitRange,Vararg{Any,N} where N}} where A<:DenseArray where N where T, DenseArray}, SubArray{T,N,A,I,L} where L where I<:Tuple{Vararg{Union{Int64, AbstractRange{Int64}, Base.AbstractCartesianIndex},N} where N} where A<:Union{Base.ReinterpretArray{T,N,S,A} where S where A<:Union{SubArray{T,N,A,I,true} where I<:Union{Tuple{Vararg{Real,N} where N}, Tuple{AbstractUnitRange,Vararg{Any,N} where N}} where A<:DenseArray where N where T, DenseArray} where N where T, Base.ReshapedArray{T,N,A,MI} where MI<:Tuple{Vararg{Base.MultiplicativeInverses.SignedMultiplicativeInverse{Int64},N} where N} where A<:Union{Base.ReinterpretArray{T,N,S,A} where S where A<:Union{SubArray{T,N,A,I,true} where I<:Union{Tuple{Vararg{Real,N} where N}, Tuple{AbstractUnitRange,Vararg{Any,N} where N}} where A<:DenseArray where N where T, DenseArray} where N where T, SubArray{T,N,A,I,true} where I<:Union{Tuple{Vararg{Real,N} where N}, Tuple{AbstractUnitRange,Vararg{Any,N} where N}} where A<:DenseArray where N where T, DenseArray} where N where T, DenseArray}}) where {T<:Union{Complex{Float32}, Complex{Float64}, Bool, Float16, Float32, Float64, Int16, Int32, Int64, Int8, Ptr{PyCall.PyObject_struct}, UInt16, UInt32, UInt64, UInt8, PyObject}, N} at /Users/kathy908000/.julia/packages/PyCall/l64G5/src/numpy.jl:198\n  PyReverseDims(!Matched::BitArray) at /Users/kathy908000/.julia/packages/PyCall/l64G5/src/numpy.jl:204\n  PyReverseDims(!Matched::AbstractArray{T,2} where T) at /Users/kathy908000/.julia/packages/PyCall/l64G5/src/numpy.jl:208\n  ...",
     "output_type": "error",
     "traceback": [
      "MethodError: no method matching PyReverseDims(::DataFrame)\nClosest candidates are:\n  PyReverseDims(!Matched::Union{DenseArray{T,N}, Base.ReinterpretArray{T,N,S,A} where S where A<:Union{SubArray{T,N,A,I,true} where I<:Union{Tuple{Vararg{Real,N} where N}, Tuple{AbstractUnitRange,Vararg{Any,N} where N}} where A<:DenseArray where N where T, DenseArray}, Base.ReshapedArray{T,N,A,MI} where MI<:Tuple{Vararg{Base.MultiplicativeInverses.SignedMultiplicativeInverse{Int64},N} where N} where A<:Union{Base.ReinterpretArray{T,N,S,A} where S where A<:Union{SubArray{T,N,A,I,true} where I<:Union{Tuple{Vararg{Real,N} where N}, Tuple{AbstractUnitRange,Vararg{Any,N} where N}} where A<:DenseArray where N where T, DenseArray} where N where T, SubArray{T,N,A,I,true} where I<:Union{Tuple{Vararg{Real,N} where N}, Tuple{AbstractUnitRange,Vararg{Any,N} where N}} where A<:DenseArray where N where T, DenseArray}, SubArray{T,N,A,I,L} where L where I<:Tuple{Vararg{Union{Int64, AbstractRange{Int64}, Base.AbstractCartesianIndex},N} where N} where A<:Union{Base.ReinterpretArray{T,N,S,A} where S where A<:Union{SubArray{T,N,A,I,true} where I<:Union{Tuple{Vararg{Real,N} where N}, Tuple{AbstractUnitRange,Vararg{Any,N} where N}} where A<:DenseArray where N where T, DenseArray} where N where T, Base.ReshapedArray{T,N,A,MI} where MI<:Tuple{Vararg{Base.MultiplicativeInverses.SignedMultiplicativeInverse{Int64},N} where N} where A<:Union{Base.ReinterpretArray{T,N,S,A} where S where A<:Union{SubArray{T,N,A,I,true} where I<:Union{Tuple{Vararg{Real,N} where N}, Tuple{AbstractUnitRange,Vararg{Any,N} where N}} where A<:DenseArray where N where T, DenseArray} where N where T, SubArray{T,N,A,I,true} where I<:Union{Tuple{Vararg{Real,N} where N}, Tuple{AbstractUnitRange,Vararg{Any,N} where N}} where A<:DenseArray where N where T, DenseArray} where N where T, DenseArray}}) where {T<:Union{Complex{Float32}, Complex{Float64}, Bool, Float16, Float32, Float64, Int16, Int32, Int64, Int8, Ptr{PyCall.PyObject_struct}, UInt16, UInt32, UInt64, UInt8, PyObject}, N} at /Users/kathy908000/.julia/packages/PyCall/l64G5/src/numpy.jl:198\n  PyReverseDims(!Matched::BitArray) at /Users/kathy908000/.julia/packages/PyCall/l64G5/src/numpy.jl:204\n  PyReverseDims(!Matched::AbstractArray{T,2} where T) at /Users/kathy908000/.julia/packages/PyCall/l64G5/src/numpy.jl:208\n  ...",
      "",
      "Stacktrace:",
      " [1] top-level scope at In[16]:1"
     ]
    }
   ],
   "source": [
    "PyReverseDims(X)"
   ]
  },
  {
   "cell_type": "code",
   "execution_count": null,
   "metadata": {},
   "outputs": [],
   "source": []
  },
  {
   "cell_type": "code",
   "execution_count": 11,
   "metadata": {},
   "outputs": [
    {
     "name": "stdout",
     "output_type": "stream",
     "text": [
      "Computing cross validation error for each fold\n",
      "flattening observations\n",
      "computing CV folds\n",
      "\n",
      "forming train and test GLRM for fold 1\n",
      "training model on 134299 samples and testing on 44721\n",
      "fitting train GLRM for fold 1\n",
      "Fitting GLRM\n",
      "Iteration 10: objective value = 6.447025739614471e13\n",
      "computing train and test error for fold 1:\n",
      "\ttrain error: 4.8001585198691386e8\n",
      "\ttest error:  1.0935026047220385e9\n",
      "\n",
      "forming train and test GLRM for fold 2\n",
      "training model on 134167 samples and testing on 44853\n",
      "fitting train GLRM for fold 2\n",
      "Fitting GLRM\n",
      "Iteration 10: objective value = 7.172113023481761e13\n",
      "computing train and test error for fold 2:\n",
      "\ttrain error: 5.34250441219968e8\n",
      "\ttest error:  9.238132819729986e8\n",
      "\n",
      "forming train and test GLRM for fold 3\n",
      "training model on 134456 samples and testing on 44564\n",
      "fitting train GLRM for fold 3\n",
      "Fitting GLRM\n",
      "Iteration 10: objective value = 7.740016365904039e13\n",
      "Iteration 20: objective value = 7.711675833913516e13\n",
      "computing train and test error for fold 3:\n",
      "\ttrain error: 5.726691599721352e8\n",
      "\ttest error:  9.086618961597468e8\n",
      "\n",
      "forming train and test GLRM for fold 4\n",
      "training model on 134138 samples and testing on 44882\n",
      "fitting train GLRM for fold 4\n",
      "Fitting GLRM\n",
      "Iteration 10: objective value = 7.361566501783678e13\n",
      "computing train and test error for fold 4:\n",
      "\ttrain error: 5.483306530666965e8\n",
      "\ttest error:  8.911253836578114e8\n"
     ]
    },
    {
     "data": {
      "text/html": [
       "<table class=\"data-frame\"><thead><tr><th></th><th>train_error</th><th>test_error</th></tr><tr><th></th><th>Float64</th><th>Float64</th></tr></thead><tbody><p>4 rows × 2 columns</p><tr><th>1</th><td>4.80016e8</td><td>1.0935e9</td></tr><tr><th>2</th><td>5.3425e8</td><td>9.23813e8</td></tr><tr><th>3</th><td>5.72669e8</td><td>9.08662e8</td></tr><tr><th>4</th><td>5.48331e8</td><td>8.91125e8</td></tr></tbody></table>"
      ],
      "text/latex": [
       "\\begin{tabular}{r|cc}\n",
       "\t& train\\_error & test\\_error\\\\\n",
       "\t\\hline\n",
       "\t& Float64 & Float64\\\\\n",
       "\t\\hline\n",
       "\t1 & 4.80016e8 & 1.0935e9 \\\\\n",
       "\t2 & 5.3425e8 & 9.23813e8 \\\\\n",
       "\t3 & 5.72669e8 & 9.08662e8 \\\\\n",
       "\t4 & 5.48331e8 & 8.91125e8 \\\\\n",
       "\\end{tabular}\n"
      ],
      "text/plain": [
       "4×2 DataFrame\n",
       "│ Row │ train_error │ test_error │\n",
       "│     │ \u001b[90mFloat64\u001b[39m     │ \u001b[90mFloat64\u001b[39m    │\n",
       "├─────┼─────────────┼────────────┤\n",
       "│ 1   │ 4.80016e8   │ 1.0935e9   │\n",
       "│ 2   │ 5.3425e8    │ 9.23813e8  │\n",
       "│ 3   │ 5.72669e8   │ 9.08662e8  │\n",
       "│ 4   │ 5.48331e8   │ 8.91125e8  │"
      ]
     },
     "execution_count": 11,
     "metadata": {},
     "output_type": "execute_result"
    }
   ],
   "source": [
    "println(\"Computing cross validation error for each fold\")\n",
    "params = Params(1.0, max_iter=100, abs_tol=0.0, min_stepsize=.001)\n",
    "train_error, test_error, train_glrms, test_glrms = cross_validate(glrm, nfolds=4, params=params)\n",
    "df = DataFrame(train_error = train_error, test_error = test_error)"
   ]
  },
  {
   "cell_type": "code",
   "execution_count": null,
   "metadata": {},
   "outputs": [],
   "source": []
  },
  {
   "cell_type": "code",
   "execution_count": null,
   "metadata": {},
   "outputs": [],
   "source": []
  },
  {
   "cell_type": "code",
   "execution_count": 88,
   "metadata": {
    "scrolled": true
   },
   "outputs": [
    {
     "name": "stdout",
     "output_type": "stream",
     "text": [
      "Fitting GLRM\n",
      "Iteration 10: objective value = 3.2805339662568237e12\n",
      "Iteration 20: objective value = 3.224545614791724e12\n",
      "Iteration 30: objective value = 3.2061817551191025e12\n"
     ]
    },
    {
     "data": {
      "text/plain": [
       "([0.0 0.0 … 0.0 1.0; 1.0 1.0 … 1.0 0.0; 0.0 0.0 … 0.0 0.0; 0.0 0.0 … 0.0 0.0], [113184.78482324463 2.340246337498031 … 4.046487473627556 7.816767914895969; 44521.31827694036 1.8615761382422633 … 4.055640059452669 4.083095034249618; 327563.5215575475 3.6581914529729516 … 3.8908319495044776 31.39960870369608; 131185.96 2.0 … 3.0 2.0], ConvergenceHistory(\"ProxGradGLRM\", [Inf, 8.536269346374443e12, 3.7486746107862393e12, 3.57768305812089e12, 3.5055349202241167e12, 3.4560368611355483e12, 3.371443760229454e12, 3.3327930253829106e12, 3.3113845539291714e12, 3.2927684809191685e12  …  3.213785822340414e12, 3.212441917284759e12, 3.211273764014428e12, 3.209844840137926e12, 3.2074742641460703e12, 3.2061817551191025e12, 3.205021153597181e12, 3.203401150015468e12, 3.2023527124434165e12, 3.202143962474778e12], Float64[], [0.0, 0.0, 0.0, 0.0, 0.0, 0.0, 0.0, 0.0, 0.0, 0.0  …  0.0, 0.0, 0.0, 0.0, 0.0, 0.0, 0.0, 0.0, 0.0, 0.0], [0.0, 0.0, 0.0, 0.0, 0.0, 0.0, 0.0, 0.0, 0.0, 0.0  …  0.0, 0.0, 0.0, 0.0, 0.0, 0.0, 0.0, 0.0, 0.0, 0.0], [0.0, 0.09428691864013672, 0.42725491523742676, 0.878803014755249, 0.9052789211273193, 0.9310920238494873, 0.9820640087127686, 1.024705171585083, 1.0456490516662598, 1.070004940032959  …  3.2361745834350586, 3.2631754875183105, 3.290806531906128, 3.3119795322418213, 3.3369216918945312, 3.358388662338257, 3.4136557579040527, 3.428598642349243, 3.4418997764587402, 3.455620765686035], [0.0, 0.0, 0.0, 0.0, 0.0, 0.0, 0.0, 0.0, 0.0, 0.0  …  0.0, 0.0, 0.0, 0.0, 0.0, 0.0, 0.0, 0.0, 0.0, 0.0], 0))"
      ]
     },
     "execution_count": 88,
     "metadata": {},
     "output_type": "execute_result"
    }
   ],
   "source": [
    "X,Y,ch = fit!(glrm)"
   ]
  },
  {
   "cell_type": "code",
   "execution_count": 89,
   "metadata": {},
   "outputs": [
    {
     "data": {
      "text/plain": [
       "\"../data/cancer4quad.csv\""
      ]
     },
     "execution_count": 89,
     "metadata": {},
     "output_type": "execute_result"
    }
   ],
   "source": [
    "X = convert(DataFrame, X)\n",
    "CSV.write(\"../data/cancer4quad.csv\", X)"
   ]
  },
  {
   "cell_type": "code",
   "execution_count": null,
   "metadata": {},
   "outputs": [],
   "source": []
  },
  {
   "cell_type": "code",
   "execution_count": null,
   "metadata": {},
   "outputs": [],
   "source": []
  },
  {
   "cell_type": "code",
   "execution_count": null,
   "metadata": {},
   "outputs": [],
   "source": []
  },
  {
   "cell_type": "code",
   "execution_count": null,
   "metadata": {},
   "outputs": [],
   "source": []
  },
  {
   "cell_type": "code",
   "execution_count": null,
   "metadata": {},
   "outputs": [],
   "source": []
  },
  {
   "cell_type": "code",
   "execution_count": 15,
   "metadata": {},
   "outputs": [
    {
     "name": "stdout",
     "output_type": "stream",
     "text": [
      "Fitting GLRM\n",
      "Iteration 10: objective value = 4.099376798805289e12\n"
     ]
    },
    {
     "data": {
      "text/plain": [
       "([1.0 1.0 … 1.0 1.0; 0.0 0.0 … 0.0 0.0; 0.0 0.0 … 0.0 0.0; 0.0 0.0 … 0.0 0.0], [33420.672901369675 1.7296703970331702 … 3.9557554235376706 3.2943347822477898; 166281.67292282914 2.528691892311409 … 4.054463378986292 12.51196033233945; 60571.32774550853 2.2075346372166855 … 4.06697679930551 6.385815075558724; 46216.84219269738 1.9583586454953394 … 4.218650486924203 4.1903747401096645], ConvergenceHistory(\"ProxGradGLRM\", [Inf, 1.2551296796617248e13, 5.268198095228664e12, 4.81667220099305e12, 4.766552055125784e12, 4.71597316468396e12, 4.609425322287994e12, 4.463761913706175e12, 4.3056413543919062e12, 4.187344197951655e12, 4.099376798805289e12, 4.0536243317866626e12, 4.027974741832973e12, 4.0158800144847646e12, 4.009342796492845e12, 4.005777035124553e12, 4.004265402393816e12, 4.0032669656317686e12, 4.002921919973579e12], Float64[], [0.0, 0.0, 0.0, 0.0, 0.0, 0.0, 0.0, 0.0, 0.0, 0.0, 0.0, 0.0, 0.0, 0.0, 0.0, 0.0, 0.0, 0.0, 0.0], [0.0, 0.0, 0.0, 0.0, 0.0, 0.0, 0.0, 0.0, 0.0, 0.0, 0.0, 0.0, 0.0, 0.0, 0.0, 0.0, 0.0, 0.0, 0.0], [0.0, 0.9434950351715088, 0.9792499542236328, 1.0723459720611572, 1.0944020748138428, 1.1077160835266113, 1.1207551956176758, 1.1340172290802002, 1.14851713180542, 1.1685421466827393, 1.1884641647338867, 1.2079651355743408, 1.2235281467437744, 1.2395071983337402, 1.2539269924163818, 1.2679800987243652, 1.315134048461914, 1.3292641639709473, 1.3425383567810059], [0.0, 0.0, 0.0, 0.0, 0.0, 0.0, 0.0, 0.0, 0.0, 0.0, 0.0, 0.0, 0.0, 0.0, 0.0, 0.0, 0.0, 0.0, 0.0], 0))"
      ]
     },
     "execution_count": 15,
     "metadata": {},
     "output_type": "execute_result"
    }
   ],
   "source": [
    "X,Y,ch = fit!(glrm)"
   ]
  },
  {
   "cell_type": "code",
   "execution_count": 16,
   "metadata": {},
   "outputs": [
    {
     "data": {
      "text/plain": [
       "\"../data/cancer4quad.csv\""
      ]
     },
     "execution_count": 16,
     "metadata": {},
     "output_type": "execute_result"
    }
   ],
   "source": [
    "X = convert(DataFrame, X)\n",
    "CSV.write(\"../data/cancer4quad.csv\", X)"
   ]
  },
  {
   "cell_type": "raw",
   "metadata": {},
   "source": [
    "Xdf = convert(DataFrame, X)\n",
    "CSV.write(\"../data/cancer4quad.csv\", Xdf)\n",
    "(\"../data/NYC_SPARCS_cancer.csv\")\n",
    "CSV.write(\"../data/ex2.csv\", ex2)"
   ]
  },
  {
   "cell_type": "code",
   "execution_count": 17,
   "metadata": {
    "scrolled": false
   },
   "outputs": [
    {
     "name": "stdout",
     "output_type": "stream",
     "text": [
      "Computing cross validation error for each fold\n",
      "flattening observations\n",
      "computing CV folds\n",
      "\n",
      "forming train and test GLRM for fold 1\n",
      "training model on 6401 samples and testing on 2199\n",
      "fitting train GLRM for fold 1\n",
      "Fitting GLRM\n",
      "Iteration 10: objective value = 3.599753972016063e12\n",
      "Iteration 20: objective value = 3.475273975832182e12\n",
      "Iteration 30: objective value = 3.2768024711401123e12\n",
      "Iteration 40: objective value = 3.175230403166264e12\n",
      "Iteration 50: objective value = 3.1390001201005586e12\n",
      "Iteration 60: objective value = 3.1163929119786914e12\n",
      "computing train and test error for fold 1:\n",
      "\ttrain error: 4.8649362662906814e8\n",
      "\ttest error:  1.6726007804486382e9\n",
      "\n",
      "forming train and test GLRM for fold 2\n",
      "training model on 6510 samples and testing on 2090\n",
      "fitting train GLRM for fold 2\n",
      "Fitting GLRM\n",
      "Iteration 10: objective value = 1.56294095290953e12\n",
      "computing train and test error for fold 2:\n",
      "\ttrain error: 2.400792716797506e8\n",
      "\ttest error:  1.337552856693221e9\n",
      "\n",
      "forming train and test GLRM for fold 3\n",
      "training model on 6433 samples and testing on 2167\n",
      "fitting train GLRM for fold 3\n",
      "Fitting GLRM\n",
      "Iteration 10: objective value = 3.45232012962407e12\n",
      "computing train and test error for fold 3:\n",
      "\ttrain error: 5.366571799785232e8\n",
      "\ttest error:  4.642849993221057e8\n",
      "\n",
      "forming train and test GLRM for fold 4\n",
      "training model on 6456 samples and testing on 2144\n",
      "fitting train GLRM for fold 4\n",
      "Fitting GLRM\n",
      "Iteration 10: objective value = 3.2993006812240156e12\n",
      "computing train and test error for fold 4:\n",
      "\ttrain error: 5.110419775151578e8\n",
      "\ttest error:  5.591074028472283e8\n"
     ]
    },
    {
     "data": {
      "text/html": [
       "<table class=\"data-frame\"><thead><tr><th></th><th>train_error</th><th>test_error</th></tr><tr><th></th><th>Float64</th><th>Float64</th></tr></thead><tbody><p>4 rows × 2 columns</p><tr><th>1</th><td>4.86494e8</td><td>1.6726e9</td></tr><tr><th>2</th><td>2.40079e8</td><td>1.33755e9</td></tr><tr><th>3</th><td>5.36657e8</td><td>4.64285e8</td></tr><tr><th>4</th><td>5.11042e8</td><td>5.59107e8</td></tr></tbody></table>"
      ],
      "text/latex": [
       "\\begin{tabular}{r|cc}\n",
       "\t& train\\_error & test\\_error\\\\\n",
       "\t\\hline\n",
       "\t& Float64 & Float64\\\\\n",
       "\t\\hline\n",
       "\t1 & 4.86494e8 & 1.6726e9 \\\\\n",
       "\t2 & 2.40079e8 & 1.33755e9 \\\\\n",
       "\t3 & 5.36657e8 & 4.64285e8 \\\\\n",
       "\t4 & 5.11042e8 & 5.59107e8 \\\\\n",
       "\\end{tabular}\n"
      ],
      "text/plain": [
       "4×2 DataFrame\n",
       "│ Row │ train_error │ test_error │\n",
       "│     │ \u001b[90mFloat64\u001b[39m     │ \u001b[90mFloat64\u001b[39m    │\n",
       "├─────┼─────────────┼────────────┤\n",
       "│ 1   │ 4.86494e8   │ 1.6726e9   │\n",
       "│ 2   │ 2.40079e8   │ 1.33755e9  │\n",
       "│ 3   │ 5.36657e8   │ 4.64285e8  │\n",
       "│ 4   │ 5.11042e8   │ 5.59107e8  │"
      ]
     },
     "execution_count": 17,
     "metadata": {},
     "output_type": "execute_result"
    }
   ],
   "source": [
    "println(\"Computing cross validation error for each fold\")\n",
    "params = Params(1.0, max_iter=100, abs_tol=0.0, min_stepsize=.001)\n",
    "train_error, test_error, train_glrms, test_glrms = cross_validate(glrm, nfolds=4, params=params)\n",
    "df = DataFrame(train_error = train_error, test_error = test_error)"
   ]
  },
  {
   "cell_type": "markdown",
   "metadata": {},
   "source": [
    "# kmeans k=4 different loss function"
   ]
  },
  {
   "cell_type": "markdown",
   "metadata": {},
   "source": [
    "# function kmeans_proxgrad_drg(kval, lossarr, matrix)\n",
    "    k = kval\n",
    "    losses = lossarr\n",
    "    A = matrix\n",
    "    rx = UnitOneSparseConstraint()\n",
    "    ry = ZeroReg()\n",
    "    glrm = GLRM(A,losses,rx,ry,k)\n",
    "    params = ProxGradParams(inner_iter_Y=40)\n",
    "\n",
    "    \n",
    "    X,Y,ch = fit!(glrm, params) # objective value\n",
    "    println(\"X: \")\n",
    "    println(X)\n",
    "    println(\"Y: \")\n",
    "    println(Y)\n",
    "    \n",
    "    imputey = impute(losses, Y) \n",
    "    imputey  = convert(DataFrame, imputey) \n",
    "    CSV.write(string(\"../data/iyproxgrad_drg\", k,\".csv\" ), imputey)\n",
    "    #CSV.read(string(\"../data/iywp\", k,\".csv\" ), imputey)\n",
    "    \n",
    "    X= convert(DataFrame, X) \n",
    "    CSV.write(string(\"../data/Xproxgrad_drg\", k,\".csv\" ), X)  \n",
    "    #CSV.read(string(\"../data/Xwp\", k,\".csv\" ), X)\n",
    "#end   "
   ]
  },
  {
   "cell_type": "code",
   "execution_count": 21,
   "metadata": {},
   "outputs": [
    {
     "data": {
      "text/plain": [
       "5-element Array{Loss,1}:\n",
       " HuberLoss(1.0, RealDomain(), 1.0)\n",
       " OrdinalHingeLoss(1, 10, 1.0, OrdinalDomain(1, 10))\n",
       " OrdinalHingeLoss(1, 10, 1.0, OrdinalDomain(1, 10))\n",
       " OrdinalHingeLoss(1, 10, 1.0, OrdinalDomain(1, 10))\n",
       " OrdinalHingeLoss(1, 10, 1.0, OrdinalDomain(1, 10))"
      ]
     },
     "execution_count": 21,
     "metadata": {},
     "output_type": "execute_result"
    }
   ],
   "source": [
    "loss1 = fill(HuberLoss(),1)\n",
    "loss2 = fill(OrdinalHingeLoss(), 4)\n",
    "#loss3 = fill(HingeLoss(), 1)\n",
    "\n",
    "lossarr = [loss1; loss2]\n",
    "#lossarr = [loss1; loss2; loss3]\n",
    "lossarr"
   ]
  },
  {
   "cell_type": "code",
   "execution_count": 22,
   "metadata": {},
   "outputs": [
    {
     "data": {
      "text/plain": [
       "GLRM(1720×5 DataFrame. Omitted printing of 2 columns\n",
       "│ Row  │ Total_Charges │ APR_Severity_of_Illness_Code │ APR_Risk_of_Mortality │\n",
       "│      │ \u001b[90mFloat64\u001b[39m       │ \u001b[90mInt64\u001b[39m                        │ \u001b[90mInt64\u001b[39m                 │\n",
       "├──────┼───────────────┼──────────────────────────────┼───────────────────────┤\n",
       "│ 1    │ 20601.5       │ 2                            │ 4                     │\n",
       "│ 2    │ 12020.9       │ 1                            │ 1                     │\n",
       "│ 3    │ 40220.4       │ 2                            │ 1                     │\n",
       "│ 4    │ 9914.54       │ 1                            │ 1                     │\n",
       "│ 5    │ 10182.1       │ 2                            │ 1                     │\n",
       "│ 6    │ 9090.09       │ 2                            │ 1                     │\n",
       "│ 7    │ 28436.7       │ 2                            │ 1                     │\n",
       "│ 8    │ 6183.3        │ 2                            │ 1                     │\n",
       "│ 9    │ 6342.01       │ 2                            │ 1                     │\n",
       "│ 10   │ 9988.53       │ 3                            │ 4                     │\n",
       "⋮\n",
       "│ 1710 │ 151133.0      │ 3                            │ 2                     │\n",
       "│ 1711 │ 27434.9       │ 2                            │ 4                     │\n",
       "│ 1712 │ 33815.0       │ 3                            │ 4                     │\n",
       "│ 1713 │ 22248.0       │ 2                            │ 1                     │\n",
       "│ 1714 │ 15549.6       │ 2                            │ 1                     │\n",
       "│ 1715 │ 26799.8       │ 2                            │ 1                     │\n",
       "│ 1716 │ 32386.2       │ 2                            │ 1                     │\n",
       "│ 1717 │ 42029.2       │ 3                            │ 4                     │\n",
       "│ 1718 │ 56912.8       │ 4                            │ 3                     │\n",
       "│ 1719 │ 72115.3       │ 3                            │ 1                     │\n",
       "│ 1720 │ 83309.1       │ 3                            │ 1                     │, Loss[HuberLoss(1.0, RealDomain(), 1.0), OrdinalHingeLoss(1, 10, 1.0, OrdinalDomain(1, 10)), OrdinalHingeLoss(1, 10, 1.0, OrdinalDomain(1, 10)), OrdinalHingeLoss(1, 10, 1.0, OrdinalDomain(1, 10)), OrdinalHingeLoss(1, 10, 1.0, OrdinalDomain(1, 10))], Regularizer[UnitOneSparseConstraint(), UnitOneSparseConstraint(), UnitOneSparseConstraint(), UnitOneSparseConstraint(), UnitOneSparseConstraint(), UnitOneSparseConstraint(), UnitOneSparseConstraint(), UnitOneSparseConstraint(), UnitOneSparseConstraint(), UnitOneSparseConstraint()  …  UnitOneSparseConstraint(), UnitOneSparseConstraint(), UnitOneSparseConstraint(), UnitOneSparseConstraint(), UnitOneSparseConstraint(), UnitOneSparseConstraint(), UnitOneSparseConstraint(), UnitOneSparseConstraint(), UnitOneSparseConstraint(), UnitOneSparseConstraint()], Regularizer[ZeroReg(), ZeroReg(), ZeroReg(), ZeroReg(), ZeroReg()], 4, UnitRange{Int64}[1:5, 1:5, 1:5, 1:5, 1:5, 1:5, 1:5, 1:5, 1:5, 1:5  …  1:5, 1:5, 1:5, 1:5, 1:5, 1:5, 1:5, 1:5, 1:5, 1:5], UnitRange{Int64}[1:1720, 1:1720, 1:1720, 1:1720, 1:1720], [-0.18590439357722943 1.094036415786396 … 1.041254336087528 -0.7037942845244137; -1.9889406232473827 -0.08806378397248012 … -0.36731322856730536 0.084075616880033; -1.0938867948427227 0.5109487149165496 … -0.38539557313487616 1.09949335274603; -0.10526297905007732 1.2686711185464845 … -0.442833166232757 -0.03072223281292753], [-2.338431823422742 0.6163760253897985 … 0.8106930250085809 -0.36383120934639074; -0.9576576355579748 0.20161299931375343 … 0.7180351097873955 -0.8242392142612525; -0.054908619963218816 0.15585144200224302 … -0.13303482010060677 -0.5440903687551811; -0.8412158623750684 -1.3151508020806868 … -0.7371806284301513 -1.0358391186701])"
      ]
     },
     "execution_count": 22,
     "metadata": {},
     "output_type": "execute_result"
    }
   ],
   "source": [
    "k = 4\n",
    "losses = lossarr\n",
    "A = dfsmall1\n",
    "rx = UnitOneSparseConstraint()\n",
    "ry = ZeroReg()\n",
    "glrm = GLRM(A,losses,rx,ry,k)\n",
    "#params = ProxGradParams(inner_iter_Y=40)"
   ]
  },
  {
   "cell_type": "code",
   "execution_count": 23,
   "metadata": {
    "scrolled": false
   },
   "outputs": [
    {
     "name": "stdout",
     "output_type": "stream",
     "text": [
      "Fitting GLRM\n",
      "Iteration 10: objective value = 9.4649984322356e7\n"
     ]
    },
    {
     "data": {
      "text/plain": [
       "([1.0 1.0 … 1.0 1.0; 0.0 0.0 … 0.0 0.0; 0.0 0.0 … 0.0 0.0; 0.0 0.0 … 0.0 0.0], [6.987612980934305 2.0020869585568164 … 3.985891233648444 6.005150177580298; 1.2694163334820323 0.665839135683542 … 3.4340923478011547 0.5124660683130968; 2.2739189060920486 0.7993599449773302 … 3.113246517544732 1.1468609967280443; -0.5246299600835251 -1.287753696024506 … -0.2175747033212368 -0.9164988468666255], ConvergenceHistory(\"ProxGradGLRM\", [Inf, 9.468647765952681e7, 9.466267439259824e7, 9.46599611098231e7, 9.465803589752518e7, 9.465686488577506e7, 9.465548043027258e7, 9.465405129052033e7, 9.465270709073469e7, 9.465138563019902e7, 9.4649984322356e7, 9.464855695195684e7], Float64[], [0.0, 0.0, 0.0, 0.0, 0.0, 0.0, 0.0, 0.0, 0.0, 0.0, 0.0, 0.0], [0.0, 0.0, 0.0, 0.0, 0.0, 0.0, 0.0, 0.0, 0.0, 0.0, 0.0, 0.0], [0.0, 0.08644390106201172, 0.23240900039672852, 0.34013986587524414, 0.3681628704071045, 0.3975660800933838, 0.4272000789642334, 0.45972394943237305, 0.4913458824157715, 0.5487518310546875, 0.576948881149292, 0.6041178703308105], [0.0, 0.0, 0.0, 0.0, 0.0, 0.0, 0.0, 0.0, 0.0, 0.0, 0.0, 0.0], 0))"
      ]
     },
     "execution_count": 23,
     "metadata": {},
     "output_type": "execute_result"
    }
   ],
   "source": [
    "X,Y,ch = fit!(glrm)"
   ]
  },
  {
   "cell_type": "code",
   "execution_count": 24,
   "metadata": {},
   "outputs": [
    {
     "data": {
      "text/plain": [
       "\"../data/cancer4diff.csv\""
      ]
     },
     "execution_count": 24,
     "metadata": {},
     "output_type": "execute_result"
    }
   ],
   "source": [
    "X = convert(DataFrame, X)\n",
    "CSV.write(\"../data/cancer4diff.csv\", X)"
   ]
  },
  {
   "cell_type": "code",
   "execution_count": 25,
   "metadata": {},
   "outputs": [
    {
     "name": "stdout",
     "output_type": "stream",
     "text": [
      "Computing cross validation error for each fold\n",
      "flattening observations\n",
      "computing CV folds\n",
      "\n",
      "forming train and test GLRM for fold 1\n",
      "training model on 6523 samples and testing on 2077\n",
      "fitting train GLRM for fold 1\n",
      "Fitting GLRM\n",
      "Iteration 10: objective value = 6.971489601014723e7\n",
      "computing train and test error for fold 1:\n",
      "\ttrain error: 10687.341305861837\n",
      "\ttest error:  11998.11923212964\n",
      "\n",
      "forming train and test GLRM for fold 2\n",
      "training model on 6466 samples and testing on 2134\n",
      "fitting train GLRM for fold 2\n",
      "Fitting GLRM\n",
      "Iteration 10: objective value = 7.149885235728997e7\n",
      "computing train and test error for fold 2:\n",
      "\ttrain error: 11057.455935789529\n",
      "\ttest error:  10842.052596336698\n",
      "\n",
      "forming train and test GLRM for fold 3\n",
      "training model on 6415 samples and testing on 2185\n",
      "fitting train GLRM for fold 3\n",
      "Fitting GLRM\n",
      "Iteration 10: objective value = 7.101043895282283e7\n",
      "computing train and test error for fold 3:\n",
      "\ttrain error: 11069.227849638475\n",
      "\ttest error:  10812.32274463921\n",
      "\n",
      "forming train and test GLRM for fold 4\n",
      "training model on 6396 samples and testing on 2204\n",
      "fitting train GLRM for fold 4\n",
      "Fitting GLRM\n",
      "Iteration 10: objective value = 7.167503070989083e7\n",
      "computing train and test error for fold 4:\n",
      "\ttrain error: 11206.016473920587\n",
      "\ttest error:  10417.684864891777\n"
     ]
    },
    {
     "data": {
      "text/html": [
       "<table class=\"data-frame\"><thead><tr><th></th><th>train_error</th><th>test_error</th></tr><tr><th></th><th>Float64</th><th>Float64</th></tr></thead><tbody><p>4 rows × 2 columns</p><tr><th>1</th><td>10687.3</td><td>11998.1</td></tr><tr><th>2</th><td>11057.5</td><td>10842.1</td></tr><tr><th>3</th><td>11069.2</td><td>10812.3</td></tr><tr><th>4</th><td>11206.0</td><td>10417.7</td></tr></tbody></table>"
      ],
      "text/latex": [
       "\\begin{tabular}{r|cc}\n",
       "\t& train\\_error & test\\_error\\\\\n",
       "\t\\hline\n",
       "\t& Float64 & Float64\\\\\n",
       "\t\\hline\n",
       "\t1 & 10687.3 & 11998.1 \\\\\n",
       "\t2 & 11057.5 & 10842.1 \\\\\n",
       "\t3 & 11069.2 & 10812.3 \\\\\n",
       "\t4 & 11206.0 & 10417.7 \\\\\n",
       "\\end{tabular}\n"
      ],
      "text/plain": [
       "4×2 DataFrame\n",
       "│ Row │ train_error │ test_error │\n",
       "│     │ \u001b[90mFloat64\u001b[39m     │ \u001b[90mFloat64\u001b[39m    │\n",
       "├─────┼─────────────┼────────────┤\n",
       "│ 1   │ 10687.3     │ 11998.1    │\n",
       "│ 2   │ 11057.5     │ 10842.1    │\n",
       "│ 3   │ 11069.2     │ 10812.3    │\n",
       "│ 4   │ 11206.0     │ 10417.7    │"
      ]
     },
     "execution_count": 25,
     "metadata": {},
     "output_type": "execute_result"
    }
   ],
   "source": [
    "println(\"Computing cross validation error for each fold\")\n",
    "params = Params(1.0, max_iter=100, abs_tol=0.0, min_stepsize=.001)\n",
    "train_error, test_error, train_glrms, test_glrms = cross_validate(glrm, nfolds=4, params=params)\n",
    "df = DataFrame(train_error = train_error, test_error = test_error)"
   ]
  },
  {
   "cell_type": "code",
   "execution_count": null,
   "metadata": {},
   "outputs": [],
   "source": []
  },
  {
   "cell_type": "code",
   "execution_count": null,
   "metadata": {},
   "outputs": [],
   "source": []
  },
  {
   "cell_type": "code",
   "execution_count": null,
   "metadata": {},
   "outputs": [],
   "source": [
    "#init kmean demo\n",
    "init_kmeanspp!(glrm)\n",
    "X,Y,ch = fit!(glrm)"
   ]
  },
  {
   "cell_type": "code",
   "execution_count": null,
   "metadata": {},
   "outputs": [],
   "source": []
  },
  {
   "cell_type": "code",
   "execution_count": null,
   "metadata": {},
   "outputs": [],
   "source": []
  },
  {
   "cell_type": "code",
   "execution_count": null,
   "metadata": {},
   "outputs": [],
   "source": []
  },
  {
   "cell_type": "raw",
   "metadata": {},
   "source": [
    "for name in names(df)\n",
    "    replace(name, Ref(\".\" => \"_\"))\n",
    "end\n",
    "\n",
    "#\n",
    "df.Length_of_Stay = replace.(df.Length_of_Stay, Ref(\"120 +\" => \"120\"))\n",
    "\n",
    "#df.Length_of_Stay = replace.(df.Length_of_Stay, Ref(\"120 +\" => \"120\"))\n",
    "#df[:Length_of_Stay] = parse.(Float64, df[:Length_of_Stay])\n",
    "\n",
    "df.Length_of_Stay = replace.(df.Length_of_Stay, Ref(\"120 +\" => \"120\"))\n",
    "df = replace.(names(df), Ref(\".\" => \"_\"))"
   ]
  },
  {
   "cell_type": "code",
   "execution_count": null,
   "metadata": {},
   "outputs": [],
   "source": []
  },
  {
   "cell_type": "code",
   "execution_count": null,
   "metadata": {},
   "outputs": [],
   "source": []
  },
  {
   "cell_type": "code",
   "execution_count": null,
   "metadata": {},
   "outputs": [],
   "source": []
  }
 ],
 "metadata": {
  "kernelspec": {
   "display_name": "Julia 1.4.2",
   "language": "julia",
   "name": "julia-1.4"
  },
  "language_info": {
   "file_extension": ".jl",
   "mimetype": "application/julia",
   "name": "julia",
   "version": "1.4.2"
  }
 },
 "nbformat": 4,
 "nbformat_minor": 2
}
